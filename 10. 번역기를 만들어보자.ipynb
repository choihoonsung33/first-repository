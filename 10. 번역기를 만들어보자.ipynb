{
 "cells": [
  {
   "cell_type": "code",
   "execution_count": 1,
   "id": "50e91350",
   "metadata": {},
   "outputs": [],
   "source": [
    "import os\n",
    "import pandas as pd\n",
    "import numpy as np\n",
    "import re\n",
    "\n",
    "from tensorflow.keras.preprocessing.text import Tokenizer\n",
    "from tensorflow.keras.preprocessing.sequence import pad_sequences\n",
    "from tensorflow.keras.utils import to_categorical\n",
    "from tensorflow.keras.layers import Input, LSTM, Embedding, Dense, Masking\n",
    "from tensorflow.keras.models import Model"
   ]
  },
  {
   "cell_type": "code",
   "execution_count": 2,
   "id": "fc472ef6",
   "metadata": {},
   "outputs": [
    {
     "name": "stdout",
     "output_type": "stream",
     "text": [
      "전체 샘플의 수 : 194513\n"
     ]
    },
    {
     "data": {
      "text/html": [
       "<div>\n",
       "<style scoped>\n",
       "    .dataframe tbody tr th:only-of-type {\n",
       "        vertical-align: middle;\n",
       "    }\n",
       "\n",
       "    .dataframe tbody tr th {\n",
       "        vertical-align: top;\n",
       "    }\n",
       "\n",
       "    .dataframe thead th {\n",
       "        text-align: right;\n",
       "    }\n",
       "</style>\n",
       "<table border=\"1\" class=\"dataframe\">\n",
       "  <thead>\n",
       "    <tr style=\"text-align: right;\">\n",
       "      <th></th>\n",
       "      <th>eng</th>\n",
       "      <th>fra</th>\n",
       "      <th>cc</th>\n",
       "    </tr>\n",
       "  </thead>\n",
       "  <tbody>\n",
       "    <tr>\n",
       "      <th>105123</th>\n",
       "      <td>We have a party this evening.</td>\n",
       "      <td>Nous tenons une fête ce soir.</td>\n",
       "      <td>CC-BY 2.0 (France) Attribution: tatoeba.org #2...</td>\n",
       "    </tr>\n",
       "    <tr>\n",
       "      <th>172602</th>\n",
       "      <td>I couldn't put up with her arrogant behavior.</td>\n",
       "      <td>Je ne pouvais supporter son attitude arrogante.</td>\n",
       "      <td>CC-BY 2.0 (France) Attribution: tatoeba.org #3...</td>\n",
       "    </tr>\n",
       "    <tr>\n",
       "      <th>179018</th>\n",
       "      <td>You're not the only one who doesn't believe Tom.</td>\n",
       "      <td>Vous n'êtes pas la seule à ne pas croire Tom.</td>\n",
       "      <td>CC-BY 2.0 (France) Attribution: tatoeba.org #4...</td>\n",
       "    </tr>\n",
       "    <tr>\n",
       "      <th>157201</th>\n",
       "      <td>It is easy for me to solve the problem.</td>\n",
       "      <td>Il m'est facile de résoudre le problème.</td>\n",
       "      <td>CC-BY 2.0 (France) Attribution: tatoeba.org #4...</td>\n",
       "    </tr>\n",
       "    <tr>\n",
       "      <th>158251</th>\n",
       "      <td>Tom should have followed Mary's advice.</td>\n",
       "      <td>Tom aurait dû suivre les conseils de Marie.</td>\n",
       "      <td>CC-BY 2.0 (France) Attribution: tatoeba.org #1...</td>\n",
       "    </tr>\n",
       "  </tbody>\n",
       "</table>\n",
       "</div>"
      ],
      "text/plain": [
       "                                                     eng  \\\n",
       "105123                     We have a party this evening.   \n",
       "172602     I couldn't put up with her arrogant behavior.   \n",
       "179018  You're not the only one who doesn't believe Tom.   \n",
       "157201           It is easy for me to solve the problem.   \n",
       "158251           Tom should have followed Mary's advice.   \n",
       "\n",
       "                                                    fra  \\\n",
       "105123                    Nous tenons une fête ce soir.   \n",
       "172602  Je ne pouvais supporter son attitude arrogante.   \n",
       "179018    Vous n'êtes pas la seule à ne pas croire Tom.   \n",
       "157201         Il m'est facile de résoudre le problème.   \n",
       "158251      Tom aurait dû suivre les conseils de Marie.   \n",
       "\n",
       "                                                       cc  \n",
       "105123  CC-BY 2.0 (France) Attribution: tatoeba.org #2...  \n",
       "172602  CC-BY 2.0 (France) Attribution: tatoeba.org #3...  \n",
       "179018  CC-BY 2.0 (France) Attribution: tatoeba.org #4...  \n",
       "157201  CC-BY 2.0 (France) Attribution: tatoeba.org #4...  \n",
       "158251  CC-BY 2.0 (France) Attribution: tatoeba.org #1...  "
      ]
     },
     "execution_count": 2,
     "metadata": {},
     "output_type": "execute_result"
    }
   ],
   "source": [
    "file_path = os.getenv('HOME')+'/aiffel/translator_seq2seq/data/fra.txt'\n",
    "lines = pd.read_csv(file_path, names=['eng', 'fra', 'cc'], sep='\\t')\n",
    "print('전체 샘플의 수 :',len(lines))\n",
    "lines.sample(5) #샘플 5개 출력"
   ]
  },
  {
   "cell_type": "code",
   "execution_count": 3,
   "id": "2e7387b8",
   "metadata": {},
   "outputs": [
    {
     "data": {
      "text/html": [
       "<div>\n",
       "<style scoped>\n",
       "    .dataframe tbody tr th:only-of-type {\n",
       "        vertical-align: middle;\n",
       "    }\n",
       "\n",
       "    .dataframe tbody tr th {\n",
       "        vertical-align: top;\n",
       "    }\n",
       "\n",
       "    .dataframe thead th {\n",
       "        text-align: right;\n",
       "    }\n",
       "</style>\n",
       "<table border=\"1\" class=\"dataframe\">\n",
       "  <thead>\n",
       "    <tr style=\"text-align: right;\">\n",
       "      <th></th>\n",
       "      <th>eng</th>\n",
       "      <th>fra</th>\n",
       "    </tr>\n",
       "  </thead>\n",
       "  <tbody>\n",
       "    <tr>\n",
       "      <th>29588</th>\n",
       "      <td>I jog twice a week.</td>\n",
       "      <td>Je cours deux fois par semaine.</td>\n",
       "    </tr>\n",
       "    <tr>\n",
       "      <th>10912</th>\n",
       "      <td>I'm illiterate.</td>\n",
       "      <td>Je suis analphabète.</td>\n",
       "    </tr>\n",
       "    <tr>\n",
       "      <th>12751</th>\n",
       "      <td>You're a prude.</td>\n",
       "      <td>Vous êtes une puritaine.</td>\n",
       "    </tr>\n",
       "    <tr>\n",
       "      <th>12793</th>\n",
       "      <td>You're hideous.</td>\n",
       "      <td>Vous êtes hideuse.</td>\n",
       "    </tr>\n",
       "    <tr>\n",
       "      <th>6998</th>\n",
       "      <td>He tricked me.</td>\n",
       "      <td>Il m'a eue.</td>\n",
       "    </tr>\n",
       "  </tbody>\n",
       "</table>\n",
       "</div>"
      ],
      "text/plain": [
       "                       eng                              fra\n",
       "29588  I jog twice a week.  Je cours deux fois par semaine.\n",
       "10912      I'm illiterate.             Je suis analphabète.\n",
       "12751      You're a prude.         Vous êtes une puritaine.\n",
       "12793      You're hideous.               Vous êtes hideuse.\n",
       "6998        He tricked me.                      Il m'a eue."
      ]
     },
     "execution_count": 3,
     "metadata": {},
     "output_type": "execute_result"
    }
   ],
   "source": [
    "lines = lines[['eng', 'fra']][:33000] # 5만개 샘플 사용\n",
    "lines.sample(5)"
   ]
  },
  {
   "cell_type": "markdown",
   "id": "9a605506",
   "metadata": {},
   "source": [
    "**Preprocessing**"
   ]
  },
  {
   "cell_type": "code",
   "execution_count": 4,
   "id": "63df31cb",
   "metadata": {},
   "outputs": [],
   "source": [
    "def preprocess_sentence(sentence):\n",
    "    sentence = sentence.lower().strip()\n",
    "  \n",
    "    sentence = re.sub(r\"([?.!,¿])\", r\" \\1 \", sentence)\n",
    "    sentence = re.sub(r'[\" \"]+', \" \", sentence)\n",
    "    sentence = re.sub(r\"[^a-zA-Z?.!]+\", \" \", sentence)\n",
    "    \n",
    "    sentence = sentence.strip()\n",
    "    sentence = sentence.split(\" \")\n",
    "    \n",
    "    return sentence"
   ]
  },
  {
   "cell_type": "code",
   "execution_count": 5,
   "id": "1c05fade",
   "metadata": {},
   "outputs": [],
   "source": [
    "def preprocess_sentence_decoder(sentence):\n",
    "    sentence = sentence.lower().strip()\n",
    "  \n",
    "    sentence = re.sub(r\"([?.!,¿])\", r\" \\1 \", sentence)\n",
    "    sentence = re.sub(r'[\" \"]+', \" \", sentence)\n",
    "    sentence = re.sub(r\"[^a-zA-Z?.!]+\", \" \", sentence)\n",
    "    \n",
    "    sentence = sentence.strip()\n",
    "    sentence = '<start> ' + sentence + ' <end>'\n",
    "    sentence = sentence.split(\" \")\n",
    "    \n",
    "    return sentence"
   ]
  },
  {
   "cell_type": "code",
   "execution_count": 6,
   "id": "0a492609",
   "metadata": {},
   "outputs": [],
   "source": [
    "lines.eng = lines.eng.apply(lambda x : preprocess_sentence(x))\n",
    "lines.fra = lines.fra.apply(lambda x : preprocess_sentence_decoder(x))"
   ]
  },
  {
   "cell_type": "code",
   "execution_count": 7,
   "id": "4b8911a3",
   "metadata": {},
   "outputs": [
    {
     "data": {
      "text/plain": [
       "9002            [was, tom, happy, ?]\n",
       "30706     [it, s, a, distraction, .]\n",
       "28419    [don, t, be, so, stingy, .]\n",
       "2542                [try, harder, .]\n",
       "27463     [you, are, in, my, way, .]\n",
       "Name: eng, dtype: object"
      ]
     },
     "execution_count": 7,
     "metadata": {},
     "output_type": "execute_result"
    }
   ],
   "source": [
    "lines.eng.sample(5)"
   ]
  },
  {
   "cell_type": "code",
   "execution_count": 8,
   "id": "b7b95c01",
   "metadata": {},
   "outputs": [
    {
     "data": {
      "text/plain": [
       "30970    [<start>, regarde, ce, qui, est, arriv, ., <end>]\n",
       "7947     [<start>, c, est, ici, que, a, fait, mal, ., <...\n",
       "30045    [<start>, je, voulais, des, chaussures, rouges...\n",
       "4384                   [<start>, es, tu, chauve, ?, <end>]\n",
       "20166            [<start>, quelqu, un, a, rigol, ., <end>]\n",
       "Name: fra, dtype: object"
      ]
     },
     "execution_count": 8,
     "metadata": {},
     "output_type": "execute_result"
    }
   ],
   "source": [
    "lines.fra.sample(5)"
   ]
  },
  {
   "cell_type": "markdown",
   "id": "dea5f517",
   "metadata": {},
   "source": [
    "**Vocabulary**"
   ]
  },
  {
   "cell_type": "code",
   "execution_count": 9,
   "id": "6b188022",
   "metadata": {},
   "outputs": [],
   "source": [
    "eng_tokenizer = Tokenizer()\n",
    "eng_tokenizer.fit_on_texts(lines.eng)"
   ]
  },
  {
   "cell_type": "code",
   "execution_count": 10,
   "id": "7223b838",
   "metadata": {},
   "outputs": [
    {
     "name": "stdout",
     "output_type": "stream",
     "text": [
      "{'.': 1, 'i': 2, 'you': 3, '?': 4, 'tom': 5, 'it': 6, 'is': 7, 's': 8, 'a': 9, 're': 10, 'we': 11, 'm': 12, 't': 13, 'the': 14, 'that': 15, 'he': 16, 'was': 17, 'me': 18, 'this': 19, 'they': 20, 'to': 21, 'are': 22, '!': 23, 'do': 24, 'can': 25, 'my': 26, 'your': 27, 'have': 28, 'go': 29, 'not': 30, 'don': 31, 'll': 32, 'be': 33, 'she': 34, 'no': 35, 'what': 36, 'did': 37, 'all': 38, 'here': 39, 'let': 40, 'like': 41, 'in': 42, 'get': 43, 'up': 44, 'very': 45, 'how': 46, 'on': 47, 'need': 48, 'one': 49, 'want': 50, 'him': 51, 'out': 52, 'love': 53, 'who': 54, 'come': 55, 'there': 56, 'just': 57, 'please': 58, 'now': 59, 'us': 60, 'know': 61, 'stop': 62, 'so': 63, 'of': 64, 'got': 65, 'too': 66, 'help': 67, 'look': 68, 'take': 69, 'were': 70, 'good': 71, 'for': 72, 'has': 73, 've': 74, 'see': 75, 'at': 76, 'will': 77, 'keep': 78, 'am': 79, 'had': 80, 'back': 81, 'give': 82, 'feel': 83, 'try': 84, 'stay': 85, 'saw': 86, 'must': 87, 'happy': 88, 'home': 89, 'where': 90, 'alone': 91, 'didn': 92, 'leave': 93, 'her': 94, 'car': 95, 'work': 96, 'hate': 97, 'won': 98, 'busy': 99, 'made': 100, 'his': 101, 'right': 102, 'again': 103, 'why': 104, 'everyone': 105, 'an': 106, 'them': 107, 'isn': 108, 'mary': 109, 'lost': 110, 'went': 111, 'looks': 112, 'never': 113, 'felt': 114, 'dog': 115, 'eat': 116, 'may': 117, 'down': 118, 'big': 119, 'still': 120, 'time': 121, 'job': 122, 'away': 123, 'nice': 124, 'well': 125, 'going': 126, 'with': 127, 'off': 128, 'wait': 129, 'ready': 130, 'bad': 131, 'drink': 132, 'does': 133, 'tell': 134, 'fun': 135, 'say': 136, 'make': 137, 'tired': 138, 'done': 139, 'book': 140, 'really': 141, 'safe': 142, 'some': 143, 'could': 144, 'should': 145, 'left': 146, 'kept': 147, 'call': 148, 'think': 149, 'over': 150, 'old': 151, 'mine': 152, 'french': 153, 'about': 154, 'lot': 155, 'hurt': 156, 'money': 157, 'late': 158, 'enough': 159, 'wasn': 160, 'came': 161, 'open': 162, 'talk': 163, 'room': 164, 'new': 165, 'easy': 166, 'cold': 167, 'our': 168, 'way': 169, 'live': 170, 'likes': 171, 'today': 172, 'careful': 173, 'hard': 174, 'water': 175, 'read': 176, 'died': 177, 'watch': 178, 'loves': 179, 'ok': 180, 'hurry': 181, 'd': 182, 'wrong': 183, 'sure': 184, 'gave': 185, 'said': 186, 'broke': 187, 'both': 188, 'idea': 189, 'seems': 190, 'much': 191, 'house': 192, 'find': 193, 'bed': 194, 'funny': 195, 'more': 196, 'day': 197, 'dead': 198, 'found': 199, 'run': 200, 'better': 201, 'door': 202, 'everybody': 203, 'man': 204, 'cat': 205, 'miss': 206, 'nothing': 207, 'everything': 208, 'ask': 209, 'trust': 210, 'sleep': 211, 'upset': 212, 'nobody': 213, 'sit': 214, 'crazy': 215, 'turn': 216, 'hear': 217, 'hope': 218, 'sick': 219, 'yours': 220, 'show': 221, 'life': 222, 'by': 223, 'angry': 224, 'anyone': 225, 'these': 226, 'play': 227, 'pay': 228, 'free': 229, 'friends': 230, 'sad': 231, 'win': 232, 'die': 233, 'true': 234, 'hungry': 235, 'drunk': 236, 'early': 237, 'school': 238, 'lucky': 239, 'bring': 240, 'gone': 241, 'stupid': 242, 'sing': 243, 'check': 244, 'called': 245, 'swim': 246, 'quiet': 247, 'mad': 248, 'sat': 249, 'took': 250, 'buy': 251, 'quit': 252, 'fine': 253, 'close': 254, 'eyes': 255, 'heard': 256, 'tall': 257, 'forget': 258, 'walk': 259, 'serious': 260, 'boy': 261, 'yourself': 262, 'doing': 263, 'fast': 264, 'mean': 265, 'wine': 266, 'working': 267, 'name': 268, 'looked': 269, 'coming': 270, 'handle': 271, 'cool': 272, 'move': 273, 'perfect': 274, 'care': 275, 'speak': 276, 'knew': 277, 'beer': 278, 'put': 279, 'hand': 280, 'and': 281, 'been': 282, 'yet': 283, 'sorry': 284, 'calm': 285, 'shot': 286, 'knows': 287, 'kidding': 288, 'bit': 289, 'almost': 290, 'being': 291, 'fat': 292, 'stand': 293, 'first': 294, 'remember': 295, 'problem': 296, 'great': 297, 'friend': 298, 'something': 299, 'outside': 300, 'from': 301, 'answer': 302, 'loved': 303, 'only': 304, 'fell': 305, 'hold': 306, 'start': 307, 'anybody': 308, 'needs': 309, 'hair': 310, 'listen': 311, 'thanks': 312, 'cry': 313, 'bus': 314, 'hat': 315, 'ate': 316, 'aren': 317, 'fired': 318, 'ahead': 319, 'follow': 320, 'liked': 321, 'met': 322, 'naive': 323, 'nervous': 324, 'best': 325, 'wants': 326, 'finished': 327, 'running': 328, 'coffee': 329, 'long': 330, 'wake': 331, 'use': 332, 'once': 333, 'key': 334, 'already': 335, 'shut': 336, 'rich': 337, 'write': 338, 'seat': 339, 'someone': 340, 'kind': 341, 'tried': 342, 'touch': 343, 'inside': 344, 'hot': 345, 'food': 346, 'married': 347, 'myself': 348, 'enjoy': 349, 'needed': 350, 'plan': 351, 'wanted': 352, 'doesn': 353, 'began': 354, 'works': 355, 'red': 356, 'son': 357, 'caught': 358, 'kids': 359, 'music': 360, 'quite': 361, 'as': 362, 'those': 363, 'stopped': 364, 'drive': 365, 'ran': 366, 'clean': 367, 'around': 368, 'two': 369, 'scared': 370, 'fish': 371, 'quickly': 372, 'gun': 373, 'bag': 374, 'confused': 375, 'hates': 376, 'tomorrow': 377, 'drop': 378, 'lie': 379, 'dogs': 380, 'told': 381, 'sweet': 382, 'break': 383, 'change': 384, 'talking': 385, 'lunch': 386, 'girls': 387, 'believe': 388, 'wife': 389, 'word': 390, 'sounds': 391, 'beat': 392, 'hit': 393, 'sign': 394, 'lazy': 395, 'hurts': 396, 'lying': 397, 'changed': 398, 'nuts': 399, 'invited': 400, 'seen': 401, 'boston': 402, 'teacher': 403, 'pretty': 404, 'paid': 405, 'fix': 406, 'spoke': 407, 'soon': 408, 'weird': 409, 'tv': 410, 'normal': 411, 'missed': 412, 'excited': 413, 'crying': 414, 'laughed': 415, 'joke': 416, 'doctor': 417, 'owe': 418, 'somebody': 419, 'catch': 420, 'luck': 421, 'waited': 422, 'child': 423, 'arrived': 424, 'when': 425, 'awesome': 426, 'cute': 427, 'game': 428, 'strong': 429, 'smart': 430, 'prepared': 431, 'started': 432, 'lose': 433, 'choice': 434, 'would': 435, 'if': 436, 'mother': 437, 'brave': 438, 'grab': 439, 'forgot': 440, 'after': 441, 'worked': 442, 'wonderful': 443, 'deal': 444, 'fight': 445, 'young': 446, 'drank': 447, 'milk': 448, 'song': 449, 'empty': 450, 'father': 451, 'boss': 452, 'important': 453, 'tie': 454, 'seem': 455, 'cried': 456, 'lock': 457, 'awful': 458, 'alive': 459, 'rest': 460, 'tea': 461, 'joking': 462, 'lonely': 463, 'study': 464, 'bought': 465, 'saved': 466, 'arm': 467, 'small': 468, 'killed': 469, 'light': 470, 'lied': 471, 'agree': 472, 'shy': 473, 'rude': 474, 'helped': 475, 'cut': 476, 'guess': 477, 'asked': 478, 'dream': 479, 'became': 480, 'horse': 481, 'amazing': 482, 'guy': 483, 'trouble': 484, 'getting': 485, 'sound': 486, 'fair': 487, 'smoke': 488, 'terrific': 489, 'hands': 490, 'next': 491, 'upstairs': 492, 'slept': 493, 'together': 494, 'oldest': 495, 'hang': 496, 'timid': 497, 'walked': 498, 'last': 499, 'age': 500, 'leaving': 501, 'winning': 502, 'slowly': 503, 'whose': 504, 'pen': 505, 'books': 506, 'afraid': 507, 'dinner': 508, 'which': 509, 'betrayed': 510, 'fault': 511, 'couldn': 512, 'phone': 513, 'born': 514, 'kill': 515, 'honest': 516, 'head': 517, 'cheated': 518, 'smell': 519, 'moving': 520, 'sleepy': 521, 'trying': 522, 'often': 523, 'reading': 524, 'send': 525, 'always': 526, 'trusted': 527, 'minute': 528, 'family': 529, 'story': 530, 'relax': 531, 'slow': 532, 'fit': 533, 'real': 534, 'wise': 535, 'smiled': 536, 'full': 537, 'weak': 538, 'short': 539, 'dark': 540, 'step': 541, 'yes': 542, 'eating': 543, 'town': 544, 'mind': 545, 'count': 546, 'laugh': 547, 'asleep': 548, 'cats': 549, 'happened': 550, 'movie': 551, 'place': 552, 'relaxed': 553, 'retired': 554, 'tough': 555, 'girl': 556, 'skinny': 557, 'ignore': 558, 'vote': 559, 'pain': 560, 'heart': 561, 'might': 562, 'shoes': 563, 'warned': 564, 'singing': 565, 'sent': 566, 'own': 567, 'turned': 568, 'join': 569, 'kiss': 570, 'push': 571, 'warm': 572, 'night': 573, 'bored': 574, 'correct': 575, 'unlucky': 576, 'silent': 577, 'wish': 578, 'student': 579, 'exhausted': 580, 'little': 581, 'end': 582, 'into': 583, 'woke': 584, 'cook': 585, 'awake': 586, 'tight': 587, 'hired': 588, 'liar': 589, 'famous': 590, 'box': 591, 'cake': 592, 'trapped': 593, 'worried': 594, 'many': 595, 'maybe': 596, 'involved': 597, 'smiling': 598, 'followed': 599, 'coat': 600, 'beautiful': 601, 'mom': 602, 'surprised': 603, 'bike': 604, 'behind': 605, 'continue': 606, 'wet': 607, 'failed': 608, 'save': 609, 'dying': 610, 'far': 611, 'ours': 612, 'duty': 613, 'face': 614, 'news': 615, 'set': 616, 'thirsty': 617, 'broken': 618, 'party': 619, 'closer': 620, 'refused': 621, 'kid': 622, 'understand': 623, 'shopping': 624, 'blame': 625, 'black': 626, 'cops': 627, 'guilty': 628, 'point': 629, 'used': 630, 'doors': 631, 'bill': 632, 'every': 633, 'naked': 634, 'pardon': 635, 'thank': 636, 'finish': 637, 'curious': 638, 'jealous': 639, 'shocked': 640, 'fake': 641, 'bite': 642, 'kissed': 643, 'anything': 644, 'explain': 645, 'innocent': 646, 'feet': 647, 'cruel': 648, 'god': 649, 'japanese': 650, 'listening': 651, 'lives': 652, 'watching': 653, 'same': 654, 'trip': 655, 'three': 656, 'fire': 657, 'wash': 658, 'refuse': 659, 'helps': 660, 'warn': 661, 'obey': 662, 'blind': 663, 'patient': 664, 'men': 665, 'blue': 666, 'war': 667, 'creative': 668, 'bet': 669, 'shall': 670, 'meet': 671, 'mess': 672, 'things': 673, 'meant': 674, 'downstairs': 675, 'foolish': 676, 'nose': 677, 'satisfied': 678, 'boring': 679, 'terrible': 680, 'throw': 681, 'ball': 682, 'dangerous': 683, 'side': 684, 'jump': 685, 'hello': 686, 'smile': 687, 'hug': 688, 'low': 689, 'welcome': 690, 'ugly': 691, 'fly': 692, 'idiot': 693, 'clear': 694, 'hero': 695, 'pick': 696, 'dance': 697, 'cooking': 698, 'driving': 699, 'fool': 700, 'useless': 701, 'rain': 702, 'meat': 703, 'team': 704, 'another': 705, 'map': 706, 'pizza': 707, 'strange': 708, 'writing': 709, 'yelling': 710, 'control': 711, 'ride': 712, 'raise': 713, 'danger': 714, 'boat': 715, 'camera': 716, 'believed': 717, 'keys': 718, 'carefully': 719, 'sister': 720, 'attack': 721, 'ill': 722, 'guys': 723, 'taste': 724, 'choose': 725, 'excuse': 726, 'dirty': 727, 'agreed': 728, 'along': 729, 'forgive': 730, 'clever': 731, 'worry': 732, 'sharp': 733, 'merciful': 734, 'snow': 735, 'list': 736, 'remain': 737, 'bath': 738, 'dress': 739, 'positive': 740, 'nearby': 741, 'shame': 742, 'looking': 743, 'polite': 744, 'or': 745, 'survive': 746, 'week': 747, 'ambitious': 748, 'motivated': 749, 'raining': 750, 'later': 751, 'laughing': 752, 'chance': 753, 'cup': 754, 'seemed': 755, 'second': 756, 'rid': 757, 'park': 758, 'disgusting': 759, 'baby': 760, 'brother': 761, 'feeling': 762, 'opened': 763, 'hi': 764, 'stood': 765, 'cover': 766, 'talked': 767, 'bald': 768, 'seated': 769, 'armed': 770, 'dizzy': 771, 'wrote': 772, 'shoot': 773, 'direct': 774, 'drives': 775, 'even': 776, 'friendly': 777, 'fear': 778, 'cash': 779, 'dancing': 780, 'stunned': 781, 'touched': 782, 'simple': 783, 'date': 784, 'hey': 785, 'silly': 786, 'proof': 787, 'risk': 788, 'decided': 789, 'happen': 790, 'law': 791, 'jobs': 792, 'favor': 793, 'dry': 794, 'feels': 795, 'comes': 796, 'nearly': 797, 'pleased': 798, 'impressed': 799, 'resilient': 800, 'helping': 801, 'bell': 802, 'tree': 803, 'rules': 804, 'brought': 805, 'having': 806, 'mistake': 807, 'truth': 808, 'order': 809, 'train': 810, 'children': 811, 'enemy': 812, 'bicycle': 813, 'speaks': 814, 'begin': 815, 'high': 816, 'stayed': 817, 'glad': 818, 'okay': 819, 'beg': 820, 'content': 821, 'lovely': 822, 'losing': 823, 'decide': 824, 'punctual': 825, 'hated': 826, 'scream': 827, 'starved': 828, 'secret': 829, 'escaped': 830, 'objective': 831, 'ears': 832, 'fearless': 833, 'cancer': 834, 'special': 835, 'focused': 836, 'unbelievable': 837, 'matter': 838, 'tricked': 839, 'studying': 840, 'finally': 841, 'different': 842, 'sense': 843, 'trusts': 844, 'knife': 845, 'rather': 846, 'escape': 847, 'relieved': 848, 'ordered': 849, 'productive': 850, 'oh': 851, 'deep': 852, 'deaf': 853, 'fantastic': 854, 'giggled': 855, 'stuck': 856, 'burned': 857, 'loosen': 858, 'air': 859, 'amused': 860, 'green': 861, 'aside': 862, 'discreet': 863, 'also': 864, 'dumb': 865, 'baffled': 866, 'sincere': 867, 'unhappy': 868, 'grow': 869, 'loud': 870, 'watched': 871, 'teach': 872, 'resist': 873, 'deserve': 874, 'fighting': 875, 'powerful': 876, 'sang': 877, 'while': 878, 'tense': 879, 'closed': 880, 'woman': 881, 'any': 882, 'smells': 883, 'fed': 884, 'badly': 885, 'skiing': 886, 'horses': 887, 'prefer': 888, 'concerned': 889, 'depressed': 890, 'leak': 891, 'window': 892, 'moment': 893, 'insane': 894, 'nonsense': 895, 'yourselves': 896, 'makes': 897, 'plays': 898, 'lit': 899, 'travel': 900, 'interested': 901, 'expensive': 902, 'apple': 903, 'students': 904, 'sore': 905, 'person': 906, 'pull': 907, 'fussy': 908, 'rush': 909, 'poor': 910, 'promised': 911, 'loaded': 912, 'happens': 913, 'drinks': 914, 'dressed': 915, 'grew': 916, 'chose': 917, 'fined': 918, 'certain': 919, 'monday': 920, 'talks': 921, 'says': 922, 'confident': 923, 'dumped': 924, 'horrible': 925, 'pathetic': 926, 'apples': 927, 'paint': 928, 'lawyer': 929, 'singer': 930, 'divorced': 931, 'pregnant': 932, 'sleeping': 933, 'stubborn': 934, 'white': 935, 'closely': 936, 'ended': 937, 'crime': 938, 'clock': 939, 'part': 940, 'fever': 941, 'summer': 942, 'rescued': 943, 'convinced': 944, 'forgetful': 945, 'screaming': 946, 'terrified': 947, 'table': 948, 'near': 949, 'injured': 950, 'fishing': 951, 'panting': 952, 'chair': 953, 'christmas': 954, 'afford': 955, 'store': 956, 'bank': 957, 'message': 958, 'tonight': 959, 'fate': 960, 'drinking': 961, 'yesterday': 962, 'headache': 963, 'eye': 964, 'proud': 965, 'protect': 966, 'fortunate': 967, 'briefly': 968, 'surrounded': 969, 'shirt': 970, 'birds': 971, 'faster': 972, 'ski': 973, 'cheered': 974, 'noticed': 975, 'promise': 976, 'stinks': 977, 'hers': 978, 'then': 979, 'built': 980, 'buying': 981, 'ruined': 982, 'single': 983, 'sneaky': 984, 'matters': 985, 'cheap': 986, 'boys': 987, 'bother': 988, 'apologize': 989, 'soup': 990, 'messed': 991, 'eggs': 992, 'moved': 993, 'manage': 994, 'ashamed': 995, 'chicken': 996, 'staying': 997, 'memorize': 998, 'surprise': 999, 'hugged': 1000, 'drowned': 1001, 'act': 1002, 'twins': 1003, 'half': 1004, 'plans': 1005, 'saint': 1006, 'speaking': 1007, 'missing': 1008, 'goes': 1009, 'arguing': 1010, 'dreaming': 1011, 'bird': 1012, 'gear': 1013, 'few': 1014, 'line': 1015, 'baked': 1016, 'soccer': 1017, 'note': 1018, 'advice': 1019, 'played': 1020, 'surrendered': 1021, 'volunteered': 1022, 'available': 1023, 'powerless': 1024, 'breath': 1025, 'shoe': 1026, 'six': 1027, 'floor': 1028, 'bright': 1029, 'crafty': 1030, 'year': 1031, 'animals': 1032, 'attacked': 1033, 'reply': 1034, 'goal': 1035, 'charming': 1036, 'stalling': 1037, 'road': 1038, 'envious': 1039, 'death': 1040, 'swimming': 1041, 'truly': 1042, 'sounded': 1043, 'fabulous': 1044, 'remained': 1045, 'frightened': 1046, 'power': 1047, 'flight': 1048, 'example': 1049, 'hide': 1050, 'goodbye': 1051, 'runs': 1052, 'brief': 1053, 'phoned': 1054, 'crashed': 1055, 'fainted': 1056, 'hurried': 1057, 'pass': 1058, 'seriously': 1059, 'voted': 1060, 'breathe': 1061, 'doubt': 1062, 'panicked': 1063, 'screamed': 1064, 'thirty': 1065, 'pray': 1066, 'cheerful': 1067, 'ruthless': 1068, 'bread': 1069, 'healthy': 1070, 'psychic': 1071, 'doll': 1072, 'locked': 1073, 'coughed': 1074, 'rifle': 1075, 'admire': 1076, 'hopeless': 1077, 'thrilled': 1078, 'digging': 1079, 'walking': 1080, 'quietly': 1081, 'forward': 1082, 'smoking': 1083, 'stole': 1084, 'stoned': 1085, 'uneasy': 1086, 'else': 1087, 'fooled': 1088, 'demented': 1089, 'people': 1090, 'blood': 1091, 'wore': 1092, 'artist': 1093, 'impatient': 1094, 'gets': 1095, 'worth': 1096, 'foot': 1097, 'peace': 1098, 'suit': 1099, 'shower': 1100, 'cousins': 1101, 'enemies': 1102, 'cows': 1103, 'complain': 1104, 'eaten': 1105, 'spot': 1106, 'cookies': 1107, 'harm': 1108, 'holiday': 1109, 'overworked': 1110, 'large': 1111, 'prices': 1112, 'blew': 1113, 'desk': 1114, 'glass': 1115, 'dad': 1116, 'noise': 1117, 'match': 1118, 'charge': 1119, 'kidnapped': 1120, 'alarmed': 1121, 'sour': 1122, 'decision': 1123, 'believes': 1124, 'daughter': 1125, 'threatened': 1126, 'overreacting': 1127, 'fingers': 1128, 'knees': 1129, 'thing': 1130, 'parents': 1131, 'burn': 1132, 'jumped': 1133, 'thin': 1134, 'odd': 1135, 'bless': 1136, 'pack': 1137, 'prudent': 1138, 'quick': 1139, 'destroy': 1140, 'facts': 1141, 'fill': 1142, 'canceled': 1143, 'envy': 1144, 'flinched': 1145, 'ice': 1146, 'greedy': 1147, 'shaken': 1148, 'strict': 1149, 'comment': 1150, 'generous': 1151, 'thorough': 1152, 'class': 1153, 'disagreed': 1154, 'golf': 1155, 'struggled': 1156, 'attend': 1157, 'finicky': 1158, 'wealthy': 1159, 'paper': 1160, 'dope': 1161, 'safely': 1162, 'annoying': 1163, 'arrogant': 1164, 'romantic': 1165, 'doubts': 1166, 'sugar': 1167, 'cab': 1168, 'star': 1169, 'thought': 1170, 'learn': 1171, 'sue': 1172, 'canadian': 1173, 'mistaken': 1174, 'offended': 1175, 'obvious': 1176, 'snowing': 1177, 'staring': 1178, 'gold': 1179, 'pale': 1180, 'words': 1181, 'talented': 1182, 'beware': 1183, 'deny': 1184, 'feed': 1185, 'maid': 1186, 'deserved': 1187, 'copy': 1188, 'taxi': 1189, 'outrank': 1190, 'delighted': 1191, 'intrigued': 1192, 'coach': 1193, 'weapon': 1194, 'gambling': 1195, 'tastes': 1196, 'doctors': 1197, 'grass': 1198, 'scolded': 1199, 'truck': 1200, 'astonished': 1201, 'contagious': 1202, 'making': 1203, 'vegetarian': 1204, 'picture': 1205, 'their': 1206, 'harmless': 1207, 'escaping': 1208, 'congratulations': 1209, 'pencil': 1210, 'sons': 1211, 'learned': 1212, 'rang': 1213, 'embarrassed': 1214, 'fresh': 1215, 'ridiculous': 1216, 'smaller': 1217, 'mouth': 1218, 'answered': 1219, 'straight': 1220, 'sale': 1221, 'forgiven': 1222, 'himself': 1223, 'conceited': 1224, 'murdered': 1225, 'weapons': 1226, 'loudly': 1227, 'familiar': 1228, 'weather': 1229, 'overwhelmed': 1230, 'unconscious': 1231, 'rained': 1232, 'courageous': 1233, 'knocked': 1234, 'leader': 1235, 'master': 1236, 'banged': 1237, 'drove': 1238, 'obeyed': 1239, 'rested': 1240, 'snowed': 1241, 'course': 1242, 'walks': 1243, 'admit': 1244, 'chuckled': 1245, 'exercise': 1246, 'twin': 1247, 'nap': 1248, 'cheat': 1249, 'yelled': 1250, 'harder': 1251, 'cancel': 1252, 'argue': 1253, 'resigned': 1254, 'share': 1255, 'fruit': 1256, 'rice': 1257, 'sell': 1258, 'gas': 1259, 'washed': 1260, 'smashed': 1261, 'teasing': 1262, 'through': 1263, 'split': 1264, 'shake': 1265, 'leg': 1266, 'guessed': 1267, 'huge': 1268, 'evil': 1269, 'fall': 1270, 'denied': 1271, 'kicked': 1272, 'exciting': 1273, 'apologized': 1274, 'draw': 1275, 'enjoyed': 1276, 'chess': 1277, 'jokes': 1278, 'robbed': 1279, 'twice': 1280, 'genius': 1281, 'bluffing': 1282, 'grateful': 1283, 'obedient': 1284, 'reliable': 1285, 'checked': 1286, 'waste': 1287, 'diary': 1288, 'command': 1289, 'scary': 1290, 'translate': 1291, 'pitch': 1292, 'flowers': 1293, 'ignored': 1294, 'english': 1295, 'thief': 1296, 'adorable': 1297, 'despise': 1298, 'winter': 1299, 'tempted': 1300, 'allow': 1301, 'prove': 1302, 'fan': 1303, 'treat': 1304, 'personal': 1305, 'possible': 1306, 'standing': 1307, 'number': 1308, 'adores': 1309, 'misled': 1310, 'remembers': 1311, 'succeed': 1312, 'judge': 1313, 'disappeared': 1314, 'outgoing': 1315, 'slapped': 1316, 'wide': 1317, 'spiders': 1318, 'painted': 1319, 'glasses': 1320, 'speechless': 1321, 'successful': 1322, 'counting': 1323, 'whistling': 1324, 'helpful': 1325, 'similar': 1326, 'remembered': 1327, 'troubled': 1328, 'earlier': 1329, 'cleaned': 1330, 'excused': 1331, 'expect': 1332, 'towel': 1333, 'hour': 1334, 'partner': 1335, 'tongue': 1336, 'haven': 1337, 'tennis': 1338, 'unusual': 1339, 'city': 1340, 'incredible': 1341, 'its': 1342, 'gray': 1343, 'remove': 1344, 'repeat': 1345, 'separated': 1346, 'startled': 1347, 'fuse': 1348, 'blown': 1349, 'flexible': 1350, 'cap': 1351, 'candle': 1352, 'breakfast': 1353, 'rarely': 1354, 'criminal': 1355, 'weight': 1356, 'ever': 1357, 'showed': 1358, 'tire': 1359, 'promoted': 1360, 'hilarious': 1361, 'talkative': 1362, 'skipped': 1363, 'pants': 1364, 'candles': 1365, 'downtown': 1366, 'forced': 1367, 'volume': 1368, 'stink': 1369, 'cop': 1370, 'swam': 1371, 'cooks': 1372, 'unlock': 1373, 'cares': 1374, 'disagree': 1375, 'fixed': 1376, 'art': 1377, 'accept': 1378, 'alert': 1379, 'replace': 1380, 'sec': 1381, 'fail': 1382, 'eight': 1383, 'jerk': 1384, 'confessed': 1385, 'dieting': 1386, 'popular': 1387, 'puzzled': 1388, 'selfish': 1389, 'legal': 1390, 'flat': 1391, 'trap': 1392, 'spring': 1393, 'numb': 1394, 'easily': 1395, 'games': 1396, 'understood': 1397, 'addicted': 1398, 'bleeding': 1399, 'faithful': 1400, 'freezing': 1401, 'grounded': 1402, 'outraged': 1403, 'reserved': 1404, 'starving': 1405, 'hideous': 1406, 'legs': 1407, 'recess': 1408, 'dreams': 1409, 'approved': 1410, 'overslept': 1411, 'mature': 1412, 'years': 1413, 'type': 1414, 'rope': 1415, 'fought': 1416, 'clue': 1417, 'ring': 1418, 'nature': 1419, 'ought': 1420, 'stabbed': 1421, 'disgusted': 1422, 'expecting': 1423, 'impulsive': 1424, 'uninsured': 1425, 'unlocked': 1426, 'climbing': 1427, 'proceed': 1428, 'attention': 1429, 'clearly': 1430, 'bragging': 1431, 'stuff': 1432, 'creepy': 1433, 'vulgar': 1434, 'remarried': 1435, 'scares': 1436, 'violent': 1437, 'wounded': 1438, 'till': 1439, 'waiting': 1440, 'grumpy': 1441, 'annoy': 1442, 'guns': 1443, 'form': 1444, 'van': 1445, 'keeps': 1446, 'arrested': 1447, 'secrets': 1448, 'playing': 1449, 'sun': 1450, 'welcomed': 1451, 'devastated': 1452, 'prepare': 1453, 'meter': 1454, 'roses': 1455, 'awkward': 1456, 'price': 1457, 'radio': 1458, 'complained': 1459, 'precise': 1460, 'wind': 1461, 'prude': 1462, 'interrupt': 1463, 'mercy': 1464, 'dreamer': 1465, 'mentioned': 1466, 'notice': 1467, 'evidence': 1468, 'homework': 1469, 'lay': 1470, 'misjudged': 1471, 'tissue': 1472, 'mayor': 1473, 'totally': 1474, 'horrified': 1475, 'wouldn': 1476, 'volunteer': 1477, 'able': 1478, 'color': 1479, 'training': 1480, 'such': 1481, 'handsome': 1482, 'windy': 1483, 'office': 1484, 'niece': 1485, 'leaves': 1486, 'alarm': 1487, 'church': 1488, 'sea': 1489, 'sky': 1490, 'exit': 1491, 'held': 1492, 'deranged': 1493, 'repulsive': 1494, 'punched': 1495, 'disloyal': 1496, 'cross': 1497, 'juice': 1498, 'debt': 1499, 'embarrassing': 1500, 'sweat': 1501, 'bowed': 1502, 'politely': 1503, 'traveling': 1504, 'bar': 1505, 'search': 1506, 'entered': 1507, 'abandoned': 1508, 'courteous': 1509, 'weren': 1510, 'heavy': 1511, 'screw': 1512, 'advance': 1513, 'arms': 1514, 'days': 1515, 'brainer': 1516, 'bothering': 1517, 'prisoner': 1518, 'letting': 1519, 'wow': 1520, 'bury': 1521, 'fold': 1522, 'waved': 1523, 'aim': 1524, 'tries': 1525, 'nodded': 1526, 'east': 1527, 'west': 1528, 'hung': 1529, 'north': 1530, 'survived': 1531, 'biased': 1532, 'fad': 1533, 'cooked': 1534, 'sensible': 1535, 'watchful': 1536, 'panic': 1537, 'beans': 1538, 'mice': 1539, 'rock': 1540, 'taxes': 1541, 'recovered': 1542, 'cars': 1543, 'succeeded': 1544, 'jittery': 1545, 'sloshed': 1546, 'unarmed': 1547, 'fact': 1548, 'pipe': 1549, 'cloudy': 1550, 'ironic': 1551, 'timing': 1552, 'card': 1553, 'plants': 1554, 'return': 1555, 'guest': 1556, 'beef': 1557, 'snack': 1558, 'poet': 1559, 'faint': 1560, 'giddy': 1561, 'handled': 1562, 'women': 1563, 'rose': 1564, 'smelled': 1565, 'farmer': 1566, 'member': 1567, 'drowning': 1568, 'unfair': 1569, 'rumor': 1570, 'garbage': 1571, 'genuine': 1572, 'pushing': 1573, 'trash': 1574, 'bores': 1575, 'focus': 1576, 'dating': 1577, 'respectful': 1578, 'blow': 1579, 'kite': 1580, 'dropped': 1581, 'sells': 1582, 'american': 1583, 'contributed': 1584, 'orders': 1585, 'movies': 1586, 'salmon': 1587, 'hiking': 1588, 'insist': 1589, 'object': 1590, 'respect': 1591, 'plane': 1592, 'pool': 1593, 'contented': 1594, 'flattered': 1595, 'miserable': 1596, 'observant': 1597, 'apart': 1598, 'worse': 1599, 'takes': 1600, 'test': 1601, 'business': 1602, 'differ': 1603, 'anyway': 1604, 'suits': 1605, 'texted': 1606, 'growing': 1607, 'related': 1608, 'add': 1609, 'racist': 1610, 'mug': 1611, 'video': 1612, 'uncle': 1613, 'borrow': 1614, 'corrected': 1615, 'dessert': 1616, 'protest': 1617, 'punished': 1618, 'details': 1619, 'revenge': 1620, 'insulted': 1621, 'wear': 1622, 'testify': 1623, 'survivor': 1624, 'optimistic': 1625, 'untalented': 1626, 'bargain': 1627, 'miracle': 1628, 'peel': 1629, 'teased': 1630, 'beauty': 1631, 'appeared': 1632, 'calmly': 1633, 'brothers': 1634, 'helpless': 1635, 'country': 1636, 'police': 1637, 'trunk': 1638, 'signed': 1639, 'dawn': 1640, 'hardly': 1641, 'stared': 1642, 'cheating': 1643, 'writes': 1644, 'husband': 1645, 'photogenic': 1646, 'interesting': 1647, 'appreciate': 1648, 'violence': 1649, 'hammer': 1650, 'introverted': 1651, 'minded': 1652, 'modest': 1653, 'happening': 1654, 'allowed': 1655, 'irrelevant': 1656, 'negotiate': 1657, 'bottle': 1658, 'tied': 1659, 'moon': 1660, 'times': 1661, 'immature': 1662, 'sipped': 1663, 'dishes': 1664, 'organized': 1665, 'prisoners': 1666, 'stolen': 1667, 'teaches': 1668, 'cannot': 1669, 'crack': 1670, 'blushing': 1671, 'top': 1672, 'drawer': 1673, 'concentrate': 1674, 'umbrella': 1675, 'dumbfounded': 1676, 'knee': 1677, 'coughing': 1678, 'led': 1679, 'chocolate': 1680, 'beach': 1681, 'computer': 1682, 'retire': 1683, 'aggressive': 1684, 'humiliated': 1685, 'sunday': 1686, 'letter': 1687, 'belongs': 1688, 'difficult': 1689, 'rainy': 1690, 'sunny': 1691, 'gain': 1692, 'elaborate': 1693, 'complaining': 1694, 'studies': 1695, 'sports': 1696, 'released': 1697, 'mistakes': 1698, 'soldiers': 1699, 'unique': 1700, 'taking': 1701, 'five': 1702, 'hobby': 1703, 'traitor': 1704, 'obnoxious': 1705, 'question': 1706, 'but': 1707, 'pet': 1708, 'brown': 1709, 'raised': 1710, 'shook': 1711, 'raking': 1712, 'graduate': 1713, 'style': 1714, 'photo': 1715, 'garden': 1716, 'wild': 1717, 'sort': 1718, 'world': 1719, 'lights': 1720, 'driver': 1721, 'responsible': 1722, 'registered': 1723, 'using': 1724, 'comic': 1725, 'log': 1726, 'gotten': 1727, 'strive': 1728, 'unreliable': 1729, 'cheers': 1730, 'knit': 1731, 'dozed': 1732, 'snore': 1733, 'skip': 1734, 'marry': 1735, 'cringed': 1736, 'exhaled': 1737, 'loyal': 1738, 'sand': 1739, 'seize': 1740, 'aboard': 1741, 'fret': 1742, 'south': 1743, 'tragic': 1744, 'listened': 1745, 'squinted': 1746, 'baking': 1747, 'chubby': 1748, 'paying': 1749, 'safer': 1750, 'wept': 1751, 'lighten': 1752, 'notes': 1753, 'flies': 1754, 'winced': 1755, 'comfort': 1756, 'guts': 1757, 'hesitated': 1758, 'math': 1759, 'third': 1760, 'medic': 1761, 'blessed': 1762, 'engaged': 1763, 'falling': 1764, 'furious': 1765, 'stuffed': 1766, 'rule': 1767, 'scam': 1768, 'poison': 1769, 'urgent': 1770, 'means': 1771, 'blushed': 1772, 'grim': 1773, 'caution': 1774, 'pity': 1775, 'attentive': 1776, 'realistic': 1777, 'evening': 1778, 'donut': 1779, 'bigot': 1780, 'lousy': 1781, 'honey': 1782, 'opera': 1783, 'sushi': 1784, 'risks': 1785, 'coward': 1786, 'homeless': 1787, 'homesick': 1788, 'rational': 1789, 'truthful': 1790, 'deer': 1791, 'wolf': 1792, 'bedtime': 1793, 'pigs': 1794, 'plug': 1795, 'sued': 1796, 'louder': 1797, 'pig': 1798, 'loser': 1799, 'shock': 1800, 'ink': 1801, 'bossy': 1802, 'ain': 1803, 'included': 1804, 'supportive': 1805, 'skate': 1806, 'gamble': 1807, 'wins': 1808, 'deeply': 1809, 'hole': 1810, 'skating': 1811, 'pinched': 1812, 'admired': 1813, 'muslim': 1814, 'caused': 1815, 'cough': 1816, 'dislike': 1817, 'steal': 1818, 'bananas': 1819, 'freaked': 1820, 'elected': 1821, 'tenure': 1822, 'cheese': 1823, 'rescheduled': 1824, 'behave': 1825, 'budge': 1826, 'plumber': 1827, 'tourist': 1828, 'committed': 1829, 'dedicated': 1830, 'desperate': 1831, 'expert': 1832, 'saying': 1833, 'shivering': 1834, 'skeptical': 1835, 'gift': 1836, 'saturday': 1837, 'relief': 1838, 'outdated': 1839, 'seal': 1840, 'model': 1841, 'shouting': 1842, 'sweep': 1843, 'cow': 1844, 'japan': 1845, 'joined': 1846, 'adopted': 1847, 'annoyed': 1848, 'packing': 1849, 'page': 1850, 'before': 1851, 'respond': 1852, 'thinks': 1853, 'mail': 1854, 'wicked': 1855, 'qualified': 1856, 'hiring': 1857, 'flew': 1858, 'beard': 1859, 'sold': 1860, 'gambler': 1861, 'prison': 1862, 'flunk': 1863, 'honored': 1864, 'nauseous': 1865, 'vision': 1866, 'carrots': 1867, 'parties': 1868, 'sisters': 1869, 'flu': 1870, 'college': 1871, 'plead': 1872, 'puppy': 1873, 'captured': 1874, 'careless': 1875, 'cooperate': 1876, 'guide': 1877, 'against': 1878, 'diplomatic': 1879, 'fascinated': 1880, 'undressing': 1881, 'redundant': 1882, 'risky': 1883, 'larger': 1884, 'snap': 1885, 'hogwash': 1886, 'illegal': 1887, 'rubbish': 1888, 'barked': 1889, 'leaks': 1890, 'annoys': 1891, 'fork': 1892, 'intervened': 1893, 'unmoved': 1894, 'volunteers': 1895, 'sweating': 1896, 'retiring': 1897, 'tragedy': 1898, 'taken': 1899, 'wipe': 1900, 'capsized': 1901, 'present': 1902, 'bees': 1903, 'brush': 1904, 'dismissed': 1905, 'insult': 1906, 'overdo': 1907, 'prayed': 1908, 'solution': 1909, 'studied': 1910, 'adventurous': 1911, 'abhor': 1912, 'seizure': 1913, 'resign': 1914, 'football': 1915, 'leukemia': 1916, 'returned': 1917, 'showered': 1918, 'baseball': 1919, 'seldom': 1920, 'witness': 1921, 'zoo': 1922, 'solve': 1923, 'detective': 1924, 'calling': 1925, 'celebrating': 1926, 'comfortable': 1927, 'cracking': 1928, 'defenseless': 1929, 'extroverted': 1930, 'interfering': 1931, 'handed': 1932, 'persevering': 1933, 'resourceful': 1934, 'trustworthy': 1935, 'breathing': 1936, 'ago': 1937, 'impossible': 1938, 'impressive': 1939, 'terrifying': 1940, 'neither': 1941, 'seeing': 1942, 'orange': 1943, 'assertive': 1944, 'lake': 1945, 'feared': 1946, 'rabbits': 1947, 'dejected': 1948, 'wears': 1949, 'suffer': 1950, 'panicking': 1951, 'suffered': 1952, 'ideas': 1953, 'giving': 1954, 'disaster': 1955, 'cost': 1956, 'prize': 1957, 'naughty': 1958, 'barking': 1959, 'apply': 1960, 'teeth': 1961, 'street': 1962, 'mention': 1963, 'reason': 1964, 'suddenly': 1965, 'distracted': 1966, 'arabic': 1967, 'blanket': 1968, 'ticket': 1969, 'sneezed': 1970, 'hybrid': 1971, 'empowered': 1972, 'egg': 1973, 'month': 1974, 'frustrated': 1975, 'cousin': 1976, 'between': 1977, 'disappointed': 1978, 'fairly': 1979, 'shape': 1980, 'volunteering': 1981, 'company': 1982, 'necessary': 1983, 'size': 1984, 'sofa': 1985, 'informed': 1986, 'repair': 1987, 'cards': 1988, 'planet': 1989, 'socks': 1990, 'rejected': 1991, 'wisely': 1992, 'showing': 1993, 'ludicrous': 1994, 'limit': 1995, 'guard': 1996, 'monster': 1997, 'sarcastic': 1998, 'texting': 1999, 'considered': 2000, 'dozing': 2001, 'whatever': 2002, 'younger': 2003, 'others': 2004, 'thieves': 2005, 'rely': 2006, 'earth': 2007, 'goodnight': 2008, 'pens': 2009, 'ballistic': 2010, 'barely': 2011, 'grade': 2012, 'lightly': 2013, 'accident': 2014, 'other': 2015, 'pulled': 2016, 'discouraged': 2017, 'heavily': 2018, 'rage': 2019, 'emergency': 2020, 'sight': 2021, 'rats': 2022, 'rising': 2023, 'harassing': 2024, 'wall': 2025, 'worst': 2026, 'handcuffed': 2027, 'suspicious': 2028, 'changing': 2029, 'jacket': 2030, 'terms': 2031, 'european': 2032, 'robots': 2033, 'gloves': 2034, 'offend': 2035, 'address': 2036, 'confirm': 2037, 'jail': 2038, 'lived': 2039, 'offense': 2040, 'kissing': 2041, 'crept': 2042, 'scout': 2043, 'gunshot': 2044, 'duck': 2045, 'sighed': 2046, 'tidy': 2047, 'speed': 2048, 'lies': 2049, 'bark': 2050, 'film': 2051, 'grinned': 2052, 'groaned': 2053, 'sober': 2054, 'aah': 2055, 'carry': 2056, 'dig': 2057, 'calls': 2058, 'cpr': 2059, 'relented': 2060, 'hiding': 2061, 'humble': 2062, 'pooped': 2063, 'fox': 2064, 'cd': 2065, 'phony': 2066, 'jesus': 2067, 'agrees': 2068, 'snores': 2069, 'cds': 2070, 'gloat': 2071, 'coin': 2072, 'nerd': 2073, 'adore': 2074, 'exercised': 2075, 'jazz': 2076, 'nailed': 2077, 'protested': 2078, 'lips': 2079, 'baker': 2080, 'widow': 2081, 'fasting': 2082, 'humming': 2083, 'psyched': 2084, 'fatal': 2085, 'lift': 2086, 'burns': 2087, 'clap': 2088, 'press': 2089, 'enter': 2090, 'release': 2091, 'stick': 2092, 'lame': 2093, 'glum': 2094, 'neat': 2095, 'slim': 2096, 'sweated': 2097, 'bore': 2098, 'owns': 2099, 'describe': 2100, 'exist': 2101, 'morning': 2102, 'cranky': 2103, 'driven': 2104, 'barbaric': 2105, 'liars': 2106, 'piano': 2107, 'lion': 2108, 'beaten': 2109, 'wonder': 2110, 'gullible': 2111, 'reformed': 2112, 'restless': 2113, 'shooting': 2114, 'thinking': 2115, 'ticklish': 2116, 'unbiased': 2117, 'identify': 2118, 'vague': 2119, 'robot': 2120, 'archaic': 2121, 'complex': 2122, 'ladies': 2123, 'lead': 2124, 'spy': 2125, 'heroes': 2126, 'minors': 2127, 'nerve': 2128, 'passed': 2129, 'scare': 2130, 'slipping': 2131, 'questions': 2132, 'reasonable': 2133, 'body': 2134, 'security': 2135, 'circle': 2136, 'exhale': 2137, 'cookie': 2138, 'eats': 2139, 'toys': 2140, 'senior': 2141, 'insecure': 2142, 'diabetic': 2143, 'pie': 2144, 'belong': 2145, 'queasy': 2146, 'visa': 2147, 'garlic': 2148, 'grapes': 2149, 'yellow': 2150, 'hockey': 2151, 'violin': 2152, 'funds': 2153, 'rat': 2154, 'bacon': 2155, 'mask': 2156, 'dentist': 2157, 'easygoing': 2158, 'diet': 2159, 'plastered': 2160, 'sensitive': 2161, 'unmarried': 2162, 'voting': 2163, 'painful': 2164, 'wig': 2165, 'flaw': 2166, 'viral': 2167, 'gorgeous': 2168, 'stealing': 2169, 'offer': 2170, 'beside': 2171, 'stir': 2172, 'worrying': 2173, 'symptoms': 2174, 'vary': 2175, 'dvd': 2176, 'sheep': 2177, 'touchy': 2178, 'sinking': 2179, 'responded': 2180, 'hypocrite': 2181, 'idiots': 2182, 'morons': 2183, 'crude': 2184, 'hint': 2185, 'wheel': 2186, 'counts': 2187, 'author': 2188, 'brakes': 2189, 'spinach': 2190, 'picnics': 2191, 'turtles': 2192, 'answers': 2193, 'data': 2194, 'usually': 2195, 'cleaning': 2196, 'detained': 2197, 'outdoors': 2198, 'unharmed': 2199, 'freshman': 2200, 'dehydrated': 2201, 'exercising': 2202, 'illiterate': 2203, 'methodical': 2204, 'quitter': 2205, 'overweight': 2206, 'winner': 2207, 'unemployed': 2208, 'forgotten': 2209, 'bear': 2210, 'likely': 2211, 'planned': 2212, 'wednesday': 2213, 'snowman': 2214, 'beyond': 2215, 'brand': 2216, 'undamaged': 2217, 'ache': 2218, 'choked': 2219, 'angel': 2220, 'bunch': 2221, 'alright': 2222, 'evident': 2223, 'logical': 2224, 'roof': 2225, 'ford': 2226, 'callous': 2227, 'immoral': 2228, 'nodding': 2229, 'sobbing': 2230, 'recover': 2231, 'brain': 2232, 'partners': 2233, 'refugees': 2234, 'paris': 2235, 'adjust': 2236, 'ghost': 2237, 'defend': 2238, 'rub': 2239, 'meal': 2240, 'acts': 2241, 'painter': 2242, 'gloomy': 2243, 'surfing': 2244, 'lad': 2245, 'southpaw': 2246, 'id': 2247, 'unfortunate': 2248, 'salad': 2249, 'disobeyed': 2250, 'expected': 2251, 'sunburned': 2252, 'voice': 2253, 'screams': 2254, 'teaching': 2255, 'tokyo': 2256, 'misunderstood': 2257, 'helmet': 2258, 'sword': 2259, 'land': 2260, 'biking': 2261, 'shifted': 2262, 'gears': 2263, 'taught': 2264, 'refund': 2265, 'acquitted': 2266, 'rent': 2267, 'tipsy': 2268, 'attorney': 2269, 'daydreaming': 2270, 'experienced': 2271, 'heartbroken': 2272, 'vacation': 2273, 'sympathetic': 2274, 'manager': 2275, 'unambitious': 2276, 'river': 2277, 'natural': 2278, 'soft': 2279, 'disgrace': 2280, 'shortcut': 2281, 'acceptable': 2282, 'inadequate': 2283, 'sweltering': 2284, 'season': 2285, 'practice': 2286, 'jeans': 2287, 'sticky': 2288, 'changes': 2289, 'forgave': 2290, 'reads': 2291, 'roll': 2292, 'silence': 2293, 'steady': 2294, 'engine': 2295, 'breather': 2296, 'peculiar': 2297, 'salt': 2298, 'blocked': 2299, 'greeted': 2300, 'visited': 2301, 'reality': 2302, 'each': 2303, 'friday': 2304, 'agitated': 2305, 'dyslexic': 2306, 'resolute': 2307, 'skittish': 2308, 'tactless': 2309, 'wavering': 2310, 'mouse': 2311, 'understands': 2312, 'front': 2313, 'toes': 2314, 'teachers': 2315, 'freedom': 2316, 'lack': 2317, 'realize': 2318, 'rented': 2319, 'canadians': 2320, 'impartial': 2321, 'pleasure': 2322, 'comb': 2323, 'loo': 2324, 'picky': 2325, 'less': 2326, 'catholic': 2327, 'cane': 2328, 'immediately': 2329, 'consider': 2330, 'dial': 2331, 'deceive': 2332, 'garage': 2333, 'joy': 2334, 'picasso': 2335, 'hunt': 2336, 'grown': 2337, 'struck': 2338, 'pork': 2339, 'ripped': 2340, 'halloween': 2341, 'surprises': 2342, 'receipt': 2343, 'allergies': 2344, 'hay': 2345, 'standards': 2346, 'toothache': 2347, 'drill': 2348, 'ropes': 2349, 'wallet': 2350, 'yolks': 2351, 'soul': 2352, 'tires': 2353, 'gladly': 2354, 'conservative': 2355, 'america': 2356, 'heading': 2357, 'killing': 2358, 'living': 2359, 'riddle': 2360, 'threat': 2361, 'valuable': 2362, 'washing': 2363, 'effective': 2364, 'race': 2365, 'habit': 2366, 'settled': 2367, 'complicated': 2368, 'compromise': 2369, 'mars': 2370, 'smokes': 2371, 'tiny': 2372, 'stomach': 2373, 'parrots': 2374, 'article': 2375, 'defeated': 2376, 'tb': 2377, 'disliked': 2378, 'spit': 2379, 'upsetting': 2380, 'tank': 2381, 'deceived': 2382, 'glanced': 2383, 'problems': 2384, 'mystery': 2385, 'excellent': 2386, 'guitar': 2387, 'silently': 2388, 'deported': 2389, 'goggles': 2390, 'headed': 2391, 'visitors': 2392, 'owners': 2393, 'eater': 2394, 'nightmare': 2395, 'mirror': 2396, 'under': 2397, 'build': 2398, 'copies': 2399, 'gentleman': 2400, 'scientist': 2401, 'twisted': 2402, 'bathe': 2403, 'brushed': 2404, 'intervene': 2405, 'scarf': 2406, 'soaking': 2407, 'schedule': 2408, 'privacy': 2409, 'regrets': 2410, 'everywhere': 2411, 'colors': 2412, 'ignorance': 2413, 'gym': 2414, 'total': 2415, 'guessing': 2416, 'persuaded': 2417, 'dubious': 2418, 'neighbor': 2419, 'inflation': 2420, 'pure': 2421, 'depends': 2422, 'cumbersome': 2423, 'depressing': 2424, 'destiny': 2425, 'greasy': 2426, 'moot': 2427, 'reconsider': 2428, 'pretend': 2429, 'teen': 2430, 'turning': 2431, 'aspirin': 2432, 'market': 2433, 'foxes': 2434, 'alike': 2435, 'moldy': 2436, 'articulate': 2437, 'recovering': 2438, 'remarkable': 2439, 'hopeful': 2440, 'suffocating': 2441, 'meeting': 2442, 'cowards': 2443, 'stain': 2444, 'future': 2445, 'applause': 2446, 'invite': 2447, 'murder': 2448, 'snails': 2449, 'choosy': 2450, 'king': 2451, 'unimpressed': 2452, 'position': 2453, 'information': 2454, 'religion': 2455, 'somewhere': 2456, 'custom': 2457, 'challenge': 2458, 'candlelight': 2459, 'outfit': 2460, 'spilled': 2461, 'boyfriend': 2462, 'hire': 2463, 'chef': 2464, 'learning': 2465, 'handcrafted': 2466, 'unavoidable': 2467, 'corner': 2468, 'crowded': 2469, 'battery': 2470, 'template': 2471, 'shoelaces': 2472, 'comforted': 2473, 'downhearted': 2474, 'frazzled': 2475, 'hop': 2476, 'froze': 2477, 'swore': 2478, 'kick': 2479, 'goofed': 2480, 'moaned': 2481, 'chill': 2482, 'dj': 2483, 'sexy': 2484, 'humor': 2485, 'blinked': 2486, 'inhaled': 2487, 'tripped': 2488, 'leo': 2489, 'cured': 2490, 'above': 2491, 'below': 2492, 'higher': 2493, 'bottoms': 2494, 'swiss': 2495, 'absurd': 2496, 'human': 2497, 'b': 2498, 'objected': 2499, 'shrugged': 2500, 'threw': 2501, 'whistled': 2502, 'immune': 2503, 'soaked': 2504, 'wasted': 2505, 'bogus': 2506, 'magic': 2507, 'chat': 2508, 'mama': 2509, 'scoot': 2510, 'braked': 2511, 'gasped': 2512, 'unscrew': 2513, 'sunk': 2514, 'specific': 2515, 'bowl': 2516, 'shout': 2517, 'stare': 2518, 'flip': 2519, 'hunk': 2520, 'slob': 2521, 'monk': 2522, 'buried': 2523, 'oppose': 2524, 'snickered': 2525, 'surrender': 2526, 'frantic': 2527, 'neutral': 2528, 'stumped': 2529, 'foggy': 2530, 'yen': 2531, 'futile': 2532, 'warmer': 2533, 'across': 2534, 'record': 2535, 'settle': 2536, 'icky': 2537, 'wary': 2538, 'listens': 2539, 'older': 2540, 'drag': 2541, 'loss': 2542, 'ship': 2543, 'ramble': 2544, 'slouch': 2545, 'examine': 2546, 'ghosts': 2547, 'avoids': 2548, 'heroic': 2549, 'dare': 2550, 'chased': 2551, 'jogging': 2552, 'honor': 2553, 'trips': 2554, 'space': 2555, 'rewrote': 2556, 'wimped': 2557, 'gemini': 2558, 'taurus': 2559, 'barber': 2560, 'dancer': 2561, 'surfer': 2562, 'adult': 2563, 'autistic': 2564, 'cultured': 2565, 'eighteen': 2566, 'managing': 2567, 'iron': 2568, 'amazed': 2569, 'curse': 2570, 'review': 2571, 'itch': 2572, 'shrieked': 2573, 'pouting': 2574, 'whining': 2575, 'yawning': 2576, 'approve': 2577, 'enlisted': 2578, 'grumbled': 2579, 'obese': 2580, 'stoic': 2581, 'vegan': 2582, 'adults': 2583, 'doomed': 2584, 'vanished': 2585, 'imbecile': 2586, 'moody': 2587, 'futon': 2588, 'blindfold': 2589, 'despair': 2590, 'peas': 2591, 'dies': 2592, 'haircut': 2593, 'ham': 2594, 'cracked': 2595, 'braces': 2596, 'bled': 2597, 'honk': 2598, 'horn': 2599, 'delicious': 2600, 'thrilling': 2601, 'runner': 2602, 'borrowed': 2603, 'bribed': 2604, 'designed': 2605, 'reborn': 2606, 'scammed': 2607, 'asthma': 2608, 'rights': 2609, 'camels': 2610, 'cities': 2611, 'poetry': 2612, 'trains': 2613, 'autumn': 2614, 'crew': 2615, 'lamp': 2616, 'support': 2617, 'crushed': 2618, 'dazzled': 2619, 'drugged': 2620, 'poems': 2621, 'songs': 2622, 'scorpio': 2623, 'soldier': 2624, 'surgeon': 2625, 'adaptable': 2626, 'orphan': 2627, 'bilingual': 2628, 'efficient': 2629, 'strike': 2630, 'surviving': 2631, 'bat': 2632, 'gag': 2633, 'superb': 2634, 'rental': 2635, 'homemade': 2636, 'occupied': 2637, 'suicidal': 2638, 'unlikely': 2639, 'hustling': 2640, 'aloud': 2641, 'russia': 2642, 'active': 2643, 'clapping': 2644, 'spitting': 2645, 'straighten': 2646, 'saturn': 2647, 'myth': 2648, 'doable': 2649, 'untrue': 2650, 'asian': 2651, 'spies': 2652, 'false': 2653, 'online': 2654, 'unhurt': 2655, 'upbeat': 2656, 'winded': 2657, 'rushed': 2658, 'staggered': 2659, 'frank': 2660, 'choking': 2661, 'elderly': 2662, 'snoring': 2663, 'wax': 2664, 'prevail': 2665, 'group': 2666, 'sync': 2667, 'lawyers': 2668, 'stalled': 2669, 'bummer': 2670, 'legibly': 2671, 'charlatan': 2672, 'hoot': 2673, 'snob': 2674, 'unkind': 2675, 'avoid': 2676, 'clich': 2677, 'juggle': 2678, 'gate': 2679, 'recycle': 2680, 'force': 2681, 'struggle': 2682, 'tease': 2683, 'tempt': 2684, 'dude': 2685, 'afternoon': 2686, 'lip': 2687, 'dislikes': 2688, 'actor': 2689, 'owes': 2690, 'respects': 2691, 'ex': 2692, 'banana': 2693, 'decorated': 2694, 'gossip': 2695, 'suntan': 2696, 'expelled': 2697, 'stroke': 2698, 'sundays': 2699, 'hiccups': 2700, 'voices': 2701, 'hiccup': 2702, 'bowling': 2703, 'history': 2704, 'lobster': 2705, 'mahjong': 2706, 'puzzles': 2707, 'stories': 2708, 'oven': 2709, 'stamp': 2710, 'file': 2711, 'korean': 2712, 'justice': 2713, 'barefoot': 2714, 'hammered': 2715, 'impolite': 2716, 'agony': 2717, 'pardoned': 2718, 'prosper': 2719, 'musician': 2720, 'dependable': 2721, 'firing': 2722, 'meditating': 2723, 'bitter': 2724, 'prejudiced': 2725, 'revolting': 2726, 'searching': 2727, 'tooth': 2728, 'tune': 2729, 'biting': 2730, 'science': 2731, 'nurse': 2732, 'bach': 2733, 'sings': 2734, 'gossiping': 2735, 'grumbling': 2736, 'quibbling': 2737, 'sniffling': 2738, 'tower': 2739, 'flag': 2740, 'melted': 2741, 'siren': 2742, 'snag': 2743, 'muddy': 2744, 'bites': 2745, 'theirs': 2746, 'tricky': 2747, 'dice': 2748, 'pear': 2749, 'crook': 2750, 'moron': 2751, 'sitting': 2752, 'smarter': 2753, 'unfazed': 2754, 'retaliated': 2755, 'improve': 2756, 'clueless': 2757, 'crash': 2758, 'blast': 2759, 'guests': 2760, 'action': 2761, 'quitting': 2762, 'stronger': 2763, 'rip': 2764, 'causes': 2765, 'disgust': 2766, 'screwed': 2767, 'amusing': 2768, 'elusive': 2769, 'obscene': 2770, 'pro': 2771, 'insured': 2772, 'round': 2773, 'hibernate': 2774, 'bullet': 2775, 'boil': 2776, 'whistle': 2777, 'boxes': 2778, 'nails': 2779, 'hatch': 2780, 'jam': 2781, 'stingy': 2782, 'interfere': 2783, 'remind': 2784, 'popcorn': 2785, 'bottom': 2786, 'ambition': 2787, 'ten': 2788, 'slowpoke': 2789, 'mud': 2790, 'humiliating': 2791, 'bachelor': 2792, 'compete': 2793, 'chickened': 2794, 'downloaded': 2795, 'dried': 2796, 'feverish': 2797, 'isolated': 2798, 'tomatoes': 2799, 'fanatics': 2800, 'politics': 2801, 'weddings': 2802, 'bruise': 2803, 'laptop': 2804, 'epilepsy': 2805, 'army': 2806, 'supper': 2807, 'outwitted': 2808, 'relied': 2809, 'scored': 2810, 'vitamins': 2811, 'parrot': 2812, 'assaulted': 2813, 'convicted': 2814, 'wondering': 2815, 'arrange': 2816, 'assist': 2817, 'double': 2818, 'capricorn': 2819, 'addict': 2820, 'carpenter': 2821, 'foreigner': 2822, 'geologist': 2823, 'engineer': 2824, 'begging': 2825, 'catching': 2826, 'cooperating': 2827, 'hardworking': 2828, 'ammo': 2829, 'spontaneous': 2830, 'unconvinced': 2831, 'tasted': 2832, 'handmade': 2833, 'outrage': 2834, 'improbable': 2835, 'inevitable': 2836, 'misleading': 2837, 'refreshing': 2838, 'typical': 2839, 'sufficient': 2840, 'humid': 2841, 'paging': 2842, 'covered': 2843, 'lemons': 2844, 'improvise': 2845, 'merry': 2846, 'shift': 2847, 'squeak': 2848, 'pour': 2849, 'lid': 2850, 'rejection': 2851, 'calmed': 2852, 'graceful': 2853, 'nosy': 2854, 'chances': 2855, 'frankly': 2856, 'puzzle': 2857, 'doubtful': 2858, 'damp': 2859, 'net': 2860, 'cure': 2861, 'pilots': 2862, 'gifts': 2863, 'wasting': 2864, 'acted': 2865, 'tailor': 2866, 'giggling': 2867, 'knocking': 2868, 'perverse': 2869, 'pleasant': 2870, 'spirited': 2871, 'unafraid': 2872, 'unnerved': 2873, 'stops': 2874, 'sees': 2875, 'sleeps': 2876, 'slowed': 2877, 'fools': 2878, 'retreat': 2879, 'sailing': 2880, 'neighbors': 2881, 'newcomers': 2882, 'newlyweds': 2883, 'resigning': 2884, 'survivors': 2885, 'unrelated': 2886, 'treasure': 2887, 'oar': 2888, 'devil': 2889, 'menace': 2890, 'than': 2891, 'wings': 2892, 'accidents': 2893, 'invisible': 2894, 'golfer': 2895, 'maniac': 2896, 'typist': 2897, 'wizard': 2898, 'boxing': 2899, 'brace': 2900, 'normally': 2901, 'spell': 2902, 'blinds': 2903, 'supply': 2904, 'bridge': 2905, 'wire': 2906, 'delicately': 2907, 'faces': 2908, 'yell': 2909, 'meals': 2910, 'veggies': 2911, 'hamster': 2912, 'costs': 2913, 'gardening': 2914, 'without': 2915, 'stairs': 2916, 'flow': 2917, 'croissant': 2918, 'recently': 2919, 'backward': 2920, 'pajamas': 2921, 'hunting': 2922, 'oranges': 2923, 'moves': 2924, 'ratted': 2925, 'france': 2926, 'bartender': 2927, 'biologist': 2928, 'senile': 2929, 'intelligent': 2930, 'heaven': 2931, 'professor': 2932, 'brazil': 2933, 'reschedule': 2934, 'trout': 2935, 'confiscated': 2936, 'protected': 2937, 'chemistry': 2938, 'computers': 2939, 'hypocrisy': 2940, 'paperwork': 2941, 'website': 2942, 'gunshots': 2943, 'lifted': 2944, 'ocean': 2945, 'adventure': 2946, 'hedgehogs': 2947, 'band': 2948, 'view': 2949, 'kleenex': 2950, 'escort': 2951, 'pointed': 2952, 'recommend': 2953, 'rematch': 2954, 'vengeance': 2955, 'unprepared': 2956, 'victorious': 2957, 'farm': 2958, 'demonstrate': 2959, 'clerk': 2960, 'alcoholic': 2961, 'disorganized': 2962, 'dissatisfied': 2963, 'enthusiastic': 2964, 'homeschooled': 2965, 'housesitting': 2966, 'ignoring': 2967, 'stressed': 2968, 'super': 2969, 'trick': 2970, 'freaks': 2971, 'virus': 2972, 'hype': 2973, 'mandatory': 2974, 'tradition': 2975, 'frightening': 2976, 'drug': 2977, 'lower': 2978, 'itchy': 2979, 'pulse': 2980, 'windows': 2981, 'button': 2982, 'bellyaching': 2983, 'hassling': 2984, 'italy': 2985, 'despises': 2986, 'obstinate': 2987, 'rode': 2988, 'camel': 2989, 'worships': 2990, 'shots': 2991, 'nit': 2992, 'picking': 2993, 'million': 2994, 'brilliant': 2995, 'curtain': 2996, 'rough': 2997, 'switch': 2998, 'icy': 2999, 'scoffed': 3000, 'artists': 3001, 'accurate': 3002, 'required': 3003, 'bounced': 3004, 'forgives': 3005, 'rabbit': 3006, 'chickens': 3007, 'delirious': 3008, 'indignant': 3009, 'merciless': 3010, 'observing': 3011, 'sighing': 3012, 'tulips': 3013, 'smiles': 3014, 'overheard': 3015, 'stepped': 3016, 'tickled': 3017, 'appalled': 3018, 'watches': 3019, 'innovative': 3020, 'undefeated': 3021, 'instead': 3022, 'slower': 3023, 'competed': 3024, 'demand': 3025, 'depend': 3026, 'pictures': 3027, 'ambushed': 3028, 'classmates': 3029, 'seek': 3030, 'score': 3031, 'belt': 3032, 'cheaper': 3033, 'developed': 3034, 'lady': 3035, 'notified': 3036, 'nicely': 3037, 'x': 3038, 'marks': 3039, 'seventh': 3040, 'unethical': 3041, 'zip': 3042, 'steps': 3043, 'bachelors': 3044, 'religious': 3045, 'policeman': 3046, 'ambulance': 3047, 'link': 3048, 'cocaine': 3049, 'startle': 3050, 'disable': 3051, 'kratom': 3052, 'fuss': 3053, 'threaten': 3054, 'haste': 3055, 'employs': 3056, 'gives': 3057, 'grabbed': 3058, 'blond': 3059, 'physicist': 3060, 'forty': 3061, 'incompetent': 3062, 'influential': 3063, 'unrealistic': 3064, 'frugally': 3065, 'requested': 3066, 'sailor': 3067, 'russian': 3068, 'travels': 3069, 'rapidly': 3070, 'imprisoned': 3071, 'journalist': 3072, 'pink': 3073, 'handrail': 3074, 'spelled': 3075, 'bolted': 3076, 'verify': 3077, 'clothes': 3078, 'bags': 3079, 'tutor': 3080, 'mosquitoes': 3081, 'hangover': 3082, 'passport': 3083, 'proposal': 3084, 'chest': 3085, 'skirt': 3086, 'hats': 3087, 'outlive': 3088, 'picked': 3089, 'muscle': 3090, 'jest': 3091, 'inchworm': 3092, 'victory': 3093, 'shouldn': 3094, 'sometimes': 3095, 'plate': 3096, 'notebook': 3097, 'apology': 3098, 'passenger': 3099, 'discredited': 3100, 'wreck': 3101, 'aware': 3102, 'awfully': 3103, 'concentrating': 3104, 'flabbergasted': 3105, 'lab': 3106, 'insure': 3107, 'nonstop': 3108, 'deliberate': 3109, 'horrendous': 3110, 'unexpected': 3111, 'flimsy': 3112, 'conspiracy': 3113, 'knock': 3114, 'enjoyable': 3115, 'prediction': 3116, 'mosquitos': 3117, 'aching': 3118, 'shoulder': 3119, 'misses': 3120, 'none': 3121, 'toy': 3122, 'beginner': 3123, 'attractive': 3124, 'unsociable': 3125, 'bitterly': 3126, 'fashionable': 3127, 'hyperactive': 3128, 'flower': 3129, 'somehow': 3130, 'badgering': 3131, 'exaggerating': 3132, 'following': 3133, 'interrupting': 3134, 'wood': 3135, 'rings': 3136, 'classified': 3137, 'disturbing': 3138, 'opinion': 3139, 'bland': 3140, 'lovers': 3141, 'shop': 3142, 'thick': 3143, 'system': 3144, 'damage': 3145, 'hunted': 3146, 'tortured': 3147, 'identical': 3148, 'appalling': 3149, 'offensive': 3150, 'permanent': 3151, 'sickening': 3152, 'fishy': 3153, 'praying': 3154, 'claims': 3155, 'deserves': 3156, 'imitated': 3157, 'despondent': 3158, 'protective': 3159, 'crawling': 3160, 'peeked': 3161, 'peered': 3162, 'recognized': 3163, 'patiently': 3164, 'sensed': 3165, 'strangled': 3166, 'hose': 3167, 'beers': 3168, 'visit': 3169, 'flaws': 3170, 'p': 3171, 'due': 3172, 'handling': 3173, 'killers': 3174, 'pessimistic': 3175, 'pulling': 3176, 'revelation': 3177, 'happiness': 3178, 'major': 3179, 'stitches': 3180, 'murderer': 3181, 'hurting': 3182, 'mocking': 3183, 'fascinate': 3184, 'flute': 3185, 'advised': 3186, 'subject': 3187, 'pockets': 3188, 'tells': 3189, 'blog': 3190, 'stones': 3191, 'weekend': 3192, 'applauded': 3193, 'blanks': 3194, 'desire': 3195, 'traffic': 3196, 'hospital': 3197, 'breathed': 3198, 'cartwheel': 3199, 'gripped': 3200, 'classmate': 3201, 'colleague': 3202, 'memory': 3203, 'chinese': 3204, 'filthy': 3205, 'aristocrat': 3206, 'print': 3207, 'completely': 3208, 'sin': 3209, 'chilly': 3210, 'loads': 3211, 'roommate': 3212, 'carpet': 3213, 'spare': 3214, 'explosions': 3215, 'emailed': 3216, 'mission': 3217, 'mathematics': 3218, 'poverty': 3219, 'pot': 3220, 'roast': 3221, 'blamed': 3222, 'oiled': 3223, 'report': 3224, 'repeated': 3225, 'sliced': 3226, 'suggest': 3227, 'disqualified': 3228, 'consulted': 3229, 'learner': 3230, 'beginning': 3231, 'laying': 3232, 'supporting': 3233, 'supposed': 3234, 'board': 3235, 'compliment': 3236, 'boggles': 3237, 'astonishing': 3238, 'mesmerizing': 3239, 'concern': 3240, 'coincidence': 3241, 'recipe': 3242, 'fridge': 3243, 'knowledge': 3244, 'rephrase': 3245, 'moons': 3246, 'goals': 3247, 'lofty': 3248, 'suitcase': 3249, 'cucumbers': 3250, 'bandage': 3251, 'schools': 3252, 'manners': 3253, 'charity': 3254, 'slip': 3255, 'correcting': 3256, 'tickles': 3257, 'sip': 3258, 'unimportant': 3259, 'attempt': 3260, 'buzzer': 3261, 'melting': 3262, 'frozen': 3263, 'rallied': 3264, 'path': 3265, 'wandered': 3266, 'wrestlers': 3267, 'th': 3268, 'families': 3269, 'hostages': 3270, 'tents': 3271, 'peaceful': 3272, 'disposable': 3273, 'foreigners': 3274, 'bigger': 3275, 'follows': 3276, 'chosen': 3277, 'launders': 3278, 'blankly': 3279, 'persistent': 3280, 'tuck': 3281, 'chartered': 3282, 'wheat': 3283, 'deadline': 3284, 'sacrifices': 3285, 'passengers': 3286, 'judged': 3287, 'infected': 3288, 'stock': 3289, 'unprejudiced': 3290, 'spotted': 3291, 'fled': 3292, 'pair': 3293, 'cheer': 3294, 'cuff': 3295, 'cursed': 3296, 'frowned': 3297, 'gloated': 3298, 'grunted': 3299, 'prepaid': 3300, 'shouted': 3301, 'needy': 3302, 'poured': 3303, 'dived': 3304, 'knits': 3305, 'limps': 3306, 'rocks': 3307, 'r': 3308, 'shivered': 3309, 'flabby': 3310, 'begun': 3311, 'bulky': 3312, 'taboo': 3313, 'lasts': 3314, 'shadow': 3315, 'cheats': 3316, 'cusses': 3317, 'farted': 3318, 'sobbed': 3319, 'yawned': 3320, 'blink': 3321, 'nasty': 3322, 'faking': 3323, 'taller': 3324, 'assume': 3325, 'tapes': 3326, 'glue': 3327, 'curt': 3328, 'gambles': 3329, 'gargled': 3330, 'meek': 3331, 'vain': 3332, 'reacted': 3333, 'sneered': 3334, 'sniffed': 3335, 'snorted': 3336, 'hell': 3337, 'dump': 3338, 'heel': 3339, 'drew': 3340, 'abandon': 3341, 'backup': 3342, 'litter': 3343, 'warmly': 3344, 'spoon': 3345, 'mocked': 3346, 'caviar': 3347, 'carded': 3348, 'ax': 3349, 'hives': 3350, 'improvised': 3351, 'rugby': 3352, 'suppose': 3353, 'sympathize': 3354, 'canned': 3355, 'framed': 3356, 'weighed': 3357, 'priest': 3358, 'purist': 3359, 'agent': 3360, 'famished': 3361, 'hungover': 3362, 'rebel': 3363, 'worn': 3364, 'solid': 3365, 'elk': 3366, 'noisy': 3367, 'heal': 3368, 'plant': 3369, 'setup': 3370, 'hearsay': 3371, 'suicide': 3372, 'bounce': 3373, 'mull': 3374, 'hip': 3375, 'cared': 3376, 'filming': 3377, 'gawking': 3378, 'whiff': 3379, 'rare': 3380, 'spam': 3381, 'approves': 3382, 'insisted': 3383, 'pudgy': 3384, 'sniffled': 3385, 'stutters': 3386, 'arabs': 3387, 'starve': 3388, 'ufo': 3389, 'amuse': 3390, 'gross': 3391, 'drown': 3392, 'mock': 3393, 'sass': 3394, 'healthily': 3395, 'bloom': 3396, 'riddance': 3397, 'advises': 3398, 'dug': 3399, 'british': 3400, 'grouch': 3401, 'jesuit': 3402, 'tycoon': 3403, 'acquired': 3404, 'added': 3405, 'classes': 3406, 'poker': 3407, 'exaggerated': 3408, 'drowsy': 3409, 'unwell': 3410, 'forbid': 3411, 'bonus': 3412, 'fleeced': 3413, 'crowds': 3414, 'flying': 3415, 'sirens': 3416, 'clocks': 3417, 'prunes': 3418, 'yacht': 3419, 'squash': 3420, 'resent': 3421, 'queen': 3422, 'firefox': 3423, 'pony': 3424, 'nights': 3425, 'trainee': 3426, 'parole': 3427, 'resentful': 3428, 'damaged': 3429, 'sickens': 3430, 'bomb': 3431, 'hoax': 3432, 'parody': 3433, 'sequel': 3434, 'indecent': 3435, 'instinct': 3436, 'midnight': 3437, 'obsolete': 3438, 'paddling': 3439, 'mortal': 3440, 'motion': 3441, 'aches': 3442, 'lungs': 3443, 'cage': 3444, 'obeys': 3445, 'livid': 3446, 'cutie': 3447, 'ease': 3448, 'frowning': 3449, 'scowling': 3450, 'heap': 3451, 'rad': 3452, 'mooed': 3453, 'embraced': 3454, 'pun': 3455, 'basic': 3456, 'exercises': 3457, 'graduated': 3458, 'goats': 3459, 'sexist': 3460, 'somber': 3461, 'stable': 3462, 'overdosed': 3463, 'shuddered': 3464, 'stiffened': 3465, 'tensed': 3466, 'testified': 3467, 'assumed': 3468, 'trees': 3469, 'tools': 3470, 'opposed': 3471, 'candy': 3472, 'rebuild': 3473, 'anxious': 3474, 'winners': 3475, 'matured': 3476, 'fiasco': 3477, 'hassle': 3478, 'disagrees': 3479, 'absent': 3480, 'coke': 3481, 'intruding': 3482, 'boats': 3483, 'sink': 3484, 'shovel': 3485, 'contact': 3486, 'tigers': 3487, 'purr': 3488, 'farts': 3489, 'gasps': 3490, 'lines': 3491, 'birthday': 3492, 'holidays': 3493, 'tan': 3494, 'gazed': 3495, 'writer': 3496, 'bankrupt': 3497, 'jelly': 3498, 'hungarian': 3499, 'con': 3500, 'outlaw': 3501, 'henpecked': 3502, 'ached': 3503, 'perceptive': 3504, 'nail': 3505, 'draft': 3506, 'seasick': 3507, 'snubbed': 3508, 'guarantee': 3509, 'mishap': 3510, 'hailed': 3511, 'mondays': 3512, 'insects': 3513, 'ironing': 3514, 'karaoke': 3515, 'zealots': 3516, 'amnesia': 3517, 'thud': 3518, 'almonds': 3519, 'castles': 3520, 'oysters': 3521, 'sashimi': 3522, 'seafood': 3523, 'upstate': 3524, 'lasagna': 3525, 'sunsets': 3526, 'muffins': 3527, 'decline': 3528, 'insulin': 3529, 'asap': 3530, 'surgery': 3531, 'predicted': 3532, 'cattle': 3533, 'serve': 3534, 'sneeze': 3535, 'urge': 3536, 'memo': 3537, 'scold': 3538, 'merchant': 3539, 'minister': 3540, 'salesman': 3541, 'thumbs': 3542, 'farsighted': 3543, 'remodeling': 3544, 'killer': 3545, 'credible': 3546, 'common': 3547, 'fluke': 3548, 'magical': 3549, 'classic': 3550, 'firefly': 3551, 'ambush': 3552, 'dishonest': 3553, 'forbidden': 3554, 'inspiring': 3555, 'vibrating': 3556, 'worthless': 3557, 'lend': 3558, 'clues': 3559, 'mum': 3560, 'joints': 3561, 'itches': 3562, 'tummy': 3563, 'ow': 3564, 'ditched': 3565, 'brains': 3566, 'prudish': 3567, 'swims': 3568, 'types': 3569, 'hottie': 3570, 'looker': 3571, 'poking': 3572, 'resisting': 3573, 'sir': 3574, 'plastic': 3575, 'honked': 3576, 'quarreled': 3577, 'babies': 3578, 'unsafe': 3579, 'hectic': 3580, 'draws': 3581, 'issues': 3582, 'scurvy': 3583, 'talent': 3584, 'felon': 3585, 'giant': 3586, 'lefty': 3587, 'mason': 3588, 'pilot': 3589, 'cynical': 3590, 'devoted': 3591, 'pompous': 3592, 'radical': 3593, 'shaving': 3594, 'spoiled': 3595, 'unkempt': 3596, 'tofu': 3597, 'maps': 3598, 'stranded': 3599, 'unstable': 3600, 'sauce': 3601, 'rear': 3602, 'landed': 3603, 'couple': 3604, 'butchers': 3605, 'letdown': 3606, 'atm': 3607, 'reinstated': 3608, 'suggestions': 3609, 'purple': 3610, 'balls': 3611, 'bears': 3612, 'anytime': 3613, 'clip': 3614, 'crows': 3615, 'rap': 3616, 'freak': 3617, 'danced': 3618, 'fasten': 3619, 'fetch': 3620, 'whirl': 3621, 'onto': 3622, 'daddy': 3623, 'toyota': 3624, 'racket': 3625, 'intrigues': 3626, 'ethiopian': 3627, 'sweets': 3628, 'puts': 3629, 'airs': 3630, 'whisky': 3631, 'shouts': 3632, 'swindled': 3633, 'comedian': 3634, 'frat': 3635, 'gardener': 3636, 'newcomer': 3637, 'hoist': 3638, 'sails': 3639, 'hypnotism': 3640, 'egypt': 3641, 'spain': 3642, 'booked': 3643, 'carp': 3644, 'dealt': 3645, 'funerals': 3646, 'raccoons': 3647, 'reptiles': 3648, 'heat': 3649, 'rug': 3650, 'alibi': 3651, 'dandruff': 3652, 'diabetes': 3653, 'immunity': 3654, 'thump': 3655, 'rains': 3656, 'imagined': 3657, 'lent': 3658, 'cartoons': 3659, 'westerns': 3660, 'interest': 3661, 'barbecue': 3662, 'comedies': 3663, 'eggplant': 3664, 'brownies': 3665, 'internet': 3666, 'caffeine': 3667, 'guidance': 3668, 'tape': 3669, 'shave': 3670, 'bills': 3671, 'orchids': 3672, 'respected': 3673, 'pattern': 3674, 'coma': 3675, 'patrol': 3676, 'petrified': 3677, 'cameraman': 3678, 'chauffeur': 3679, 'housewife': 3680, 'lifeguard': 3681, 'masochist': 3682, 'owl': 3683, 'stutterer': 3684, 'frying': 3685, 'nearsighted': 3686, 'deck': 3687, 'replaceable': 3688, 'captain': 3689, 'hazardous': 3690, 'poisonous': 3691, 'zebra': 3692, 'ethical': 3693, 'poorly': 3694, 'option': 3695, 'burnt': 3696, 'ages': 3697, 'enticing': 3698, 'mushroom': 3699, 'travesty': 3700, 'artificial': 3701, 'dirt': 3702, 'loan': 3703, 'secure': 3704, 'tax': 3705, 'narrow': 3706, 'scarce': 3707, 'knead': 3708, 'dough': 3709, 'koalas': 3710, 'celebrate': 3711, 'kites': 3712, 'shrank': 3713, 'natto': 3714, 'october': 3715, 'wonders': 3716, 'planning': 3717, 'rake': 3718, 'saddle': 3719, 'sharks': 3720, 'brazilian': 3721, 'silk': 3722, 'spanish': 3723, 'squabbling': 3724, 'whimpering': 3725, 'pagoda': 3726, 'cast': 3727, 'growled': 3728, 'stank': 3729, 'tub': 3730, 'howled': 3731, 'actors': 3732, 'melons': 3733, 'interns': 3734, 'farce': 3735, 'private': 3736, 'pleases': 3737, 'burps': 3738, 'dances': 3739, 'exaggerates': 3740, 'ipad': 3741, 'client': 3742, 'jockey': 3743, 'player': 3744, 'welder': 3745, 'adapting': 3746, 'anorexic': 3747, 'athletic': 3748, 'cautious': 3749, 'childish': 3750, 'depraved': 3751, 'drenched': 3752, 'eloquent': 3753, 'immobile': 3754, 'insolent': 3755, 'likeable': 3756, 'reckless': 3757, 'sneezing': 3758, 'studious': 3759, 'tireless': 3760, 'tolerant': 3761, 'learns': 3762, 'dazed': 3763, 'falls': 3764, 'moose': 3765, 'photos': 3766, 'evasive': 3767, 'moaning': 3768, 'paralyzed': 3769, 'earned': 3770, 'yawn': 3771, 'walls': 3772, 'declared': 3773, 'raw': 3774, 'ponchos': 3775, 'waffles': 3776, 'experts': 3777, 'shared': 3778, 'farmers': 3779, 'camp': 3780, 'attorneys': 3781, 'comedians': 3782, 'fixing': 3783, 'gardeners': 3784, 'gentlemen': 3785, 'incorrect': 3786, 'past': 3787, 'relatives': 3788, 'soulmates': 3789, 'blessing': 3790, 'prospect': 3791, 'weakling': 3792, 'stake': 3793, 'gpa': 3794, 'jello': 3795, 'unsure': 3796, 'mustn': 3797, 'rut': 3798, 'atlantis': 3799, 'snakes': 3800, 'climb': 3801, 'consult': 3802, 'pasta': 3803, 'disturb': 3804, 'exaggerate': 3805, 'groans': 3806, 'gossips': 3807, 'floating': 3808, 'purpose': 3809, 'useful': 3810, 'hobo': 3811, 'noon': 3812, 'speech': 3813, 'joker': 3814, 'acrobat': 3815, 'shares': 3816, 'soundly': 3817, 'tenacious': 3818, 'winked': 3819, 'lover': 3820, 'historian': 3821, 'nonsmoker': 3822, 'sophomore': 3823, 'hone': 3824, 'skills': 3825, 'melodramatic': 3826, 'norway': 3827, 'witch': 3828, 'weekly': 3829, 'appreciated': 3830, 'bumped': 3831, 'reach': 3832, 'deliver': 3833, 'pizzas': 3834, 'disregarded': 3835, 'drugs': 3836, 'dilemma': 3837, 'refreshed': 3838, 'drift': 3839, 'goosebumps': 3840, 'texts': 3841, 'reasons': 3842, 'fireworks': 3843, 'diploma': 3844, 'grenade': 3845, 'request': 3846, 'heartburn': 3847, 'insurance': 3848, 'pneumonia': 3849, 'wavy': 3850, 'journal': 3851, 'astrology': 3852, 'elephants': 3853, 'novel': 3854, 'mushrooms': 3855, 'uncles': 3856, 'mysteries': 3857, 'pop': 3858, 'papers': 3859, 'temper': 3860, 'australia': 3861, 'astronomy': 3862, 'libraries': 3863, 'fortune': 3864, 'spaghetti': 3865, 'envelopes': 3866, 'soap': 3867, 'subtitles': 3868, 'planted': 3869, 'regret': 3870, 'require': 3871, 'rubbed': 3872, 'umbrellas': 3873, 'lease': 3874, 'strongly': 3875, 'divorce': 3876, 'martini': 3877, 'pal': 3878, 'raccoon': 3879, 'scooter': 3880, 'dumbstruck': 3881, 'raffle': 3882, 'bookkeeper': 3883, 'programmer': 3884, 'shutterbug': 3885, 'ambidextrous': 3886, 'freaking': 3887, 'fbi': 3888, 'attic': 3889, 'inviting': 3890, 'beggar': 3891, 'paranoid': 3892, 'row': 3893, 'youngest': 3894, 'drawn': 3895, 'conscious': 3896, 'accessible': 3897, 'euros': 3898, 'perks': 3899, 'excessive': 3900, 'april': 3901, 'snowstorm': 3902, 'sunflower': 3903, 'balmy': 3904, 'conceivable': 3905, 'cooler': 3906, 'fetched': 3907, 'regrettable': 3908, 'transparent': 3909, 'unnecessary': 3910, 'asia': 3911, 'camping': 3912, 'darts': 3913, 'fleas': 3914, 'inbox': 3915, 'sunburn': 3916, 'beats': 3917, 'stung': 3918, 'oil': 3919, 'pets': 3920, 'pump': 3921, 'sock': 3922, 'ending': 3923, 'rome': 3924, 'idolized': 3925, 'scene': 3926, 'repulses': 3927, 'bench': 3928, 'pitied': 3929, 'apologizing': 3930, 'taunting': 3931, 'touching': 3932, 'precautions': 3933, 'kindly': 3934, 'explains': 3935, 'avoidable': 3936, 'blackmail': 3937, 'idle': 3938, 'affair': 3939, 'issue': 3940, 'troubling': 3941, 'creaked': 3942, 'bucked': 3943, 'jury': 3944, 'mass': 3945, 'noes': 3946, 'limits': 3947, 'singers': 3948, 'amateurs': 3949, 'traitors': 3950, 'insanity': 3951, 'official': 3952, 'puzzling': 3953, 'relaxing': 3954, 'sabotage': 3955, 'shameful': 3956, 'norm': 3957, 'precious': 3958, 'admires': 3959, 'avoided': 3960, 'raft': 3961, 'coughs': 3962, 'fried': 3963, 'charisma': 3964, 'onions': 3965, 'drummer': 3966, 'gourmet': 3967, 'gymnast': 3968, 'hipster': 3969, 'pianist': 3970, 'realtor': 3971, 'trucker': 3972, 'intern': 3973, 'competent': 3974, 'deceitful': 3975, 'emotional': 3976, 'improving': 3977, 'inventive': 3978, 'legendary': 3979, 'oblivious': 3980, 'campus': 3981, 'overjoyed': 3982, 'perplexed': 3983, 'regretful': 3984, 'reluctant': 3985, 'shameless': 3986, 'suspended': 3987, 'owner': 3988, 'ponies': 3989, 'steals': 3990, 'suggested': 3991, 'swears': 3992, 'abducted': 3993, 'babbling': 3994, 'cremated': 3995, 'ecstatic': 3996, 'executed': 3997, 'selected': 3998, 'unshaven': 3999, 'berserk': 4000, 'bonkers': 4001, 'headstrong': 4002, 'robbery': 4003, 'swordfish': 4004, 'crisis': 4005, 'theory': 4006, 'injuries': 4007, 'evacuate': 4008, 'withdraw': 4009, 'supplies': 4010, 'downsizing': 4011, 'historians': 4012, 'lifeguards': 4013, 'mates': 4014, 'fails': 4015, 'razor': 4016, 'uses': 4017, 'hamlet': 4018, 'wool': 4019, 'dyes': 4020, 'quote': 4021, 'distant': 4022, 'failure': 4023, 'lunatic': 4024, 'practical': 4025, 'leaf': 4026, 'arrest': 4027, 'nests': 4028, 'champagne': 4029, 'chuck': 4030, 'click': 4031, 'compare': 4032, 'imminent': 4033, 'ants': 4034, 'lager': 4035, 'latin': 4036, 'wanna': 4037, 'ignorant': 4038, 'petty': 4039, 'pushy': 4040, 'fry': 4041, 'rung': 4042, 'blackmailed': 4043, 'carried': 4044, 'chewed': 4045, 'gum': 4046, 'deals': 4047, 'grain': 4048, 'roughly': 4049, 'vase': 4050, 'earns': 4051, 'fills': 4052, 'hanged': 4053, 'ego': 4054, 'daredevil': 4055, 'osaka': 4056, 'miles': 4057, 'wakes': 4058, 'raging': 4059, 'scripts': 4060, 'buff': 4061, 'timer': 4062, 'undergrad': 4063, 'georgia': 4064, 'trusting': 4065, 'heed': 4066, 'warnings': 4067, 'darkened': 4068, 'hamburger': 4069, 'sandwich': 4070, 'baited': 4071, 'hook': 4072, 'bid': 4073, 'cactus': 4074, 'webcam': 4075, 'shelter': 4076, 'upfront': 4077, 'chopin': 4078, 'register': 4079, 'vulnerable': 4080, 'grades': 4081, 'bee': 4082, 'sting': 4083, 'ground': 4084, 'breakdown': 4085, 'hypocrites': 4086, 'interviews': 4087, 'desert': 4088, 'backache': 4089, 'migraine': 4090, 'sailboat': 4091, 'earache': 4092, 'discs': 4093, 'savings': 4094, 'sleeve': 4095, 'jackpot': 4096, 'intend': 4097, 'navy': 4098, 'bitten': 4099, 'practicing': 4100, 'confidence': 4101, 'adventures': 4102, 'challenges': 4103, 'folk': 4104, 'sauerkraut': 4105, 'spicy': 4106, 'odds': 4107, 'watermelon': 4108, 'hotel': 4109, 'dam': 4110, 'earring': 4111, 'balance': 4112, 'hamburgers': 4113, 'performing': 4114, 'album': 4115, 'minutes': 4116, 'keyboard': 4117, 'protection': 4118, 'toothpaste': 4119, 'oversleep': 4120, 'abroad': 4121, 'hood': 4122, 'paused': 4123, 'tambourine': 4124, 'volleyball': 4125, 'pruned': 4126, 'jaw': 4127, 'pushed': 4128, 'recommended': 4129, 'airplane': 4130, 'sunrise': 4131, 'known': 4132, 'swallowed': 4133, 'bug': 4134, 'swept': 4135, 'geography': 4136, 'otherwise': 4137, 'highway': 4138, 'plates': 4139, 'confess': 4140, 'workout': 4141, 'sympathy': 4142, 'mugged': 4143, 'misinformed': 4144, 'outnumbered': 4145, 'trespassing': 4146, 'flirting': 4147, 'harvard': 4148, 'shotgun': 4149, 'sagittarius': 4150, 'trainer': 4151, 'worker': 4152, 'salesperson': 4153, 'accountant': 4154, 'astronomer': 4155, 'boiling': 4156, 'bringing': 4157, 'extremely': 4158, 'irreplaceable': 4159, 'materialistic': 4160, 'strongest': 4161, 'uncomfortable': 4162, 'evicted': 4163, 'diarrhea': 4164, 'pride': 4165, 'rumors': 4166, 'smoked': 4167, 'notarized': 4168, 'warranted': 4169, 'curfew': 4170, 'remedy': 4171, 'reward': 4172, 'stunning': 4173, 'pieces': 4174, 'ways': 4175, 'cooled': 4176, 'optional': 4177, 'massacre': 4178, 'convenient': 4179, 'disastrous': 4180, 'wobbly': 4181, 'club': 4182, 'dictionary': 4183, 'confidential': 4184, 'questionable': 4185, 'imprecise': 4186, 'starting': 4187, 'unauthorized': 4188, 'onerous': 4189, 'chin': 4190, 'straws': 4191, 'investigate': 4192, 'peek': 4193, 'conquers': 4194, 'transient': 4195, 'vivacious': 4196, 'opposites': 4197, 'attract': 4198, 'production': 4199, 'thorns': 4200, 'appeals': 4201, 'figure': 4202, 'turner': 4203, 'golden': 4204, 'lullaby': 4205, 'sloths': 4206, 'scale': 4207, 'termites': 4208, 'essential': 4209, 'fir': 4210, 'exactly': 4211, 'defense': 4212, 'undeniable': 4213, 'handy': 4214, 'crowd': 4215, 'donkey': 4216, 'brayed': 4217, 'squeaked': 4218, 'rotates': 4219, 'jammed': 4220, 'dull': 4221, 'lemon': 4222, 'motor': 4223, 'meager': 4224, 'tactic': 4225, 'verdict': 4226, 'gods': 4227, 'cannibals': 4228, 'murderers': 4229, 'bucket': 4230, 'coconut': 4231, 'extortion': 4232, 'gibberish': 4233, 'insulting': 4234, 'irregular': 4235, 'justified': 4236, 'pointless': 4237, 'priceless': 4238, 'skim': 4239, 'tasteless': 4240, 'temporary': 4241, 'worrisome': 4242, 'silver': 4243, 'thursday': 4244, 'arrives': 4245, 'behaved': 4246, 'despised': 4247, 'appear': 4248, 'flinch': 4249, 'expects': 4250, 'iq': 4251, 'iphone': 4252, 'arthritis': 4253, 'skin': 4254, 'frostbite': 4255, 'seniority': 4256, 'hasn': 4257, 'juan': 4258, 'bookworm': 4259, 'jeweller': 4260, 'pushover': 4261, 'teenager': 4262, 'werewolf': 4263, 'believable': 4264, 'determined': 4265, 'custody': 4266, 'therapy': 4267, 'indecisive': 4268, 'insightful': 4269, 'intolerant': 4270, 'passionate': 4271, 'perspiring': 4272, 'possessive': 4273, 'stuttering': 4274, 'unfaithful': 4275, 'minor': 4276, 'trained': 4277, 'mumbles': 4278, 'outlived': 4279, 'poisoned': 4280, 'served': 4281, 'sneezes': 4282, 'bait': 4283, 'vomited': 4284, 'updates': 4285, 'fanatic': 4286, 'fireman': 4287, 'negligent': 4288, 'imaginative': 4289, 'acrylic': 4290, 'longer': 4291, 'liquid': 4292, 'vaccine': 4293, 'warrant': 4294, 'suppliers': 4295, 'witnesses': 4296, 'parks': 4297, 'canoe': 4298, 'battle': 4299, 'mothers': 4300, 'journalists': 4301, 'collection': 4302, 'tacky': 4303, 'delay': 4304, 'achieved': 4305, 'asking': 4306, 'target': 4307, 'arrive': 4308, 'melon': 4309, 'confucius': 4310, 'drama': 4311, 'c': 4312, 'woods': 4313, 'wriggle': 4314, 'actresses': 4315, 'error': 4316, 'bugging': 4317, 'particular': 4318, 'scaring': 4319, 'telling': 4320, 'unfriendly': 4321, 'scratched': 4322, 'comma': 4323, 'revolt': 4324, 'storm': 4325, 'brewing': 4326, 'admission': 4327, 'demanding': 4328, 'buddhist': 4329, 'believer': 4330, 'attendance': 4331, 'contains': 4332, 'hops': 4333, 'chirping': 4334, 'pillow': 4335, 'rackets': 4336, 'menu': 4337, 'caption': 4338, 'divide': 4339, 'conquer': 4340, 'mozart': 4341, 'copycat': 4342, 'patronize': 4343, 'relaxes': 4344, 'dust': 4345, 'shelf': 4346, 'endorse': 4347, 'dollar': 4348, 'portion': 4349, 'breakable': 4350, 'broom': 4351, 'remote': 4352, 'wrench': 4353, 'thanksgiving': 4354, 'od': 4355, 'foolishly': 4356, 'mile': 4357, 'cycling': 4358, 'footsteps': 4359, 'daydreamer': 4360, 'fishmonger': 4361, 'heartless': 4362, 'lacks': 4363, 'judgement': 4364, 'retaliate': 4365, 'rolled': 4366, 'thrust': 4367, 'weighs': 4368, 'kilos': 4369, 'lottery': 4370, 'walker': 4371, 'critic': 4372, 'ghostwriter': 4373, 'keeper': 4374, 'meth': 4375, 'englishman': 4376, 'overconfident': 4377, 'fifty': 4378, 'scapegoat': 4379, 'torn': 4380, 'sooty': 4381, 'baggage': 4382, 'eludes': 4383, 'pace': 4384, 'quickened': 4385, 'untidy': 4386, 'refill': 4387, 'economy': 4388, 'museum': 4389, 'cope': 4390, 'absolutely': 4391, 'advise': 4392, 'customers': 4393, 'fond': 4394, 'portugal': 4395, 'shizuoka': 4396, 'prophet': 4397, 'fries': 4398, 'potato': 4399, 'chips': 4400, 'peanuts': 4401, 'clutch': 4402, 'exclude': 4403, 'imagine': 4404, 'clicked': 4405, 'detest': 4406, 'vodka': 4407, 'miserably': 4408, 'tests': 4409, 'fractured': 4410, 'bureaucracy': 4411, 'goat': 4412, 'complaint': 4413, 'nosebleed': 4414, 'telescope': 4415, 'blonde': 4416, 'frizzy': 4417, 'appetite': 4418, 'patience': 4419, 'siblings': 4420, 'invoice': 4421, 'rehearse': 4422, 'cameras': 4423, 'nephews': 4424, 'tickets': 4425, 'hid': 4426, 'pans': 4427, 'jog': 4428, 'redecorated': 4429, 'imagination': 4430, 'irish': 4431, 'places': 4432, 'disco': 4433, 'photography': 4434, 'raspberries': 4435, 'translating': 4436, 'windsurfing': 4437, 'bearded': 4438, 'butterflies': 4439, 'fairy': 4440, 'tales': 4441, 'promises': 4442, 'photocopies': 4443, 'mopped': 4444, 'pad': 4445, 'secretary': 4446, 'envelope': 4447, 'lotion': 4448, 'inspiration': 4449, 'nutmeg': 4450, 'doubted': 4451, 'trumpet': 4452, 'couch': 4453, 'explosion': 4454, 'slammed': 4455, 'nine': 4456, 'hours': 4457, 'cigarettes': 4458, 'psychology': 4459, 'ankle': 4460, 'unloaded': 4461, 'unplugged': 4462, 'fooling': 4463, 'paraphrasing': 4464, 'stiff': 4465, 'television': 4466, 'nagasaki': 4467, 'election': 4468, 'introduce': 4469, 'fianc': 4470, 'e': 4471, 'rusty': 4472, 'photographer': 4473, 'bats': 4474, 'harassed': 4475, 'claustrophobic': 4476, 'singapore': 4477, 'gaining': 4478, 'poorer': 4479, 'mood': 4480, 'health': 4481, 'bathtub': 4482, 'deadbeat': 4483, 'gangster': 4484, 'magician': 4485, 'pacifist': 4486, 'delusional': 4487, 'denying': 4488, 'invincible': 4489, 'slave': 4490, 'balcony': 4491, 'selling': 4492, 'somewhat': 4493, 'terribly': 4494, 'unenthusiastic': 4495, 'laid': 4496, 'gained': 4497, 'bliss': 4498, 'christian': 4499, 'satisfactory': 4500, 'chained': 4501, 'milkman': 4502, 'breaks': 4503, 'improved': 4504, 'deadly': 4505, 'parallel': 4506, 'frustrating': 4507, 'preventable': 4508, 'relevant': 4509, 'extreme': 4510, 'distraction': 4511, 'possibility': 4512, 'proven': 4513, 'effort': 4514, 'typo': 4515, 'seven': 4516, 'experiment': 4517, 'investment': 4518, 'booby': 4519, 'bound': 4520, 'disappointing': 4521, 'disconcerting': 4522, 'heartbreaking': 4523, 'brass': 4524, 'merely': 4525, 'disease': 4526, 'pertinent': 4527, 'unforgettable': 4528, 'greece': 4529, 'anywhere': 4530, 'profile': 4531, 'lesson': 4532, 'trade': 4533, 'squabble': 4534, 'luckily': 4535, 'monopolies': 4536, 'universal': 4537, 'budget': 4538, 'meows': 4539, 'fuel': 4540, 'hunch': 4541, 'mailbox': 4542, 'immortal': 4543, 'forever': 4544, 'restored': 4545, 'owls': 4546, 'breed': 4547, 'strength': 4548, 'postcard': 4549, 'aid': 4550, 'pigeon': 4551, 'toed': 4552, 'ghostly': 4553, 'lonesome': 4554, 'antiques': 4555, 'happily': 4556, 'teaser': 4557, 'supermodel': 4558, 'losers': 4559, 'phoning': 4560, 'warning': 4561, 'destroyed': 4562, 'intent': 4563, 'promising': 4564, 'sloppy': 4565, 'biggest': 4566, 'maximum': 4567, 'area': 4568, 'packed': 4569, 'stale': 4570, 'case': 4571, 'coast': 4572, 'concert': 4573, 'crow': 4574, 'doorknob': 4575, 'flame': 4576, 'fog': 4577, 'caved': 4578, 'waxing': 4579, 'drying': 4580, 'backfired': 4581, 'server': 4582, 'shops': 4583, 'brightened': 4584, 'cleared': 4585, 'stars': 4586, 'telephone': 4587, 'squealed': 4588, 'waves': 4589, 'urgency': 4590, 'christians': 4591, 'carnations': 4592, 'fits': 4593, 'shaggy': 4594, 'painting': 4595, 'triangle': 4596, 'apricot': 4597, 'octagon': 4598, 'astounding': 4599, 'project': 4600, 'outlandish': 4601, 'outrageous': 4602, 'plagiarism': 4603, 'surprising': 4604, 'unbearable': 4605, 'rag': 4606, 'tighten': 4607, 'sniff': 4608, 'contacted': 4609, 'instantly': 4610, 'lemonade': 4611, 'enjoys': 4612, 'unwanted': 4613, 'headaches': 4614, 'mustache': 4615, 'ponytail': 4616, 'narcolepsy': 4617, 'john': 4618, 'candidate': 4619, 'librarian': 4620, 'machinist': 4621, 'activist': 4622, 'imposter': 4623, 'fart': 4624, 'bars': 4625, 'competitive': 4626, 'independent': 4627, 'inefficient': 4628, 'insensitive': 4629, 'intoxicated': 4630, 'stark': 4631, 'supervising': 4632, 'parent': 4633, 'names': 4634, 'partying': 4635, 'potatoes': 4636, 'pays': 4637, 'drum': 4638, 'refuses': 4639, 'remains': 4640, 'pacing': 4641, 'traveled': 4642, 'crusader': 4643, 'distraught': 4644, 'distressed': 4645, 'hysterical': 4646, 'irrational': 4647, 'subpoenaed': 4648, 'unbeatable': 4649, 'payday': 4650, 'affects': 4651, 'argued': 4652, 'chatted': 4653, 'contract': 4654, 'lots': 4655, 'strategy': 4656, 'assistance': 4657, 'sacrifice': 4658, 'frequently': 4659, 'convince': 4660, 'writers': 4661, 'contributing': 4662, 'eaters': 4663, 'halfway': 4664, 'honeymooning': 4665, 'agreement': 4666, 'saving': 4667, 'slowing': 4668, 'pumpkin': 4669, 'experience': 4670}\n"
     ]
    }
   ],
   "source": [
    "print(eng_tokenizer.word_index)"
   ]
  },
  {
   "cell_type": "code",
   "execution_count": 11,
   "id": "a3b16658",
   "metadata": {},
   "outputs": [
    {
     "data": {
      "text/plain": [
       "[[29, 1], [29, 1], [29, 1]]"
      ]
     },
     "execution_count": 11,
     "metadata": {},
     "output_type": "execute_result"
    }
   ],
   "source": [
    "input_text = eng_tokenizer.texts_to_sequences(lines.eng)\n",
    "input_text[:3]"
   ]
  },
  {
   "cell_type": "code",
   "execution_count": 12,
   "id": "bfad047b",
   "metadata": {},
   "outputs": [],
   "source": [
    "fra_tokenizer = Tokenizer()\n",
    "fra_tokenizer.fit_on_texts(lines.fra)\n",
    "target_text = fra_tokenizer.texts_to_sequences(lines.fra)"
   ]
  },
  {
   "cell_type": "code",
   "execution_count": 13,
   "id": "e54e0d2a",
   "metadata": {},
   "outputs": [
    {
     "data": {
      "text/plain": [
       "[[1, 75, 8, 2], [1, 378, 3, 2], [1, 718, 8, 2]]"
      ]
     },
     "execution_count": 13,
     "metadata": {},
     "output_type": "execute_result"
    }
   ],
   "source": [
    "target_text[:3]"
   ]
  },
  {
   "cell_type": "code",
   "execution_count": 14,
   "id": "23677ca7",
   "metadata": {},
   "outputs": [
    {
     "name": "stdout",
     "output_type": "stream",
     "text": [
      "영어 단어장의 크기 : 4671\n",
      "프랑스어 단어장의 크기 : 7460\n"
     ]
    }
   ],
   "source": [
    "eng_vocab_size = len(eng_tokenizer.word_index) + 1\n",
    "fra_vocab_size = len(fra_tokenizer.word_index) + 1\n",
    "print('영어 단어장의 크기 :', eng_vocab_size)\n",
    "print('프랑스어 단어장의 크기 :', fra_vocab_size)"
   ]
  },
  {
   "cell_type": "code",
   "execution_count": 15,
   "id": "1dcc5582",
   "metadata": {},
   "outputs": [
    {
     "name": "stdout",
     "output_type": "stream",
     "text": [
      "영어 시퀀스의 최대 길이 8\n",
      "프랑스어 시퀀스의 최대 길이 17\n"
     ]
    }
   ],
   "source": [
    "max_eng_seq_len = max([len(line) for line in input_text])\n",
    "max_fra_seq_len = max([len(line) for line in target_text])\n",
    "print('영어 시퀀스의 최대 길이', max_eng_seq_len)\n",
    "print('프랑스어 시퀀스의 최대 길이', max_fra_seq_len)"
   ]
  },
  {
   "cell_type": "code",
   "execution_count": 16,
   "id": "4dc4a732",
   "metadata": {},
   "outputs": [
    {
     "name": "stdout",
     "output_type": "stream",
     "text": [
      "전체 샘플의 수 : 33000\n",
      "영어 단어장의 크기 : 4671\n",
      "프랑스어 단어장의 크기 : 7460\n",
      "영어 시퀀스의 최대 길이 8\n",
      "프랑스어 시퀀스의 최대 길이 17\n"
     ]
    }
   ],
   "source": [
    "print('전체 샘플의 수 :',len(lines))\n",
    "print('영어 단어장의 크기 :', eng_vocab_size)\n",
    "print('프랑스어 단어장의 크기 :', fra_vocab_size)\n",
    "print('영어 시퀀스의 최대 길이', max_eng_seq_len)\n",
    "print('프랑스어 시퀀스의 최대 길이', max_fra_seq_len)"
   ]
  },
  {
   "cell_type": "markdown",
   "id": "d02af047",
   "metadata": {},
   "source": [
    "**for teacher forcing**"
   ]
  },
  {
   "cell_type": "code",
   "execution_count": 17,
   "id": "8d999bea",
   "metadata": {},
   "outputs": [],
   "source": [
    "sos_token = '<start>'\n",
    "eos_token = '<end>'\n",
    "\n",
    "encoder_input = input_text\n",
    "# 종료 토큰 제거\n",
    "decoder_input = [[ char for char in line if char != fra_tokenizer.word_index[eos_token] ] for line in target_text] \n",
    "# 시작 토큰 제거\n",
    "decoder_target = [[ char for char in line if char != fra_tokenizer.word_index[sos_token] ] for line in target_text]"
   ]
  },
  {
   "cell_type": "markdown",
   "id": "cddf0c53",
   "metadata": {},
   "source": [
    "**padding**"
   ]
  },
  {
   "cell_type": "code",
   "execution_count": 18,
   "id": "4c268ef4",
   "metadata": {},
   "outputs": [
    {
     "name": "stdout",
     "output_type": "stream",
     "text": [
      "영어 데이터의 크기(shape) : (33000, 8)\n",
      "프랑스어 입력데이터의 크기(shape) : (33000, 17)\n",
      "프랑스어 출력데이터의 크기(shape) : (33000, 17)\n"
     ]
    }
   ],
   "source": [
    "encoder_input = pad_sequences(encoder_input, maxlen = max_eng_seq_len, padding='post')\n",
    "decoder_input = pad_sequences(decoder_input, maxlen = max_fra_seq_len, padding='post')\n",
    "decoder_target = pad_sequences(decoder_target, maxlen = max_fra_seq_len, padding='post')\n",
    "print('영어 데이터의 크기(shape) :',np.shape(encoder_input))\n",
    "print('프랑스어 입력데이터의 크기(shape) :',np.shape(decoder_input))\n",
    "print('프랑스어 출력데이터의 크기(shape) :',np.shape(decoder_target))"
   ]
  },
  {
   "cell_type": "markdown",
   "id": "a325b273",
   "metadata": {},
   "source": [
    "**train validation split**"
   ]
  },
  {
   "cell_type": "code",
   "execution_count": 19,
   "id": "a9057c1c",
   "metadata": {},
   "outputs": [],
   "source": [
    "indices = np.arange(encoder_input.shape[0])\n",
    "np.random.shuffle(indices)\n",
    "\n",
    "encoder_input = encoder_input[indices]\n",
    "decoder_input = decoder_input[indices]\n",
    "decoder_target = decoder_target[indices]"
   ]
  },
  {
   "cell_type": "code",
   "execution_count": 20,
   "id": "5d519dcf",
   "metadata": {},
   "outputs": [
    {
     "name": "stdout",
     "output_type": "stream",
     "text": [
      "(30000, 8)\n",
      "(30000, 17)\n",
      "(30000, 17)\n",
      "(3000, 8)\n",
      "(3000, 17)\n",
      "(3000, 17)\n"
     ]
    }
   ],
   "source": [
    "n_of_val = 3000\n",
    "\n",
    "encoder_input_train = encoder_input[:-n_of_val]\n",
    "decoder_input_train = decoder_input[:-n_of_val]\n",
    "decoder_target_train = decoder_target[:-n_of_val]\n",
    "\n",
    "encoder_input_test = encoder_input[-n_of_val:]\n",
    "decoder_input_test = decoder_input[-n_of_val:]\n",
    "decoder_target_test = decoder_target[-n_of_val:]\n",
    "\n",
    "print(encoder_input_train.shape)\n",
    "print(decoder_input_train.shape)\n",
    "print(decoder_target_train.shape)\n",
    "print(encoder_input_test.shape)\n",
    "print(decoder_input_test.shape)\n",
    "print(decoder_target_test.shape)"
   ]
  },
  {
   "cell_type": "markdown",
   "id": "0909ecb4",
   "metadata": {},
   "source": [
    "**Train encoder**"
   ]
  },
  {
   "cell_type": "code",
   "execution_count": 21,
   "id": "aec85b53",
   "metadata": {},
   "outputs": [],
   "source": [
    "encoder_inputs = Input(shape=(None,))\n",
    "# encoder embedding\n",
    "enc_emb = Embedding(eng_vocab_size, 256, input_length=max_eng_seq_len)(encoder_inputs)\n",
    "enc_masking = Masking(mask_value=0.0)(enc_emb)\n",
    "encoder_lstm = LSTM(units = 256, return_state = True)\n",
    "encoder_outputs, state_h, state_c = encoder_lstm(enc_masking)\n",
    "encoder_states = [state_h, state_c]"
   ]
  },
  {
   "cell_type": "markdown",
   "id": "3c9c3574",
   "metadata": {},
   "source": [
    "**Train decoder**"
   ]
  },
  {
   "cell_type": "code",
   "execution_count": 22,
   "id": "aff625dd",
   "metadata": {},
   "outputs": [],
   "source": [
    "decoder_inputs = Input(shape=(None,))\n",
    "# decoder embedding\n",
    "dec_emb = Embedding(fra_vocab_size, 256)(decoder_inputs)\n",
    "dec_masking = Masking(mask_value=0.0)(dec_emb)\n",
    "decoder_lstm = LSTM(units = 256, return_sequences = True, return_state=True)\n",
    "decoder_outputs, _, _= decoder_lstm(dec_masking, initial_state = encoder_states)\n",
    "\n",
    "decoder_softmax_layer = Dense(fra_vocab_size, activation='softmax')\n",
    "decoder_outputs = decoder_softmax_layer(decoder_outputs)"
   ]
  },
  {
   "cell_type": "code",
   "execution_count": 23,
   "id": "84af88c7",
   "metadata": {},
   "outputs": [
    {
     "name": "stdout",
     "output_type": "stream",
     "text": [
      "Model: \"model\"\n",
      "__________________________________________________________________________________________________\n",
      "Layer (type)                    Output Shape         Param #     Connected to                     \n",
      "==================================================================================================\n",
      "input_1 (InputLayer)            [(None, None)]       0                                            \n",
      "__________________________________________________________________________________________________\n",
      "input_2 (InputLayer)            [(None, None)]       0                                            \n",
      "__________________________________________________________________________________________________\n",
      "embedding (Embedding)           (None, None, 256)    1195776     input_1[0][0]                    \n",
      "__________________________________________________________________________________________________\n",
      "embedding_1 (Embedding)         (None, None, 256)    1909760     input_2[0][0]                    \n",
      "__________________________________________________________________________________________________\n",
      "masking (Masking)               (None, None, 256)    0           embedding[0][0]                  \n",
      "__________________________________________________________________________________________________\n",
      "masking_1 (Masking)             (None, None, 256)    0           embedding_1[0][0]                \n",
      "__________________________________________________________________________________________________\n",
      "lstm (LSTM)                     [(None, 256), (None, 525312      masking[0][0]                    \n",
      "__________________________________________________________________________________________________\n",
      "lstm_1 (LSTM)                   [(None, None, 256),  525312      masking_1[0][0]                  \n",
      "                                                                 lstm[0][1]                       \n",
      "                                                                 lstm[0][2]                       \n",
      "__________________________________________________________________________________________________\n",
      "dense (Dense)                   (None, None, 7460)   1917220     lstm_1[0][0]                     \n",
      "==================================================================================================\n",
      "Total params: 6,073,380\n",
      "Trainable params: 6,073,380\n",
      "Non-trainable params: 0\n",
      "__________________________________________________________________________________________________\n"
     ]
    }
   ],
   "source": [
    "model = Model([encoder_inputs, decoder_inputs], decoder_outputs)\n",
    "model.summary()"
   ]
  },
  {
   "cell_type": "code",
   "execution_count": 24,
   "id": "667d74f0",
   "metadata": {},
   "outputs": [],
   "source": [
    "model.compile(optimizer=\"rmsprop\", loss='sparse_categorical_crossentropy', metrics=['acc'])"
   ]
  },
  {
   "cell_type": "code",
   "execution_count": 25,
   "id": "3cd0b203",
   "metadata": {},
   "outputs": [
    {
     "name": "stdout",
     "output_type": "stream",
     "text": [
      "Epoch 1/50\n",
      "938/938 [==============================] - 27s 19ms/step - loss: 1.4708 - acc: 0.7713 - val_loss: 1.1928 - val_acc: 0.8130\n",
      "Epoch 2/50\n",
      "938/938 [==============================] - 16s 17ms/step - loss: 1.1070 - acc: 0.8243 - val_loss: 1.0362 - val_acc: 0.8350\n",
      "Epoch 3/50\n",
      "938/938 [==============================] - 15s 17ms/step - loss: 0.9790 - acc: 0.8421 - val_loss: 0.9553 - val_acc: 0.8478\n",
      "Epoch 4/50\n",
      "938/938 [==============================] - 15s 17ms/step - loss: 0.8950 - acc: 0.8533 - val_loss: 0.8972 - val_acc: 0.8547\n",
      "Epoch 5/50\n",
      "938/938 [==============================] - 15s 16ms/step - loss: 0.8320 - acc: 0.8624 - val_loss: 0.8633 - val_acc: 0.8595\n",
      "Epoch 6/50\n",
      "938/938 [==============================] - 15s 17ms/step - loss: 0.7830 - acc: 0.8701 - val_loss: 0.8272 - val_acc: 0.8649\n",
      "Epoch 7/50\n",
      "938/938 [==============================] - 16s 17ms/step - loss: 0.7469 - acc: 0.8770 - val_loss: 0.8113 - val_acc: 0.8697\n",
      "Epoch 8/50\n",
      "938/938 [==============================] - 15s 16ms/step - loss: 0.7234 - acc: 0.8831 - val_loss: 0.8007 - val_acc: 0.8732\n",
      "Epoch 9/50\n",
      "938/938 [==============================] - 16s 17ms/step - loss: 0.6930 - acc: 0.8886 - val_loss: 0.7902 - val_acc: 0.8749\n",
      "Epoch 10/50\n",
      "938/938 [==============================] - 16s 17ms/step - loss: 0.6720 - acc: 0.8937 - val_loss: 0.7890 - val_acc: 0.8760\n",
      "Epoch 11/50\n",
      "938/938 [==============================] - 15s 16ms/step - loss: 0.6599 - acc: 0.8980 - val_loss: 0.7912 - val_acc: 0.8788\n",
      "Epoch 12/50\n",
      "938/938 [==============================] - 15s 16ms/step - loss: 0.6525 - acc: 0.9018 - val_loss: 0.7938 - val_acc: 0.8808\n",
      "Epoch 13/50\n",
      "938/938 [==============================] - 15s 16ms/step - loss: 0.6454 - acc: 0.9052 - val_loss: 0.7975 - val_acc: 0.8815\n",
      "Epoch 14/50\n",
      "938/938 [==============================] - 15s 16ms/step - loss: 0.6355 - acc: 0.9080 - val_loss: 0.7955 - val_acc: 0.8811\n",
      "Epoch 15/50\n",
      "938/938 [==============================] - 15s 16ms/step - loss: 0.6246 - acc: 0.9104 - val_loss: 0.7972 - val_acc: 0.8823\n",
      "Epoch 16/50\n",
      "938/938 [==============================] - 15s 16ms/step - loss: 0.6065 - acc: 0.9131 - val_loss: 0.7757 - val_acc: 0.8835\n",
      "Epoch 17/50\n",
      "938/938 [==============================] - 15s 16ms/step - loss: 0.5872 - acc: 0.9158 - val_loss: 0.7809 - val_acc: 0.8828\n",
      "Epoch 18/50\n",
      "938/938 [==============================] - 15s 16ms/step - loss: 0.5853 - acc: 0.9172 - val_loss: 0.7809 - val_acc: 0.8841\n",
      "Epoch 19/50\n",
      "938/938 [==============================] - 15s 16ms/step - loss: 0.5816 - acc: 0.9185 - val_loss: 0.7820 - val_acc: 0.8831\n",
      "Epoch 20/50\n",
      "938/938 [==============================] - 15s 16ms/step - loss: 0.5759 - acc: 0.9200 - val_loss: 0.7822 - val_acc: 0.8849\n",
      "Epoch 21/50\n",
      "938/938 [==============================] - 16s 17ms/step - loss: 0.5703 - acc: 0.9216 - val_loss: 0.7841 - val_acc: 0.8841\n",
      "Epoch 22/50\n",
      "938/938 [==============================] - 15s 16ms/step - loss: 0.5650 - acc: 0.9225 - val_loss: 0.7799 - val_acc: 0.8853\n",
      "Epoch 23/50\n",
      "938/938 [==============================] - 15s 16ms/step - loss: 0.5578 - acc: 0.9239 - val_loss: 0.7782 - val_acc: 0.8856\n",
      "Epoch 24/50\n",
      "938/938 [==============================] - 15s 16ms/step - loss: 0.5504 - acc: 0.9246 - val_loss: 0.7748 - val_acc: 0.8856\n",
      "Epoch 25/50\n",
      "938/938 [==============================] - 15s 16ms/step - loss: 0.5416 - acc: 0.9256 - val_loss: 0.7695 - val_acc: 0.8855\n",
      "Epoch 26/50\n",
      "938/938 [==============================] - 15s 16ms/step - loss: 0.5375 - acc: 0.9259 - val_loss: 0.7700 - val_acc: 0.8857\n",
      "Epoch 27/50\n",
      "938/938 [==============================] - 15s 16ms/step - loss: 0.5353 - acc: 0.9268 - val_loss: 0.7725 - val_acc: 0.8856\n",
      "Epoch 28/50\n",
      "938/938 [==============================] - 15s 16ms/step - loss: 0.5349 - acc: 0.9273 - val_loss: 0.7765 - val_acc: 0.8853\n",
      "Epoch 29/50\n",
      "938/938 [==============================] - 15s 17ms/step - loss: 0.5340 - acc: 0.9277 - val_loss: 0.7758 - val_acc: 0.8854\n",
      "Epoch 30/50\n",
      "938/938 [==============================] - 16s 17ms/step - loss: 0.5317 - acc: 0.9281 - val_loss: 0.7755 - val_acc: 0.8859\n",
      "Epoch 31/50\n",
      "938/938 [==============================] - 15s 16ms/step - loss: 0.5279 - acc: 0.9290 - val_loss: 0.7746 - val_acc: 0.8855\n",
      "Epoch 32/50\n",
      "938/938 [==============================] - 15s 16ms/step - loss: 0.5246 - acc: 0.9291 - val_loss: 0.7727 - val_acc: 0.8859\n",
      "Epoch 33/50\n",
      "938/938 [==============================] - 15s 16ms/step - loss: 0.5201 - acc: 0.9298 - val_loss: 0.7742 - val_acc: 0.8858\n",
      "Epoch 34/50\n",
      "938/938 [==============================] - 15s 16ms/step - loss: 0.5156 - acc: 0.9306 - val_loss: 0.7745 - val_acc: 0.8850\n",
      "Epoch 35/50\n",
      "938/938 [==============================] - 15s 16ms/step - loss: 0.5126 - acc: 0.9305 - val_loss: 0.7760 - val_acc: 0.8855\n",
      "Epoch 36/50\n",
      "938/938 [==============================] - 15s 16ms/step - loss: 0.5087 - acc: 0.9311 - val_loss: 0.7731 - val_acc: 0.8863\n",
      "Epoch 37/50\n",
      "938/938 [==============================] - 15s 16ms/step - loss: 0.5050 - acc: 0.9314 - val_loss: 0.7744 - val_acc: 0.8855\n",
      "Epoch 38/50\n",
      "938/938 [==============================] - 15s 16ms/step - loss: 0.5017 - acc: 0.9318 - val_loss: 0.7727 - val_acc: 0.8864\n",
      "Epoch 39/50\n",
      "938/938 [==============================] - 15s 16ms/step - loss: 0.4988 - acc: 0.9322 - val_loss: 0.7753 - val_acc: 0.8858\n",
      "Epoch 40/50\n",
      "938/938 [==============================] - 15s 16ms/step - loss: 0.4961 - acc: 0.9323 - val_loss: 0.7740 - val_acc: 0.8854\n",
      "Epoch 41/50\n",
      "938/938 [==============================] - 15s 16ms/step - loss: 0.4934 - acc: 0.9325 - val_loss: 0.7741 - val_acc: 0.8860\n",
      "Epoch 42/50\n",
      "938/938 [==============================] - 15s 16ms/step - loss: 0.4905 - acc: 0.9330 - val_loss: 0.7751 - val_acc: 0.8855\n",
      "Epoch 43/50\n",
      "938/938 [==============================] - 15s 16ms/step - loss: 0.4876 - acc: 0.9335 - val_loss: 0.7743 - val_acc: 0.8859\n",
      "Epoch 44/50\n",
      "938/938 [==============================] - 15s 16ms/step - loss: 0.4849 - acc: 0.9336 - val_loss: 0.7735 - val_acc: 0.8864\n",
      "Epoch 45/50\n",
      "938/938 [==============================] - 15s 16ms/step - loss: 0.4823 - acc: 0.9338 - val_loss: 0.7718 - val_acc: 0.8849\n",
      "Epoch 46/50\n",
      "938/938 [==============================] - 15s 16ms/step - loss: 0.4798 - acc: 0.9344 - val_loss: 0.7734 - val_acc: 0.8851\n",
      "Epoch 47/50\n",
      "938/938 [==============================] - 15s 16ms/step - loss: 0.4786 - acc: 0.9343 - val_loss: 0.7716 - val_acc: 0.8855\n",
      "Epoch 48/50\n",
      "938/938 [==============================] - 15s 16ms/step - loss: 0.4768 - acc: 0.9344 - val_loss: 0.7714 - val_acc: 0.8849\n",
      "Epoch 49/50\n",
      "938/938 [==============================] - 15s 17ms/step - loss: 0.4739 - acc: 0.9347 - val_loss: 0.7708 - val_acc: 0.8853\n",
      "Epoch 50/50\n",
      "938/938 [==============================] - 16s 17ms/step - loss: 0.4719 - acc: 0.9349 - val_loss: 0.7741 - val_acc: 0.8847\n"
     ]
    },
    {
     "data": {
      "text/plain": [
       "<keras.callbacks.History at 0x7f3729a42be0>"
      ]
     },
     "execution_count": 25,
     "metadata": {},
     "output_type": "execute_result"
    }
   ],
   "source": [
    "model.fit([encoder_input_train, decoder_input_train],decoder_target_train,\n",
    "          validation_data = ([encoder_input_test, decoder_input_test], decoder_target_test),\n",
    "          batch_size = 32, epochs = 50)"
   ]
  },
  {
   "cell_type": "markdown",
   "id": "8432265f",
   "metadata": {},
   "source": [
    "**Test encoder**"
   ]
  },
  {
   "cell_type": "code",
   "execution_count": 26,
   "id": "50052999",
   "metadata": {},
   "outputs": [
    {
     "name": "stdout",
     "output_type": "stream",
     "text": [
      "Model: \"model_1\"\n",
      "_________________________________________________________________\n",
      "Layer (type)                 Output Shape              Param #   \n",
      "=================================================================\n",
      "input_1 (InputLayer)         [(None, None)]            0         \n",
      "_________________________________________________________________\n",
      "embedding (Embedding)        (None, None, 256)         1195776   \n",
      "_________________________________________________________________\n",
      "masking (Masking)            (None, None, 256)         0         \n",
      "_________________________________________________________________\n",
      "lstm (LSTM)                  [(None, 256), (None, 256) 525312    \n",
      "=================================================================\n",
      "Total params: 1,721,088\n",
      "Trainable params: 1,721,088\n",
      "Non-trainable params: 0\n",
      "_________________________________________________________________\n"
     ]
    }
   ],
   "source": [
    "encoder_model = Model(inputs = encoder_inputs, outputs = encoder_states)\n",
    "encoder_model.summary()"
   ]
  },
  {
   "cell_type": "markdown",
   "id": "0d8aecde",
   "metadata": {},
   "source": [
    "**Test decoder**"
   ]
  },
  {
   "cell_type": "code",
   "execution_count": 28,
   "id": "1df7c2a1",
   "metadata": {},
   "outputs": [],
   "source": [
    "decoder_state_input_h = Input(shape=(256,))\n",
    "decoder_state_input_c = Input(shape=(256,))\n",
    "decoder_states_inputs = [decoder_state_input_h, decoder_state_input_c]\n",
    "\n",
    "dec_emb2 = Embedding(fra_vocab_size, 256)(decoder_inputs)\n",
    "decoder_outputs2, state_h2, state_c2 = decoder_lstm(dec_emb2, initial_state = decoder_states_inputs)\n",
    "decoder_states2 = [state_h2, state_c2]\n",
    "\n",
    "decoder_outputs2 = decoder_softmax_layer(decoder_outputs2)"
   ]
  },
  {
   "cell_type": "code",
   "execution_count": 29,
   "id": "7bd6d991",
   "metadata": {},
   "outputs": [
    {
     "name": "stdout",
     "output_type": "stream",
     "text": [
      "Model: \"model_2\"\n",
      "__________________________________________________________________________________________________\n",
      "Layer (type)                    Output Shape         Param #     Connected to                     \n",
      "==================================================================================================\n",
      "input_2 (InputLayer)            [(None, None)]       0                                            \n",
      "__________________________________________________________________________________________________\n",
      "embedding_2 (Embedding)         (None, None, 256)    1909760     input_2[0][0]                    \n",
      "__________________________________________________________________________________________________\n",
      "input_3 (InputLayer)            [(None, 256)]        0                                            \n",
      "__________________________________________________________________________________________________\n",
      "input_4 (InputLayer)            [(None, 256)]        0                                            \n",
      "__________________________________________________________________________________________________\n",
      "lstm_1 (LSTM)                   [(None, None, 256),  525312      embedding_2[0][0]                \n",
      "                                                                 input_3[0][0]                    \n",
      "                                                                 input_4[0][0]                    \n",
      "__________________________________________________________________________________________________\n",
      "dense (Dense)                   (None, None, 7460)   1917220     lstm_1[1][0]                     \n",
      "==================================================================================================\n",
      "Total params: 4,352,292\n",
      "Trainable params: 4,352,292\n",
      "Non-trainable params: 0\n",
      "__________________________________________________________________________________________________\n"
     ]
    }
   ],
   "source": [
    "decoder_model = Model(inputs=[decoder_inputs] + decoder_states_inputs, outputs=[decoder_outputs2] + decoder_states2)\n",
    "decoder_model.summary()"
   ]
  },
  {
   "cell_type": "code",
   "execution_count": 30,
   "id": "86331338",
   "metadata": {},
   "outputs": [],
   "source": [
    "eng2idx = eng_tokenizer.word_index\n",
    "fra2idx = fra_tokenizer.word_index\n",
    "idx2eng = eng_tokenizer.index_word\n",
    "idx2fra = fra_tokenizer.index_word"
   ]
  },
  {
   "cell_type": "code",
   "execution_count": 31,
   "id": "99b88497",
   "metadata": {},
   "outputs": [],
   "source": [
    "def decode_sequence(input_seq):\n",
    "    # 입력으로부터 인코더의 상태를 얻음\n",
    "    states_value = encoder_model.predict(input_seq)\n",
    "\n",
    "    # <SOS>에 해당하는 원-핫 벡터 생성\n",
    "    target_seq = np.zeros((1,1))\n",
    "    target_seq[0, 0] = fra2idx['<start>']\n",
    "    \n",
    "    stop_condition = False\n",
    "    decoded_sentence = \"\"\n",
    "\n",
    "    # stop_condition이 True가 될 때까지 루프 반복\n",
    "    while not stop_condition:\n",
    "        # 이점 시점의 상태 states_value를 현 시점의 초기 상태로 사용\n",
    "        output_tokens, h, c = decoder_model.predict([target_seq] + states_value)\n",
    "\n",
    "        # 예측 결과를 문자로 변환\n",
    "        sampled_token_index = np.argmax(output_tokens[0, -1, :])\n",
    "        sampled_char = idx2fra[sampled_token_index]\n",
    "\n",
    "        # 현재 시점의 예측 문자를 예측 문장에 추가\n",
    "        decoded_sentence += ' '+sampled_char\n",
    "\n",
    "        # <eos>에 도달하거나 최대 길이를 넘으면 중단.\n",
    "        if (sampled_char == '<end>' or\n",
    "           len(decoded_sentence) > max_fra_seq_len):\n",
    "            stop_condition = True\n",
    "\n",
    "        # 현재 시점의 예측 결과를 다음 시점의 입력으로 사용하기 위해 저장\n",
    "        target_seq = np.zeros((1, 1))\n",
    "        target_seq[0, 0] = sampled_token_index\n",
    "\n",
    "        # 현재 시점의 상태를 다음 시점의 상태로 사용하기 위해 저장\n",
    "        states_value = [h, c]\n",
    "\n",
    "    return decoded_sentence"
   ]
  },
  {
   "cell_type": "code",
   "execution_count": 32,
   "id": "5ad6f816",
   "metadata": {},
   "outputs": [],
   "source": [
    "# 원문의 정수 시퀀스를 텍스트 시퀀스로 변환\n",
    "def seq2src(input_seq):\n",
    "    temp=''\n",
    "    for i in input_seq:\n",
    "        if(i!=0):\n",
    "            temp = temp + idx2eng[i]+' '\n",
    "    return temp"
   ]
  },
  {
   "cell_type": "code",
   "execution_count": 33,
   "id": "7cdfbf20",
   "metadata": {},
   "outputs": [],
   "source": [
    "# 번역문의 정수 시퀀스를 텍스트 시퀀스로 변환\n",
    "def seq2tar(input_seq):\n",
    "    temp=''\n",
    "    for i in input_seq:\n",
    "        if((i!=0 and i!=fra2idx['<start>']) and i!=fra2idx['<end>']):\n",
    "            temp = temp + idx2fra[i] + ' '\n",
    "    return temp"
   ]
  },
  {
   "cell_type": "code",
   "execution_count": 34,
   "id": "9d664f54",
   "metadata": {},
   "outputs": [
    {
     "name": "stdout",
     "output_type": "stream",
     "text": [
      "-----------------------------------\n",
      "입력 문장: he was all wrong . \n",
      "정답 문장: il avait tout faux . \n",
      "번역기가 번역한 문장:  tout te restez j \n",
      "-----------------------------------\n",
      "입력 문장: you re very smart . \n",
      "정답 문장: tu es tr s intelligent . \n",
      "번역기가 번역한 문장:  vous tes es cela \n",
      "-----------------------------------\n",
      "입력 문장: you re good . \n",
      "정답 문장: vous tes bonne . \n",
      "번역기가 번역한 문장:  vous bon bien . \n",
      "-----------------------------------\n",
      "입력 문장: he heard a noise . \n",
      "정답 문장: il a entendu un bruit . \n",
      "번역기가 번역한 문장:  il marcher des . \n",
      "-----------------------------------\n",
      "입력 문장: have some ham . \n",
      "정답 문장: prenez du jambon . \n",
      "번역기가 번역한 문장:  prends la . . . \n"
     ]
    }
   ],
   "source": [
    "for seq_index in [1,100,301,777,2222]:\n",
    "    input_seq = encoder_input_test[seq_index: seq_index + 1]\n",
    "    decoded_sentence = decode_sequence(input_seq)\n",
    "    print(35 * \"-\")\n",
    "    print('입력 문장:', seq2src(encoder_input_test[seq_index]))\n",
    "    print('정답 문장:', seq2tar(decoder_input_test[seq_index]))\n",
    "    print('번역기가 번역한 문장:', decoded_sentence[:len(decoded_sentence)-1])"
   ]
  },
  {
   "cell_type": "markdown",
   "id": "8848e241",
   "metadata": {},
   "source": [
    "**회고**"
   ]
  },
  {
   "cell_type": "markdown",
   "id": "0b1649b9",
   "metadata": {},
   "source": [
    "sequence-to-sequence 모델을 통해서 뉴럴 기계번역을 조금 더 이해할 수 있는 흥미로운 시간이었다."
   ]
  }
 ],
 "metadata": {
  "kernelspec": {
   "display_name": "Python 3 (ipykernel)",
   "language": "python",
   "name": "python3"
  },
  "language_info": {
   "codemirror_mode": {
    "name": "ipython",
    "version": 3
   },
   "file_extension": ".py",
   "mimetype": "text/x-python",
   "name": "python",
   "nbconvert_exporter": "python",
   "pygments_lexer": "ipython3",
   "version": "3.9.7"
  }
 },
 "nbformat": 4,
 "nbformat_minor": 5
}
