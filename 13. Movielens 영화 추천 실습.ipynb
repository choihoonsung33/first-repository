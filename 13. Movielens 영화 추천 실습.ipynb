{
  "cells": [
    {
      "cell_type": "markdown",
      "id": "30035605",
      "metadata": {
        "id": "30035605"
      },
      "source": [
        "**Dataset**"
      ]
    },
    {
      "cell_type": "code",
      "execution_count": null,
      "id": "95a6f22e",
      "metadata": {
        "id": "95a6f22e",
        "outputId": "84c0e87e-b37b-4503-fe61-e099c3d28a5d"
      },
      "outputs": [
        {
          "data": {
            "text/html": [
              "<div>\n",
              "<style scoped>\n",
              "    .dataframe tbody tr th:only-of-type {\n",
              "        vertical-align: middle;\n",
              "    }\n",
              "\n",
              "    .dataframe tbody tr th {\n",
              "        vertical-align: top;\n",
              "    }\n",
              "\n",
              "    .dataframe thead th {\n",
              "        text-align: right;\n",
              "    }\n",
              "</style>\n",
              "<table border=\"1\" class=\"dataframe\">\n",
              "  <thead>\n",
              "    <tr style=\"text-align: right;\">\n",
              "      <th></th>\n",
              "      <th>user_id</th>\n",
              "      <th>movie_id</th>\n",
              "      <th>rating</th>\n",
              "      <th>timestamp</th>\n",
              "    </tr>\n",
              "  </thead>\n",
              "  <tbody>\n",
              "    <tr>\n",
              "      <th>0</th>\n",
              "      <td>1</td>\n",
              "      <td>1193</td>\n",
              "      <td>5</td>\n",
              "      <td>978300760</td>\n",
              "    </tr>\n",
              "    <tr>\n",
              "      <th>1</th>\n",
              "      <td>1</td>\n",
              "      <td>661</td>\n",
              "      <td>3</td>\n",
              "      <td>978302109</td>\n",
              "    </tr>\n",
              "    <tr>\n",
              "      <th>2</th>\n",
              "      <td>1</td>\n",
              "      <td>914</td>\n",
              "      <td>3</td>\n",
              "      <td>978301968</td>\n",
              "    </tr>\n",
              "    <tr>\n",
              "      <th>3</th>\n",
              "      <td>1</td>\n",
              "      <td>3408</td>\n",
              "      <td>4</td>\n",
              "      <td>978300275</td>\n",
              "    </tr>\n",
              "    <tr>\n",
              "      <th>4</th>\n",
              "      <td>1</td>\n",
              "      <td>2355</td>\n",
              "      <td>5</td>\n",
              "      <td>978824291</td>\n",
              "    </tr>\n",
              "  </tbody>\n",
              "</table>\n",
              "</div>"
            ],
            "text/plain": [
              "   user_id  movie_id  rating  timestamp\n",
              "0        1      1193       5  978300760\n",
              "1        1       661       3  978302109\n",
              "2        1       914       3  978301968\n",
              "3        1      3408       4  978300275\n",
              "4        1      2355       5  978824291"
            ]
          },
          "execution_count": 1,
          "metadata": {},
          "output_type": "execute_result"
        }
      ],
      "source": [
        "import os\n",
        "import pandas as pd\n",
        "from scipy.sparse import csr_matrix\n",
        "from implicit.als import AlternatingLeastSquares\n",
        "import numpy as np\n",
        "\n",
        "rating_file_path=os.getenv('HOME') + '/aiffel/recommendata_iu/data/ml-1m/ratings.dat'\n",
        "ratings_cols = ['user_id', 'movie_id', 'rating', 'timestamp']\n",
        "ratings = pd.read_csv(rating_file_path, sep='::', names=ratings_cols, engine='python')\n",
        "orginal_data_size = len(ratings)\n",
        "ratings.head()"
      ]
    },
    {
      "cell_type": "code",
      "execution_count": null,
      "id": "0971984d",
      "metadata": {
        "id": "0971984d",
        "outputId": "c5f156a0-81af-4149-f2df-4f95f7a0c7f6"
      },
      "outputs": [
        {
          "name": "stdout",
          "output_type": "stream",
          "text": [
            "orginal_data_size: 1000209, filtered_data_size: 836478\n",
            "Ratio of Remaining Data is 83.63%\n"
          ]
        }
      ],
      "source": [
        "# 3점 이상만 남깁니다.\n",
        "ratings = ratings[ratings['rating']>=3]\n",
        "filtered_data_size = len(ratings)\n",
        "\n",
        "print(f'orginal_data_size: {orginal_data_size}, filtered_data_size: {filtered_data_size}')\n",
        "print(f'Ratio of Remaining Data is {filtered_data_size / orginal_data_size:.2%}')"
      ]
    },
    {
      "cell_type": "code",
      "execution_count": null,
      "id": "543cbbe7",
      "metadata": {
        "id": "543cbbe7"
      },
      "outputs": [],
      "source": [
        "# rating 컬럼의 이름을 count로 바꿉니다.\n",
        "ratings.rename(columns={'rating':'count'}, inplace=True)"
      ]
    },
    {
      "cell_type": "code",
      "execution_count": null,
      "id": "d5eba72a",
      "metadata": {
        "id": "d5eba72a"
      },
      "outputs": [],
      "source": [
        "ratings = ratings[['user_id', 'movie_id', 'count']]"
      ]
    },
    {
      "cell_type": "code",
      "execution_count": null,
      "id": "33849cd9",
      "metadata": {
        "id": "33849cd9",
        "outputId": "e6d21c6e-0126-42d7-ea68-5b48ea393118"
      },
      "outputs": [
        {
          "data": {
            "text/html": [
              "<div>\n",
              "<style scoped>\n",
              "    .dataframe tbody tr th:only-of-type {\n",
              "        vertical-align: middle;\n",
              "    }\n",
              "\n",
              "    .dataframe tbody tr th {\n",
              "        vertical-align: top;\n",
              "    }\n",
              "\n",
              "    .dataframe thead th {\n",
              "        text-align: right;\n",
              "    }\n",
              "</style>\n",
              "<table border=\"1\" class=\"dataframe\">\n",
              "  <thead>\n",
              "    <tr style=\"text-align: right;\">\n",
              "      <th></th>\n",
              "      <th>user_id</th>\n",
              "      <th>movie_id</th>\n",
              "      <th>count</th>\n",
              "    </tr>\n",
              "  </thead>\n",
              "  <tbody>\n",
              "    <tr>\n",
              "      <th>0</th>\n",
              "      <td>1</td>\n",
              "      <td>1193</td>\n",
              "      <td>5</td>\n",
              "    </tr>\n",
              "    <tr>\n",
              "      <th>1</th>\n",
              "      <td>1</td>\n",
              "      <td>661</td>\n",
              "      <td>3</td>\n",
              "    </tr>\n",
              "    <tr>\n",
              "      <th>2</th>\n",
              "      <td>1</td>\n",
              "      <td>914</td>\n",
              "      <td>3</td>\n",
              "    </tr>\n",
              "    <tr>\n",
              "      <th>3</th>\n",
              "      <td>1</td>\n",
              "      <td>3408</td>\n",
              "      <td>4</td>\n",
              "    </tr>\n",
              "    <tr>\n",
              "      <th>4</th>\n",
              "      <td>1</td>\n",
              "      <td>2355</td>\n",
              "      <td>5</td>\n",
              "    </tr>\n",
              "    <tr>\n",
              "      <th>...</th>\n",
              "      <td>...</td>\n",
              "      <td>...</td>\n",
              "      <td>...</td>\n",
              "    </tr>\n",
              "    <tr>\n",
              "      <th>1000203</th>\n",
              "      <td>6040</td>\n",
              "      <td>1090</td>\n",
              "      <td>3</td>\n",
              "    </tr>\n",
              "    <tr>\n",
              "      <th>1000205</th>\n",
              "      <td>6040</td>\n",
              "      <td>1094</td>\n",
              "      <td>5</td>\n",
              "    </tr>\n",
              "    <tr>\n",
              "      <th>1000206</th>\n",
              "      <td>6040</td>\n",
              "      <td>562</td>\n",
              "      <td>5</td>\n",
              "    </tr>\n",
              "    <tr>\n",
              "      <th>1000207</th>\n",
              "      <td>6040</td>\n",
              "      <td>1096</td>\n",
              "      <td>4</td>\n",
              "    </tr>\n",
              "    <tr>\n",
              "      <th>1000208</th>\n",
              "      <td>6040</td>\n",
              "      <td>1097</td>\n",
              "      <td>4</td>\n",
              "    </tr>\n",
              "  </tbody>\n",
              "</table>\n",
              "<p>836478 rows × 3 columns</p>\n",
              "</div>"
            ],
            "text/plain": [
              "         user_id  movie_id  count\n",
              "0              1      1193      5\n",
              "1              1       661      3\n",
              "2              1       914      3\n",
              "3              1      3408      4\n",
              "4              1      2355      5\n",
              "...          ...       ...    ...\n",
              "1000203     6040      1090      3\n",
              "1000205     6040      1094      5\n",
              "1000206     6040       562      5\n",
              "1000207     6040      1096      4\n",
              "1000208     6040      1097      4\n",
              "\n",
              "[836478 rows x 3 columns]"
            ]
          },
          "execution_count": 5,
          "metadata": {},
          "output_type": "execute_result"
        }
      ],
      "source": [
        "ratings"
      ]
    },
    {
      "cell_type": "code",
      "execution_count": null,
      "id": "db5cf283",
      "metadata": {
        "id": "db5cf283",
        "outputId": "f81698d6-1faf-4e4f-80ca-62a5076212a4"
      },
      "outputs": [
        {
          "data": {
            "text/html": [
              "<div>\n",
              "<style scoped>\n",
              "    .dataframe tbody tr th:only-of-type {\n",
              "        vertical-align: middle;\n",
              "    }\n",
              "\n",
              "    .dataframe tbody tr th {\n",
              "        vertical-align: top;\n",
              "    }\n",
              "\n",
              "    .dataframe thead th {\n",
              "        text-align: right;\n",
              "    }\n",
              "</style>\n",
              "<table border=\"1\" class=\"dataframe\">\n",
              "  <thead>\n",
              "    <tr style=\"text-align: right;\">\n",
              "      <th></th>\n",
              "      <th>movie_id</th>\n",
              "      <th>title</th>\n",
              "      <th>genre</th>\n",
              "    </tr>\n",
              "  </thead>\n",
              "  <tbody>\n",
              "    <tr>\n",
              "      <th>0</th>\n",
              "      <td>1</td>\n",
              "      <td>Toy Story (1995)</td>\n",
              "      <td>Animation|Children's|Comedy</td>\n",
              "    </tr>\n",
              "    <tr>\n",
              "      <th>1</th>\n",
              "      <td>2</td>\n",
              "      <td>Jumanji (1995)</td>\n",
              "      <td>Adventure|Children's|Fantasy</td>\n",
              "    </tr>\n",
              "    <tr>\n",
              "      <th>2</th>\n",
              "      <td>3</td>\n",
              "      <td>Grumpier Old Men (1995)</td>\n",
              "      <td>Comedy|Romance</td>\n",
              "    </tr>\n",
              "    <tr>\n",
              "      <th>3</th>\n",
              "      <td>4</td>\n",
              "      <td>Waiting to Exhale (1995)</td>\n",
              "      <td>Comedy|Drama</td>\n",
              "    </tr>\n",
              "    <tr>\n",
              "      <th>4</th>\n",
              "      <td>5</td>\n",
              "      <td>Father of the Bride Part II (1995)</td>\n",
              "      <td>Comedy</td>\n",
              "    </tr>\n",
              "  </tbody>\n",
              "</table>\n",
              "</div>"
            ],
            "text/plain": [
              "   movie_id                               title                         genre\n",
              "0         1                    Toy Story (1995)   Animation|Children's|Comedy\n",
              "1         2                      Jumanji (1995)  Adventure|Children's|Fantasy\n",
              "2         3             Grumpier Old Men (1995)                Comedy|Romance\n",
              "3         4            Waiting to Exhale (1995)                  Comedy|Drama\n",
              "4         5  Father of the Bride Part II (1995)                        Comedy"
            ]
          },
          "execution_count": 8,
          "metadata": {},
          "output_type": "execute_result"
        }
      ],
      "source": [
        "# 영화 제목을 보기 위해 메타 데이터를 읽어옵니다.\n",
        "movie_file_path=os.getenv('HOME') + '/aiffel/recommendata_iu/data/ml-1m/movies.dat'\n",
        "cols = ['movie_id', 'title', 'genre'] \n",
        "movies = pd.read_csv(movie_file_path, sep='::', names=cols, engine='python', encoding='ISO-8859-1')\n",
        "movies.head()"
      ]
    },
    {
      "cell_type": "markdown",
      "id": "0f81630e",
      "metadata": {
        "id": "0f81630e"
      },
      "source": [
        "**EDA**"
      ]
    },
    {
      "cell_type": "code",
      "execution_count": null,
      "id": "2433a4c4",
      "metadata": {
        "id": "2433a4c4",
        "outputId": "afb022a1-800c-4af7-c4cc-75ebda9fe4e8"
      },
      "outputs": [
        {
          "data": {
            "text/plain": [
              "3628"
            ]
          },
          "execution_count": 9,
          "metadata": {},
          "output_type": "execute_result"
        }
      ],
      "source": [
        "# ratings에 있는 유니크한 영화 개수\n",
        "ratings['movie_id'].nunique()"
      ]
    },
    {
      "cell_type": "code",
      "execution_count": null,
      "id": "e677fa5a",
      "metadata": {
        "id": "e677fa5a",
        "outputId": "215e9114-a03a-4858-a8ed-937016d5c7f4"
      },
      "outputs": [
        {
          "data": {
            "text/plain": [
              "6039"
            ]
          },
          "execution_count": 10,
          "metadata": {},
          "output_type": "execute_result"
        }
      ],
      "source": [
        "# rating에 있는 유니크한 사용자 수\n",
        "ratings['user_id'].nunique()"
      ]
    },
    {
      "cell_type": "code",
      "execution_count": null,
      "id": "7935f15b",
      "metadata": {
        "id": "7935f15b",
        "outputId": "14e2ae36-6493-437b-95b2-51f90c8a9d60"
      },
      "outputs": [
        {
          "data": {
            "text/plain": [
              "title\n",
              "American Beauty (1999)                                   3211\n",
              "Star Wars: Episode IV - A New Hope (1977)                2910\n",
              "Star Wars: Episode V - The Empire Strikes Back (1980)    2885\n",
              "Star Wars: Episode VI - Return of the Jedi (1983)        2716\n",
              "Saving Private Ryan (1998)                               2561\n",
              "Terminator 2: Judgment Day (1991)                        2509\n",
              "Silence of the Lambs, The (1991)                         2498\n",
              "Raiders of the Lost Ark (1981)                           2473\n",
              "Back to the Future (1985)                                2460\n",
              "Matrix, The (1999)                                       2434\n",
              "Jurassic Park (1993)                                     2413\n",
              "Sixth Sense, The (1999)                                  2385\n",
              "Fargo (1996)                                             2371\n",
              "Braveheart (1995)                                        2314\n",
              "Men in Black (1997)                                      2297\n",
              "Schindler's List (1993)                                  2257\n",
              "Princess Bride, The (1987)                               2252\n",
              "Shakespeare in Love (1998)                               2213\n",
              "L.A. Confidential (1997)                                 2210\n",
              "Shawshank Redemption, The (1994)                         2194\n",
              "Godfather, The (1972)                                    2167\n",
              "Groundhog Day (1993)                                     2121\n",
              "E.T. the Extra-Terrestrial (1982)                        2102\n",
              "Being John Malkovich (1999)                              2066\n",
              "Ghostbusters (1984)                                      2051\n",
              "Pulp Fiction (1994)                                      2030\n",
              "Forrest Gump (1994)                                      2022\n",
              "Terminator, The (1984)                                   2019\n",
              "Toy Story (1995)                                         2000\n",
              "Fugitive, The (1993)                                     1941\n",
              "Name: count, dtype: int64"
            ]
          },
          "execution_count": 11,
          "metadata": {},
          "output_type": "execute_result"
        }
      ],
      "source": [
        "# 가장 인기있는 영화 30개(인기순)\n",
        "movie_data = pd.merge(ratings, movies)\n",
        "movie_count = movie_data.groupby('title')['count'].count()\n",
        "movie_count.sort_values(ascending=False).head(30)"
      ]
    },
    {
      "cell_type": "markdown",
      "id": "e55ee9cf",
      "metadata": {
        "id": "e55ee9cf"
      },
      "source": [
        "**Add ratings**"
      ]
    },
    {
      "cell_type": "code",
      "execution_count": null,
      "id": "a3a42f7f",
      "metadata": {
        "id": "a3a42f7f",
        "outputId": "aba157cb-5f38-4f20-aa72-8c7c4d3a5f00"
      },
      "outputs": [
        {
          "data": {
            "text/html": [
              "<div>\n",
              "<style scoped>\n",
              "    .dataframe tbody tr th:only-of-type {\n",
              "        vertical-align: middle;\n",
              "    }\n",
              "\n",
              "    .dataframe tbody tr th {\n",
              "        vertical-align: top;\n",
              "    }\n",
              "\n",
              "    .dataframe thead th {\n",
              "        text-align: right;\n",
              "    }\n",
              "</style>\n",
              "<table border=\"1\" class=\"dataframe\">\n",
              "  <thead>\n",
              "    <tr style=\"text-align: right;\">\n",
              "      <th></th>\n",
              "      <th>user_id</th>\n",
              "      <th>movie_id</th>\n",
              "      <th>count</th>\n",
              "    </tr>\n",
              "  </thead>\n",
              "  <tbody>\n",
              "    <tr>\n",
              "      <th>1000203</th>\n",
              "      <td>6040</td>\n",
              "      <td>1090</td>\n",
              "      <td>3</td>\n",
              "    </tr>\n",
              "    <tr>\n",
              "      <th>1000205</th>\n",
              "      <td>6040</td>\n",
              "      <td>1094</td>\n",
              "      <td>5</td>\n",
              "    </tr>\n",
              "    <tr>\n",
              "      <th>1000206</th>\n",
              "      <td>6040</td>\n",
              "      <td>562</td>\n",
              "      <td>5</td>\n",
              "    </tr>\n",
              "    <tr>\n",
              "      <th>1000207</th>\n",
              "      <td>6040</td>\n",
              "      <td>1096</td>\n",
              "      <td>4</td>\n",
              "    </tr>\n",
              "    <tr>\n",
              "      <th>1000208</th>\n",
              "      <td>6040</td>\n",
              "      <td>1097</td>\n",
              "      <td>4</td>\n",
              "    </tr>\n",
              "    <tr>\n",
              "      <th>476</th>\n",
              "      <td>6041</td>\n",
              "      <td>480</td>\n",
              "      <td>5</td>\n",
              "    </tr>\n",
              "    <tr>\n",
              "      <th>847</th>\n",
              "      <td>6041</td>\n",
              "      <td>858</td>\n",
              "      <td>5</td>\n",
              "    </tr>\n",
              "    <tr>\n",
              "      <th>1250</th>\n",
              "      <td>6041</td>\n",
              "      <td>1270</td>\n",
              "      <td>5</td>\n",
              "    </tr>\n",
              "    <tr>\n",
              "      <th>1539</th>\n",
              "      <td>6041</td>\n",
              "      <td>1580</td>\n",
              "      <td>5</td>\n",
              "    </tr>\n",
              "    <tr>\n",
              "      <th>2502</th>\n",
              "      <td>6041</td>\n",
              "      <td>2571</td>\n",
              "      <td>5</td>\n",
              "    </tr>\n",
              "  </tbody>\n",
              "</table>\n",
              "</div>"
            ],
            "text/plain": [
              "         user_id  movie_id  count\n",
              "1000203     6040      1090      3\n",
              "1000205     6040      1094      5\n",
              "1000206     6040       562      5\n",
              "1000207     6040      1096      4\n",
              "1000208     6040      1097      4\n",
              "476         6041       480      5\n",
              "847         6041       858      5\n",
              "1250        6041      1270      5\n",
              "1539        6041      1580      5\n",
              "2502        6041      2571      5"
            ]
          },
          "execution_count": 12,
          "metadata": {},
          "output_type": "execute_result"
        }
      ],
      "source": [
        "my_favorite = ['Godfather, The (1972)' , 'Back to the Future (1985)' ,'Matrix, The (1999)' ,'Men in Black (1997)' ,'Jurassic Park (1993)']\n",
        "favorite_movie_id = movies[movies['title'].isin(my_favorite)]\n",
        "my_movie = pd.DataFrame({'user_id': [6041]*5, 'movie_id': favorite_movie_id['movie_id'], 'count':[5]*5})\n",
        "\n",
        "if not ratings.isin({'user_id':[6041]})['user_id'].any():\n",
        "    ratings = ratings.append(my_movie)\n",
        "ratings.tail(10)"
      ]
    },
    {
      "cell_type": "code",
      "execution_count": null,
      "id": "601f6c81",
      "metadata": {
        "id": "601f6c81",
        "outputId": "9f4296fa-db91-4a2e-ab22-0a25dbc53716"
      },
      "outputs": [
        {
          "data": {
            "text/html": [
              "<div>\n",
              "<style scoped>\n",
              "    .dataframe tbody tr th:only-of-type {\n",
              "        vertical-align: middle;\n",
              "    }\n",
              "\n",
              "    .dataframe tbody tr th {\n",
              "        vertical-align: top;\n",
              "    }\n",
              "\n",
              "    .dataframe thead th {\n",
              "        text-align: right;\n",
              "    }\n",
              "</style>\n",
              "<table border=\"1\" class=\"dataframe\">\n",
              "  <thead>\n",
              "    <tr style=\"text-align: right;\">\n",
              "      <th></th>\n",
              "      <th>movie_id</th>\n",
              "      <th>title</th>\n",
              "      <th>genre</th>\n",
              "    </tr>\n",
              "  </thead>\n",
              "  <tbody>\n",
              "    <tr>\n",
              "      <th>476</th>\n",
              "      <td>480</td>\n",
              "      <td>Jurassic Park (1993)</td>\n",
              "      <td>Action|Adventure|Sci-Fi</td>\n",
              "    </tr>\n",
              "    <tr>\n",
              "      <th>847</th>\n",
              "      <td>858</td>\n",
              "      <td>Godfather, The (1972)</td>\n",
              "      <td>Action|Crime|Drama</td>\n",
              "    </tr>\n",
              "    <tr>\n",
              "      <th>1250</th>\n",
              "      <td>1270</td>\n",
              "      <td>Back to the Future (1985)</td>\n",
              "      <td>Comedy|Sci-Fi</td>\n",
              "    </tr>\n",
              "    <tr>\n",
              "      <th>1539</th>\n",
              "      <td>1580</td>\n",
              "      <td>Men in Black (1997)</td>\n",
              "      <td>Action|Adventure|Comedy|Sci-Fi</td>\n",
              "    </tr>\n",
              "    <tr>\n",
              "      <th>2502</th>\n",
              "      <td>2571</td>\n",
              "      <td>Matrix, The (1999)</td>\n",
              "      <td>Action|Sci-Fi|Thriller</td>\n",
              "    </tr>\n",
              "  </tbody>\n",
              "</table>\n",
              "</div>"
            ],
            "text/plain": [
              "      movie_id                      title                           genre\n",
              "476        480       Jurassic Park (1993)         Action|Adventure|Sci-Fi\n",
              "847        858      Godfather, The (1972)              Action|Crime|Drama\n",
              "1250      1270  Back to the Future (1985)                   Comedy|Sci-Fi\n",
              "1539      1580        Men in Black (1997)  Action|Adventure|Comedy|Sci-Fi\n",
              "2502      2571         Matrix, The (1999)          Action|Sci-Fi|Thriller"
            ]
          },
          "execution_count": 13,
          "metadata": {},
          "output_type": "execute_result"
        }
      ],
      "source": [
        "favorite_movie_id"
      ]
    },
    {
      "cell_type": "code",
      "execution_count": null,
      "id": "e7929c34",
      "metadata": {
        "id": "e7929c34",
        "outputId": "47279293-65fa-4ce8-bcaf-ada16dad5f00"
      },
      "outputs": [
        {
          "data": {
            "text/html": [
              "<div>\n",
              "<style scoped>\n",
              "    .dataframe tbody tr th:only-of-type {\n",
              "        vertical-align: middle;\n",
              "    }\n",
              "\n",
              "    .dataframe tbody tr th {\n",
              "        vertical-align: top;\n",
              "    }\n",
              "\n",
              "    .dataframe thead th {\n",
              "        text-align: right;\n",
              "    }\n",
              "</style>\n",
              "<table border=\"1\" class=\"dataframe\">\n",
              "  <thead>\n",
              "    <tr style=\"text-align: right;\">\n",
              "      <th></th>\n",
              "      <th>user_id</th>\n",
              "      <th>movie_id</th>\n",
              "      <th>count</th>\n",
              "      <th>title</th>\n",
              "      <th>genre</th>\n",
              "    </tr>\n",
              "  </thead>\n",
              "  <tbody>\n",
              "    <tr>\n",
              "      <th>0</th>\n",
              "      <td>1</td>\n",
              "      <td>1193</td>\n",
              "      <td>5</td>\n",
              "      <td>One Flew Over the Cuckoo's Nest (1975)</td>\n",
              "      <td>Drama</td>\n",
              "    </tr>\n",
              "    <tr>\n",
              "      <th>1</th>\n",
              "      <td>2</td>\n",
              "      <td>1193</td>\n",
              "      <td>5</td>\n",
              "      <td>One Flew Over the Cuckoo's Nest (1975)</td>\n",
              "      <td>Drama</td>\n",
              "    </tr>\n",
              "    <tr>\n",
              "      <th>2</th>\n",
              "      <td>12</td>\n",
              "      <td>1193</td>\n",
              "      <td>4</td>\n",
              "      <td>One Flew Over the Cuckoo's Nest (1975)</td>\n",
              "      <td>Drama</td>\n",
              "    </tr>\n",
              "    <tr>\n",
              "      <th>3</th>\n",
              "      <td>15</td>\n",
              "      <td>1193</td>\n",
              "      <td>4</td>\n",
              "      <td>One Flew Over the Cuckoo's Nest (1975)</td>\n",
              "      <td>Drama</td>\n",
              "    </tr>\n",
              "    <tr>\n",
              "      <th>4</th>\n",
              "      <td>17</td>\n",
              "      <td>1193</td>\n",
              "      <td>5</td>\n",
              "      <td>One Flew Over the Cuckoo's Nest (1975)</td>\n",
              "      <td>Drama</td>\n",
              "    </tr>\n",
              "    <tr>\n",
              "      <th>...</th>\n",
              "      <td>...</td>\n",
              "      <td>...</td>\n",
              "      <td>...</td>\n",
              "      <td>...</td>\n",
              "      <td>...</td>\n",
              "    </tr>\n",
              "    <tr>\n",
              "      <th>836478</th>\n",
              "      <td>5851</td>\n",
              "      <td>3607</td>\n",
              "      <td>5</td>\n",
              "      <td>One Little Indian (1973)</td>\n",
              "      <td>Comedy|Drama|Western</td>\n",
              "    </tr>\n",
              "    <tr>\n",
              "      <th>836479</th>\n",
              "      <td>5854</td>\n",
              "      <td>3026</td>\n",
              "      <td>4</td>\n",
              "      <td>Slaughterhouse (1987)</td>\n",
              "      <td>Horror</td>\n",
              "    </tr>\n",
              "    <tr>\n",
              "      <th>836480</th>\n",
              "      <td>5854</td>\n",
              "      <td>690</td>\n",
              "      <td>3</td>\n",
              "      <td>Promise, The (Versprechen, Das) (1994)</td>\n",
              "      <td>Romance</td>\n",
              "    </tr>\n",
              "    <tr>\n",
              "      <th>836481</th>\n",
              "      <td>5938</td>\n",
              "      <td>2909</td>\n",
              "      <td>4</td>\n",
              "      <td>Five Wives, Three Secretaries and Me (1998)</td>\n",
              "      <td>Documentary</td>\n",
              "    </tr>\n",
              "    <tr>\n",
              "      <th>836482</th>\n",
              "      <td>5948</td>\n",
              "      <td>1360</td>\n",
              "      <td>5</td>\n",
              "      <td>Identification of a Woman (Identificazione di ...</td>\n",
              "      <td>Drama</td>\n",
              "    </tr>\n",
              "  </tbody>\n",
              "</table>\n",
              "<p>836483 rows × 5 columns</p>\n",
              "</div>"
            ],
            "text/plain": [
              "        user_id  movie_id  count  \\\n",
              "0             1      1193      5   \n",
              "1             2      1193      5   \n",
              "2            12      1193      4   \n",
              "3            15      1193      4   \n",
              "4            17      1193      5   \n",
              "...         ...       ...    ...   \n",
              "836478     5851      3607      5   \n",
              "836479     5854      3026      4   \n",
              "836480     5854       690      3   \n",
              "836481     5938      2909      4   \n",
              "836482     5948      1360      5   \n",
              "\n",
              "                                                    title  \\\n",
              "0                  One Flew Over the Cuckoo's Nest (1975)   \n",
              "1                  One Flew Over the Cuckoo's Nest (1975)   \n",
              "2                  One Flew Over the Cuckoo's Nest (1975)   \n",
              "3                  One Flew Over the Cuckoo's Nest (1975)   \n",
              "4                  One Flew Over the Cuckoo's Nest (1975)   \n",
              "...                                                   ...   \n",
              "836478                           One Little Indian (1973)   \n",
              "836479                              Slaughterhouse (1987)   \n",
              "836480             Promise, The (Versprechen, Das) (1994)   \n",
              "836481        Five Wives, Three Secretaries and Me (1998)   \n",
              "836482  Identification of a Woman (Identificazione di ...   \n",
              "\n",
              "                       genre  \n",
              "0                      Drama  \n",
              "1                      Drama  \n",
              "2                      Drama  \n",
              "3                      Drama  \n",
              "4                      Drama  \n",
              "...                      ...  \n",
              "836478  Comedy|Drama|Western  \n",
              "836479                Horror  \n",
              "836480               Romance  \n",
              "836481           Documentary  \n",
              "836482                 Drama  \n",
              "\n",
              "[836483 rows x 5 columns]"
            ]
          },
          "execution_count": 14,
          "metadata": {},
          "output_type": "execute_result"
        }
      ],
      "source": [
        "movie_data = pd.merge(ratings, movies, on='movie_id')\n",
        "movie_data"
      ]
    },
    {
      "cell_type": "markdown",
      "id": "cd9d7707",
      "metadata": {
        "id": "cd9d7707"
      },
      "source": [
        "**CSR matrix**"
      ]
    },
    {
      "cell_type": "code",
      "execution_count": null,
      "id": "784f1d7a",
      "metadata": {
        "id": "784f1d7a",
        "outputId": "44f364ec-2b40-47e6-b5da-cd54ae62022d"
      },
      "outputs": [
        {
          "data": {
            "text/html": [
              "<div>\n",
              "<style scoped>\n",
              "    .dataframe tbody tr th:only-of-type {\n",
              "        vertical-align: middle;\n",
              "    }\n",
              "\n",
              "    .dataframe tbody tr th {\n",
              "        vertical-align: top;\n",
              "    }\n",
              "\n",
              "    .dataframe thead th {\n",
              "        text-align: right;\n",
              "    }\n",
              "</style>\n",
              "<table border=\"1\" class=\"dataframe\">\n",
              "  <thead>\n",
              "    <tr style=\"text-align: right;\">\n",
              "      <th></th>\n",
              "      <th>user_id</th>\n",
              "      <th>movie_id</th>\n",
              "      <th>count</th>\n",
              "    </tr>\n",
              "  </thead>\n",
              "  <tbody>\n",
              "    <tr>\n",
              "      <th>0</th>\n",
              "      <td>1</td>\n",
              "      <td>1193</td>\n",
              "      <td>5</td>\n",
              "    </tr>\n",
              "    <tr>\n",
              "      <th>1</th>\n",
              "      <td>1</td>\n",
              "      <td>661</td>\n",
              "      <td>3</td>\n",
              "    </tr>\n",
              "    <tr>\n",
              "      <th>2</th>\n",
              "      <td>1</td>\n",
              "      <td>914</td>\n",
              "      <td>3</td>\n",
              "    </tr>\n",
              "    <tr>\n",
              "      <th>3</th>\n",
              "      <td>1</td>\n",
              "      <td>3408</td>\n",
              "      <td>4</td>\n",
              "    </tr>\n",
              "    <tr>\n",
              "      <th>4</th>\n",
              "      <td>1</td>\n",
              "      <td>2355</td>\n",
              "      <td>5</td>\n",
              "    </tr>\n",
              "    <tr>\n",
              "      <th>...</th>\n",
              "      <td>...</td>\n",
              "      <td>...</td>\n",
              "      <td>...</td>\n",
              "    </tr>\n",
              "    <tr>\n",
              "      <th>476</th>\n",
              "      <td>6041</td>\n",
              "      <td>480</td>\n",
              "      <td>5</td>\n",
              "    </tr>\n",
              "    <tr>\n",
              "      <th>847</th>\n",
              "      <td>6041</td>\n",
              "      <td>858</td>\n",
              "      <td>5</td>\n",
              "    </tr>\n",
              "    <tr>\n",
              "      <th>1250</th>\n",
              "      <td>6041</td>\n",
              "      <td>1270</td>\n",
              "      <td>5</td>\n",
              "    </tr>\n",
              "    <tr>\n",
              "      <th>1539</th>\n",
              "      <td>6041</td>\n",
              "      <td>1580</td>\n",
              "      <td>5</td>\n",
              "    </tr>\n",
              "    <tr>\n",
              "      <th>2502</th>\n",
              "      <td>6041</td>\n",
              "      <td>2571</td>\n",
              "      <td>5</td>\n",
              "    </tr>\n",
              "  </tbody>\n",
              "</table>\n",
              "<p>836483 rows × 3 columns</p>\n",
              "</div>"
            ],
            "text/plain": [
              "      user_id  movie_id  count\n",
              "0           1      1193      5\n",
              "1           1       661      3\n",
              "2           1       914      3\n",
              "3           1      3408      4\n",
              "4           1      2355      5\n",
              "...       ...       ...    ...\n",
              "476      6041       480      5\n",
              "847      6041       858      5\n",
              "1250     6041      1270      5\n",
              "1539     6041      1580      5\n",
              "2502     6041      2571      5\n",
              "\n",
              "[836483 rows x 3 columns]"
            ]
          },
          "execution_count": 15,
          "metadata": {},
          "output_type": "execute_result"
        }
      ],
      "source": [
        "ratings"
      ]
    },
    {
      "cell_type": "code",
      "execution_count": null,
      "id": "327e7b05",
      "metadata": {
        "id": "327e7b05"
      },
      "outputs": [],
      "source": [
        "num_user = ratings['user_id'].nunique()\n",
        "num_movie = ratings['movie_id'].nunique()"
      ]
    },
    {
      "cell_type": "code",
      "execution_count": null,
      "id": "2db57e41",
      "metadata": {
        "id": "2db57e41",
        "outputId": "c4cd7cc0-3bef-4acc-ef83-c86f812c3aa9"
      },
      "outputs": [
        {
          "data": {
            "text/plain": [
              "6040"
            ]
          },
          "execution_count": 17,
          "metadata": {},
          "output_type": "execute_result"
        }
      ],
      "source": [
        "num_user"
      ]
    },
    {
      "cell_type": "code",
      "execution_count": null,
      "id": "1bed0c50",
      "metadata": {
        "id": "1bed0c50",
        "outputId": "08e92c51-69c6-4fec-e9a5-947119cd6763"
      },
      "outputs": [
        {
          "data": {
            "text/plain": [
              "3628"
            ]
          },
          "execution_count": 18,
          "metadata": {},
          "output_type": "execute_result"
        }
      ],
      "source": [
        "num_movie"
      ]
    },
    {
      "cell_type": "code",
      "execution_count": null,
      "id": "10f6a4ed",
      "metadata": {
        "id": "10f6a4ed",
        "outputId": "f1fa4da5-dcfd-49de-98b7-cac8dbb6a7f6"
      },
      "outputs": [
        {
          "data": {
            "text/plain": [
              "0          1\n",
              "1          1\n",
              "2          1\n",
              "3          1\n",
              "4          1\n",
              "        ... \n",
              "476     6041\n",
              "847     6041\n",
              "1250    6041\n",
              "1539    6041\n",
              "2502    6041\n",
              "Name: user_id, Length: 836483, dtype: int64"
            ]
          },
          "execution_count": 19,
          "metadata": {},
          "output_type": "execute_result"
        }
      ],
      "source": [
        "ratings.user_id"
      ]
    },
    {
      "cell_type": "code",
      "execution_count": null,
      "id": "3542303b",
      "metadata": {
        "id": "3542303b",
        "outputId": "b8549a31-9b01-4f30-b52d-a2675d49b2d1"
      },
      "outputs": [
        {
          "data": {
            "text/plain": [
              "0       1193\n",
              "1        661\n",
              "2        914\n",
              "3       3408\n",
              "4       2355\n",
              "        ... \n",
              "476      480\n",
              "847      858\n",
              "1250    1270\n",
              "1539    1580\n",
              "2502    2571\n",
              "Name: movie_id, Length: 836483, dtype: int64"
            ]
          },
          "execution_count": 20,
          "metadata": {},
          "output_type": "execute_result"
        }
      ],
      "source": [
        "ratings.movie_id"
      ]
    },
    {
      "cell_type": "code",
      "execution_count": null,
      "id": "5ab54c72",
      "metadata": {
        "id": "5ab54c72",
        "outputId": "31bef490-7fb7-4ea8-e9cd-bb916ebae5d7"
      },
      "outputs": [
        {
          "data": {
            "text/plain": [
              "<6042x3953 sparse matrix of type '<class 'numpy.int64'>'\n",
              "\twith 836483 stored elements in Compressed Sparse Row format>"
            ]
          },
          "execution_count": 21,
          "metadata": {},
          "output_type": "execute_result"
        }
      ],
      "source": [
        "csr_data = csr_matrix((ratings['count'], (ratings.user_id, ratings.movie_id)))\n",
        "csr_data"
      ]
    },
    {
      "cell_type": "markdown",
      "id": "0f775132",
      "metadata": {
        "id": "0f775132"
      },
      "source": [
        "**Train**"
      ]
    },
    {
      "cell_type": "code",
      "execution_count": null,
      "id": "1dad57ad",
      "metadata": {
        "id": "1dad57ad"
      },
      "outputs": [],
      "source": [
        "os.environ['OPENBLAS_NUM_THREADS']='1'\n",
        "os.environ['KMP_DUPLICATE_LIB_OK']='True'\n",
        "os.environ['MKL_NUM_THREADS']='1'"
      ]
    },
    {
      "cell_type": "code",
      "execution_count": null,
      "id": "f3a28ad0",
      "metadata": {
        "id": "f3a28ad0"
      },
      "outputs": [],
      "source": [
        "als_model = AlternatingLeastSquares(factors=100, regularization=0.01, use_gpu=False, iterations=15, dtype=np.float32)"
      ]
    },
    {
      "cell_type": "code",
      "execution_count": null,
      "id": "0c35f324",
      "metadata": {
        "id": "0c35f324",
        "outputId": "82f75920-7283-48fc-9508-0cfa7d996b01"
      },
      "outputs": [
        {
          "data": {
            "text/plain": [
              "<3953x6042 sparse matrix of type '<class 'numpy.int64'>'\n",
              "\twith 836483 stored elements in Compressed Sparse Column format>"
            ]
          },
          "execution_count": 24,
          "metadata": {},
          "output_type": "execute_result"
        }
      ],
      "source": [
        "csr_data_transpose = csr_data.T\n",
        "csr_data_transpose"
      ]
    },
    {
      "cell_type": "code",
      "execution_count": null,
      "id": "8592c4d8",
      "metadata": {
        "colab": {
          "referenced_widgets": [
            "eba6f457075b4319804b21dc2db90c3c"
          ]
        },
        "id": "8592c4d8",
        "outputId": "9a14625d-0f78-4f64-9dfd-3c5547951b35"
      },
      "outputs": [
        {
          "data": {
            "application/vnd.jupyter.widget-view+json": {
              "model_id": "eba6f457075b4319804b21dc2db90c3c",
              "version_major": 2,
              "version_minor": 0
            },
            "text/plain": [
              "  0%|          | 0/15 [00:00<?, ?it/s]"
            ]
          },
          "metadata": {},
          "output_type": "display_data"
        }
      ],
      "source": [
        "als_model.fit(csr_data_transpose)"
      ]
    },
    {
      "cell_type": "code",
      "execution_count": null,
      "id": "4abb0736",
      "metadata": {
        "id": "4abb0736"
      },
      "outputs": [],
      "source": [
        "my_vector, godfather_vector = als_model.user_factors[6041], als_model.item_factors[858]"
      ]
    },
    {
      "cell_type": "code",
      "execution_count": null,
      "id": "3b32b48a",
      "metadata": {
        "id": "3b32b48a",
        "outputId": "56fbf278-3dc7-4aaf-84fc-fc004987e7fc"
      },
      "outputs": [
        {
          "data": {
            "text/plain": [
              "array([ 1.9732334e-02,  8.6736715e-01,  6.7894101e-01, -1.6589388e-01,\n",
              "        5.8600110e-01,  3.5912466e-01, -1.7356344e-01,  6.0234022e-01,\n",
              "       -3.4860454e-02, -3.0902091e-01, -3.4623399e-01,  4.7773850e-01,\n",
              "        4.5883515e-01, -7.7136266e-01,  1.0784352e-01,  9.7579831e-01,\n",
              "       -3.7164298e-01,  1.5987715e-01, -5.5151820e-01, -3.6059108e-01,\n",
              "       -3.9243662e-01, -1.5006079e-01,  3.6282670e-01, -7.0138597e-01,\n",
              "       -1.9868657e-01, -6.6481924e-01, -2.1263942e-01,  2.3261066e-01,\n",
              "        2.7849862e-02,  5.8278583e-02,  1.0614414e+00,  5.9316301e-01,\n",
              "        1.0924668e-01,  2.0176413e-02, -1.6833335e-01, -2.2237408e-01,\n",
              "       -5.9824604e-01, -3.8473368e-01,  2.0957792e-01, -8.3853042e-01,\n",
              "        1.1144031e+00, -1.5163895e-01,  6.3220665e-02, -7.4571222e-01,\n",
              "       -2.5926569e-02, -2.1731954e-04, -4.1099313e-01,  6.3863206e-01,\n",
              "        1.8237099e-03, -8.2237929e-02,  6.0757422e-01,  7.4720585e-01,\n",
              "       -1.2697841e-01, -3.7240887e-01,  3.7404296e-01, -3.2948214e-01,\n",
              "        9.3465135e-02, -8.8872856e-01, -6.2284774e-01, -5.7945155e-02,\n",
              "        1.0324849e+00,  8.5670896e-02, -3.3465764e-01, -8.7915443e-02,\n",
              "        3.0349785e-01,  5.8757800e-01, -7.8843474e-01,  3.5773516e-01,\n",
              "        7.9535335e-02,  2.9144293e-01,  3.1255450e-02, -1.2002335e+00,\n",
              "       -3.6221436e-01,  7.2003388e-01,  1.0191478e+00,  5.9143192e-01,\n",
              "        9.0203500e-01, -3.2435352e-01, -5.5694109e-01,  2.7476153e-01,\n",
              "       -1.1033691e+00,  1.0424297e+00, -1.0493950e-01, -4.5790166e-01,\n",
              "        8.2565144e-02, -2.7115971e-02, -2.6719996e-01, -1.2641115e+00,\n",
              "       -3.0316612e-01,  1.8641770e-01,  3.4433046e-01,  1.2424068e+00,\n",
              "       -5.6314772e-01,  1.7107552e-01, -3.3559805e-01, -3.5595438e-01,\n",
              "        8.7857550e-01,  7.0706975e-01, -2.6755857e-01, -8.4496009e-01],\n",
              "      dtype=float32)"
            ]
          },
          "execution_count": 27,
          "metadata": {},
          "output_type": "execute_result"
        }
      ],
      "source": [
        "my_vector"
      ]
    },
    {
      "cell_type": "code",
      "execution_count": null,
      "id": "e49a1862",
      "metadata": {
        "id": "e49a1862",
        "outputId": "5451c26d-b93a-4e8b-91fd-7d586b81dad6"
      },
      "outputs": [
        {
          "data": {
            "text/plain": [
              "array([ 6.4880680e-03, -1.0071150e-02, -6.2177246e-03, -5.8680126e-03,\n",
              "        3.0305002e-02,  6.4120956e-02, -3.9364368e-05,  5.5472706e-02,\n",
              "        2.0947309e-02, -1.3166106e-02, -2.3291776e-02, -2.0719608e-02,\n",
              "        2.1185011e-02, -5.9626978e-03,  5.2425085e-04,  5.1235382e-02,\n",
              "        9.7055119e-03,  3.3557232e-02,  3.7074264e-02,  5.0291210e-02,\n",
              "        2.3632102e-02,  1.3193214e-02,  2.5712490e-02, -1.5891971e-02,\n",
              "       -1.0052825e-02, -3.8314452e-03, -5.4857167e-03,  2.7143857e-02,\n",
              "        5.5974396e-03,  1.3497976e-02,  1.4030961e-02,  5.1008570e-03,\n",
              "        3.0427996e-02,  1.9120958e-02, -1.8038057e-02,  2.4053152e-03,\n",
              "        1.0010246e-03, -9.6621551e-03, -2.3563029e-02, -4.0799100e-03,\n",
              "        3.1573273e-02,  7.9759266e-03, -1.4248440e-02, -3.5925296e-03,\n",
              "        4.4409066e-02, -1.6136250e-02, -2.1604639e-02,  1.8469216e-02,\n",
              "        8.0593275e-03,  1.4244272e-02,  3.9399046e-02,  2.2625154e-02,\n",
              "       -1.3370529e-02,  8.6152460e-03,  5.4355189e-03,  5.7076145e-02,\n",
              "        4.6476191e-03,  6.3109733e-03,  6.5275491e-03,  1.0996822e-02,\n",
              "        2.9297346e-02,  5.0102859e-03, -9.6434578e-03, -2.2673070e-02,\n",
              "        3.3689909e-02, -4.1697053e-03,  6.8851183e-03,  2.7796092e-02,\n",
              "        3.0816754e-04, -1.4922316e-02,  4.1002490e-02, -4.0532555e-02,\n",
              "       -3.2328262e-03,  1.5873941e-02,  1.8710518e-02, -2.3169469e-02,\n",
              "        1.0279598e-02, -2.5652545e-02, -3.1497266e-02, -1.8935723e-02,\n",
              "       -6.5903120e-02,  5.2322131e-02, -4.4213388e-02, -2.3653451e-03,\n",
              "       -3.3030055e-02, -1.2586933e-02, -1.4521997e-02,  8.7677530e-04,\n",
              "        1.4598684e-02,  9.4419355e-03,  2.5658032e-03,  3.7335832e-02,\n",
              "       -1.7963333e-02,  3.6756401e-03, -1.1280740e-02, -1.0532306e-02,\n",
              "        2.7977739e-02,  3.2177750e-02, -1.6310772e-02, -2.6554247e-02],\n",
              "      dtype=float32)"
            ]
          },
          "execution_count": 28,
          "metadata": {},
          "output_type": "execute_result"
        }
      ],
      "source": [
        "godfather_vector"
      ]
    },
    {
      "cell_type": "code",
      "execution_count": null,
      "id": "80094232",
      "metadata": {
        "id": "80094232",
        "outputId": "65da51a4-f1ba-4315-b1b1-d07b8573d5d2"
      },
      "outputs": [
        {
          "data": {
            "text/plain": [
              "0.61820847"
            ]
          },
          "execution_count": 29,
          "metadata": {},
          "output_type": "execute_result"
        }
      ],
      "source": [
        "np.dot(my_vector, godfather_vector)"
      ]
    },
    {
      "cell_type": "code",
      "execution_count": null,
      "id": "a7b1c6e0",
      "metadata": {
        "id": "a7b1c6e0",
        "outputId": "ed815fd3-aa65-48cf-a189-a577d740ec94"
      },
      "outputs": [
        {
          "data": {
            "text/plain": [
              "0.16070537"
            ]
          },
          "execution_count": 30,
          "metadata": {},
          "output_type": "execute_result"
        }
      ],
      "source": [
        "toystory_vector = als_model.item_factors[1]\n",
        "np.dot(my_vector, toystory_vector)"
      ]
    },
    {
      "cell_type": "markdown",
      "id": "1fb8bead",
      "metadata": {
        "id": "1fb8bead"
      },
      "source": [
        "**Similar Movie**"
      ]
    },
    {
      "cell_type": "code",
      "execution_count": null,
      "id": "8f4703ba",
      "metadata": {
        "id": "8f4703ba",
        "outputId": "c60da1b9-2806-4984-9a47-250883670e62"
      },
      "outputs": [
        {
          "data": {
            "text/plain": [
              "[(858, 1.0000001),\n",
              " (1221, 0.96376973),\n",
              " (2023, 0.5309487),\n",
              " (1953, 0.49192822),\n",
              " (923, 0.35498658),\n",
              " (2695, 0.34212857),\n",
              " (1213, 0.33592606),\n",
              " (624, 0.33157814),\n",
              " (912, 0.31745505),\n",
              " (3595, 0.30721763),\n",
              " (1787, 0.30708656),\n",
              " (111, 0.29941976),\n",
              " (1207, 0.29378197),\n",
              " (1387, 0.28012535),\n",
              " (2194, 0.27800813)]"
            ]
          },
          "execution_count": 32,
          "metadata": {},
          "output_type": "execute_result"
        }
      ],
      "source": [
        "favorite_movie = 'Godfather, The (1972)'\n",
        "movie_id = movies[movies['title']=='Godfather, The (1972)']['movie_id']\n",
        "similar_movie = als_model.similar_items(movie_id.values[0], N=15)\n",
        "similar_movie"
      ]
    },
    {
      "cell_type": "code",
      "execution_count": null,
      "id": "4c6ac68b",
      "metadata": {
        "id": "4c6ac68b",
        "outputId": "496fc4bf-d31c-4b7d-a43e-279c4fbe9e8f"
      },
      "outputs": [
        {
          "data": {
            "text/html": [
              "<div>\n",
              "<style scoped>\n",
              "    .dataframe tbody tr th:only-of-type {\n",
              "        vertical-align: middle;\n",
              "    }\n",
              "\n",
              "    .dataframe tbody tr th {\n",
              "        vertical-align: top;\n",
              "    }\n",
              "\n",
              "    .dataframe thead th {\n",
              "        text-align: right;\n",
              "    }\n",
              "</style>\n",
              "<table border=\"1\" class=\"dataframe\">\n",
              "  <thead>\n",
              "    <tr style=\"text-align: right;\">\n",
              "      <th></th>\n",
              "      <th>movie_id</th>\n",
              "      <th>title</th>\n",
              "      <th>genre</th>\n",
              "    </tr>\n",
              "  </thead>\n",
              "  <tbody>\n",
              "    <tr>\n",
              "      <th>109</th>\n",
              "      <td>111</td>\n",
              "      <td>Taxi Driver (1976)</td>\n",
              "      <td>Drama|Thriller</td>\n",
              "    </tr>\n",
              "    <tr>\n",
              "      <th>619</th>\n",
              "      <td>624</td>\n",
              "      <td>Condition Red (1995)</td>\n",
              "      <td>Action|Drama|Thriller</td>\n",
              "    </tr>\n",
              "    <tr>\n",
              "      <th>847</th>\n",
              "      <td>858</td>\n",
              "      <td>Godfather, The (1972)</td>\n",
              "      <td>Action|Crime|Drama</td>\n",
              "    </tr>\n",
              "    <tr>\n",
              "      <th>900</th>\n",
              "      <td>912</td>\n",
              "      <td>Casablanca (1942)</td>\n",
              "      <td>Drama|Romance|War</td>\n",
              "    </tr>\n",
              "    <tr>\n",
              "      <th>911</th>\n",
              "      <td>923</td>\n",
              "      <td>Citizen Kane (1941)</td>\n",
              "      <td>Drama</td>\n",
              "    </tr>\n",
              "    <tr>\n",
              "      <th>1189</th>\n",
              "      <td>1207</td>\n",
              "      <td>To Kill a Mockingbird (1962)</td>\n",
              "      <td>Drama</td>\n",
              "    </tr>\n",
              "    <tr>\n",
              "      <th>1195</th>\n",
              "      <td>1213</td>\n",
              "      <td>GoodFellas (1990)</td>\n",
              "      <td>Crime|Drama</td>\n",
              "    </tr>\n",
              "    <tr>\n",
              "      <th>1203</th>\n",
              "      <td>1221</td>\n",
              "      <td>Godfather: Part II, The (1974)</td>\n",
              "      <td>Action|Crime|Drama</td>\n",
              "    </tr>\n",
              "    <tr>\n",
              "      <th>1366</th>\n",
              "      <td>1387</td>\n",
              "      <td>Jaws (1975)</td>\n",
              "      <td>Action|Horror</td>\n",
              "    </tr>\n",
              "    <tr>\n",
              "      <th>1728</th>\n",
              "      <td>1787</td>\n",
              "      <td>Paralyzing Fear: The Story of Polio in America...</td>\n",
              "      <td>Documentary</td>\n",
              "    </tr>\n",
              "    <tr>\n",
              "      <th>1884</th>\n",
              "      <td>1953</td>\n",
              "      <td>French Connection, The (1971)</td>\n",
              "      <td>Action|Crime|Drama|Thriller</td>\n",
              "    </tr>\n",
              "    <tr>\n",
              "      <th>1954</th>\n",
              "      <td>2023</td>\n",
              "      <td>Godfather: Part III, The (1990)</td>\n",
              "      <td>Action|Crime|Drama</td>\n",
              "    </tr>\n",
              "    <tr>\n",
              "      <th>2125</th>\n",
              "      <td>2194</td>\n",
              "      <td>Untouchables, The (1987)</td>\n",
              "      <td>Action|Crime|Drama</td>\n",
              "    </tr>\n",
              "    <tr>\n",
              "      <th>2626</th>\n",
              "      <td>2695</td>\n",
              "      <td>Boys, The (1997)</td>\n",
              "      <td>Drama</td>\n",
              "    </tr>\n",
              "    <tr>\n",
              "      <th>3526</th>\n",
              "      <td>3595</td>\n",
              "      <td>Held Up (2000)</td>\n",
              "      <td>Comedy</td>\n",
              "    </tr>\n",
              "  </tbody>\n",
              "</table>\n",
              "</div>"
            ],
            "text/plain": [
              "      movie_id                                              title  \\\n",
              "109        111                                 Taxi Driver (1976)   \n",
              "619        624                               Condition Red (1995)   \n",
              "847        858                              Godfather, The (1972)   \n",
              "900        912                                  Casablanca (1942)   \n",
              "911        923                                Citizen Kane (1941)   \n",
              "1189      1207                       To Kill a Mockingbird (1962)   \n",
              "1195      1213                                  GoodFellas (1990)   \n",
              "1203      1221                     Godfather: Part II, The (1974)   \n",
              "1366      1387                                        Jaws (1975)   \n",
              "1728      1787  Paralyzing Fear: The Story of Polio in America...   \n",
              "1884      1953                      French Connection, The (1971)   \n",
              "1954      2023                    Godfather: Part III, The (1990)   \n",
              "2125      2194                           Untouchables, The (1987)   \n",
              "2626      2695                                   Boys, The (1997)   \n",
              "3526      3595                                     Held Up (2000)   \n",
              "\n",
              "                            genre  \n",
              "109                Drama|Thriller  \n",
              "619         Action|Drama|Thriller  \n",
              "847            Action|Crime|Drama  \n",
              "900             Drama|Romance|War  \n",
              "911                         Drama  \n",
              "1189                        Drama  \n",
              "1195                  Crime|Drama  \n",
              "1203           Action|Crime|Drama  \n",
              "1366                Action|Horror  \n",
              "1728                  Documentary  \n",
              "1884  Action|Crime|Drama|Thriller  \n",
              "1954           Action|Crime|Drama  \n",
              "2125           Action|Crime|Drama  \n",
              "2626                        Drama  \n",
              "3526                       Comedy  "
            ]
          },
          "execution_count": 33,
          "metadata": {},
          "output_type": "execute_result"
        }
      ],
      "source": [
        "movies[movies['movie_id'].isin([s[0] for s in similar_movie])]"
      ]
    },
    {
      "cell_type": "markdown",
      "id": "7fb07db5",
      "metadata": {
        "id": "7fb07db5"
      },
      "source": [
        "**Favorite Movie**"
      ]
    },
    {
      "cell_type": "code",
      "execution_count": null,
      "id": "16e0d9f0",
      "metadata": {
        "id": "16e0d9f0",
        "outputId": "6cd2370b-f756-45e4-8551-b5629a286d21"
      },
      "outputs": [
        {
          "data": {
            "text/plain": [
              "[(589, 0.6565444),\n",
              " (1221, 0.5241904),\n",
              " (2916, 0.43456084),\n",
              " (260, 0.35347295),\n",
              " (1573, 0.31569466),\n",
              " (110, 0.3056903),\n",
              " (1527, 0.30177245),\n",
              " (1196, 0.29441684),\n",
              " (1210, 0.28158402),\n",
              " (1240, 0.27406263),\n",
              " (780, 0.27045923),\n",
              " (2791, 0.25477815),\n",
              " (1097, 0.24566084),\n",
              " (3175, 0.24299057),\n",
              " (457, 0.23872316),\n",
              " (2028, 0.23649827),\n",
              " (1198, 0.2322864),\n",
              " (1544, 0.2319798),\n",
              " (2023, 0.22917403),\n",
              " (2628, 0.21907125)]"
            ]
          },
          "execution_count": 34,
          "metadata": {},
          "output_type": "execute_result"
        }
      ],
      "source": [
        "user = 6041\n",
        "movie_recommended = als_model.recommend(user, csr_data, N=20, filter_already_liked_items=True)\n",
        "movie_recommended"
      ]
    },
    {
      "cell_type": "code",
      "execution_count": null,
      "id": "29d4353a",
      "metadata": {
        "id": "29d4353a",
        "outputId": "f2229131-79c7-4a2d-c656-d4dad7d69a62"
      },
      "outputs": [
        {
          "data": {
            "text/html": [
              "<div>\n",
              "<style scoped>\n",
              "    .dataframe tbody tr th:only-of-type {\n",
              "        vertical-align: middle;\n",
              "    }\n",
              "\n",
              "    .dataframe tbody tr th {\n",
              "        vertical-align: top;\n",
              "    }\n",
              "\n",
              "    .dataframe thead th {\n",
              "        text-align: right;\n",
              "    }\n",
              "</style>\n",
              "<table border=\"1\" class=\"dataframe\">\n",
              "  <thead>\n",
              "    <tr style=\"text-align: right;\">\n",
              "      <th></th>\n",
              "      <th>movie_id</th>\n",
              "      <th>title</th>\n",
              "      <th>genre</th>\n",
              "    </tr>\n",
              "  </thead>\n",
              "  <tbody>\n",
              "    <tr>\n",
              "      <th>108</th>\n",
              "      <td>110</td>\n",
              "      <td>Braveheart (1995)</td>\n",
              "      <td>Action|Drama|War</td>\n",
              "    </tr>\n",
              "    <tr>\n",
              "      <th>257</th>\n",
              "      <td>260</td>\n",
              "      <td>Star Wars: Episode IV - A New Hope (1977)</td>\n",
              "      <td>Action|Adventure|Fantasy|Sci-Fi</td>\n",
              "    </tr>\n",
              "    <tr>\n",
              "      <th>453</th>\n",
              "      <td>457</td>\n",
              "      <td>Fugitive, The (1993)</td>\n",
              "      <td>Action|Thriller</td>\n",
              "    </tr>\n",
              "    <tr>\n",
              "      <th>585</th>\n",
              "      <td>589</td>\n",
              "      <td>Terminator 2: Judgment Day (1991)</td>\n",
              "      <td>Action|Sci-Fi|Thriller</td>\n",
              "    </tr>\n",
              "    <tr>\n",
              "      <th>770</th>\n",
              "      <td>780</td>\n",
              "      <td>Independence Day (ID4) (1996)</td>\n",
              "      <td>Action|Sci-Fi|War</td>\n",
              "    </tr>\n",
              "    <tr>\n",
              "      <th>1081</th>\n",
              "      <td>1097</td>\n",
              "      <td>E.T. the Extra-Terrestrial (1982)</td>\n",
              "      <td>Children's|Drama|Fantasy|Sci-Fi</td>\n",
              "    </tr>\n",
              "    <tr>\n",
              "      <th>1178</th>\n",
              "      <td>1196</td>\n",
              "      <td>Star Wars: Episode V - The Empire Strikes Back...</td>\n",
              "      <td>Action|Adventure|Drama|Sci-Fi|War</td>\n",
              "    </tr>\n",
              "    <tr>\n",
              "      <th>1180</th>\n",
              "      <td>1198</td>\n",
              "      <td>Raiders of the Lost Ark (1981)</td>\n",
              "      <td>Action|Adventure</td>\n",
              "    </tr>\n",
              "    <tr>\n",
              "      <th>1192</th>\n",
              "      <td>1210</td>\n",
              "      <td>Star Wars: Episode VI - Return of the Jedi (1983)</td>\n",
              "      <td>Action|Adventure|Romance|Sci-Fi|War</td>\n",
              "    </tr>\n",
              "    <tr>\n",
              "      <th>1203</th>\n",
              "      <td>1221</td>\n",
              "      <td>Godfather: Part II, The (1974)</td>\n",
              "      <td>Action|Crime|Drama</td>\n",
              "    </tr>\n",
              "    <tr>\n",
              "      <th>1220</th>\n",
              "      <td>1240</td>\n",
              "      <td>Terminator, The (1984)</td>\n",
              "      <td>Action|Sci-Fi|Thriller</td>\n",
              "    </tr>\n",
              "    <tr>\n",
              "      <th>1491</th>\n",
              "      <td>1527</td>\n",
              "      <td>Fifth Element, The (1997)</td>\n",
              "      <td>Action|Sci-Fi</td>\n",
              "    </tr>\n",
              "    <tr>\n",
              "      <th>1505</th>\n",
              "      <td>1544</td>\n",
              "      <td>Lost World: Jurassic Park, The (1997)</td>\n",
              "      <td>Action|Adventure|Sci-Fi|Thriller</td>\n",
              "    </tr>\n",
              "    <tr>\n",
              "      <th>1533</th>\n",
              "      <td>1573</td>\n",
              "      <td>Face/Off (1997)</td>\n",
              "      <td>Action|Sci-Fi|Thriller</td>\n",
              "    </tr>\n",
              "    <tr>\n",
              "      <th>1954</th>\n",
              "      <td>2023</td>\n",
              "      <td>Godfather: Part III, The (1990)</td>\n",
              "      <td>Action|Crime|Drama</td>\n",
              "    </tr>\n",
              "    <tr>\n",
              "      <th>1959</th>\n",
              "      <td>2028</td>\n",
              "      <td>Saving Private Ryan (1998)</td>\n",
              "      <td>Action|Drama|War</td>\n",
              "    </tr>\n",
              "    <tr>\n",
              "      <th>2559</th>\n",
              "      <td>2628</td>\n",
              "      <td>Star Wars: Episode I - The Phantom Menace (1999)</td>\n",
              "      <td>Action|Adventure|Fantasy|Sci-Fi</td>\n",
              "    </tr>\n",
              "    <tr>\n",
              "      <th>2722</th>\n",
              "      <td>2791</td>\n",
              "      <td>Airplane! (1980)</td>\n",
              "      <td>Comedy</td>\n",
              "    </tr>\n",
              "    <tr>\n",
              "      <th>2847</th>\n",
              "      <td>2916</td>\n",
              "      <td>Total Recall (1990)</td>\n",
              "      <td>Action|Adventure|Sci-Fi|Thriller</td>\n",
              "    </tr>\n",
              "    <tr>\n",
              "      <th>3106</th>\n",
              "      <td>3175</td>\n",
              "      <td>Galaxy Quest (1999)</td>\n",
              "      <td>Adventure|Comedy|Sci-Fi</td>\n",
              "    </tr>\n",
              "  </tbody>\n",
              "</table>\n",
              "</div>"
            ],
            "text/plain": [
              "      movie_id                                              title  \\\n",
              "108        110                                  Braveheart (1995)   \n",
              "257        260          Star Wars: Episode IV - A New Hope (1977)   \n",
              "453        457                               Fugitive, The (1993)   \n",
              "585        589                  Terminator 2: Judgment Day (1991)   \n",
              "770        780                      Independence Day (ID4) (1996)   \n",
              "1081      1097                  E.T. the Extra-Terrestrial (1982)   \n",
              "1178      1196  Star Wars: Episode V - The Empire Strikes Back...   \n",
              "1180      1198                     Raiders of the Lost Ark (1981)   \n",
              "1192      1210  Star Wars: Episode VI - Return of the Jedi (1983)   \n",
              "1203      1221                     Godfather: Part II, The (1974)   \n",
              "1220      1240                             Terminator, The (1984)   \n",
              "1491      1527                          Fifth Element, The (1997)   \n",
              "1505      1544              Lost World: Jurassic Park, The (1997)   \n",
              "1533      1573                                    Face/Off (1997)   \n",
              "1954      2023                    Godfather: Part III, The (1990)   \n",
              "1959      2028                         Saving Private Ryan (1998)   \n",
              "2559      2628   Star Wars: Episode I - The Phantom Menace (1999)   \n",
              "2722      2791                                   Airplane! (1980)   \n",
              "2847      2916                                Total Recall (1990)   \n",
              "3106      3175                                Galaxy Quest (1999)   \n",
              "\n",
              "                                    genre  \n",
              "108                      Action|Drama|War  \n",
              "257       Action|Adventure|Fantasy|Sci-Fi  \n",
              "453                       Action|Thriller  \n",
              "585                Action|Sci-Fi|Thriller  \n",
              "770                     Action|Sci-Fi|War  \n",
              "1081      Children's|Drama|Fantasy|Sci-Fi  \n",
              "1178    Action|Adventure|Drama|Sci-Fi|War  \n",
              "1180                     Action|Adventure  \n",
              "1192  Action|Adventure|Romance|Sci-Fi|War  \n",
              "1203                   Action|Crime|Drama  \n",
              "1220               Action|Sci-Fi|Thriller  \n",
              "1491                        Action|Sci-Fi  \n",
              "1505     Action|Adventure|Sci-Fi|Thriller  \n",
              "1533               Action|Sci-Fi|Thriller  \n",
              "1954                   Action|Crime|Drama  \n",
              "1959                     Action|Drama|War  \n",
              "2559      Action|Adventure|Fantasy|Sci-Fi  \n",
              "2722                               Comedy  \n",
              "2847     Action|Adventure|Sci-Fi|Thriller  \n",
              "3106              Adventure|Comedy|Sci-Fi  "
            ]
          },
          "execution_count": 35,
          "metadata": {},
          "output_type": "execute_result"
        }
      ],
      "source": [
        "movies[movies['movie_id'].isin([m[0] for m in movie_recommended])]"
      ]
    },
    {
      "cell_type": "markdown",
      "source": [
        "**회고**\n",
        "\n",
        "좋아하는 영화로 다음의 영화들을 선택하였습니다.\n",
        "Godfather, The\n",
        "Back to the Future\n",
        "Matrix\n",
        "Men in Black\n",
        "Jurassic Park\n",
        "\n",
        "Godfather에 대한 선호도를 측정한 결과, 0.62 정도가 측정되었고, 좋아하는 영화 목록에 없는 toystory에 대한 선호도를 측정한 결과, 0.16 정도가 측정되었습니다.\n",
        "\n",
        "Godfather와 유사한 영화를 추천받아봤는데, Godfather의 장르인 Action|Crime|Drama 와 비슷한 장르의 영화를 추천받았습니다.\n",
        "\n",
        "좋아하는 영화추천에서는 대부분의 장르가 Action이었습니다. 초기에 목록에 넣은 영화들의 장르에 Action이 많이 포함되어 있어서 이런 결과를 얻은 것 같습니다."
      ],
      "metadata": {
        "id": "DLil4ltW5lCz"
      },
      "id": "DLil4ltW5lCz"
    },
    {
      "cell_type": "code",
      "execution_count": null,
      "id": "a5c9ab49",
      "metadata": {
        "id": "a5c9ab49"
      },
      "outputs": [],
      "source": []
    }
  ],
  "metadata": {
    "kernelspec": {
      "display_name": "Python 3 (ipykernel)",
      "language": "python",
      "name": "python3"
    },
    "language_info": {
      "codemirror_mode": {
        "name": "ipython",
        "version": 3
      },
      "file_extension": ".py",
      "mimetype": "text/x-python",
      "name": "python",
      "nbconvert_exporter": "python",
      "pygments_lexer": "ipython3",
      "version": "3.9.7"
    },
    "colab": {
      "provenance": []
    }
  },
  "nbformat": 4,
  "nbformat_minor": 5
}