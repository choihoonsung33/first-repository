{
  "cells": [
    {
      "cell_type": "markdown",
      "source": [
        "**(1) 손글씨 분류**"
      ],
      "metadata": {
        "id": "edDkHqjpJcoA"
      }
    },
    {
      "cell_type": "code",
      "execution_count": 1,
      "metadata": {
        "id": "jhuS-4SHjx5y"
      },
      "outputs": [],
      "source": [
        "from sklearn.datasets import load_digits\n",
        "from sklearn.model_selection import train_test_split\n",
        "from sklearn.metrics import classification_report"
      ]
    },
    {
      "cell_type": "code",
      "execution_count": 2,
      "metadata": {
        "colab": {
          "base_uri": "https://localhost:8080/"
        },
        "id": "OPZ5Q0FhuaOp",
        "outputId": "63299d67-bfaf-4636-9e7b-a757656dd6fb"
      },
      "outputs": [
        {
          "output_type": "stream",
          "name": "stdout",
          "text": [
            "['DESCR', 'data', 'feature_names', 'frame', 'images', 'target', 'target_names']\n"
          ]
        }
      ],
      "source": [
        "digits = load_digits()\n",
        "print(dir(digits))"
      ]
    },
    {
      "cell_type": "code",
      "execution_count": 3,
      "metadata": {
        "colab": {
          "base_uri": "https://localhost:8080/"
        },
        "id": "Rwx5e-bbwFvy",
        "outputId": "60c6cc82-f95a-4520-b890-dbac3f6784f8"
      },
      "outputs": [
        {
          "output_type": "stream",
          "name": "stdout",
          "text": [
            "(1797, 64)\n"
          ]
        }
      ],
      "source": [
        "digits_data = digits.data\n",
        "print(digits_data.shape)"
      ]
    },
    {
      "cell_type": "code",
      "execution_count": 4,
      "metadata": {
        "colab": {
          "base_uri": "https://localhost:8080/"
        },
        "id": "HcflTYeay7VC",
        "outputId": "4deb0c1b-6593-43ff-ad0b-a0584f02e44f"
      },
      "outputs": [
        {
          "output_type": "execute_result",
          "data": {
            "text/plain": [
              "array([ 0.,  0.,  5., 13.,  9.,  1.,  0.,  0.,  0.,  0., 13., 15., 10.,\n",
              "       15.,  5.,  0.,  0.,  3., 15.,  2.,  0., 11.,  8.,  0.,  0.,  4.,\n",
              "       12.,  0.,  0.,  8.,  8.,  0.,  0.,  5.,  8.,  0.,  0.,  9.,  8.,\n",
              "        0.,  0.,  4., 11.,  0.,  1., 12.,  7.,  0.,  0.,  2., 14.,  5.,\n",
              "       10., 12.,  0.,  0.,  0.,  0.,  6., 13., 10.,  0.,  0.,  0.])"
            ]
          },
          "metadata": {},
          "execution_count": 4
        }
      ],
      "source": [
        "digits_data[0]"
      ]
    },
    {
      "cell_type": "code",
      "execution_count": 5,
      "metadata": {
        "colab": {
          "base_uri": "https://localhost:8080/"
        },
        "id": "HLGGruvBy-4l",
        "outputId": "8fed81e3-452b-49c2-b66c-d1cbd6efb679"
      },
      "outputs": [
        {
          "output_type": "stream",
          "name": "stdout",
          "text": [
            "(1797,)\n"
          ]
        }
      ],
      "source": [
        "digits_label = digits.target\n",
        "print(digits_label.shape)"
      ]
    },
    {
      "cell_type": "code",
      "execution_count": 6,
      "metadata": {
        "colab": {
          "base_uri": "https://localhost:8080/"
        },
        "id": "cdi3EyutzLfE",
        "outputId": "e5d7ebf0-ecef-421b-ff57-263d35207db1"
      },
      "outputs": [
        {
          "output_type": "execute_result",
          "data": {
            "text/plain": [
              "array([0, 1, 2, 3, 4, 5, 6, 7, 8, 9])"
            ]
          },
          "metadata": {},
          "execution_count": 6
        }
      ],
      "source": [
        "digits.target_names"
      ]
    },
    {
      "cell_type": "code",
      "execution_count": 7,
      "metadata": {
        "colab": {
          "base_uri": "https://localhost:8080/"
        },
        "id": "6cj7nzfOzZ7Z",
        "outputId": "0b14c9cc-f31d-4089-e74c-96004dc5b5c8"
      },
      "outputs": [
        {
          "output_type": "execute_result",
          "data": {
            "text/plain": [
              "['pixel_0_0',\n",
              " 'pixel_0_1',\n",
              " 'pixel_0_2',\n",
              " 'pixel_0_3',\n",
              " 'pixel_0_4',\n",
              " 'pixel_0_5',\n",
              " 'pixel_0_6',\n",
              " 'pixel_0_7',\n",
              " 'pixel_1_0',\n",
              " 'pixel_1_1',\n",
              " 'pixel_1_2',\n",
              " 'pixel_1_3',\n",
              " 'pixel_1_4',\n",
              " 'pixel_1_5',\n",
              " 'pixel_1_6',\n",
              " 'pixel_1_7',\n",
              " 'pixel_2_0',\n",
              " 'pixel_2_1',\n",
              " 'pixel_2_2',\n",
              " 'pixel_2_3',\n",
              " 'pixel_2_4',\n",
              " 'pixel_2_5',\n",
              " 'pixel_2_6',\n",
              " 'pixel_2_7',\n",
              " 'pixel_3_0',\n",
              " 'pixel_3_1',\n",
              " 'pixel_3_2',\n",
              " 'pixel_3_3',\n",
              " 'pixel_3_4',\n",
              " 'pixel_3_5',\n",
              " 'pixel_3_6',\n",
              " 'pixel_3_7',\n",
              " 'pixel_4_0',\n",
              " 'pixel_4_1',\n",
              " 'pixel_4_2',\n",
              " 'pixel_4_3',\n",
              " 'pixel_4_4',\n",
              " 'pixel_4_5',\n",
              " 'pixel_4_6',\n",
              " 'pixel_4_7',\n",
              " 'pixel_5_0',\n",
              " 'pixel_5_1',\n",
              " 'pixel_5_2',\n",
              " 'pixel_5_3',\n",
              " 'pixel_5_4',\n",
              " 'pixel_5_5',\n",
              " 'pixel_5_6',\n",
              " 'pixel_5_7',\n",
              " 'pixel_6_0',\n",
              " 'pixel_6_1',\n",
              " 'pixel_6_2',\n",
              " 'pixel_6_3',\n",
              " 'pixel_6_4',\n",
              " 'pixel_6_5',\n",
              " 'pixel_6_6',\n",
              " 'pixel_6_7',\n",
              " 'pixel_7_0',\n",
              " 'pixel_7_1',\n",
              " 'pixel_7_2',\n",
              " 'pixel_7_3',\n",
              " 'pixel_7_4',\n",
              " 'pixel_7_5',\n",
              " 'pixel_7_6',\n",
              " 'pixel_7_7']"
            ]
          },
          "metadata": {},
          "execution_count": 7
        }
      ],
      "source": [
        "digits.feature_names"
      ]
    },
    {
      "cell_type": "code",
      "execution_count": 8,
      "metadata": {
        "colab": {
          "base_uri": "https://localhost:8080/"
        },
        "id": "jQfCQbsC0b5A",
        "outputId": "a8169175-9236-4822-c13a-e1817606c8b8"
      },
      "outputs": [
        {
          "output_type": "stream",
          "name": "stdout",
          "text": [
            "1.3.5\n"
          ]
        }
      ],
      "source": [
        "import pandas as pd\n",
        "\n",
        "print(pd.__version__)"
      ]
    },
    {
      "cell_type": "code",
      "execution_count": 9,
      "metadata": {
        "colab": {
          "base_uri": "https://localhost:8080/",
          "height": 488
        },
        "id": "0KmGIR90zmJa",
        "outputId": "e8729567-4616-4403-9d3c-25f8600cfcef"
      },
      "outputs": [
        {
          "output_type": "execute_result",
          "data": {
            "text/plain": [
              "      pixel_0_0  pixel_0_1  pixel_0_2  pixel_0_3  pixel_0_4  pixel_0_5  \\\n",
              "0           0.0        0.0        5.0       13.0        9.0        1.0   \n",
              "1           0.0        0.0        0.0       12.0       13.0        5.0   \n",
              "2           0.0        0.0        0.0        4.0       15.0       12.0   \n",
              "3           0.0        0.0        7.0       15.0       13.0        1.0   \n",
              "4           0.0        0.0        0.0        1.0       11.0        0.0   \n",
              "...         ...        ...        ...        ...        ...        ...   \n",
              "1792        0.0        0.0        4.0       10.0       13.0        6.0   \n",
              "1793        0.0        0.0        6.0       16.0       13.0       11.0   \n",
              "1794        0.0        0.0        1.0       11.0       15.0        1.0   \n",
              "1795        0.0        0.0        2.0       10.0        7.0        0.0   \n",
              "1796        0.0        0.0       10.0       14.0        8.0        1.0   \n",
              "\n",
              "      pixel_0_6  pixel_0_7  pixel_1_0  pixel_1_1  ...  pixel_6_6  pixel_6_7  \\\n",
              "0           0.0        0.0        0.0        0.0  ...        0.0        0.0   \n",
              "1           0.0        0.0        0.0        0.0  ...        0.0        0.0   \n",
              "2           0.0        0.0        0.0        0.0  ...        5.0        0.0   \n",
              "3           0.0        0.0        0.0        8.0  ...        9.0        0.0   \n",
              "4           0.0        0.0        0.0        0.0  ...        0.0        0.0   \n",
              "...         ...        ...        ...        ...  ...        ...        ...   \n",
              "1792        0.0        0.0        0.0        1.0  ...        4.0        0.0   \n",
              "1793        1.0        0.0        0.0        0.0  ...        1.0        0.0   \n",
              "1794        0.0        0.0        0.0        0.0  ...        0.0        0.0   \n",
              "1795        0.0        0.0        0.0        0.0  ...        2.0        0.0   \n",
              "1796        0.0        0.0        0.0        2.0  ...        8.0        0.0   \n",
              "\n",
              "      pixel_7_0  pixel_7_1  pixel_7_2  pixel_7_3  pixel_7_4  pixel_7_5  \\\n",
              "0           0.0        0.0        6.0       13.0       10.0        0.0   \n",
              "1           0.0        0.0        0.0       11.0       16.0       10.0   \n",
              "2           0.0        0.0        0.0        3.0       11.0       16.0   \n",
              "3           0.0        0.0        7.0       13.0       13.0        9.0   \n",
              "4           0.0        0.0        0.0        2.0       16.0        4.0   \n",
              "...         ...        ...        ...        ...        ...        ...   \n",
              "1792        0.0        0.0        2.0       14.0       15.0        9.0   \n",
              "1793        0.0        0.0        6.0       16.0       14.0        6.0   \n",
              "1794        0.0        0.0        2.0        9.0       13.0        6.0   \n",
              "1795        0.0        0.0        5.0       12.0       16.0       12.0   \n",
              "1796        0.0        1.0        8.0       12.0       14.0       12.0   \n",
              "\n",
              "      pixel_7_6  pixel_7_7  \n",
              "0           0.0        0.0  \n",
              "1           0.0        0.0  \n",
              "2           9.0        0.0  \n",
              "3           0.0        0.0  \n",
              "4           0.0        0.0  \n",
              "...         ...        ...  \n",
              "1792        0.0        0.0  \n",
              "1793        0.0        0.0  \n",
              "1794        0.0        0.0  \n",
              "1795        0.0        0.0  \n",
              "1796        1.0        0.0  \n",
              "\n",
              "[1797 rows x 64 columns]"
            ],
            "text/html": [
              "\n",
              "  <div id=\"df-87d3533f-72a8-4fb0-afbc-baded17654ca\">\n",
              "    <div class=\"colab-df-container\">\n",
              "      <div>\n",
              "<style scoped>\n",
              "    .dataframe tbody tr th:only-of-type {\n",
              "        vertical-align: middle;\n",
              "    }\n",
              "\n",
              "    .dataframe tbody tr th {\n",
              "        vertical-align: top;\n",
              "    }\n",
              "\n",
              "    .dataframe thead th {\n",
              "        text-align: right;\n",
              "    }\n",
              "</style>\n",
              "<table border=\"1\" class=\"dataframe\">\n",
              "  <thead>\n",
              "    <tr style=\"text-align: right;\">\n",
              "      <th></th>\n",
              "      <th>pixel_0_0</th>\n",
              "      <th>pixel_0_1</th>\n",
              "      <th>pixel_0_2</th>\n",
              "      <th>pixel_0_3</th>\n",
              "      <th>pixel_0_4</th>\n",
              "      <th>pixel_0_5</th>\n",
              "      <th>pixel_0_6</th>\n",
              "      <th>pixel_0_7</th>\n",
              "      <th>pixel_1_0</th>\n",
              "      <th>pixel_1_1</th>\n",
              "      <th>...</th>\n",
              "      <th>pixel_6_6</th>\n",
              "      <th>pixel_6_7</th>\n",
              "      <th>pixel_7_0</th>\n",
              "      <th>pixel_7_1</th>\n",
              "      <th>pixel_7_2</th>\n",
              "      <th>pixel_7_3</th>\n",
              "      <th>pixel_7_4</th>\n",
              "      <th>pixel_7_5</th>\n",
              "      <th>pixel_7_6</th>\n",
              "      <th>pixel_7_7</th>\n",
              "    </tr>\n",
              "  </thead>\n",
              "  <tbody>\n",
              "    <tr>\n",
              "      <th>0</th>\n",
              "      <td>0.0</td>\n",
              "      <td>0.0</td>\n",
              "      <td>5.0</td>\n",
              "      <td>13.0</td>\n",
              "      <td>9.0</td>\n",
              "      <td>1.0</td>\n",
              "      <td>0.0</td>\n",
              "      <td>0.0</td>\n",
              "      <td>0.0</td>\n",
              "      <td>0.0</td>\n",
              "      <td>...</td>\n",
              "      <td>0.0</td>\n",
              "      <td>0.0</td>\n",
              "      <td>0.0</td>\n",
              "      <td>0.0</td>\n",
              "      <td>6.0</td>\n",
              "      <td>13.0</td>\n",
              "      <td>10.0</td>\n",
              "      <td>0.0</td>\n",
              "      <td>0.0</td>\n",
              "      <td>0.0</td>\n",
              "    </tr>\n",
              "    <tr>\n",
              "      <th>1</th>\n",
              "      <td>0.0</td>\n",
              "      <td>0.0</td>\n",
              "      <td>0.0</td>\n",
              "      <td>12.0</td>\n",
              "      <td>13.0</td>\n",
              "      <td>5.0</td>\n",
              "      <td>0.0</td>\n",
              "      <td>0.0</td>\n",
              "      <td>0.0</td>\n",
              "      <td>0.0</td>\n",
              "      <td>...</td>\n",
              "      <td>0.0</td>\n",
              "      <td>0.0</td>\n",
              "      <td>0.0</td>\n",
              "      <td>0.0</td>\n",
              "      <td>0.0</td>\n",
              "      <td>11.0</td>\n",
              "      <td>16.0</td>\n",
              "      <td>10.0</td>\n",
              "      <td>0.0</td>\n",
              "      <td>0.0</td>\n",
              "    </tr>\n",
              "    <tr>\n",
              "      <th>2</th>\n",
              "      <td>0.0</td>\n",
              "      <td>0.0</td>\n",
              "      <td>0.0</td>\n",
              "      <td>4.0</td>\n",
              "      <td>15.0</td>\n",
              "      <td>12.0</td>\n",
              "      <td>0.0</td>\n",
              "      <td>0.0</td>\n",
              "      <td>0.0</td>\n",
              "      <td>0.0</td>\n",
              "      <td>...</td>\n",
              "      <td>5.0</td>\n",
              "      <td>0.0</td>\n",
              "      <td>0.0</td>\n",
              "      <td>0.0</td>\n",
              "      <td>0.0</td>\n",
              "      <td>3.0</td>\n",
              "      <td>11.0</td>\n",
              "      <td>16.0</td>\n",
              "      <td>9.0</td>\n",
              "      <td>0.0</td>\n",
              "    </tr>\n",
              "    <tr>\n",
              "      <th>3</th>\n",
              "      <td>0.0</td>\n",
              "      <td>0.0</td>\n",
              "      <td>7.0</td>\n",
              "      <td>15.0</td>\n",
              "      <td>13.0</td>\n",
              "      <td>1.0</td>\n",
              "      <td>0.0</td>\n",
              "      <td>0.0</td>\n",
              "      <td>0.0</td>\n",
              "      <td>8.0</td>\n",
              "      <td>...</td>\n",
              "      <td>9.0</td>\n",
              "      <td>0.0</td>\n",
              "      <td>0.0</td>\n",
              "      <td>0.0</td>\n",
              "      <td>7.0</td>\n",
              "      <td>13.0</td>\n",
              "      <td>13.0</td>\n",
              "      <td>9.0</td>\n",
              "      <td>0.0</td>\n",
              "      <td>0.0</td>\n",
              "    </tr>\n",
              "    <tr>\n",
              "      <th>4</th>\n",
              "      <td>0.0</td>\n",
              "      <td>0.0</td>\n",
              "      <td>0.0</td>\n",
              "      <td>1.0</td>\n",
              "      <td>11.0</td>\n",
              "      <td>0.0</td>\n",
              "      <td>0.0</td>\n",
              "      <td>0.0</td>\n",
              "      <td>0.0</td>\n",
              "      <td>0.0</td>\n",
              "      <td>...</td>\n",
              "      <td>0.0</td>\n",
              "      <td>0.0</td>\n",
              "      <td>0.0</td>\n",
              "      <td>0.0</td>\n",
              "      <td>0.0</td>\n",
              "      <td>2.0</td>\n",
              "      <td>16.0</td>\n",
              "      <td>4.0</td>\n",
              "      <td>0.0</td>\n",
              "      <td>0.0</td>\n",
              "    </tr>\n",
              "    <tr>\n",
              "      <th>...</th>\n",
              "      <td>...</td>\n",
              "      <td>...</td>\n",
              "      <td>...</td>\n",
              "      <td>...</td>\n",
              "      <td>...</td>\n",
              "      <td>...</td>\n",
              "      <td>...</td>\n",
              "      <td>...</td>\n",
              "      <td>...</td>\n",
              "      <td>...</td>\n",
              "      <td>...</td>\n",
              "      <td>...</td>\n",
              "      <td>...</td>\n",
              "      <td>...</td>\n",
              "      <td>...</td>\n",
              "      <td>...</td>\n",
              "      <td>...</td>\n",
              "      <td>...</td>\n",
              "      <td>...</td>\n",
              "      <td>...</td>\n",
              "      <td>...</td>\n",
              "    </tr>\n",
              "    <tr>\n",
              "      <th>1792</th>\n",
              "      <td>0.0</td>\n",
              "      <td>0.0</td>\n",
              "      <td>4.0</td>\n",
              "      <td>10.0</td>\n",
              "      <td>13.0</td>\n",
              "      <td>6.0</td>\n",
              "      <td>0.0</td>\n",
              "      <td>0.0</td>\n",
              "      <td>0.0</td>\n",
              "      <td>1.0</td>\n",
              "      <td>...</td>\n",
              "      <td>4.0</td>\n",
              "      <td>0.0</td>\n",
              "      <td>0.0</td>\n",
              "      <td>0.0</td>\n",
              "      <td>2.0</td>\n",
              "      <td>14.0</td>\n",
              "      <td>15.0</td>\n",
              "      <td>9.0</td>\n",
              "      <td>0.0</td>\n",
              "      <td>0.0</td>\n",
              "    </tr>\n",
              "    <tr>\n",
              "      <th>1793</th>\n",
              "      <td>0.0</td>\n",
              "      <td>0.0</td>\n",
              "      <td>6.0</td>\n",
              "      <td>16.0</td>\n",
              "      <td>13.0</td>\n",
              "      <td>11.0</td>\n",
              "      <td>1.0</td>\n",
              "      <td>0.0</td>\n",
              "      <td>0.0</td>\n",
              "      <td>0.0</td>\n",
              "      <td>...</td>\n",
              "      <td>1.0</td>\n",
              "      <td>0.0</td>\n",
              "      <td>0.0</td>\n",
              "      <td>0.0</td>\n",
              "      <td>6.0</td>\n",
              "      <td>16.0</td>\n",
              "      <td>14.0</td>\n",
              "      <td>6.0</td>\n",
              "      <td>0.0</td>\n",
              "      <td>0.0</td>\n",
              "    </tr>\n",
              "    <tr>\n",
              "      <th>1794</th>\n",
              "      <td>0.0</td>\n",
              "      <td>0.0</td>\n",
              "      <td>1.0</td>\n",
              "      <td>11.0</td>\n",
              "      <td>15.0</td>\n",
              "      <td>1.0</td>\n",
              "      <td>0.0</td>\n",
              "      <td>0.0</td>\n",
              "      <td>0.0</td>\n",
              "      <td>0.0</td>\n",
              "      <td>...</td>\n",
              "      <td>0.0</td>\n",
              "      <td>0.0</td>\n",
              "      <td>0.0</td>\n",
              "      <td>0.0</td>\n",
              "      <td>2.0</td>\n",
              "      <td>9.0</td>\n",
              "      <td>13.0</td>\n",
              "      <td>6.0</td>\n",
              "      <td>0.0</td>\n",
              "      <td>0.0</td>\n",
              "    </tr>\n",
              "    <tr>\n",
              "      <th>1795</th>\n",
              "      <td>0.0</td>\n",
              "      <td>0.0</td>\n",
              "      <td>2.0</td>\n",
              "      <td>10.0</td>\n",
              "      <td>7.0</td>\n",
              "      <td>0.0</td>\n",
              "      <td>0.0</td>\n",
              "      <td>0.0</td>\n",
              "      <td>0.0</td>\n",
              "      <td>0.0</td>\n",
              "      <td>...</td>\n",
              "      <td>2.0</td>\n",
              "      <td>0.0</td>\n",
              "      <td>0.0</td>\n",
              "      <td>0.0</td>\n",
              "      <td>5.0</td>\n",
              "      <td>12.0</td>\n",
              "      <td>16.0</td>\n",
              "      <td>12.0</td>\n",
              "      <td>0.0</td>\n",
              "      <td>0.0</td>\n",
              "    </tr>\n",
              "    <tr>\n",
              "      <th>1796</th>\n",
              "      <td>0.0</td>\n",
              "      <td>0.0</td>\n",
              "      <td>10.0</td>\n",
              "      <td>14.0</td>\n",
              "      <td>8.0</td>\n",
              "      <td>1.0</td>\n",
              "      <td>0.0</td>\n",
              "      <td>0.0</td>\n",
              "      <td>0.0</td>\n",
              "      <td>2.0</td>\n",
              "      <td>...</td>\n",
              "      <td>8.0</td>\n",
              "      <td>0.0</td>\n",
              "      <td>0.0</td>\n",
              "      <td>1.0</td>\n",
              "      <td>8.0</td>\n",
              "      <td>12.0</td>\n",
              "      <td>14.0</td>\n",
              "      <td>12.0</td>\n",
              "      <td>1.0</td>\n",
              "      <td>0.0</td>\n",
              "    </tr>\n",
              "  </tbody>\n",
              "</table>\n",
              "<p>1797 rows × 64 columns</p>\n",
              "</div>\n",
              "      <button class=\"colab-df-convert\" onclick=\"convertToInteractive('df-87d3533f-72a8-4fb0-afbc-baded17654ca')\"\n",
              "              title=\"Convert this dataframe to an interactive table.\"\n",
              "              style=\"display:none;\">\n",
              "        \n",
              "  <svg xmlns=\"http://www.w3.org/2000/svg\" height=\"24px\"viewBox=\"0 0 24 24\"\n",
              "       width=\"24px\">\n",
              "    <path d=\"M0 0h24v24H0V0z\" fill=\"none\"/>\n",
              "    <path d=\"M18.56 5.44l.94 2.06.94-2.06 2.06-.94-2.06-.94-.94-2.06-.94 2.06-2.06.94zm-11 1L8.5 8.5l.94-2.06 2.06-.94-2.06-.94L8.5 2.5l-.94 2.06-2.06.94zm10 10l.94 2.06.94-2.06 2.06-.94-2.06-.94-.94-2.06-.94 2.06-2.06.94z\"/><path d=\"M17.41 7.96l-1.37-1.37c-.4-.4-.92-.59-1.43-.59-.52 0-1.04.2-1.43.59L10.3 9.45l-7.72 7.72c-.78.78-.78 2.05 0 2.83L4 21.41c.39.39.9.59 1.41.59.51 0 1.02-.2 1.41-.59l7.78-7.78 2.81-2.81c.8-.78.8-2.07 0-2.86zM5.41 20L4 18.59l7.72-7.72 1.47 1.35L5.41 20z\"/>\n",
              "  </svg>\n",
              "      </button>\n",
              "      \n",
              "  <style>\n",
              "    .colab-df-container {\n",
              "      display:flex;\n",
              "      flex-wrap:wrap;\n",
              "      gap: 12px;\n",
              "    }\n",
              "\n",
              "    .colab-df-convert {\n",
              "      background-color: #E8F0FE;\n",
              "      border: none;\n",
              "      border-radius: 50%;\n",
              "      cursor: pointer;\n",
              "      display: none;\n",
              "      fill: #1967D2;\n",
              "      height: 32px;\n",
              "      padding: 0 0 0 0;\n",
              "      width: 32px;\n",
              "    }\n",
              "\n",
              "    .colab-df-convert:hover {\n",
              "      background-color: #E2EBFA;\n",
              "      box-shadow: 0px 1px 2px rgba(60, 64, 67, 0.3), 0px 1px 3px 1px rgba(60, 64, 67, 0.15);\n",
              "      fill: #174EA6;\n",
              "    }\n",
              "\n",
              "    [theme=dark] .colab-df-convert {\n",
              "      background-color: #3B4455;\n",
              "      fill: #D2E3FC;\n",
              "    }\n",
              "\n",
              "    [theme=dark] .colab-df-convert:hover {\n",
              "      background-color: #434B5C;\n",
              "      box-shadow: 0px 1px 3px 1px rgba(0, 0, 0, 0.15);\n",
              "      filter: drop-shadow(0px 1px 2px rgba(0, 0, 0, 0.3));\n",
              "      fill: #FFFFFF;\n",
              "    }\n",
              "  </style>\n",
              "\n",
              "      <script>\n",
              "        const buttonEl =\n",
              "          document.querySelector('#df-87d3533f-72a8-4fb0-afbc-baded17654ca button.colab-df-convert');\n",
              "        buttonEl.style.display =\n",
              "          google.colab.kernel.accessAllowed ? 'block' : 'none';\n",
              "\n",
              "        async function convertToInteractive(key) {\n",
              "          const element = document.querySelector('#df-87d3533f-72a8-4fb0-afbc-baded17654ca');\n",
              "          const dataTable =\n",
              "            await google.colab.kernel.invokeFunction('convertToInteractive',\n",
              "                                                     [key], {});\n",
              "          if (!dataTable) return;\n",
              "\n",
              "          const docLinkHtml = 'Like what you see? Visit the ' +\n",
              "            '<a target=\"_blank\" href=https://colab.research.google.com/notebooks/data_table.ipynb>data table notebook</a>'\n",
              "            + ' to learn more about interactive tables.';\n",
              "          element.innerHTML = '';\n",
              "          dataTable['output_type'] = 'display_data';\n",
              "          await google.colab.output.renderOutput(dataTable, element);\n",
              "          const docLink = document.createElement('div');\n",
              "          docLink.innerHTML = docLinkHtml;\n",
              "          element.appendChild(docLink);\n",
              "        }\n",
              "      </script>\n",
              "    </div>\n",
              "  </div>\n",
              "  "
            ]
          },
          "metadata": {},
          "execution_count": 9
        }
      ],
      "source": [
        "digits_df = pd.DataFrame(data=digits_data, columns=digits.feature_names)\n",
        "digits_df"
      ]
    },
    {
      "cell_type": "code",
      "execution_count": 10,
      "metadata": {
        "colab": {
          "base_uri": "https://localhost:8080/",
          "height": 488
        },
        "id": "75sZ9zjf0Iaq",
        "outputId": "38d42cdb-5e6b-498f-b8d6-76f2bacb05a7"
      },
      "outputs": [
        {
          "output_type": "execute_result",
          "data": {
            "text/plain": [
              "      pixel_0_0  pixel_0_1  pixel_0_2  pixel_0_3  pixel_0_4  pixel_0_5  \\\n",
              "0           0.0        0.0        5.0       13.0        9.0        1.0   \n",
              "1           0.0        0.0        0.0       12.0       13.0        5.0   \n",
              "2           0.0        0.0        0.0        4.0       15.0       12.0   \n",
              "3           0.0        0.0        7.0       15.0       13.0        1.0   \n",
              "4           0.0        0.0        0.0        1.0       11.0        0.0   \n",
              "...         ...        ...        ...        ...        ...        ...   \n",
              "1792        0.0        0.0        4.0       10.0       13.0        6.0   \n",
              "1793        0.0        0.0        6.0       16.0       13.0       11.0   \n",
              "1794        0.0        0.0        1.0       11.0       15.0        1.0   \n",
              "1795        0.0        0.0        2.0       10.0        7.0        0.0   \n",
              "1796        0.0        0.0       10.0       14.0        8.0        1.0   \n",
              "\n",
              "      pixel_0_6  pixel_0_7  pixel_1_0  pixel_1_1  ...  pixel_6_7  pixel_7_0  \\\n",
              "0           0.0        0.0        0.0        0.0  ...        0.0        0.0   \n",
              "1           0.0        0.0        0.0        0.0  ...        0.0        0.0   \n",
              "2           0.0        0.0        0.0        0.0  ...        0.0        0.0   \n",
              "3           0.0        0.0        0.0        8.0  ...        0.0        0.0   \n",
              "4           0.0        0.0        0.0        0.0  ...        0.0        0.0   \n",
              "...         ...        ...        ...        ...  ...        ...        ...   \n",
              "1792        0.0        0.0        0.0        1.0  ...        0.0        0.0   \n",
              "1793        1.0        0.0        0.0        0.0  ...        0.0        0.0   \n",
              "1794        0.0        0.0        0.0        0.0  ...        0.0        0.0   \n",
              "1795        0.0        0.0        0.0        0.0  ...        0.0        0.0   \n",
              "1796        0.0        0.0        0.0        2.0  ...        0.0        0.0   \n",
              "\n",
              "      pixel_7_1  pixel_7_2  pixel_7_3  pixel_7_4  pixel_7_5  pixel_7_6  \\\n",
              "0           0.0        6.0       13.0       10.0        0.0        0.0   \n",
              "1           0.0        0.0       11.0       16.0       10.0        0.0   \n",
              "2           0.0        0.0        3.0       11.0       16.0        9.0   \n",
              "3           0.0        7.0       13.0       13.0        9.0        0.0   \n",
              "4           0.0        0.0        2.0       16.0        4.0        0.0   \n",
              "...         ...        ...        ...        ...        ...        ...   \n",
              "1792        0.0        2.0       14.0       15.0        9.0        0.0   \n",
              "1793        0.0        6.0       16.0       14.0        6.0        0.0   \n",
              "1794        0.0        2.0        9.0       13.0        6.0        0.0   \n",
              "1795        0.0        5.0       12.0       16.0       12.0        0.0   \n",
              "1796        1.0        8.0       12.0       14.0       12.0        1.0   \n",
              "\n",
              "      pixel_7_7  label  \n",
              "0           0.0      0  \n",
              "1           0.0      1  \n",
              "2           0.0      2  \n",
              "3           0.0      3  \n",
              "4           0.0      4  \n",
              "...         ...    ...  \n",
              "1792        0.0      9  \n",
              "1793        0.0      0  \n",
              "1794        0.0      8  \n",
              "1795        0.0      9  \n",
              "1796        0.0      8  \n",
              "\n",
              "[1797 rows x 65 columns]"
            ],
            "text/html": [
              "\n",
              "  <div id=\"df-f8ff5a1f-3061-47c7-9a15-525577175ff4\">\n",
              "    <div class=\"colab-df-container\">\n",
              "      <div>\n",
              "<style scoped>\n",
              "    .dataframe tbody tr th:only-of-type {\n",
              "        vertical-align: middle;\n",
              "    }\n",
              "\n",
              "    .dataframe tbody tr th {\n",
              "        vertical-align: top;\n",
              "    }\n",
              "\n",
              "    .dataframe thead th {\n",
              "        text-align: right;\n",
              "    }\n",
              "</style>\n",
              "<table border=\"1\" class=\"dataframe\">\n",
              "  <thead>\n",
              "    <tr style=\"text-align: right;\">\n",
              "      <th></th>\n",
              "      <th>pixel_0_0</th>\n",
              "      <th>pixel_0_1</th>\n",
              "      <th>pixel_0_2</th>\n",
              "      <th>pixel_0_3</th>\n",
              "      <th>pixel_0_4</th>\n",
              "      <th>pixel_0_5</th>\n",
              "      <th>pixel_0_6</th>\n",
              "      <th>pixel_0_7</th>\n",
              "      <th>pixel_1_0</th>\n",
              "      <th>pixel_1_1</th>\n",
              "      <th>...</th>\n",
              "      <th>pixel_6_7</th>\n",
              "      <th>pixel_7_0</th>\n",
              "      <th>pixel_7_1</th>\n",
              "      <th>pixel_7_2</th>\n",
              "      <th>pixel_7_3</th>\n",
              "      <th>pixel_7_4</th>\n",
              "      <th>pixel_7_5</th>\n",
              "      <th>pixel_7_6</th>\n",
              "      <th>pixel_7_7</th>\n",
              "      <th>label</th>\n",
              "    </tr>\n",
              "  </thead>\n",
              "  <tbody>\n",
              "    <tr>\n",
              "      <th>0</th>\n",
              "      <td>0.0</td>\n",
              "      <td>0.0</td>\n",
              "      <td>5.0</td>\n",
              "      <td>13.0</td>\n",
              "      <td>9.0</td>\n",
              "      <td>1.0</td>\n",
              "      <td>0.0</td>\n",
              "      <td>0.0</td>\n",
              "      <td>0.0</td>\n",
              "      <td>0.0</td>\n",
              "      <td>...</td>\n",
              "      <td>0.0</td>\n",
              "      <td>0.0</td>\n",
              "      <td>0.0</td>\n",
              "      <td>6.0</td>\n",
              "      <td>13.0</td>\n",
              "      <td>10.0</td>\n",
              "      <td>0.0</td>\n",
              "      <td>0.0</td>\n",
              "      <td>0.0</td>\n",
              "      <td>0</td>\n",
              "    </tr>\n",
              "    <tr>\n",
              "      <th>1</th>\n",
              "      <td>0.0</td>\n",
              "      <td>0.0</td>\n",
              "      <td>0.0</td>\n",
              "      <td>12.0</td>\n",
              "      <td>13.0</td>\n",
              "      <td>5.0</td>\n",
              "      <td>0.0</td>\n",
              "      <td>0.0</td>\n",
              "      <td>0.0</td>\n",
              "      <td>0.0</td>\n",
              "      <td>...</td>\n",
              "      <td>0.0</td>\n",
              "      <td>0.0</td>\n",
              "      <td>0.0</td>\n",
              "      <td>0.0</td>\n",
              "      <td>11.0</td>\n",
              "      <td>16.0</td>\n",
              "      <td>10.0</td>\n",
              "      <td>0.0</td>\n",
              "      <td>0.0</td>\n",
              "      <td>1</td>\n",
              "    </tr>\n",
              "    <tr>\n",
              "      <th>2</th>\n",
              "      <td>0.0</td>\n",
              "      <td>0.0</td>\n",
              "      <td>0.0</td>\n",
              "      <td>4.0</td>\n",
              "      <td>15.0</td>\n",
              "      <td>12.0</td>\n",
              "      <td>0.0</td>\n",
              "      <td>0.0</td>\n",
              "      <td>0.0</td>\n",
              "      <td>0.0</td>\n",
              "      <td>...</td>\n",
              "      <td>0.0</td>\n",
              "      <td>0.0</td>\n",
              "      <td>0.0</td>\n",
              "      <td>0.0</td>\n",
              "      <td>3.0</td>\n",
              "      <td>11.0</td>\n",
              "      <td>16.0</td>\n",
              "      <td>9.0</td>\n",
              "      <td>0.0</td>\n",
              "      <td>2</td>\n",
              "    </tr>\n",
              "    <tr>\n",
              "      <th>3</th>\n",
              "      <td>0.0</td>\n",
              "      <td>0.0</td>\n",
              "      <td>7.0</td>\n",
              "      <td>15.0</td>\n",
              "      <td>13.0</td>\n",
              "      <td>1.0</td>\n",
              "      <td>0.0</td>\n",
              "      <td>0.0</td>\n",
              "      <td>0.0</td>\n",
              "      <td>8.0</td>\n",
              "      <td>...</td>\n",
              "      <td>0.0</td>\n",
              "      <td>0.0</td>\n",
              "      <td>0.0</td>\n",
              "      <td>7.0</td>\n",
              "      <td>13.0</td>\n",
              "      <td>13.0</td>\n",
              "      <td>9.0</td>\n",
              "      <td>0.0</td>\n",
              "      <td>0.0</td>\n",
              "      <td>3</td>\n",
              "    </tr>\n",
              "    <tr>\n",
              "      <th>4</th>\n",
              "      <td>0.0</td>\n",
              "      <td>0.0</td>\n",
              "      <td>0.0</td>\n",
              "      <td>1.0</td>\n",
              "      <td>11.0</td>\n",
              "      <td>0.0</td>\n",
              "      <td>0.0</td>\n",
              "      <td>0.0</td>\n",
              "      <td>0.0</td>\n",
              "      <td>0.0</td>\n",
              "      <td>...</td>\n",
              "      <td>0.0</td>\n",
              "      <td>0.0</td>\n",
              "      <td>0.0</td>\n",
              "      <td>0.0</td>\n",
              "      <td>2.0</td>\n",
              "      <td>16.0</td>\n",
              "      <td>4.0</td>\n",
              "      <td>0.0</td>\n",
              "      <td>0.0</td>\n",
              "      <td>4</td>\n",
              "    </tr>\n",
              "    <tr>\n",
              "      <th>...</th>\n",
              "      <td>...</td>\n",
              "      <td>...</td>\n",
              "      <td>...</td>\n",
              "      <td>...</td>\n",
              "      <td>...</td>\n",
              "      <td>...</td>\n",
              "      <td>...</td>\n",
              "      <td>...</td>\n",
              "      <td>...</td>\n",
              "      <td>...</td>\n",
              "      <td>...</td>\n",
              "      <td>...</td>\n",
              "      <td>...</td>\n",
              "      <td>...</td>\n",
              "      <td>...</td>\n",
              "      <td>...</td>\n",
              "      <td>...</td>\n",
              "      <td>...</td>\n",
              "      <td>...</td>\n",
              "      <td>...</td>\n",
              "      <td>...</td>\n",
              "    </tr>\n",
              "    <tr>\n",
              "      <th>1792</th>\n",
              "      <td>0.0</td>\n",
              "      <td>0.0</td>\n",
              "      <td>4.0</td>\n",
              "      <td>10.0</td>\n",
              "      <td>13.0</td>\n",
              "      <td>6.0</td>\n",
              "      <td>0.0</td>\n",
              "      <td>0.0</td>\n",
              "      <td>0.0</td>\n",
              "      <td>1.0</td>\n",
              "      <td>...</td>\n",
              "      <td>0.0</td>\n",
              "      <td>0.0</td>\n",
              "      <td>0.0</td>\n",
              "      <td>2.0</td>\n",
              "      <td>14.0</td>\n",
              "      <td>15.0</td>\n",
              "      <td>9.0</td>\n",
              "      <td>0.0</td>\n",
              "      <td>0.0</td>\n",
              "      <td>9</td>\n",
              "    </tr>\n",
              "    <tr>\n",
              "      <th>1793</th>\n",
              "      <td>0.0</td>\n",
              "      <td>0.0</td>\n",
              "      <td>6.0</td>\n",
              "      <td>16.0</td>\n",
              "      <td>13.0</td>\n",
              "      <td>11.0</td>\n",
              "      <td>1.0</td>\n",
              "      <td>0.0</td>\n",
              "      <td>0.0</td>\n",
              "      <td>0.0</td>\n",
              "      <td>...</td>\n",
              "      <td>0.0</td>\n",
              "      <td>0.0</td>\n",
              "      <td>0.0</td>\n",
              "      <td>6.0</td>\n",
              "      <td>16.0</td>\n",
              "      <td>14.0</td>\n",
              "      <td>6.0</td>\n",
              "      <td>0.0</td>\n",
              "      <td>0.0</td>\n",
              "      <td>0</td>\n",
              "    </tr>\n",
              "    <tr>\n",
              "      <th>1794</th>\n",
              "      <td>0.0</td>\n",
              "      <td>0.0</td>\n",
              "      <td>1.0</td>\n",
              "      <td>11.0</td>\n",
              "      <td>15.0</td>\n",
              "      <td>1.0</td>\n",
              "      <td>0.0</td>\n",
              "      <td>0.0</td>\n",
              "      <td>0.0</td>\n",
              "      <td>0.0</td>\n",
              "      <td>...</td>\n",
              "      <td>0.0</td>\n",
              "      <td>0.0</td>\n",
              "      <td>0.0</td>\n",
              "      <td>2.0</td>\n",
              "      <td>9.0</td>\n",
              "      <td>13.0</td>\n",
              "      <td>6.0</td>\n",
              "      <td>0.0</td>\n",
              "      <td>0.0</td>\n",
              "      <td>8</td>\n",
              "    </tr>\n",
              "    <tr>\n",
              "      <th>1795</th>\n",
              "      <td>0.0</td>\n",
              "      <td>0.0</td>\n",
              "      <td>2.0</td>\n",
              "      <td>10.0</td>\n",
              "      <td>7.0</td>\n",
              "      <td>0.0</td>\n",
              "      <td>0.0</td>\n",
              "      <td>0.0</td>\n",
              "      <td>0.0</td>\n",
              "      <td>0.0</td>\n",
              "      <td>...</td>\n",
              "      <td>0.0</td>\n",
              "      <td>0.0</td>\n",
              "      <td>0.0</td>\n",
              "      <td>5.0</td>\n",
              "      <td>12.0</td>\n",
              "      <td>16.0</td>\n",
              "      <td>12.0</td>\n",
              "      <td>0.0</td>\n",
              "      <td>0.0</td>\n",
              "      <td>9</td>\n",
              "    </tr>\n",
              "    <tr>\n",
              "      <th>1796</th>\n",
              "      <td>0.0</td>\n",
              "      <td>0.0</td>\n",
              "      <td>10.0</td>\n",
              "      <td>14.0</td>\n",
              "      <td>8.0</td>\n",
              "      <td>1.0</td>\n",
              "      <td>0.0</td>\n",
              "      <td>0.0</td>\n",
              "      <td>0.0</td>\n",
              "      <td>2.0</td>\n",
              "      <td>...</td>\n",
              "      <td>0.0</td>\n",
              "      <td>0.0</td>\n",
              "      <td>1.0</td>\n",
              "      <td>8.0</td>\n",
              "      <td>12.0</td>\n",
              "      <td>14.0</td>\n",
              "      <td>12.0</td>\n",
              "      <td>1.0</td>\n",
              "      <td>0.0</td>\n",
              "      <td>8</td>\n",
              "    </tr>\n",
              "  </tbody>\n",
              "</table>\n",
              "<p>1797 rows × 65 columns</p>\n",
              "</div>\n",
              "      <button class=\"colab-df-convert\" onclick=\"convertToInteractive('df-f8ff5a1f-3061-47c7-9a15-525577175ff4')\"\n",
              "              title=\"Convert this dataframe to an interactive table.\"\n",
              "              style=\"display:none;\">\n",
              "        \n",
              "  <svg xmlns=\"http://www.w3.org/2000/svg\" height=\"24px\"viewBox=\"0 0 24 24\"\n",
              "       width=\"24px\">\n",
              "    <path d=\"M0 0h24v24H0V0z\" fill=\"none\"/>\n",
              "    <path d=\"M18.56 5.44l.94 2.06.94-2.06 2.06-.94-2.06-.94-.94-2.06-.94 2.06-2.06.94zm-11 1L8.5 8.5l.94-2.06 2.06-.94-2.06-.94L8.5 2.5l-.94 2.06-2.06.94zm10 10l.94 2.06.94-2.06 2.06-.94-2.06-.94-.94-2.06-.94 2.06-2.06.94z\"/><path d=\"M17.41 7.96l-1.37-1.37c-.4-.4-.92-.59-1.43-.59-.52 0-1.04.2-1.43.59L10.3 9.45l-7.72 7.72c-.78.78-.78 2.05 0 2.83L4 21.41c.39.39.9.59 1.41.59.51 0 1.02-.2 1.41-.59l7.78-7.78 2.81-2.81c.8-.78.8-2.07 0-2.86zM5.41 20L4 18.59l7.72-7.72 1.47 1.35L5.41 20z\"/>\n",
              "  </svg>\n",
              "      </button>\n",
              "      \n",
              "  <style>\n",
              "    .colab-df-container {\n",
              "      display:flex;\n",
              "      flex-wrap:wrap;\n",
              "      gap: 12px;\n",
              "    }\n",
              "\n",
              "    .colab-df-convert {\n",
              "      background-color: #E8F0FE;\n",
              "      border: none;\n",
              "      border-radius: 50%;\n",
              "      cursor: pointer;\n",
              "      display: none;\n",
              "      fill: #1967D2;\n",
              "      height: 32px;\n",
              "      padding: 0 0 0 0;\n",
              "      width: 32px;\n",
              "    }\n",
              "\n",
              "    .colab-df-convert:hover {\n",
              "      background-color: #E2EBFA;\n",
              "      box-shadow: 0px 1px 2px rgba(60, 64, 67, 0.3), 0px 1px 3px 1px rgba(60, 64, 67, 0.15);\n",
              "      fill: #174EA6;\n",
              "    }\n",
              "\n",
              "    [theme=dark] .colab-df-convert {\n",
              "      background-color: #3B4455;\n",
              "      fill: #D2E3FC;\n",
              "    }\n",
              "\n",
              "    [theme=dark] .colab-df-convert:hover {\n",
              "      background-color: #434B5C;\n",
              "      box-shadow: 0px 1px 3px 1px rgba(0, 0, 0, 0.15);\n",
              "      filter: drop-shadow(0px 1px 2px rgba(0, 0, 0, 0.3));\n",
              "      fill: #FFFFFF;\n",
              "    }\n",
              "  </style>\n",
              "\n",
              "      <script>\n",
              "        const buttonEl =\n",
              "          document.querySelector('#df-f8ff5a1f-3061-47c7-9a15-525577175ff4 button.colab-df-convert');\n",
              "        buttonEl.style.display =\n",
              "          google.colab.kernel.accessAllowed ? 'block' : 'none';\n",
              "\n",
              "        async function convertToInteractive(key) {\n",
              "          const element = document.querySelector('#df-f8ff5a1f-3061-47c7-9a15-525577175ff4');\n",
              "          const dataTable =\n",
              "            await google.colab.kernel.invokeFunction('convertToInteractive',\n",
              "                                                     [key], {});\n",
              "          if (!dataTable) return;\n",
              "\n",
              "          const docLinkHtml = 'Like what you see? Visit the ' +\n",
              "            '<a target=\"_blank\" href=https://colab.research.google.com/notebooks/data_table.ipynb>data table notebook</a>'\n",
              "            + ' to learn more about interactive tables.';\n",
              "          element.innerHTML = '';\n",
              "          dataTable['output_type'] = 'display_data';\n",
              "          await google.colab.output.renderOutput(dataTable, element);\n",
              "          const docLink = document.createElement('div');\n",
              "          docLink.innerHTML = docLinkHtml;\n",
              "          element.appendChild(docLink);\n",
              "        }\n",
              "      </script>\n",
              "    </div>\n",
              "  </div>\n",
              "  "
            ]
          },
          "metadata": {},
          "execution_count": 10
        }
      ],
      "source": [
        "digits_df[\"label\"] = digits.target\n",
        "digits_df"
      ]
    },
    {
      "cell_type": "code",
      "execution_count": 11,
      "metadata": {
        "colab": {
          "base_uri": "https://localhost:8080/"
        },
        "id": "6eifnwJR009O",
        "outputId": "fd845f6a-87c6-46b8-9362-1b28385aa60f"
      },
      "outputs": [
        {
          "output_type": "stream",
          "name": "stdout",
          "text": [
            "X_train 개수: 1437 ,X_test 개수: 360\n"
          ]
        }
      ],
      "source": [
        "X_train, X_test, y_train, y_test = train_test_split(digits_data, digits_label, test_size=0.2, random_state=7)\n",
        "print('X_train 개수:', len(X_train),',X_test 개수:', len(X_test))"
      ]
    },
    {
      "cell_type": "code",
      "execution_count": 12,
      "metadata": {
        "colab": {
          "base_uri": "https://localhost:8080/"
        },
        "id": "P3Y27jVx2BS0",
        "outputId": "21ab5132-71e8-4be0-c6d0-fef6164a07cc"
      },
      "outputs": [
        {
          "output_type": "stream",
          "name": "stdout",
          "text": [
            "              precision    recall  f1-score   support\n",
            "\n",
            "           0       1.00      0.98      0.99        43\n",
            "           1       0.81      0.81      0.81        42\n",
            "           2       0.79      0.82      0.80        40\n",
            "           3       0.79      0.91      0.85        34\n",
            "           4       0.83      0.95      0.89        37\n",
            "           5       0.90      0.96      0.93        28\n",
            "           6       0.84      0.93      0.88        28\n",
            "           7       0.96      0.82      0.89        33\n",
            "           8       0.88      0.65      0.75        43\n",
            "           9       0.78      0.78      0.78        32\n",
            "\n",
            "    accuracy                           0.86       360\n",
            "   macro avg       0.86      0.86      0.86       360\n",
            "weighted avg       0.86      0.86      0.85       360\n",
            "\n"
          ]
        }
      ],
      "source": [
        "from sklearn.tree import DecisionTreeClassifier\n",
        "decision_tree = DecisionTreeClassifier(random_state=32)\n",
        "decision_tree.fit(X_train, y_train)\n",
        "y_pred = decision_tree.predict(X_test)\n",
        "print(classification_report(y_test, y_pred))"
      ]
    },
    {
      "cell_type": "code",
      "execution_count": 13,
      "metadata": {
        "colab": {
          "base_uri": "https://localhost:8080/"
        },
        "id": "dem9mZc85mp0",
        "outputId": "ea82479e-bd19-4ec8-c43d-df5efc2cb526"
      },
      "outputs": [
        {
          "output_type": "execute_result",
          "data": {
            "text/plain": [
              "0.8555555555555555"
            ]
          },
          "metadata": {},
          "execution_count": 13
        }
      ],
      "source": [
        "from sklearn.metrics import accuracy_score\n",
        "accuracy = accuracy_score(y_test, y_pred)\n",
        "accuracy"
      ]
    },
    {
      "cell_type": "code",
      "source": [
        "import matplotlib.pyplot as plt\n",
        "import numpy as np\n",
        "np.random.seed(0)\n",
        "plt.scatter(y_test, y_pred)\n",
        "plt.show()"
      ],
      "metadata": {
        "colab": {
          "base_uri": "https://localhost:8080/",
          "height": 265
        },
        "id": "iS-kWDm0nLEk",
        "outputId": "a1adbbe3-0420-4d3b-d6dd-702ea9cb6e01"
      },
      "execution_count": 14,
      "outputs": [
        {
          "output_type": "display_data",
          "data": {
            "text/plain": [
              "<Figure size 432x288 with 1 Axes>"
            ],
            "image/png": "[encoded data removed]"
          },
          "metadata": {
            "needs_background": "light"
          }
        }
      ]
    },
    {
      "cell_type": "code",
      "execution_count": 15,
      "metadata": {
        "colab": {
          "base_uri": "https://localhost:8080/"
        },
        "id": "JJYrAMvu54nu",
        "outputId": "a69e10cf-2239-4689-80d2-aa846eef1df9"
      },
      "outputs": [
        {
          "output_type": "stream",
          "name": "stdout",
          "text": [
            "              precision    recall  f1-score   support\n",
            "\n",
            "           0       1.00      0.98      0.99        43\n",
            "           1       0.93      1.00      0.97        42\n",
            "           2       1.00      1.00      1.00        40\n",
            "           3       1.00      1.00      1.00        34\n",
            "           4       0.93      1.00      0.96        37\n",
            "           5       0.90      0.96      0.93        28\n",
            "           6       1.00      0.96      0.98        28\n",
            "           7       0.94      0.97      0.96        33\n",
            "           8       1.00      0.84      0.91        43\n",
            "           9       0.94      0.94      0.94        32\n",
            "\n",
            "    accuracy                           0.96       360\n",
            "   macro avg       0.96      0.96      0.96       360\n",
            "weighted avg       0.97      0.96      0.96       360\n",
            "\n"
          ]
        }
      ],
      "source": [
        "from sklearn.ensemble import RandomForestClassifier\n",
        "random_forest = RandomForestClassifier(random_state=32)\n",
        "random_forest.fit(X_train, y_train)\n",
        "y_pred = random_forest.predict(X_test)\n",
        "print(classification_report(y_test, y_pred))"
      ]
    },
    {
      "cell_type": "code",
      "execution_count": 16,
      "metadata": {
        "colab": {
          "base_uri": "https://localhost:8080/"
        },
        "id": "ifT3P4bg7GCL",
        "outputId": "a0d85cfa-fbbb-4a61-87a7-3a127ed0afd6"
      },
      "outputs": [
        {
          "output_type": "execute_result",
          "data": {
            "text/plain": [
              "0.9638888888888889"
            ]
          },
          "metadata": {},
          "execution_count": 16
        }
      ],
      "source": [
        "accuracy = accuracy_score(y_test, y_pred)\n",
        "accuracy"
      ]
    },
    {
      "cell_type": "code",
      "source": [
        "import matplotlib.pyplot as plt\n",
        "import numpy as np\n",
        "np.random.seed(0)\n",
        "plt.scatter(y_test, y_pred)\n",
        "plt.show()"
      ],
      "metadata": {
        "colab": {
          "base_uri": "https://localhost:8080/",
          "height": 265
        },
        "id": "0dHRXUYInOFb",
        "outputId": "5f8bb550-0aee-4f37-c627-0914bff48c02"
      },
      "execution_count": 17,
      "outputs": [
        {
          "output_type": "display_data",
          "data": {
            "text/plain": [
              "<Figure size 432x288 with 1 Axes>"
            ],
            "image/png": "[encoded data removed]"
          },
          "metadata": {
            "needs_background": "light"
          }
        }
      ]
    },
    {
      "cell_type": "code",
      "execution_count": 18,
      "metadata": {
        "colab": {
          "base_uri": "https://localhost:8080/"
        },
        "id": "AfKXCRqe8ICo",
        "outputId": "5727112c-8351-4c9b-a667-00e98087bb64"
      },
      "outputs": [
        {
          "output_type": "stream",
          "name": "stdout",
          "text": [
            "              precision    recall  f1-score   support\n",
            "\n",
            "           0       1.00      1.00      1.00        43\n",
            "           1       0.95      1.00      0.98        42\n",
            "           2       1.00      1.00      1.00        40\n",
            "           3       1.00      1.00      1.00        34\n",
            "           4       1.00      1.00      1.00        37\n",
            "           5       0.93      1.00      0.97        28\n",
            "           6       1.00      1.00      1.00        28\n",
            "           7       1.00      1.00      1.00        33\n",
            "           8       1.00      0.93      0.96        43\n",
            "           9       1.00      0.97      0.98        32\n",
            "\n",
            "    accuracy                           0.99       360\n",
            "   macro avg       0.99      0.99      0.99       360\n",
            "weighted avg       0.99      0.99      0.99       360\n",
            "\n"
          ]
        }
      ],
      "source": [
        "from sklearn import svm\n",
        "svm_model = svm.SVC()\n",
        "svm_model.fit(X_train, y_train)\n",
        "y_pred = svm_model.predict(X_test)\n",
        "print(classification_report(y_test, y_pred))"
      ]
    },
    {
      "cell_type": "code",
      "execution_count": 19,
      "metadata": {
        "colab": {
          "base_uri": "https://localhost:8080/"
        },
        "id": "1HiB-qpX9BnE",
        "outputId": "38c71052-c130-4be6-fd6c-ff67d13007d5"
      },
      "outputs": [
        {
          "output_type": "execute_result",
          "data": {
            "text/plain": [
              "0.9888888888888889"
            ]
          },
          "metadata": {},
          "execution_count": 19
        }
      ],
      "source": [
        "accuracy = accuracy_score(y_test, y_pred)\n",
        "accuracy"
      ]
    },
    {
      "cell_type": "code",
      "source": [
        "import matplotlib.pyplot as plt\n",
        "import numpy as np\n",
        "np.random.seed(0)\n",
        "plt.scatter(y_test, y_pred)\n",
        "plt.show()"
      ],
      "metadata": {
        "colab": {
          "base_uri": "https://localhost:8080/",
          "height": 265
        },
        "id": "6Z2DOMR2nPhY",
        "outputId": "0e7b745d-52f1-4b76-e037-639a6859f426"
      },
      "execution_count": 20,
      "outputs": [
        {
          "output_type": "display_data",
          "data": {
            "text/plain": [
              "<Figure size 432x288 with 1 Axes>"
            ],
            "image/png": "[encoded data removed]"
          },
          "metadata": {
            "needs_background": "light"
          }
        }
      ]
    },
    {
      "cell_type": "code",
      "execution_count": 21,
      "metadata": {
        "colab": {
          "base_uri": "https://localhost:8080/"
        },
        "id": "gCBeGyHm9MNV",
        "outputId": "617db605-38b4-4ab3-ca40-005d1f7793dd"
      },
      "outputs": [
        {
          "output_type": "stream",
          "name": "stdout",
          "text": [
            "              precision    recall  f1-score   support\n",
            "\n",
            "           0       1.00      1.00      1.00        43\n",
            "           1       0.95      1.00      0.98        42\n",
            "           2       1.00      1.00      1.00        40\n",
            "           3       1.00      1.00      1.00        34\n",
            "           4       1.00      1.00      1.00        37\n",
            "           5       0.93      1.00      0.97        28\n",
            "           6       1.00      1.00      1.00        28\n",
            "           7       1.00      1.00      1.00        33\n",
            "           8       1.00      0.93      0.96        43\n",
            "           9       1.00      0.97      0.98        32\n",
            "\n",
            "    accuracy                           0.99       360\n",
            "   macro avg       0.99      0.99      0.99       360\n",
            "weighted avg       0.99      0.99      0.99       360\n",
            "\n"
          ]
        }
      ],
      "source": [
        "from sklearn.linear_model import SGDClassifier\n",
        "sgd_model = SGDClassifier()\n",
        "svm_model.fit(X_train, y_train)\n",
        "y_pred = svm_model.predict(X_test)\n",
        "print(classification_report(y_test, y_pred))\n"
      ]
    },
    {
      "cell_type": "code",
      "execution_count": 22,
      "metadata": {
        "colab": {
          "base_uri": "https://localhost:8080/"
        },
        "id": "1P1RCkXR-W29",
        "outputId": "5edb1c67-637d-499c-c26d-bd83bc8413d0"
      },
      "outputs": [
        {
          "output_type": "execute_result",
          "data": {
            "text/plain": [
              "0.9888888888888889"
            ]
          },
          "metadata": {},
          "execution_count": 22
        }
      ],
      "source": [
        "accuracy = accuracy_score(y_test, y_pred)\n",
        "accuracy"
      ]
    },
    {
      "cell_type": "code",
      "source": [
        "import matplotlib.pyplot as plt\n",
        "import numpy as np\n",
        "np.random.seed(0)\n",
        "plt.scatter(y_test, y_pred)\n",
        "plt.show()"
      ],
      "metadata": {
        "colab": {
          "base_uri": "https://localhost:8080/",
          "height": 265
        },
        "id": "UvJDgMuMnRPO",
        "outputId": "f11ed557-c24f-4c03-b4c5-333a3573afc2"
      },
      "execution_count": 23,
      "outputs": [
        {
          "output_type": "display_data",
          "data": {
            "text/plain": [
              "<Figure size 432x288 with 1 Axes>"
            ],
            "image/png": "[encoded data removed]"
          },
          "metadata": {
            "needs_background": "light"
          }
        }
      ]
    },
    {
      "cell_type": "code",
      "execution_count": 24,
      "metadata": {
        "colab": {
          "base_uri": "https://localhost:8080/"
        },
        "id": "DK5I38x1-lK1",
        "outputId": "ed2f7740-e6d4-41b8-e0e6-eda7f690ec15"
      },
      "outputs": [
        {
          "output_type": "stream",
          "name": "stdout",
          "text": [
            "              precision    recall  f1-score   support\n",
            "\n",
            "           0       1.00      1.00      1.00        43\n",
            "           1       0.95      0.95      0.95        42\n",
            "           2       0.98      1.00      0.99        40\n",
            "           3       0.94      0.97      0.96        34\n",
            "           4       0.97      1.00      0.99        37\n",
            "           5       0.82      0.96      0.89        28\n",
            "           6       1.00      0.96      0.98        28\n",
            "           7       0.97      0.97      0.97        33\n",
            "           8       0.92      0.81      0.86        43\n",
            "           9       0.97      0.91      0.94        32\n",
            "\n",
            "    accuracy                           0.95       360\n",
            "   macro avg       0.95      0.95      0.95       360\n",
            "weighted avg       0.95      0.95      0.95       360\n",
            "\n"
          ]
        },
        {
          "output_type": "stream",
          "name": "stderr",
          "text": [
            "/usr/local/lib/python3.7/dist-packages/sklearn/linear_model/_logistic.py:818: ConvergenceWarning: lbfgs failed to converge (status=1):\n",
            "STOP: TOTAL NO. of ITERATIONS REACHED LIMIT.\n",
            "\n",
            "Increase the number of iterations (max_iter) or scale the data as shown in:\n",
            "    https://scikit-learn.org/stable/modules/preprocessing.html\n",
            "Please also refer to the documentation for alternative solver options:\n",
            "    https://scikit-learn.org/stable/modules/linear_model.html#logistic-regression\n",
            "  extra_warning_msg=_LOGISTIC_SOLVER_CONVERGENCE_MSG,\n"
          ]
        }
      ],
      "source": [
        "from sklearn.linear_model import LogisticRegression\n",
        "logistic_model = LogisticRegression()\n",
        "logistic_model.fit(X_train, y_train)\n",
        "y_pred = logistic_model.predict(X_test)\n",
        "print(classification_report(y_test, y_pred))"
      ]
    },
    {
      "cell_type": "code",
      "execution_count": 25,
      "metadata": {
        "colab": {
          "base_uri": "https://localhost:8080/"
        },
        "id": "Et9d62_b_4M3",
        "outputId": "3ead9fcd-4e4c-4766-dfdb-92bccf6b98a1"
      },
      "outputs": [
        {
          "output_type": "execute_result",
          "data": {
            "text/plain": [
              "0.9527777777777777"
            ]
          },
          "metadata": {},
          "execution_count": 25
        }
      ],
      "source": [
        "accuracy = accuracy_score(y_test, y_pred)\n",
        "accuracy"
      ]
    },
    {
      "cell_type": "code",
      "source": [
        "import matplotlib.pyplot as plt\n",
        "import numpy as np\n",
        "np.random.seed(0)\n",
        "plt.scatter(y_test, y_pred)\n",
        "plt.show()"
      ],
      "metadata": {
        "colab": {
          "base_uri": "https://localhost:8080/",
          "height": 265
        },
        "id": "YoOdxj8inSj5",
        "outputId": "80625c54-7048-42a9-df1f-4dca827e469a"
      },
      "execution_count": 26,
      "outputs": [
        {
          "output_type": "display_data",
          "data": {
            "text/plain": [
              "<Figure size 432x288 with 1 Axes>"
            ],
            "image/png": "[encoded data removed]"
          },
          "metadata": {
            "needs_background": "light"
          }
        }
      ]
    },
    {
      "cell_type": "markdown",
      "source": [
        "_______"
      ],
      "metadata": {
        "id": "FFpmm4XVFFm1"
      }
    },
    {
      "cell_type": "markdown",
      "source": [
        "**(2) 와인 분류**"
      ],
      "metadata": {
        "id": "8UfiQOA0KMuV"
      }
    },
    {
      "cell_type": "code",
      "execution_count": 27,
      "metadata": {
        "id": "x9ExbW7cA2hK"
      },
      "outputs": [],
      "source": [
        "from sklearn.datasets import load_wine\n",
        "from sklearn.model_selection import train_test_split\n",
        "from sklearn.metrics import classification_report"
      ]
    },
    {
      "cell_type": "code",
      "source": [
        "wine = load_wine()\n",
        "print(dir(wine))"
      ],
      "metadata": {
        "colab": {
          "base_uri": "https://localhost:8080/"
        },
        "id": "_yeAocSLBTWe",
        "outputId": "3f16a502-6283-4cfa-b983-d7cf28df280e"
      },
      "execution_count": 28,
      "outputs": [
        {
          "output_type": "stream",
          "name": "stdout",
          "text": [
            "['DESCR', 'data', 'feature_names', 'frame', 'target', 'target_names']\n"
          ]
        }
      ]
    },
    {
      "cell_type": "code",
      "source": [
        "wine_data = wine.data\n",
        "print(wine_data.shape)"
      ],
      "metadata": {
        "colab": {
          "base_uri": "https://localhost:8080/"
        },
        "id": "yGpmuQaJE86N",
        "outputId": "abecfb0e-82b6-4958-99a6-3f7cf1fa6eb2"
      },
      "execution_count": 29,
      "outputs": [
        {
          "output_type": "stream",
          "name": "stdout",
          "text": [
            "(178, 13)\n"
          ]
        }
      ]
    },
    {
      "cell_type": "code",
      "source": [
        "wine_data[0]"
      ],
      "metadata": {
        "colab": {
          "base_uri": "https://localhost:8080/"
        },
        "id": "VKKLrP_vFFuW",
        "outputId": "27cd4b4b-f0a9-4431-82f0-40cf950babf5"
      },
      "execution_count": 30,
      "outputs": [
        {
          "output_type": "execute_result",
          "data": {
            "text/plain": [
              "array([1.423e+01, 1.710e+00, 2.430e+00, 1.560e+01, 1.270e+02, 2.800e+00,\n",
              "       3.060e+00, 2.800e-01, 2.290e+00, 5.640e+00, 1.040e+00, 3.920e+00,\n",
              "       1.065e+03])"
            ]
          },
          "metadata": {},
          "execution_count": 30
        }
      ]
    },
    {
      "cell_type": "code",
      "source": [
        "wine_label = wine.target\n",
        "print(wine_label.shape)"
      ],
      "metadata": {
        "colab": {
          "base_uri": "https://localhost:8080/"
        },
        "id": "dEHKUzaVJEur",
        "outputId": "dc4469f8-43b9-4095-cd7f-6d0759903131"
      },
      "execution_count": 31,
      "outputs": [
        {
          "output_type": "stream",
          "name": "stdout",
          "text": [
            "(178,)\n"
          ]
        }
      ]
    },
    {
      "cell_type": "code",
      "source": [
        "wine.target_names"
      ],
      "metadata": {
        "colab": {
          "base_uri": "https://localhost:8080/"
        },
        "id": "r-eVkPC_JUtF",
        "outputId": "322e7809-64d3-4c99-dc0c-8693b67afd60"
      },
      "execution_count": 32,
      "outputs": [
        {
          "output_type": "execute_result",
          "data": {
            "text/plain": [
              "array(['class_0', 'class_1', 'class_2'], dtype='<U7')"
            ]
          },
          "metadata": {},
          "execution_count": 32
        }
      ]
    },
    {
      "cell_type": "code",
      "source": [
        "wine.feature_names"
      ],
      "metadata": {
        "colab": {
          "base_uri": "https://localhost:8080/"
        },
        "id": "fPnHZ_cvJbd7",
        "outputId": "843d2cdd-fbc0-4a30-b770-27a8f1d4be0c"
      },
      "execution_count": 33,
      "outputs": [
        {
          "output_type": "execute_result",
          "data": {
            "text/plain": [
              "['alcohol',\n",
              " 'malic_acid',\n",
              " 'ash',\n",
              " 'alcalinity_of_ash',\n",
              " 'magnesium',\n",
              " 'total_phenols',\n",
              " 'flavanoids',\n",
              " 'nonflavanoid_phenols',\n",
              " 'proanthocyanins',\n",
              " 'color_intensity',\n",
              " 'hue',\n",
              " 'od280/od315_of_diluted_wines',\n",
              " 'proline']"
            ]
          },
          "metadata": {},
          "execution_count": 33
        }
      ]
    },
    {
      "cell_type": "code",
      "source": [
        "import pandas as pd\n",
        "print(pd.__version__)"
      ],
      "metadata": {
        "colab": {
          "base_uri": "https://localhost:8080/"
        },
        "id": "PywbAju9JgnU",
        "outputId": "2ba763bb-f108-48c7-caad-29914af4a1f2"
      },
      "execution_count": 34,
      "outputs": [
        {
          "output_type": "stream",
          "name": "stdout",
          "text": [
            "1.3.5\n"
          ]
        }
      ]
    },
    {
      "cell_type": "code",
      "source": [
        "wine_df = pd.DataFrame(data=wine_data, columns=wine.feature_names)\n",
        "wine_df"
      ],
      "metadata": {
        "colab": {
          "base_uri": "https://localhost:8080/",
          "height": 488
        },
        "id": "W7PrYiHjJnv5",
        "outputId": "41df7e7c-2975-4594-9d6b-56717f6e7a82"
      },
      "execution_count": 35,
      "outputs": [
        {
          "output_type": "execute_result",
          "data": {
            "text/plain": [
              "     alcohol  malic_acid   ash  alcalinity_of_ash  magnesium  total_phenols  \\\n",
              "0      14.23        1.71  2.43               15.6      127.0           2.80   \n",
              "1      13.20        1.78  2.14               11.2      100.0           2.65   \n",
              "2      13.16        2.36  2.67               18.6      101.0           2.80   \n",
              "3      14.37        1.95  2.50               16.8      113.0           3.85   \n",
              "4      13.24        2.59  2.87               21.0      118.0           2.80   \n",
              "..       ...         ...   ...                ...        ...            ...   \n",
              "173    13.71        5.65  2.45               20.5       95.0           1.68   \n",
              "174    13.40        3.91  2.48               23.0      102.0           1.80   \n",
              "175    13.27        4.28  2.26               20.0      120.0           1.59   \n",
              "176    13.17        2.59  2.37               20.0      120.0           1.65   \n",
              "177    14.13        4.10  2.74               24.5       96.0           2.05   \n",
              "\n",
              "     flavanoids  nonflavanoid_phenols  proanthocyanins  color_intensity   hue  \\\n",
              "0          3.06                  0.28             2.29             5.64  1.04   \n",
              "1          2.76                  0.26             1.28             4.38  1.05   \n",
              "2          3.24                  0.30             2.81             5.68  1.03   \n",
              "3          3.49                  0.24             2.18             7.80  0.86   \n",
              "4          2.69                  0.39             1.82             4.32  1.04   \n",
              "..          ...                   ...              ...              ...   ...   \n",
              "173        0.61                  0.52             1.06             7.70  0.64   \n",
              "174        0.75                  0.43             1.41             7.30  0.70   \n",
              "175        0.69                  0.43             1.35            10.20  0.59   \n",
              "176        0.68                  0.53             1.46             9.30  0.60   \n",
              "177        0.76                  0.56             1.35             9.20  0.61   \n",
              "\n",
              "     od280/od315_of_diluted_wines  proline  \n",
              "0                            3.92   1065.0  \n",
              "1                            3.40   1050.0  \n",
              "2                            3.17   1185.0  \n",
              "3                            3.45   1480.0  \n",
              "4                            2.93    735.0  \n",
              "..                            ...      ...  \n",
              "173                          1.74    740.0  \n",
              "174                          1.56    750.0  \n",
              "175                          1.56    835.0  \n",
              "176                          1.62    840.0  \n",
              "177                          1.60    560.0  \n",
              "\n",
              "[178 rows x 13 columns]"
            ],
            "text/html": [
              "\n",
              "  <div id=\"df-d4a02fa4-6d06-47f1-a66d-6b56faf86903\">\n",
              "    <div class=\"colab-df-container\">\n",
              "      <div>\n",
              "<style scoped>\n",
              "    .dataframe tbody tr th:only-of-type {\n",
              "        vertical-align: middle;\n",
              "    }\n",
              "\n",
              "    .dataframe tbody tr th {\n",
              "        vertical-align: top;\n",
              "    }\n",
              "\n",
              "    .dataframe thead th {\n",
              "        text-align: right;\n",
              "    }\n",
              "</style>\n",
              "<table border=\"1\" class=\"dataframe\">\n",
              "  <thead>\n",
              "    <tr style=\"text-align: right;\">\n",
              "      <th></th>\n",
              "      <th>alcohol</th>\n",
              "      <th>malic_acid</th>\n",
              "      <th>ash</th>\n",
              "      <th>alcalinity_of_ash</th>\n",
              "      <th>magnesium</th>\n",
              "      <th>total_phenols</th>\n",
              "      <th>flavanoids</th>\n",
              "      <th>nonflavanoid_phenols</th>\n",
              "      <th>proanthocyanins</th>\n",
              "      <th>color_intensity</th>\n",
              "      <th>hue</th>\n",
              "      <th>od280/od315_of_diluted_wines</th>\n",
              "      <th>proline</th>\n",
              "    </tr>\n",
              "  </thead>\n",
              "  <tbody>\n",
              "    <tr>\n",
              "      <th>0</th>\n",
              "      <td>14.23</td>\n",
              "      <td>1.71</td>\n",
              "      <td>2.43</td>\n",
              "      <td>15.6</td>\n",
              "      <td>127.0</td>\n",
              "      <td>2.80</td>\n",
              "      <td>3.06</td>\n",
              "      <td>0.28</td>\n",
              "      <td>2.29</td>\n",
              "      <td>5.64</td>\n",
              "      <td>1.04</td>\n",
              "      <td>3.92</td>\n",
              "      <td>1065.0</td>\n",
              "    </tr>\n",
              "    <tr>\n",
              "      <th>1</th>\n",
              "      <td>13.20</td>\n",
              "      <td>1.78</td>\n",
              "      <td>2.14</td>\n",
              "      <td>11.2</td>\n",
              "      <td>100.0</td>\n",
              "      <td>2.65</td>\n",
              "      <td>2.76</td>\n",
              "      <td>0.26</td>\n",
              "      <td>1.28</td>\n",
              "      <td>4.38</td>\n",
              "      <td>1.05</td>\n",
              "      <td>3.40</td>\n",
              "      <td>1050.0</td>\n",
              "    </tr>\n",
              "    <tr>\n",
              "      <th>2</th>\n",
              "      <td>13.16</td>\n",
              "      <td>2.36</td>\n",
              "      <td>2.67</td>\n",
              "      <td>18.6</td>\n",
              "      <td>101.0</td>\n",
              "      <td>2.80</td>\n",
              "      <td>3.24</td>\n",
              "      <td>0.30</td>\n",
              "      <td>2.81</td>\n",
              "      <td>5.68</td>\n",
              "      <td>1.03</td>\n",
              "      <td>3.17</td>\n",
              "      <td>1185.0</td>\n",
              "    </tr>\n",
              "    <tr>\n",
              "      <th>3</th>\n",
              "      <td>14.37</td>\n",
              "      <td>1.95</td>\n",
              "      <td>2.50</td>\n",
              "      <td>16.8</td>\n",
              "      <td>113.0</td>\n",
              "      <td>3.85</td>\n",
              "      <td>3.49</td>\n",
              "      <td>0.24</td>\n",
              "      <td>2.18</td>\n",
              "      <td>7.80</td>\n",
              "      <td>0.86</td>\n",
              "      <td>3.45</td>\n",
              "      <td>1480.0</td>\n",
              "    </tr>\n",
              "    <tr>\n",
              "      <th>4</th>\n",
              "      <td>13.24</td>\n",
              "      <td>2.59</td>\n",
              "      <td>2.87</td>\n",
              "      <td>21.0</td>\n",
              "      <td>118.0</td>\n",
              "      <td>2.80</td>\n",
              "      <td>2.69</td>\n",
              "      <td>0.39</td>\n",
              "      <td>1.82</td>\n",
              "      <td>4.32</td>\n",
              "      <td>1.04</td>\n",
              "      <td>2.93</td>\n",
              "      <td>735.0</td>\n",
              "    </tr>\n",
              "    <tr>\n",
              "      <th>...</th>\n",
              "      <td>...</td>\n",
              "      <td>...</td>\n",
              "      <td>...</td>\n",
              "      <td>...</td>\n",
              "      <td>...</td>\n",
              "      <td>...</td>\n",
              "      <td>...</td>\n",
              "      <td>...</td>\n",
              "      <td>...</td>\n",
              "      <td>...</td>\n",
              "      <td>...</td>\n",
              "      <td>...</td>\n",
              "      <td>...</td>\n",
              "    </tr>\n",
              "    <tr>\n",
              "      <th>173</th>\n",
              "      <td>13.71</td>\n",
              "      <td>5.65</td>\n",
              "      <td>2.45</td>\n",
              "      <td>20.5</td>\n",
              "      <td>95.0</td>\n",
              "      <td>1.68</td>\n",
              "      <td>0.61</td>\n",
              "      <td>0.52</td>\n",
              "      <td>1.06</td>\n",
              "      <td>7.70</td>\n",
              "      <td>0.64</td>\n",
              "      <td>1.74</td>\n",
              "      <td>740.0</td>\n",
              "    </tr>\n",
              "    <tr>\n",
              "      <th>174</th>\n",
              "      <td>13.40</td>\n",
              "      <td>3.91</td>\n",
              "      <td>2.48</td>\n",
              "      <td>23.0</td>\n",
              "      <td>102.0</td>\n",
              "      <td>1.80</td>\n",
              "      <td>0.75</td>\n",
              "      <td>0.43</td>\n",
              "      <td>1.41</td>\n",
              "      <td>7.30</td>\n",
              "      <td>0.70</td>\n",
              "      <td>1.56</td>\n",
              "      <td>750.0</td>\n",
              "    </tr>\n",
              "    <tr>\n",
              "      <th>175</th>\n",
              "      <td>13.27</td>\n",
              "      <td>4.28</td>\n",
              "      <td>2.26</td>\n",
              "      <td>20.0</td>\n",
              "      <td>120.0</td>\n",
              "      <td>1.59</td>\n",
              "      <td>0.69</td>\n",
              "      <td>0.43</td>\n",
              "      <td>1.35</td>\n",
              "      <td>10.20</td>\n",
              "      <td>0.59</td>\n",
              "      <td>1.56</td>\n",
              "      <td>835.0</td>\n",
              "    </tr>\n",
              "    <tr>\n",
              "      <th>176</th>\n",
              "      <td>13.17</td>\n",
              "      <td>2.59</td>\n",
              "      <td>2.37</td>\n",
              "      <td>20.0</td>\n",
              "      <td>120.0</td>\n",
              "      <td>1.65</td>\n",
              "      <td>0.68</td>\n",
              "      <td>0.53</td>\n",
              "      <td>1.46</td>\n",
              "      <td>9.30</td>\n",
              "      <td>0.60</td>\n",
              "      <td>1.62</td>\n",
              "      <td>840.0</td>\n",
              "    </tr>\n",
              "    <tr>\n",
              "      <th>177</th>\n",
              "      <td>14.13</td>\n",
              "      <td>4.10</td>\n",
              "      <td>2.74</td>\n",
              "      <td>24.5</td>\n",
              "      <td>96.0</td>\n",
              "      <td>2.05</td>\n",
              "      <td>0.76</td>\n",
              "      <td>0.56</td>\n",
              "      <td>1.35</td>\n",
              "      <td>9.20</td>\n",
              "      <td>0.61</td>\n",
              "      <td>1.60</td>\n",
              "      <td>560.0</td>\n",
              "    </tr>\n",
              "  </tbody>\n",
              "</table>\n",
              "<p>178 rows × 13 columns</p>\n",
              "</div>\n",
              "      <button class=\"colab-df-convert\" onclick=\"convertToInteractive('df-d4a02fa4-6d06-47f1-a66d-6b56faf86903')\"\n",
              "              title=\"Convert this dataframe to an interactive table.\"\n",
              "              style=\"display:none;\">\n",
              "        \n",
              "  <svg xmlns=\"http://www.w3.org/2000/svg\" height=\"24px\"viewBox=\"0 0 24 24\"\n",
              "       width=\"24px\">\n",
              "    <path d=\"M0 0h24v24H0V0z\" fill=\"none\"/>\n",
              "    <path d=\"M18.56 5.44l.94 2.06.94-2.06 2.06-.94-2.06-.94-.94-2.06-.94 2.06-2.06.94zm-11 1L8.5 8.5l.94-2.06 2.06-.94-2.06-.94L8.5 2.5l-.94 2.06-2.06.94zm10 10l.94 2.06.94-2.06 2.06-.94-2.06-.94-.94-2.06-.94 2.06-2.06.94z\"/><path d=\"M17.41 7.96l-1.37-1.37c-.4-.4-.92-.59-1.43-.59-.52 0-1.04.2-1.43.59L10.3 9.45l-7.72 7.72c-.78.78-.78 2.05 0 2.83L4 21.41c.39.39.9.59 1.41.59.51 0 1.02-.2 1.41-.59l7.78-7.78 2.81-2.81c.8-.78.8-2.07 0-2.86zM5.41 20L4 18.59l7.72-7.72 1.47 1.35L5.41 20z\"/>\n",
              "  </svg>\n",
              "      </button>\n",
              "      \n",
              "  <style>\n",
              "    .colab-df-container {\n",
              "      display:flex;\n",
              "      flex-wrap:wrap;\n",
              "      gap: 12px;\n",
              "    }\n",
              "\n",
              "    .colab-df-convert {\n",
              "      background-color: #E8F0FE;\n",
              "      border: none;\n",
              "      border-radius: 50%;\n",
              "      cursor: pointer;\n",
              "      display: none;\n",
              "      fill: #1967D2;\n",
              "      height: 32px;\n",
              "      padding: 0 0 0 0;\n",
              "      width: 32px;\n",
              "    }\n",
              "\n",
              "    .colab-df-convert:hover {\n",
              "      background-color: #E2EBFA;\n",
              "      box-shadow: 0px 1px 2px rgba(60, 64, 67, 0.3), 0px 1px 3px 1px rgba(60, 64, 67, 0.15);\n",
              "      fill: #174EA6;\n",
              "    }\n",
              "\n",
              "    [theme=dark] .colab-df-convert {\n",
              "      background-color: #3B4455;\n",
              "      fill: #D2E3FC;\n",
              "    }\n",
              "\n",
              "    [theme=dark] .colab-df-convert:hover {\n",
              "      background-color: #434B5C;\n",
              "      box-shadow: 0px 1px 3px 1px rgba(0, 0, 0, 0.15);\n",
              "      filter: drop-shadow(0px 1px 2px rgba(0, 0, 0, 0.3));\n",
              "      fill: #FFFFFF;\n",
              "    }\n",
              "  </style>\n",
              "\n",
              "      <script>\n",
              "        const buttonEl =\n",
              "          document.querySelector('#df-d4a02fa4-6d06-47f1-a66d-6b56faf86903 button.colab-df-convert');\n",
              "        buttonEl.style.display =\n",
              "          google.colab.kernel.accessAllowed ? 'block' : 'none';\n",
              "\n",
              "        async function convertToInteractive(key) {\n",
              "          const element = document.querySelector('#df-d4a02fa4-6d06-47f1-a66d-6b56faf86903');\n",
              "          const dataTable =\n",
              "            await google.colab.kernel.invokeFunction('convertToInteractive',\n",
              "                                                     [key], {});\n",
              "          if (!dataTable) return;\n",
              "\n",
              "          const docLinkHtml = 'Like what you see? Visit the ' +\n",
              "            '<a target=\"_blank\" href=https://colab.research.google.com/notebooks/data_table.ipynb>data table notebook</a>'\n",
              "            + ' to learn more about interactive tables.';\n",
              "          element.innerHTML = '';\n",
              "          dataTable['output_type'] = 'display_data';\n",
              "          await google.colab.output.renderOutput(dataTable, element);\n",
              "          const docLink = document.createElement('div');\n",
              "          docLink.innerHTML = docLinkHtml;\n",
              "          element.appendChild(docLink);\n",
              "        }\n",
              "      </script>\n",
              "    </div>\n",
              "  </div>\n",
              "  "
            ]
          },
          "metadata": {},
          "execution_count": 35
        }
      ]
    },
    {
      "cell_type": "code",
      "source": [
        "wine_df[\"label\"]= wine.target\n",
        "wine_df"
      ],
      "metadata": {
        "colab": {
          "base_uri": "https://localhost:8080/",
          "height": 488
        },
        "id": "FDw6ewrcJ0yl",
        "outputId": "344a7bcf-fd57-480b-f6e0-aa4fa23e2933"
      },
      "execution_count": 36,
      "outputs": [
        {
          "output_type": "execute_result",
          "data": {
            "text/plain": [
              "     alcohol  malic_acid   ash  alcalinity_of_ash  magnesium  total_phenols  \\\n",
              "0      14.23        1.71  2.43               15.6      127.0           2.80   \n",
              "1      13.20        1.78  2.14               11.2      100.0           2.65   \n",
              "2      13.16        2.36  2.67               18.6      101.0           2.80   \n",
              "3      14.37        1.95  2.50               16.8      113.0           3.85   \n",
              "4      13.24        2.59  2.87               21.0      118.0           2.80   \n",
              "..       ...         ...   ...                ...        ...            ...   \n",
              "173    13.71        5.65  2.45               20.5       95.0           1.68   \n",
              "174    13.40        3.91  2.48               23.0      102.0           1.80   \n",
              "175    13.27        4.28  2.26               20.0      120.0           1.59   \n",
              "176    13.17        2.59  2.37               20.0      120.0           1.65   \n",
              "177    14.13        4.10  2.74               24.5       96.0           2.05   \n",
              "\n",
              "     flavanoids  nonflavanoid_phenols  proanthocyanins  color_intensity   hue  \\\n",
              "0          3.06                  0.28             2.29             5.64  1.04   \n",
              "1          2.76                  0.26             1.28             4.38  1.05   \n",
              "2          3.24                  0.30             2.81             5.68  1.03   \n",
              "3          3.49                  0.24             2.18             7.80  0.86   \n",
              "4          2.69                  0.39             1.82             4.32  1.04   \n",
              "..          ...                   ...              ...              ...   ...   \n",
              "173        0.61                  0.52             1.06             7.70  0.64   \n",
              "174        0.75                  0.43             1.41             7.30  0.70   \n",
              "175        0.69                  0.43             1.35            10.20  0.59   \n",
              "176        0.68                  0.53             1.46             9.30  0.60   \n",
              "177        0.76                  0.56             1.35             9.20  0.61   \n",
              "\n",
              "     od280/od315_of_diluted_wines  proline  label  \n",
              "0                            3.92   1065.0      0  \n",
              "1                            3.40   1050.0      0  \n",
              "2                            3.17   1185.0      0  \n",
              "3                            3.45   1480.0      0  \n",
              "4                            2.93    735.0      0  \n",
              "..                            ...      ...    ...  \n",
              "173                          1.74    740.0      2  \n",
              "174                          1.56    750.0      2  \n",
              "175                          1.56    835.0      2  \n",
              "176                          1.62    840.0      2  \n",
              "177                          1.60    560.0      2  \n",
              "\n",
              "[178 rows x 14 columns]"
            ],
            "text/html": [
              "\n",
              "  <div id=\"df-ad05ca1c-7015-4463-bf13-195b10ff2a6a\">\n",
              "    <div class=\"colab-df-container\">\n",
              "      <div>\n",
              "<style scoped>\n",
              "    .dataframe tbody tr th:only-of-type {\n",
              "        vertical-align: middle;\n",
              "    }\n",
              "\n",
              "    .dataframe tbody tr th {\n",
              "        vertical-align: top;\n",
              "    }\n",
              "\n",
              "    .dataframe thead th {\n",
              "        text-align: right;\n",
              "    }\n",
              "</style>\n",
              "<table border=\"1\" class=\"dataframe\">\n",
              "  <thead>\n",
              "    <tr style=\"text-align: right;\">\n",
              "      <th></th>\n",
              "      <th>alcohol</th>\n",
              "      <th>malic_acid</th>\n",
              "      <th>ash</th>\n",
              "      <th>alcalinity_of_ash</th>\n",
              "      <th>magnesium</th>\n",
              "      <th>total_phenols</th>\n",
              "      <th>flavanoids</th>\n",
              "      <th>nonflavanoid_phenols</th>\n",
              "      <th>proanthocyanins</th>\n",
              "      <th>color_intensity</th>\n",
              "      <th>hue</th>\n",
              "      <th>od280/od315_of_diluted_wines</th>\n",
              "      <th>proline</th>\n",
              "      <th>label</th>\n",
              "    </tr>\n",
              "  </thead>\n",
              "  <tbody>\n",
              "    <tr>\n",
              "      <th>0</th>\n",
              "      <td>14.23</td>\n",
              "      <td>1.71</td>\n",
              "      <td>2.43</td>\n",
              "      <td>15.6</td>\n",
              "      <td>127.0</td>\n",
              "      <td>2.80</td>\n",
              "      <td>3.06</td>\n",
              "      <td>0.28</td>\n",
              "      <td>2.29</td>\n",
              "      <td>5.64</td>\n",
              "      <td>1.04</td>\n",
              "      <td>3.92</td>\n",
              "      <td>1065.0</td>\n",
              "      <td>0</td>\n",
              "    </tr>\n",
              "    <tr>\n",
              "      <th>1</th>\n",
              "      <td>13.20</td>\n",
              "      <td>1.78</td>\n",
              "      <td>2.14</td>\n",
              "      <td>11.2</td>\n",
              "      <td>100.0</td>\n",
              "      <td>2.65</td>\n",
              "      <td>2.76</td>\n",
              "      <td>0.26</td>\n",
              "      <td>1.28</td>\n",
              "      <td>4.38</td>\n",
              "      <td>1.05</td>\n",
              "      <td>3.40</td>\n",
              "      <td>1050.0</td>\n",
              "      <td>0</td>\n",
              "    </tr>\n",
              "    <tr>\n",
              "      <th>2</th>\n",
              "      <td>13.16</td>\n",
              "      <td>2.36</td>\n",
              "      <td>2.67</td>\n",
              "      <td>18.6</td>\n",
              "      <td>101.0</td>\n",
              "      <td>2.80</td>\n",
              "      <td>3.24</td>\n",
              "      <td>0.30</td>\n",
              "      <td>2.81</td>\n",
              "      <td>5.68</td>\n",
              "      <td>1.03</td>\n",
              "      <td>3.17</td>\n",
              "      <td>1185.0</td>\n",
              "      <td>0</td>\n",
              "    </tr>\n",
              "    <tr>\n",
              "      <th>3</th>\n",
              "      <td>14.37</td>\n",
              "      <td>1.95</td>\n",
              "      <td>2.50</td>\n",
              "      <td>16.8</td>\n",
              "      <td>113.0</td>\n",
              "      <td>3.85</td>\n",
              "      <td>3.49</td>\n",
              "      <td>0.24</td>\n",
              "      <td>2.18</td>\n",
              "      <td>7.80</td>\n",
              "      <td>0.86</td>\n",
              "      <td>3.45</td>\n",
              "      <td>1480.0</td>\n",
              "      <td>0</td>\n",
              "    </tr>\n",
              "    <tr>\n",
              "      <th>4</th>\n",
              "      <td>13.24</td>\n",
              "      <td>2.59</td>\n",
              "      <td>2.87</td>\n",
              "      <td>21.0</td>\n",
              "      <td>118.0</td>\n",
              "      <td>2.80</td>\n",
              "      <td>2.69</td>\n",
              "      <td>0.39</td>\n",
              "      <td>1.82</td>\n",
              "      <td>4.32</td>\n",
              "      <td>1.04</td>\n",
              "      <td>2.93</td>\n",
              "      <td>735.0</td>\n",
              "      <td>0</td>\n",
              "    </tr>\n",
              "    <tr>\n",
              "      <th>...</th>\n",
              "      <td>...</td>\n",
              "      <td>...</td>\n",
              "      <td>...</td>\n",
              "      <td>...</td>\n",
              "      <td>...</td>\n",
              "      <td>...</td>\n",
              "      <td>...</td>\n",
              "      <td>...</td>\n",
              "      <td>...</td>\n",
              "      <td>...</td>\n",
              "      <td>...</td>\n",
              "      <td>...</td>\n",
              "      <td>...</td>\n",
              "      <td>...</td>\n",
              "    </tr>\n",
              "    <tr>\n",
              "      <th>173</th>\n",
              "      <td>13.71</td>\n",
              "      <td>5.65</td>\n",
              "      <td>2.45</td>\n",
              "      <td>20.5</td>\n",
              "      <td>95.0</td>\n",
              "      <td>1.68</td>\n",
              "      <td>0.61</td>\n",
              "      <td>0.52</td>\n",
              "      <td>1.06</td>\n",
              "      <td>7.70</td>\n",
              "      <td>0.64</td>\n",
              "      <td>1.74</td>\n",
              "      <td>740.0</td>\n",
              "      <td>2</td>\n",
              "    </tr>\n",
              "    <tr>\n",
              "      <th>174</th>\n",
              "      <td>13.40</td>\n",
              "      <td>3.91</td>\n",
              "      <td>2.48</td>\n",
              "      <td>23.0</td>\n",
              "      <td>102.0</td>\n",
              "      <td>1.80</td>\n",
              "      <td>0.75</td>\n",
              "      <td>0.43</td>\n",
              "      <td>1.41</td>\n",
              "      <td>7.30</td>\n",
              "      <td>0.70</td>\n",
              "      <td>1.56</td>\n",
              "      <td>750.0</td>\n",
              "      <td>2</td>\n",
              "    </tr>\n",
              "    <tr>\n",
              "      <th>175</th>\n",
              "      <td>13.27</td>\n",
              "      <td>4.28</td>\n",
              "      <td>2.26</td>\n",
              "      <td>20.0</td>\n",
              "      <td>120.0</td>\n",
              "      <td>1.59</td>\n",
              "      <td>0.69</td>\n",
              "      <td>0.43</td>\n",
              "      <td>1.35</td>\n",
              "      <td>10.20</td>\n",
              "      <td>0.59</td>\n",
              "      <td>1.56</td>\n",
              "      <td>835.0</td>\n",
              "      <td>2</td>\n",
              "    </tr>\n",
              "    <tr>\n",
              "      <th>176</th>\n",
              "      <td>13.17</td>\n",
              "      <td>2.59</td>\n",
              "      <td>2.37</td>\n",
              "      <td>20.0</td>\n",
              "      <td>120.0</td>\n",
              "      <td>1.65</td>\n",
              "      <td>0.68</td>\n",
              "      <td>0.53</td>\n",
              "      <td>1.46</td>\n",
              "      <td>9.30</td>\n",
              "      <td>0.60</td>\n",
              "      <td>1.62</td>\n",
              "      <td>840.0</td>\n",
              "      <td>2</td>\n",
              "    </tr>\n",
              "    <tr>\n",
              "      <th>177</th>\n",
              "      <td>14.13</td>\n",
              "      <td>4.10</td>\n",
              "      <td>2.74</td>\n",
              "      <td>24.5</td>\n",
              "      <td>96.0</td>\n",
              "      <td>2.05</td>\n",
              "      <td>0.76</td>\n",
              "      <td>0.56</td>\n",
              "      <td>1.35</td>\n",
              "      <td>9.20</td>\n",
              "      <td>0.61</td>\n",
              "      <td>1.60</td>\n",
              "      <td>560.0</td>\n",
              "      <td>2</td>\n",
              "    </tr>\n",
              "  </tbody>\n",
              "</table>\n",
              "<p>178 rows × 14 columns</p>\n",
              "</div>\n",
              "      <button class=\"colab-df-convert\" onclick=\"convertToInteractive('df-ad05ca1c-7015-4463-bf13-195b10ff2a6a')\"\n",
              "              title=\"Convert this dataframe to an interactive table.\"\n",
              "              style=\"display:none;\">\n",
              "        \n",
              "  <svg xmlns=\"http://www.w3.org/2000/svg\" height=\"24px\"viewBox=\"0 0 24 24\"\n",
              "       width=\"24px\">\n",
              "    <path d=\"M0 0h24v24H0V0z\" fill=\"none\"/>\n",
              "    <path d=\"M18.56 5.44l.94 2.06.94-2.06 2.06-.94-2.06-.94-.94-2.06-.94 2.06-2.06.94zm-11 1L8.5 8.5l.94-2.06 2.06-.94-2.06-.94L8.5 2.5l-.94 2.06-2.06.94zm10 10l.94 2.06.94-2.06 2.06-.94-2.06-.94-.94-2.06-.94 2.06-2.06.94z\"/><path d=\"M17.41 7.96l-1.37-1.37c-.4-.4-.92-.59-1.43-.59-.52 0-1.04.2-1.43.59L10.3 9.45l-7.72 7.72c-.78.78-.78 2.05 0 2.83L4 21.41c.39.39.9.59 1.41.59.51 0 1.02-.2 1.41-.59l7.78-7.78 2.81-2.81c.8-.78.8-2.07 0-2.86zM5.41 20L4 18.59l7.72-7.72 1.47 1.35L5.41 20z\"/>\n",
              "  </svg>\n",
              "      </button>\n",
              "      \n",
              "  <style>\n",
              "    .colab-df-container {\n",
              "      display:flex;\n",
              "      flex-wrap:wrap;\n",
              "      gap: 12px;\n",
              "    }\n",
              "\n",
              "    .colab-df-convert {\n",
              "      background-color: #E8F0FE;\n",
              "      border: none;\n",
              "      border-radius: 50%;\n",
              "      cursor: pointer;\n",
              "      display: none;\n",
              "      fill: #1967D2;\n",
              "      height: 32px;\n",
              "      padding: 0 0 0 0;\n",
              "      width: 32px;\n",
              "    }\n",
              "\n",
              "    .colab-df-convert:hover {\n",
              "      background-color: #E2EBFA;\n",
              "      box-shadow: 0px 1px 2px rgba(60, 64, 67, 0.3), 0px 1px 3px 1px rgba(60, 64, 67, 0.15);\n",
              "      fill: #174EA6;\n",
              "    }\n",
              "\n",
              "    [theme=dark] .colab-df-convert {\n",
              "      background-color: #3B4455;\n",
              "      fill: #D2E3FC;\n",
              "    }\n",
              "\n",
              "    [theme=dark] .colab-df-convert:hover {\n",
              "      background-color: #434B5C;\n",
              "      box-shadow: 0px 1px 3px 1px rgba(0, 0, 0, 0.15);\n",
              "      filter: drop-shadow(0px 1px 2px rgba(0, 0, 0, 0.3));\n",
              "      fill: #FFFFFF;\n",
              "    }\n",
              "  </style>\n",
              "\n",
              "      <script>\n",
              "        const buttonEl =\n",
              "          document.querySelector('#df-ad05ca1c-7015-4463-bf13-195b10ff2a6a button.colab-df-convert');\n",
              "        buttonEl.style.display =\n",
              "          google.colab.kernel.accessAllowed ? 'block' : 'none';\n",
              "\n",
              "        async function convertToInteractive(key) {\n",
              "          const element = document.querySelector('#df-ad05ca1c-7015-4463-bf13-195b10ff2a6a');\n",
              "          const dataTable =\n",
              "            await google.colab.kernel.invokeFunction('convertToInteractive',\n",
              "                                                     [key], {});\n",
              "          if (!dataTable) return;\n",
              "\n",
              "          const docLinkHtml = 'Like what you see? Visit the ' +\n",
              "            '<a target=\"_blank\" href=https://colab.research.google.com/notebooks/data_table.ipynb>data table notebook</a>'\n",
              "            + ' to learn more about interactive tables.';\n",
              "          element.innerHTML = '';\n",
              "          dataTable['output_type'] = 'display_data';\n",
              "          await google.colab.output.renderOutput(dataTable, element);\n",
              "          const docLink = document.createElement('div');\n",
              "          docLink.innerHTML = docLinkHtml;\n",
              "          element.appendChild(docLink);\n",
              "        }\n",
              "      </script>\n",
              "    </div>\n",
              "  </div>\n",
              "  "
            ]
          },
          "metadata": {},
          "execution_count": 36
        }
      ]
    },
    {
      "cell_type": "code",
      "source": [
        "x_train, x_test, y_train, y_test = train_test_split(wine_data,wine_label, test_size=0.2, random_state=7)\n",
        "print('x_train 개수:', len(x_train),',x_test 개수:', len(x_test))"
      ],
      "metadata": {
        "colab": {
          "base_uri": "https://localhost:8080/"
        },
        "id": "rIR83jKwKD4S",
        "outputId": "25b85b60-522c-4b3c-ceb3-a25c01b6fa47"
      },
      "execution_count": 37,
      "outputs": [
        {
          "output_type": "stream",
          "name": "stdout",
          "text": [
            "x_train 개수: 142 ,x_test 개수: 36\n"
          ]
        }
      ]
    },
    {
      "cell_type": "code",
      "source": [
        "from sklearn.tree import DecisionTreeClassifier\n",
        "decision_tree = DecisionTreeClassifier(random_state=32)\n",
        "decision_tree.fit(x_train, y_train)\n",
        "y_pred = decision_tree.predict(x_test)\n",
        "print(classification_report(y_test, y_pred))"
      ],
      "metadata": {
        "colab": {
          "base_uri": "https://localhost:8080/"
        },
        "id": "k1rF7R4eLnWR",
        "outputId": "e981835a-ec59-4ebf-e4f4-81bb8943052e"
      },
      "execution_count": 38,
      "outputs": [
        {
          "output_type": "stream",
          "name": "stdout",
          "text": [
            "              precision    recall  f1-score   support\n",
            "\n",
            "           0       1.00      1.00      1.00         7\n",
            "           1       0.89      1.00      0.94        17\n",
            "           2       1.00      0.83      0.91        12\n",
            "\n",
            "    accuracy                           0.94        36\n",
            "   macro avg       0.96      0.94      0.95        36\n",
            "weighted avg       0.95      0.94      0.94        36\n",
            "\n"
          ]
        }
      ]
    },
    {
      "cell_type": "code",
      "source": [
        "from sklearn.metrics import accuracy_score\n",
        "accuracy = accuracy_score(y_test, y_pred)\n",
        "accuracy"
      ],
      "metadata": {
        "colab": {
          "base_uri": "https://localhost:8080/"
        },
        "id": "VV8rVpSQNOE0",
        "outputId": "996b5f9e-edab-4ce7-ae55-f70f843e7943"
      },
      "execution_count": 39,
      "outputs": [
        {
          "output_type": "execute_result",
          "data": {
            "text/plain": [
              "0.9444444444444444"
            ]
          },
          "metadata": {},
          "execution_count": 39
        }
      ]
    },
    {
      "cell_type": "code",
      "source": [
        "import matplotlib.pyplot as plt\n",
        "import numpy as np\n",
        "np.random.seed(0)\n",
        "plt.scatter(y_test, y_pred)\n",
        "plt.show()"
      ],
      "metadata": {
        "colab": {
          "base_uri": "https://localhost:8080/",
          "height": 265
        },
        "id": "Ev9bB664nnwN",
        "outputId": "1683611e-9787-4c47-d1bb-327c9fe5786a"
      },
      "execution_count": 40,
      "outputs": [
        {
          "output_type": "display_data",
          "data": {
            "text/plain": [
              "<Figure size 432x288 with 1 Axes>"
            ],
            "image/png": "[encoded data removed]"
          },
          "metadata": {
            "needs_background": "light"
          }
        }
      ]
    },
    {
      "cell_type": "code",
      "source": [
        "from sklearn.ensemble import RandomForestClassifier\n",
        "random_forest = RandomForestClassifier(random_state=32)\n",
        "random_forest.fit(x_train, y_train)\n",
        "y_pred = random_forest.predict(x_test)\n",
        "print(classification_report(y_test, y_pred))"
      ],
      "metadata": {
        "colab": {
          "base_uri": "https://localhost:8080/"
        },
        "id": "VrQYZBdgNhfy",
        "outputId": "6729afda-3987-4d40-8bb0-2a715682cdb8"
      },
      "execution_count": 41,
      "outputs": [
        {
          "output_type": "stream",
          "name": "stdout",
          "text": [
            "              precision    recall  f1-score   support\n",
            "\n",
            "           0       1.00      1.00      1.00         7\n",
            "           1       1.00      1.00      1.00        17\n",
            "           2       1.00      1.00      1.00        12\n",
            "\n",
            "    accuracy                           1.00        36\n",
            "   macro avg       1.00      1.00      1.00        36\n",
            "weighted avg       1.00      1.00      1.00        36\n",
            "\n"
          ]
        }
      ]
    },
    {
      "cell_type": "code",
      "source": [
        "accuracy = accuracy_score(y_test, y_pred)\n",
        "accuracy"
      ],
      "metadata": {
        "colab": {
          "base_uri": "https://localhost:8080/"
        },
        "id": "ov7WUO8jOu1f",
        "outputId": "77479ad7-de7d-4f1a-95bc-e8bdb0dd5ddf"
      },
      "execution_count": 42,
      "outputs": [
        {
          "output_type": "execute_result",
          "data": {
            "text/plain": [
              "1.0"
            ]
          },
          "metadata": {},
          "execution_count": 42
        }
      ]
    },
    {
      "cell_type": "code",
      "source": [
        "import matplotlib.pyplot as plt\n",
        "import numpy as np\n",
        "np.random.seed(0)\n",
        "plt.scatter(y_test, y_pred)\n",
        "plt.show()"
      ],
      "metadata": {
        "colab": {
          "base_uri": "https://localhost:8080/",
          "height": 265
        },
        "id": "8iMf6l9RnpAS",
        "outputId": "a5b3f66d-c72b-4620-df6a-75e0aafd657f"
      },
      "execution_count": 43,
      "outputs": [
        {
          "output_type": "display_data",
          "data": {
            "text/plain": [
              "<Figure size 432x288 with 1 Axes>"
            ],
            "image/png": "[encoded data removed]"
          },
          "metadata": {
            "needs_background": "light"
          }
        }
      ]
    },
    {
      "cell_type": "code",
      "source": [
        "from sklearn import svm\n",
        "svm_model = svm.SVC()\n",
        "svm_model.fit(x_train, y_train)\n",
        "y_pred = svm_model.predict(x_test)\n",
        "print(classification_report(y_test, y_pred))"
      ],
      "metadata": {
        "colab": {
          "base_uri": "https://localhost:8080/"
        },
        "id": "uzNz0s6DPvQk",
        "outputId": "24c50b70-e649-44e8-c457-eedce3cd94ee"
      },
      "execution_count": 44,
      "outputs": [
        {
          "output_type": "stream",
          "name": "stdout",
          "text": [
            "              precision    recall  f1-score   support\n",
            "\n",
            "           0       0.86      0.86      0.86         7\n",
            "           1       0.58      0.88      0.70        17\n",
            "           2       0.33      0.08      0.13        12\n",
            "\n",
            "    accuracy                           0.61        36\n",
            "   macro avg       0.59      0.61      0.56        36\n",
            "weighted avg       0.55      0.61      0.54        36\n",
            "\n"
          ]
        }
      ]
    },
    {
      "cell_type": "code",
      "source": [
        "accuracy = accuracy_score(y_test, y_pred)\n",
        "accuracy"
      ],
      "metadata": {
        "colab": {
          "base_uri": "https://localhost:8080/"
        },
        "id": "aF1Y_sm4Q_Gj",
        "outputId": "d7a12101-902b-42ed-ac58-5fc901f043a7"
      },
      "execution_count": 45,
      "outputs": [
        {
          "output_type": "execute_result",
          "data": {
            "text/plain": [
              "0.6111111111111112"
            ]
          },
          "metadata": {},
          "execution_count": 45
        }
      ]
    },
    {
      "cell_type": "code",
      "source": [
        "import matplotlib.pyplot as plt\n",
        "import numpy as np\n",
        "np.random.seed(0)\n",
        "plt.scatter(y_test, y_pred)\n",
        "plt.show()"
      ],
      "metadata": {
        "colab": {
          "base_uri": "https://localhost:8080/",
          "height": 265
        },
        "id": "kAg49lOYnqTm",
        "outputId": "f99675f5-ddd7-4d3e-8714-c0970624a6ed"
      },
      "execution_count": 46,
      "outputs": [
        {
          "output_type": "display_data",
          "data": {
            "text/plain": [
              "<Figure size 432x288 with 1 Axes>"
            ],
            "image/png": "[encoded data removed]"
          },
          "metadata": {
            "needs_background": "light"
          }
        }
      ]
    },
    {
      "cell_type": "code",
      "source": [
        "from sklearn.linear_model import SGDClassifier\n",
        "sgd_model = SGDClassifier()\n",
        "svm_model.fit(x_train, y_train)\n",
        "y_pred = svm_model.predict(x_test)\n",
        "print(classification_report(y_test, y_pred))"
      ],
      "metadata": {
        "colab": {
          "base_uri": "https://localhost:8080/"
        },
        "id": "EmnA3tJbZJIK",
        "outputId": "893364ab-e674-43b7-99e1-67b9adb74594"
      },
      "execution_count": 47,
      "outputs": [
        {
          "output_type": "stream",
          "name": "stdout",
          "text": [
            "              precision    recall  f1-score   support\n",
            "\n",
            "           0       0.86      0.86      0.86         7\n",
            "           1       0.58      0.88      0.70        17\n",
            "           2       0.33      0.08      0.13        12\n",
            "\n",
            "    accuracy                           0.61        36\n",
            "   macro avg       0.59      0.61      0.56        36\n",
            "weighted avg       0.55      0.61      0.54        36\n",
            "\n"
          ]
        }
      ]
    },
    {
      "cell_type": "code",
      "source": [
        "accuracy = accuracy_score(y_test, y_pred)\n",
        "accuracy"
      ],
      "metadata": {
        "id": "7pQy4yj2ZT-S",
        "outputId": "17f0a583-c9c5-4393-a989-437d09c426b9",
        "colab": {
          "base_uri": "https://localhost:8080/"
        }
      },
      "execution_count": 48,
      "outputs": [
        {
          "output_type": "execute_result",
          "data": {
            "text/plain": [
              "0.6111111111111112"
            ]
          },
          "metadata": {},
          "execution_count": 48
        }
      ]
    },
    {
      "cell_type": "code",
      "source": [
        "import matplotlib.pyplot as plt\n",
        "import numpy as np\n",
        "np.random.seed(0)\n",
        "plt.scatter(y_test, y_pred)\n",
        "plt.show()"
      ],
      "metadata": {
        "colab": {
          "base_uri": "https://localhost:8080/",
          "height": 265
        },
        "id": "7V_h353Knr35",
        "outputId": "a70de6c8-7196-49fd-c523-74dd84ba006a"
      },
      "execution_count": 49,
      "outputs": [
        {
          "output_type": "display_data",
          "data": {
            "text/plain": [
              "<Figure size 432x288 with 1 Axes>"
            ],
            "image/png": "[encoded data removed]"
          },
          "metadata": {
            "needs_background": "light"
          }
        }
      ]
    },
    {
      "cell_type": "code",
      "source": [
        "from sklearn.linear_model import LogisticRegression\n",
        "logistic_model = LogisticRegression()\n",
        "logistic_model.fit(x_train, y_train)\n",
        "y_pred = logistic_model.predict(x_test)\n",
        "print(classification_report(y_test, y_pred))"
      ],
      "metadata": {
        "colab": {
          "base_uri": "https://localhost:8080/"
        },
        "id": "oM_3XGVBTqT-",
        "outputId": "d67d1821-6905-4beb-e1dd-abbab81b73ec"
      },
      "execution_count": 50,
      "outputs": [
        {
          "output_type": "stream",
          "name": "stdout",
          "text": [
            "              precision    recall  f1-score   support\n",
            "\n",
            "           0       1.00      0.86      0.92         7\n",
            "           1       0.94      1.00      0.97        17\n",
            "           2       1.00      1.00      1.00        12\n",
            "\n",
            "    accuracy                           0.97        36\n",
            "   macro avg       0.98      0.95      0.96        36\n",
            "weighted avg       0.97      0.97      0.97        36\n",
            "\n"
          ]
        },
        {
          "output_type": "stream",
          "name": "stderr",
          "text": [
            "/usr/local/lib/python3.7/dist-packages/sklearn/linear_model/_logistic.py:818: ConvergenceWarning: lbfgs failed to converge (status=1):\n",
            "STOP: TOTAL NO. of ITERATIONS REACHED LIMIT.\n",
            "\n",
            "Increase the number of iterations (max_iter) or scale the data as shown in:\n",
            "    https://scikit-learn.org/stable/modules/preprocessing.html\n",
            "Please also refer to the documentation for alternative solver options:\n",
            "    https://scikit-learn.org/stable/modules/linear_model.html#logistic-regression\n",
            "  extra_warning_msg=_LOGISTIC_SOLVER_CONVERGENCE_MSG,\n"
          ]
        }
      ]
    },
    {
      "cell_type": "code",
      "source": [
        "accuracy = accuracy_score(y_test, y_pred)\n",
        "accuracy"
      ],
      "metadata": {
        "colab": {
          "base_uri": "https://localhost:8080/"
        },
        "id": "CKIb67kYXNXB",
        "outputId": "9bd8b597-5b4f-4634-bee8-b2740f7c2221"
      },
      "execution_count": 51,
      "outputs": [
        {
          "output_type": "execute_result",
          "data": {
            "text/plain": [
              "0.9722222222222222"
            ]
          },
          "metadata": {},
          "execution_count": 51
        }
      ]
    },
    {
      "cell_type": "code",
      "source": [
        "import matplotlib.pyplot as plt\n",
        "import numpy as np\n",
        "np.random.seed(0)\n",
        "plt.scatter(y_test, y_pred)\n",
        "plt.show()"
      ],
      "metadata": {
        "colab": {
          "base_uri": "https://localhost:8080/",
          "height": 265
        },
        "id": "cINbOBacntHs",
        "outputId": "9987099e-30f6-43bf-8463-71d9fc8030ab"
      },
      "execution_count": 52,
      "outputs": [
        {
          "output_type": "display_data",
          "data": {
            "text/plain": [
              "<Figure size 432x288 with 1 Axes>"
            ],
            "image/png": "[encoded data removed]"
          },
          "metadata": {
            "needs_background": "light"
          }
        }
      ]
    },
    {
      "cell_type": "markdown",
      "source": [
        "___________"
      ],
      "metadata": {
        "id": "1E1HmsMrFnt1"
      }
    },
    {
      "cell_type": "markdown",
      "source": [
        "**(3) 유방암 여부 진단**"
      ],
      "metadata": {
        "id": "YG0rn266KwHl"
      }
    },
    {
      "cell_type": "code",
      "execution_count": 53,
      "metadata": {
        "id": "XZKc1XZsb5I8"
      },
      "outputs": [],
      "source": [
        "from sklearn.datasets import load_breast_cancer\n",
        "from sklearn.model_selection import train_test_split\n",
        "from sklearn.metrics import classification_report"
      ]
    },
    {
      "cell_type": "code",
      "source": [
        "b_c = load_breast_cancer() # b_c = breast_cancer\n",
        "print(dir(b_c))"
      ],
      "metadata": {
        "colab": {
          "base_uri": "https://localhost:8080/"
        },
        "id": "X-psM8uTckze",
        "outputId": "d192b20c-4b46-4661-b115-cb2bf722761e"
      },
      "execution_count": 54,
      "outputs": [
        {
          "output_type": "stream",
          "name": "stdout",
          "text": [
            "['DESCR', 'data', 'data_module', 'feature_names', 'filename', 'frame', 'target', 'target_names']\n"
          ]
        }
      ]
    },
    {
      "cell_type": "code",
      "source": [
        "b_c_data = b_c.data\n",
        "print(b_c_data.shape)"
      ],
      "metadata": {
        "colab": {
          "base_uri": "https://localhost:8080/"
        },
        "id": "gpxTFdAQcvtJ",
        "outputId": "6068a8e2-9906-4c53-bb86-cf7fd0c1141c"
      },
      "execution_count": 55,
      "outputs": [
        {
          "output_type": "stream",
          "name": "stdout",
          "text": [
            "(569, 30)\n"
          ]
        }
      ]
    },
    {
      "cell_type": "code",
      "source": [
        "b_c_data[0]"
      ],
      "metadata": {
        "colab": {
          "base_uri": "https://localhost:8080/"
        },
        "id": "ZujNs0b8dzja",
        "outputId": "636cd55b-e94a-40f0-f37f-6f4df365bf41"
      },
      "execution_count": 56,
      "outputs": [
        {
          "output_type": "execute_result",
          "data": {
            "text/plain": [
              "array([1.799e+01, 1.038e+01, 1.228e+02, 1.001e+03, 1.184e-01, 2.776e-01,\n",
              "       3.001e-01, 1.471e-01, 2.419e-01, 7.871e-02, 1.095e+00, 9.053e-01,\n",
              "       8.589e+00, 1.534e+02, 6.399e-03, 4.904e-02, 5.373e-02, 1.587e-02,\n",
              "       3.003e-02, 6.193e-03, 2.538e+01, 1.733e+01, 1.846e+02, 2.019e+03,\n",
              "       1.622e-01, 6.656e-01, 7.119e-01, 2.654e-01, 4.601e-01, 1.189e-01])"
            ]
          },
          "metadata": {},
          "execution_count": 56
        }
      ]
    },
    {
      "cell_type": "code",
      "source": [
        "b_c_label = b_c.target\n",
        "print(b_c_label.shape)"
      ],
      "metadata": {
        "colab": {
          "base_uri": "https://localhost:8080/"
        },
        "id": "RXRLR0-3e7d-",
        "outputId": "c8c1fe24-483b-4951-b2bd-6327c4a81776"
      },
      "execution_count": 57,
      "outputs": [
        {
          "output_type": "stream",
          "name": "stdout",
          "text": [
            "(569,)\n"
          ]
        }
      ]
    },
    {
      "cell_type": "code",
      "source": [
        "b_c.target_names"
      ],
      "metadata": {
        "colab": {
          "base_uri": "https://localhost:8080/"
        },
        "id": "6D1Y9UI4fq0U",
        "outputId": "a6e0a557-a304-4a43-ea26-fb36426e8e4b"
      },
      "execution_count": 58,
      "outputs": [
        {
          "output_type": "execute_result",
          "data": {
            "text/plain": [
              "array(['malignant', 'benign'], dtype='<U9')"
            ]
          },
          "metadata": {},
          "execution_count": 58
        }
      ]
    },
    {
      "cell_type": "code",
      "source": [
        "b_c.feature_names"
      ],
      "metadata": {
        "colab": {
          "base_uri": "https://localhost:8080/"
        },
        "id": "AncZZmfuf47x",
        "outputId": "07b16c24-5093-4687-9484-a41c92e7410f"
      },
      "execution_count": 59,
      "outputs": [
        {
          "output_type": "execute_result",
          "data": {
            "text/plain": [
              "array(['mean radius', 'mean texture', 'mean perimeter', 'mean area',\n",
              "       'mean smoothness', 'mean compactness', 'mean concavity',\n",
              "       'mean concave points', 'mean symmetry', 'mean fractal dimension',\n",
              "       'radius error', 'texture error', 'perimeter error', 'area error',\n",
              "       'smoothness error', 'compactness error', 'concavity error',\n",
              "       'concave points error', 'symmetry error',\n",
              "       'fractal dimension error', 'worst radius', 'worst texture',\n",
              "       'worst perimeter', 'worst area', 'worst smoothness',\n",
              "       'worst compactness', 'worst concavity', 'worst concave points',\n",
              "       'worst symmetry', 'worst fractal dimension'], dtype='<U23')"
            ]
          },
          "metadata": {},
          "execution_count": 59
        }
      ]
    },
    {
      "cell_type": "code",
      "source": [
        "import pandas as pd\n",
        "print(pd.__version__)"
      ],
      "metadata": {
        "colab": {
          "base_uri": "https://localhost:8080/"
        },
        "id": "0ZoJiu6Pf-Wt",
        "outputId": "be0f07ab-ff8b-4e6c-f92d-83b416c2377b"
      },
      "execution_count": 60,
      "outputs": [
        {
          "output_type": "stream",
          "name": "stdout",
          "text": [
            "1.3.5\n"
          ]
        }
      ]
    },
    {
      "cell_type": "code",
      "source": [
        "b_c_df = pd.DataFrame(data=b_c_data, columns=b_c.feature_names)\n",
        "b_c_df"
      ],
      "metadata": {
        "colab": {
          "base_uri": "https://localhost:8080/",
          "height": 522
        },
        "id": "-FgLisMUgLuo",
        "outputId": "f734fa08-ab81-4d28-87ec-c6ffdcf66f17"
      },
      "execution_count": 61,
      "outputs": [
        {
          "output_type": "execute_result",
          "data": {
            "text/plain": [
              "     mean radius  mean texture  mean perimeter  mean area  mean smoothness  \\\n",
              "0          17.99         10.38          122.80     1001.0          0.11840   \n",
              "1          20.57         17.77          132.90     1326.0          0.08474   \n",
              "2          19.69         21.25          130.00     1203.0          0.10960   \n",
              "3          11.42         20.38           77.58      386.1          0.14250   \n",
              "4          20.29         14.34          135.10     1297.0          0.10030   \n",
              "..           ...           ...             ...        ...              ...   \n",
              "564        21.56         22.39          142.00     1479.0          0.11100   \n",
              "565        20.13         28.25          131.20     1261.0          0.09780   \n",
              "566        16.60         28.08          108.30      858.1          0.08455   \n",
              "567        20.60         29.33          140.10     1265.0          0.11780   \n",
              "568         7.76         24.54           47.92      181.0          0.05263   \n",
              "\n",
              "     mean compactness  mean concavity  mean concave points  mean symmetry  \\\n",
              "0             0.27760         0.30010              0.14710         0.2419   \n",
              "1             0.07864         0.08690              0.07017         0.1812   \n",
              "2             0.15990         0.19740              0.12790         0.2069   \n",
              "3             0.28390         0.24140              0.10520         0.2597   \n",
              "4             0.13280         0.19800              0.10430         0.1809   \n",
              "..                ...             ...                  ...            ...   \n",
              "564           0.11590         0.24390              0.13890         0.1726   \n",
              "565           0.10340         0.14400              0.09791         0.1752   \n",
              "566           0.10230         0.09251              0.05302         0.1590   \n",
              "567           0.27700         0.35140              0.15200         0.2397   \n",
              "568           0.04362         0.00000              0.00000         0.1587   \n",
              "\n",
              "     mean fractal dimension  ...  worst radius  worst texture  \\\n",
              "0                   0.07871  ...        25.380          17.33   \n",
              "1                   0.05667  ...        24.990          23.41   \n",
              "2                   0.05999  ...        23.570          25.53   \n",
              "3                   0.09744  ...        14.910          26.50   \n",
              "4                   0.05883  ...        22.540          16.67   \n",
              "..                      ...  ...           ...            ...   \n",
              "564                 0.05623  ...        25.450          26.40   \n",
              "565                 0.05533  ...        23.690          38.25   \n",
              "566                 0.05648  ...        18.980          34.12   \n",
              "567                 0.07016  ...        25.740          39.42   \n",
              "568                 0.05884  ...         9.456          30.37   \n",
              "\n",
              "     worst perimeter  worst area  worst smoothness  worst compactness  \\\n",
              "0             184.60      2019.0           0.16220            0.66560   \n",
              "1             158.80      1956.0           0.12380            0.18660   \n",
              "2             152.50      1709.0           0.14440            0.42450   \n",
              "3              98.87       567.7           0.20980            0.86630   \n",
              "4             152.20      1575.0           0.13740            0.20500   \n",
              "..               ...         ...               ...                ...   \n",
              "564           166.10      2027.0           0.14100            0.21130   \n",
              "565           155.00      1731.0           0.11660            0.19220   \n",
              "566           126.70      1124.0           0.11390            0.30940   \n",
              "567           184.60      1821.0           0.16500            0.86810   \n",
              "568            59.16       268.6           0.08996            0.06444   \n",
              "\n",
              "     worst concavity  worst concave points  worst symmetry  \\\n",
              "0             0.7119                0.2654          0.4601   \n",
              "1             0.2416                0.1860          0.2750   \n",
              "2             0.4504                0.2430          0.3613   \n",
              "3             0.6869                0.2575          0.6638   \n",
              "4             0.4000                0.1625          0.2364   \n",
              "..               ...                   ...             ...   \n",
              "564           0.4107                0.2216          0.2060   \n",
              "565           0.3215                0.1628          0.2572   \n",
              "566           0.3403                0.1418          0.2218   \n",
              "567           0.9387                0.2650          0.4087   \n",
              "568           0.0000                0.0000          0.2871   \n",
              "\n",
              "     worst fractal dimension  \n",
              "0                    0.11890  \n",
              "1                    0.08902  \n",
              "2                    0.08758  \n",
              "3                    0.17300  \n",
              "4                    0.07678  \n",
              "..                       ...  \n",
              "564                  0.07115  \n",
              "565                  0.06637  \n",
              "566                  0.07820  \n",
              "567                  0.12400  \n",
              "568                  0.07039  \n",
              "\n",
              "[569 rows x 30 columns]"
            ],
            "text/html": [
              "\n",
              "  <div id=\"df-126e5fdb-7741-462c-995b-6dcc2f314e4a\">\n",
              "    <div class=\"colab-df-container\">\n",
              "      <div>\n",
              "<style scoped>\n",
              "    .dataframe tbody tr th:only-of-type {\n",
              "        vertical-align: middle;\n",
              "    }\n",
              "\n",
              "    .dataframe tbody tr th {\n",
              "        vertical-align: top;\n",
              "    }\n",
              "\n",
              "    .dataframe thead th {\n",
              "        text-align: right;\n",
              "    }\n",
              "</style>\n",
              "<table border=\"1\" class=\"dataframe\">\n",
              "  <thead>\n",
              "    <tr style=\"text-align: right;\">\n",
              "      <th></th>\n",
              "      <th>mean radius</th>\n",
              "      <th>mean texture</th>\n",
              "      <th>mean perimeter</th>\n",
              "      <th>mean area</th>\n",
              "      <th>mean smoothness</th>\n",
              "      <th>mean compactness</th>\n",
              "      <th>mean concavity</th>\n",
              "      <th>mean concave points</th>\n",
              "      <th>mean symmetry</th>\n",
              "      <th>mean fractal dimension</th>\n",
              "      <th>...</th>\n",
              "      <th>worst radius</th>\n",
              "      <th>worst texture</th>\n",
              "      <th>worst perimeter</th>\n",
              "      <th>worst area</th>\n",
              "      <th>worst smoothness</th>\n",
              "      <th>worst compactness</th>\n",
              "      <th>worst concavity</th>\n",
              "      <th>worst concave points</th>\n",
              "      <th>worst symmetry</th>\n",
              "      <th>worst fractal dimension</th>\n",
              "    </tr>\n",
              "  </thead>\n",
              "  <tbody>\n",
              "    <tr>\n",
              "      <th>0</th>\n",
              "      <td>17.99</td>\n",
              "      <td>10.38</td>\n",
              "      <td>122.80</td>\n",
              "      <td>1001.0</td>\n",
              "      <td>0.11840</td>\n",
              "      <td>0.27760</td>\n",
              "      <td>0.30010</td>\n",
              "      <td>0.14710</td>\n",
              "      <td>0.2419</td>\n",
              "      <td>0.07871</td>\n",
              "      <td>...</td>\n",
              "      <td>25.380</td>\n",
              "      <td>17.33</td>\n",
              "      <td>184.60</td>\n",
              "      <td>2019.0</td>\n",
              "      <td>0.16220</td>\n",
              "      <td>0.66560</td>\n",
              "      <td>0.7119</td>\n",
              "      <td>0.2654</td>\n",
              "      <td>0.4601</td>\n",
              "      <td>0.11890</td>\n",
              "    </tr>\n",
              "    <tr>\n",
              "      <th>1</th>\n",
              "      <td>20.57</td>\n",
              "      <td>17.77</td>\n",
              "      <td>132.90</td>\n",
              "      <td>1326.0</td>\n",
              "      <td>0.08474</td>\n",
              "      <td>0.07864</td>\n",
              "      <td>0.08690</td>\n",
              "      <td>0.07017</td>\n",
              "      <td>0.1812</td>\n",
              "      <td>0.05667</td>\n",
              "      <td>...</td>\n",
              "      <td>24.990</td>\n",
              "      <td>23.41</td>\n",
              "      <td>158.80</td>\n",
              "      <td>1956.0</td>\n",
              "      <td>0.12380</td>\n",
              "      <td>0.18660</td>\n",
              "      <td>0.2416</td>\n",
              "      <td>0.1860</td>\n",
              "      <td>0.2750</td>\n",
              "      <td>0.08902</td>\n",
              "    </tr>\n",
              "    <tr>\n",
              "      <th>2</th>\n",
              "      <td>19.69</td>\n",
              "      <td>21.25</td>\n",
              "      <td>130.00</td>\n",
              "      <td>1203.0</td>\n",
              "      <td>0.10960</td>\n",
              "      <td>0.15990</td>\n",
              "      <td>0.19740</td>\n",
              "      <td>0.12790</td>\n",
              "      <td>0.2069</td>\n",
              "      <td>0.05999</td>\n",
              "      <td>...</td>\n",
              "      <td>23.570</td>\n",
              "      <td>25.53</td>\n",
              "      <td>152.50</td>\n",
              "      <td>1709.0</td>\n",
              "      <td>0.14440</td>\n",
              "      <td>0.42450</td>\n",
              "      <td>0.4504</td>\n",
              "      <td>0.2430</td>\n",
              "      <td>0.3613</td>\n",
              "      <td>0.08758</td>\n",
              "    </tr>\n",
              "    <tr>\n",
              "      <th>3</th>\n",
              "      <td>11.42</td>\n",
              "      <td>20.38</td>\n",
              "      <td>77.58</td>\n",
              "      <td>386.1</td>\n",
              "      <td>0.14250</td>\n",
              "      <td>0.28390</td>\n",
              "      <td>0.24140</td>\n",
              "      <td>0.10520</td>\n",
              "      <td>0.2597</td>\n",
              "      <td>0.09744</td>\n",
              "      <td>...</td>\n",
              "      <td>14.910</td>\n",
              "      <td>26.50</td>\n",
              "      <td>98.87</td>\n",
              "      <td>567.7</td>\n",
              "      <td>0.20980</td>\n",
              "      <td>0.86630</td>\n",
              "      <td>0.6869</td>\n",
              "      <td>0.2575</td>\n",
              "      <td>0.6638</td>\n",
              "      <td>0.17300</td>\n",
              "    </tr>\n",
              "    <tr>\n",
              "      <th>4</th>\n",
              "      <td>20.29</td>\n",
              "      <td>14.34</td>\n",
              "      <td>135.10</td>\n",
              "      <td>1297.0</td>\n",
              "      <td>0.10030</td>\n",
              "      <td>0.13280</td>\n",
              "      <td>0.19800</td>\n",
              "      <td>0.10430</td>\n",
              "      <td>0.1809</td>\n",
              "      <td>0.05883</td>\n",
              "      <td>...</td>\n",
              "      <td>22.540</td>\n",
              "      <td>16.67</td>\n",
              "      <td>152.20</td>\n",
              "      <td>1575.0</td>\n",
              "      <td>0.13740</td>\n",
              "      <td>0.20500</td>\n",
              "      <td>0.4000</td>\n",
              "      <td>0.1625</td>\n",
              "      <td>0.2364</td>\n",
              "      <td>0.07678</td>\n",
              "    </tr>\n",
              "    <tr>\n",
              "      <th>...</th>\n",
              "      <td>...</td>\n",
              "      <td>...</td>\n",
              "      <td>...</td>\n",
              "      <td>...</td>\n",
              "      <td>...</td>\n",
              "      <td>...</td>\n",
              "      <td>...</td>\n",
              "      <td>...</td>\n",
              "      <td>...</td>\n",
              "      <td>...</td>\n",
              "      <td>...</td>\n",
              "      <td>...</td>\n",
              "      <td>...</td>\n",
              "      <td>...</td>\n",
              "      <td>...</td>\n",
              "      <td>...</td>\n",
              "      <td>...</td>\n",
              "      <td>...</td>\n",
              "      <td>...</td>\n",
              "      <td>...</td>\n",
              "      <td>...</td>\n",
              "    </tr>\n",
              "    <tr>\n",
              "      <th>564</th>\n",
              "      <td>21.56</td>\n",
              "      <td>22.39</td>\n",
              "      <td>142.00</td>\n",
              "      <td>1479.0</td>\n",
              "      <td>0.11100</td>\n",
              "      <td>0.11590</td>\n",
              "      <td>0.24390</td>\n",
              "      <td>0.13890</td>\n",
              "      <td>0.1726</td>\n",
              "      <td>0.05623</td>\n",
              "      <td>...</td>\n",
              "      <td>25.450</td>\n",
              "      <td>26.40</td>\n",
              "      <td>166.10</td>\n",
              "      <td>2027.0</td>\n",
              "      <td>0.14100</td>\n",
              "      <td>0.21130</td>\n",
              "      <td>0.4107</td>\n",
              "      <td>0.2216</td>\n",
              "      <td>0.2060</td>\n",
              "      <td>0.07115</td>\n",
              "    </tr>\n",
              "    <tr>\n",
              "      <th>565</th>\n",
              "      <td>20.13</td>\n",
              "      <td>28.25</td>\n",
              "      <td>131.20</td>\n",
              "      <td>1261.0</td>\n",
              "      <td>0.09780</td>\n",
              "      <td>0.10340</td>\n",
              "      <td>0.14400</td>\n",
              "      <td>0.09791</td>\n",
              "      <td>0.1752</td>\n",
              "      <td>0.05533</td>\n",
              "      <td>...</td>\n",
              "      <td>23.690</td>\n",
              "      <td>38.25</td>\n",
              "      <td>155.00</td>\n",
              "      <td>1731.0</td>\n",
              "      <td>0.11660</td>\n",
              "      <td>0.19220</td>\n",
              "      <td>0.3215</td>\n",
              "      <td>0.1628</td>\n",
              "      <td>0.2572</td>\n",
              "      <td>0.06637</td>\n",
              "    </tr>\n",
              "    <tr>\n",
              "      <th>566</th>\n",
              "      <td>16.60</td>\n",
              "      <td>28.08</td>\n",
              "      <td>108.30</td>\n",
              "      <td>858.1</td>\n",
              "      <td>0.08455</td>\n",
              "      <td>0.10230</td>\n",
              "      <td>0.09251</td>\n",
              "      <td>0.05302</td>\n",
              "      <td>0.1590</td>\n",
              "      <td>0.05648</td>\n",
              "      <td>...</td>\n",
              "      <td>18.980</td>\n",
              "      <td>34.12</td>\n",
              "      <td>126.70</td>\n",
              "      <td>1124.0</td>\n",
              "      <td>0.11390</td>\n",
              "      <td>0.30940</td>\n",
              "      <td>0.3403</td>\n",
              "      <td>0.1418</td>\n",
              "      <td>0.2218</td>\n",
              "      <td>0.07820</td>\n",
              "    </tr>\n",
              "    <tr>\n",
              "      <th>567</th>\n",
              "      <td>20.60</td>\n",
              "      <td>29.33</td>\n",
              "      <td>140.10</td>\n",
              "      <td>1265.0</td>\n",
              "      <td>0.11780</td>\n",
              "      <td>0.27700</td>\n",
              "      <td>0.35140</td>\n",
              "      <td>0.15200</td>\n",
              "      <td>0.2397</td>\n",
              "      <td>0.07016</td>\n",
              "      <td>...</td>\n",
              "      <td>25.740</td>\n",
              "      <td>39.42</td>\n",
              "      <td>184.60</td>\n",
              "      <td>1821.0</td>\n",
              "      <td>0.16500</td>\n",
              "      <td>0.86810</td>\n",
              "      <td>0.9387</td>\n",
              "      <td>0.2650</td>\n",
              "      <td>0.4087</td>\n",
              "      <td>0.12400</td>\n",
              "    </tr>\n",
              "    <tr>\n",
              "      <th>568</th>\n",
              "      <td>7.76</td>\n",
              "      <td>24.54</td>\n",
              "      <td>47.92</td>\n",
              "      <td>181.0</td>\n",
              "      <td>0.05263</td>\n",
              "      <td>0.04362</td>\n",
              "      <td>0.00000</td>\n",
              "      <td>0.00000</td>\n",
              "      <td>0.1587</td>\n",
              "      <td>0.05884</td>\n",
              "      <td>...</td>\n",
              "      <td>9.456</td>\n",
              "      <td>30.37</td>\n",
              "      <td>59.16</td>\n",
              "      <td>268.6</td>\n",
              "      <td>0.08996</td>\n",
              "      <td>0.06444</td>\n",
              "      <td>0.0000</td>\n",
              "      <td>0.0000</td>\n",
              "      <td>0.2871</td>\n",
              "      <td>0.07039</td>\n",
              "    </tr>\n",
              "  </tbody>\n",
              "</table>\n",
              "<p>569 rows × 30 columns</p>\n",
              "</div>\n",
              "      <button class=\"colab-df-convert\" onclick=\"convertToInteractive('df-126e5fdb-7741-462c-995b-6dcc2f314e4a')\"\n",
              "              title=\"Convert this dataframe to an interactive table.\"\n",
              "              style=\"display:none;\">\n",
              "        \n",
              "  <svg xmlns=\"http://www.w3.org/2000/svg\" height=\"24px\"viewBox=\"0 0 24 24\"\n",
              "       width=\"24px\">\n",
              "    <path d=\"M0 0h24v24H0V0z\" fill=\"none\"/>\n",
              "    <path d=\"M18.56 5.44l.94 2.06.94-2.06 2.06-.94-2.06-.94-.94-2.06-.94 2.06-2.06.94zm-11 1L8.5 8.5l.94-2.06 2.06-.94-2.06-.94L8.5 2.5l-.94 2.06-2.06.94zm10 10l.94 2.06.94-2.06 2.06-.94-2.06-.94-.94-2.06-.94 2.06-2.06.94z\"/><path d=\"M17.41 7.96l-1.37-1.37c-.4-.4-.92-.59-1.43-.59-.52 0-1.04.2-1.43.59L10.3 9.45l-7.72 7.72c-.78.78-.78 2.05 0 2.83L4 21.41c.39.39.9.59 1.41.59.51 0 1.02-.2 1.41-.59l7.78-7.78 2.81-2.81c.8-.78.8-2.07 0-2.86zM5.41 20L4 18.59l7.72-7.72 1.47 1.35L5.41 20z\"/>\n",
              "  </svg>\n",
              "      </button>\n",
              "      \n",
              "  <style>\n",
              "    .colab-df-container {\n",
              "      display:flex;\n",
              "      flex-wrap:wrap;\n",
              "      gap: 12px;\n",
              "    }\n",
              "\n",
              "    .colab-df-convert {\n",
              "      background-color: #E8F0FE;\n",
              "      border: none;\n",
              "      border-radius: 50%;\n",
              "      cursor: pointer;\n",
              "      display: none;\n",
              "      fill: #1967D2;\n",
              "      height: 32px;\n",
              "      padding: 0 0 0 0;\n",
              "      width: 32px;\n",
              "    }\n",
              "\n",
              "    .colab-df-convert:hover {\n",
              "      background-color: #E2EBFA;\n",
              "      box-shadow: 0px 1px 2px rgba(60, 64, 67, 0.3), 0px 1px 3px 1px rgba(60, 64, 67, 0.15);\n",
              "      fill: #174EA6;\n",
              "    }\n",
              "\n",
              "    [theme=dark] .colab-df-convert {\n",
              "      background-color: #3B4455;\n",
              "      fill: #D2E3FC;\n",
              "    }\n",
              "\n",
              "    [theme=dark] .colab-df-convert:hover {\n",
              "      background-color: #434B5C;\n",
              "      box-shadow: 0px 1px 3px 1px rgba(0, 0, 0, 0.15);\n",
              "      filter: drop-shadow(0px 1px 2px rgba(0, 0, 0, 0.3));\n",
              "      fill: #FFFFFF;\n",
              "    }\n",
              "  </style>\n",
              "\n",
              "      <script>\n",
              "        const buttonEl =\n",
              "          document.querySelector('#df-126e5fdb-7741-462c-995b-6dcc2f314e4a button.colab-df-convert');\n",
              "        buttonEl.style.display =\n",
              "          google.colab.kernel.accessAllowed ? 'block' : 'none';\n",
              "\n",
              "        async function convertToInteractive(key) {\n",
              "          const element = document.querySelector('#df-126e5fdb-7741-462c-995b-6dcc2f314e4a');\n",
              "          const dataTable =\n",
              "            await google.colab.kernel.invokeFunction('convertToInteractive',\n",
              "                                                     [key], {});\n",
              "          if (!dataTable) return;\n",
              "\n",
              "          const docLinkHtml = 'Like what you see? Visit the ' +\n",
              "            '<a target=\"_blank\" href=https://colab.research.google.com/notebooks/data_table.ipynb>data table notebook</a>'\n",
              "            + ' to learn more about interactive tables.';\n",
              "          element.innerHTML = '';\n",
              "          dataTable['output_type'] = 'display_data';\n",
              "          await google.colab.output.renderOutput(dataTable, element);\n",
              "          const docLink = document.createElement('div');\n",
              "          docLink.innerHTML = docLinkHtml;\n",
              "          element.appendChild(docLink);\n",
              "        }\n",
              "      </script>\n",
              "    </div>\n",
              "  </div>\n",
              "  "
            ]
          },
          "metadata": {},
          "execution_count": 61
        }
      ]
    },
    {
      "cell_type": "code",
      "source": [
        "b_c_df[\"label\"]=b_c.target\n",
        "b_c_df"
      ],
      "metadata": {
        "colab": {
          "base_uri": "https://localhost:8080/",
          "height": 522
        },
        "id": "Y66n9WNNgoI0",
        "outputId": "46e5f2a2-a8e7-46f2-ecdd-0c65d194f75a"
      },
      "execution_count": 62,
      "outputs": [
        {
          "output_type": "execute_result",
          "data": {
            "text/plain": [
              "     mean radius  mean texture  mean perimeter  mean area  mean smoothness  \\\n",
              "0          17.99         10.38          122.80     1001.0          0.11840   \n",
              "1          20.57         17.77          132.90     1326.0          0.08474   \n",
              "2          19.69         21.25          130.00     1203.0          0.10960   \n",
              "3          11.42         20.38           77.58      386.1          0.14250   \n",
              "4          20.29         14.34          135.10     1297.0          0.10030   \n",
              "..           ...           ...             ...        ...              ...   \n",
              "564        21.56         22.39          142.00     1479.0          0.11100   \n",
              "565        20.13         28.25          131.20     1261.0          0.09780   \n",
              "566        16.60         28.08          108.30      858.1          0.08455   \n",
              "567        20.60         29.33          140.10     1265.0          0.11780   \n",
              "568         7.76         24.54           47.92      181.0          0.05263   \n",
              "\n",
              "     mean compactness  mean concavity  mean concave points  mean symmetry  \\\n",
              "0             0.27760         0.30010              0.14710         0.2419   \n",
              "1             0.07864         0.08690              0.07017         0.1812   \n",
              "2             0.15990         0.19740              0.12790         0.2069   \n",
              "3             0.28390         0.24140              0.10520         0.2597   \n",
              "4             0.13280         0.19800              0.10430         0.1809   \n",
              "..                ...             ...                  ...            ...   \n",
              "564           0.11590         0.24390              0.13890         0.1726   \n",
              "565           0.10340         0.14400              0.09791         0.1752   \n",
              "566           0.10230         0.09251              0.05302         0.1590   \n",
              "567           0.27700         0.35140              0.15200         0.2397   \n",
              "568           0.04362         0.00000              0.00000         0.1587   \n",
              "\n",
              "     mean fractal dimension  ...  worst texture  worst perimeter  worst area  \\\n",
              "0                   0.07871  ...          17.33           184.60      2019.0   \n",
              "1                   0.05667  ...          23.41           158.80      1956.0   \n",
              "2                   0.05999  ...          25.53           152.50      1709.0   \n",
              "3                   0.09744  ...          26.50            98.87       567.7   \n",
              "4                   0.05883  ...          16.67           152.20      1575.0   \n",
              "..                      ...  ...            ...              ...         ...   \n",
              "564                 0.05623  ...          26.40           166.10      2027.0   \n",
              "565                 0.05533  ...          38.25           155.00      1731.0   \n",
              "566                 0.05648  ...          34.12           126.70      1124.0   \n",
              "567                 0.07016  ...          39.42           184.60      1821.0   \n",
              "568                 0.05884  ...          30.37            59.16       268.6   \n",
              "\n",
              "     worst smoothness  worst compactness  worst concavity  \\\n",
              "0             0.16220            0.66560           0.7119   \n",
              "1             0.12380            0.18660           0.2416   \n",
              "2             0.14440            0.42450           0.4504   \n",
              "3             0.20980            0.86630           0.6869   \n",
              "4             0.13740            0.20500           0.4000   \n",
              "..                ...                ...              ...   \n",
              "564           0.14100            0.21130           0.4107   \n",
              "565           0.11660            0.19220           0.3215   \n",
              "566           0.11390            0.30940           0.3403   \n",
              "567           0.16500            0.86810           0.9387   \n",
              "568           0.08996            0.06444           0.0000   \n",
              "\n",
              "     worst concave points  worst symmetry  worst fractal dimension  label  \n",
              "0                  0.2654          0.4601                  0.11890      0  \n",
              "1                  0.1860          0.2750                  0.08902      0  \n",
              "2                  0.2430          0.3613                  0.08758      0  \n",
              "3                  0.2575          0.6638                  0.17300      0  \n",
              "4                  0.1625          0.2364                  0.07678      0  \n",
              "..                    ...             ...                      ...    ...  \n",
              "564                0.2216          0.2060                  0.07115      0  \n",
              "565                0.1628          0.2572                  0.06637      0  \n",
              "566                0.1418          0.2218                  0.07820      0  \n",
              "567                0.2650          0.4087                  0.12400      0  \n",
              "568                0.0000          0.2871                  0.07039      1  \n",
              "\n",
              "[569 rows x 31 columns]"
            ],
            "text/html": [
              "\n",
              "  <div id=\"df-dead9090-c22c-41e7-bde6-7c894c8d2f91\">\n",
              "    <div class=\"colab-df-container\">\n",
              "      <div>\n",
              "<style scoped>\n",
              "    .dataframe tbody tr th:only-of-type {\n",
              "        vertical-align: middle;\n",
              "    }\n",
              "\n",
              "    .dataframe tbody tr th {\n",
              "        vertical-align: top;\n",
              "    }\n",
              "\n",
              "    .dataframe thead th {\n",
              "        text-align: right;\n",
              "    }\n",
              "</style>\n",
              "<table border=\"1\" class=\"dataframe\">\n",
              "  <thead>\n",
              "    <tr style=\"text-align: right;\">\n",
              "      <th></th>\n",
              "      <th>mean radius</th>\n",
              "      <th>mean texture</th>\n",
              "      <th>mean perimeter</th>\n",
              "      <th>mean area</th>\n",
              "      <th>mean smoothness</th>\n",
              "      <th>mean compactness</th>\n",
              "      <th>mean concavity</th>\n",
              "      <th>mean concave points</th>\n",
              "      <th>mean symmetry</th>\n",
              "      <th>mean fractal dimension</th>\n",
              "      <th>...</th>\n",
              "      <th>worst texture</th>\n",
              "      <th>worst perimeter</th>\n",
              "      <th>worst area</th>\n",
              "      <th>worst smoothness</th>\n",
              "      <th>worst compactness</th>\n",
              "      <th>worst concavity</th>\n",
              "      <th>worst concave points</th>\n",
              "      <th>worst symmetry</th>\n",
              "      <th>worst fractal dimension</th>\n",
              "      <th>label</th>\n",
              "    </tr>\n",
              "  </thead>\n",
              "  <tbody>\n",
              "    <tr>\n",
              "      <th>0</th>\n",
              "      <td>17.99</td>\n",
              "      <td>10.38</td>\n",
              "      <td>122.80</td>\n",
              "      <td>1001.0</td>\n",
              "      <td>0.11840</td>\n",
              "      <td>0.27760</td>\n",
              "      <td>0.30010</td>\n",
              "      <td>0.14710</td>\n",
              "      <td>0.2419</td>\n",
              "      <td>0.07871</td>\n",
              "      <td>...</td>\n",
              "      <td>17.33</td>\n",
              "      <td>184.60</td>\n",
              "      <td>2019.0</td>\n",
              "      <td>0.16220</td>\n",
              "      <td>0.66560</td>\n",
              "      <td>0.7119</td>\n",
              "      <td>0.2654</td>\n",
              "      <td>0.4601</td>\n",
              "      <td>0.11890</td>\n",
              "      <td>0</td>\n",
              "    </tr>\n",
              "    <tr>\n",
              "      <th>1</th>\n",
              "      <td>20.57</td>\n",
              "      <td>17.77</td>\n",
              "      <td>132.90</td>\n",
              "      <td>1326.0</td>\n",
              "      <td>0.08474</td>\n",
              "      <td>0.07864</td>\n",
              "      <td>0.08690</td>\n",
              "      <td>0.07017</td>\n",
              "      <td>0.1812</td>\n",
              "      <td>0.05667</td>\n",
              "      <td>...</td>\n",
              "      <td>23.41</td>\n",
              "      <td>158.80</td>\n",
              "      <td>1956.0</td>\n",
              "      <td>0.12380</td>\n",
              "      <td>0.18660</td>\n",
              "      <td>0.2416</td>\n",
              "      <td>0.1860</td>\n",
              "      <td>0.2750</td>\n",
              "      <td>0.08902</td>\n",
              "      <td>0</td>\n",
              "    </tr>\n",
              "    <tr>\n",
              "      <th>2</th>\n",
              "      <td>19.69</td>\n",
              "      <td>21.25</td>\n",
              "      <td>130.00</td>\n",
              "      <td>1203.0</td>\n",
              "      <td>0.10960</td>\n",
              "      <td>0.15990</td>\n",
              "      <td>0.19740</td>\n",
              "      <td>0.12790</td>\n",
              "      <td>0.2069</td>\n",
              "      <td>0.05999</td>\n",
              "      <td>...</td>\n",
              "      <td>25.53</td>\n",
              "      <td>152.50</td>\n",
              "      <td>1709.0</td>\n",
              "      <td>0.14440</td>\n",
              "      <td>0.42450</td>\n",
              "      <td>0.4504</td>\n",
              "      <td>0.2430</td>\n",
              "      <td>0.3613</td>\n",
              "      <td>0.08758</td>\n",
              "      <td>0</td>\n",
              "    </tr>\n",
              "    <tr>\n",
              "      <th>3</th>\n",
              "      <td>11.42</td>\n",
              "      <td>20.38</td>\n",
              "      <td>77.58</td>\n",
              "      <td>386.1</td>\n",
              "      <td>0.14250</td>\n",
              "      <td>0.28390</td>\n",
              "      <td>0.24140</td>\n",
              "      <td>0.10520</td>\n",
              "      <td>0.2597</td>\n",
              "      <td>0.09744</td>\n",
              "      <td>...</td>\n",
              "      <td>26.50</td>\n",
              "      <td>98.87</td>\n",
              "      <td>567.7</td>\n",
              "      <td>0.20980</td>\n",
              "      <td>0.86630</td>\n",
              "      <td>0.6869</td>\n",
              "      <td>0.2575</td>\n",
              "      <td>0.6638</td>\n",
              "      <td>0.17300</td>\n",
              "      <td>0</td>\n",
              "    </tr>\n",
              "    <tr>\n",
              "      <th>4</th>\n",
              "      <td>20.29</td>\n",
              "      <td>14.34</td>\n",
              "      <td>135.10</td>\n",
              "      <td>1297.0</td>\n",
              "      <td>0.10030</td>\n",
              "      <td>0.13280</td>\n",
              "      <td>0.19800</td>\n",
              "      <td>0.10430</td>\n",
              "      <td>0.1809</td>\n",
              "      <td>0.05883</td>\n",
              "      <td>...</td>\n",
              "      <td>16.67</td>\n",
              "      <td>152.20</td>\n",
              "      <td>1575.0</td>\n",
              "      <td>0.13740</td>\n",
              "      <td>0.20500</td>\n",
              "      <td>0.4000</td>\n",
              "      <td>0.1625</td>\n",
              "      <td>0.2364</td>\n",
              "      <td>0.07678</td>\n",
              "      <td>0</td>\n",
              "    </tr>\n",
              "    <tr>\n",
              "      <th>...</th>\n",
              "      <td>...</td>\n",
              "      <td>...</td>\n",
              "      <td>...</td>\n",
              "      <td>...</td>\n",
              "      <td>...</td>\n",
              "      <td>...</td>\n",
              "      <td>...</td>\n",
              "      <td>...</td>\n",
              "      <td>...</td>\n",
              "      <td>...</td>\n",
              "      <td>...</td>\n",
              "      <td>...</td>\n",
              "      <td>...</td>\n",
              "      <td>...</td>\n",
              "      <td>...</td>\n",
              "      <td>...</td>\n",
              "      <td>...</td>\n",
              "      <td>...</td>\n",
              "      <td>...</td>\n",
              "      <td>...</td>\n",
              "      <td>...</td>\n",
              "    </tr>\n",
              "    <tr>\n",
              "      <th>564</th>\n",
              "      <td>21.56</td>\n",
              "      <td>22.39</td>\n",
              "      <td>142.00</td>\n",
              "      <td>1479.0</td>\n",
              "      <td>0.11100</td>\n",
              "      <td>0.11590</td>\n",
              "      <td>0.24390</td>\n",
              "      <td>0.13890</td>\n",
              "      <td>0.1726</td>\n",
              "      <td>0.05623</td>\n",
              "      <td>...</td>\n",
              "      <td>26.40</td>\n",
              "      <td>166.10</td>\n",
              "      <td>2027.0</td>\n",
              "      <td>0.14100</td>\n",
              "      <td>0.21130</td>\n",
              "      <td>0.4107</td>\n",
              "      <td>0.2216</td>\n",
              "      <td>0.2060</td>\n",
              "      <td>0.07115</td>\n",
              "      <td>0</td>\n",
              "    </tr>\n",
              "    <tr>\n",
              "      <th>565</th>\n",
              "      <td>20.13</td>\n",
              "      <td>28.25</td>\n",
              "      <td>131.20</td>\n",
              "      <td>1261.0</td>\n",
              "      <td>0.09780</td>\n",
              "      <td>0.10340</td>\n",
              "      <td>0.14400</td>\n",
              "      <td>0.09791</td>\n",
              "      <td>0.1752</td>\n",
              "      <td>0.05533</td>\n",
              "      <td>...</td>\n",
              "      <td>38.25</td>\n",
              "      <td>155.00</td>\n",
              "      <td>1731.0</td>\n",
              "      <td>0.11660</td>\n",
              "      <td>0.19220</td>\n",
              "      <td>0.3215</td>\n",
              "      <td>0.1628</td>\n",
              "      <td>0.2572</td>\n",
              "      <td>0.06637</td>\n",
              "      <td>0</td>\n",
              "    </tr>\n",
              "    <tr>\n",
              "      <th>566</th>\n",
              "      <td>16.60</td>\n",
              "      <td>28.08</td>\n",
              "      <td>108.30</td>\n",
              "      <td>858.1</td>\n",
              "      <td>0.08455</td>\n",
              "      <td>0.10230</td>\n",
              "      <td>0.09251</td>\n",
              "      <td>0.05302</td>\n",
              "      <td>0.1590</td>\n",
              "      <td>0.05648</td>\n",
              "      <td>...</td>\n",
              "      <td>34.12</td>\n",
              "      <td>126.70</td>\n",
              "      <td>1124.0</td>\n",
              "      <td>0.11390</td>\n",
              "      <td>0.30940</td>\n",
              "      <td>0.3403</td>\n",
              "      <td>0.1418</td>\n",
              "      <td>0.2218</td>\n",
              "      <td>0.07820</td>\n",
              "      <td>0</td>\n",
              "    </tr>\n",
              "    <tr>\n",
              "      <th>567</th>\n",
              "      <td>20.60</td>\n",
              "      <td>29.33</td>\n",
              "      <td>140.10</td>\n",
              "      <td>1265.0</td>\n",
              "      <td>0.11780</td>\n",
              "      <td>0.27700</td>\n",
              "      <td>0.35140</td>\n",
              "      <td>0.15200</td>\n",
              "      <td>0.2397</td>\n",
              "      <td>0.07016</td>\n",
              "      <td>...</td>\n",
              "      <td>39.42</td>\n",
              "      <td>184.60</td>\n",
              "      <td>1821.0</td>\n",
              "      <td>0.16500</td>\n",
              "      <td>0.86810</td>\n",
              "      <td>0.9387</td>\n",
              "      <td>0.2650</td>\n",
              "      <td>0.4087</td>\n",
              "      <td>0.12400</td>\n",
              "      <td>0</td>\n",
              "    </tr>\n",
              "    <tr>\n",
              "      <th>568</th>\n",
              "      <td>7.76</td>\n",
              "      <td>24.54</td>\n",
              "      <td>47.92</td>\n",
              "      <td>181.0</td>\n",
              "      <td>0.05263</td>\n",
              "      <td>0.04362</td>\n",
              "      <td>0.00000</td>\n",
              "      <td>0.00000</td>\n",
              "      <td>0.1587</td>\n",
              "      <td>0.05884</td>\n",
              "      <td>...</td>\n",
              "      <td>30.37</td>\n",
              "      <td>59.16</td>\n",
              "      <td>268.6</td>\n",
              "      <td>0.08996</td>\n",
              "      <td>0.06444</td>\n",
              "      <td>0.0000</td>\n",
              "      <td>0.0000</td>\n",
              "      <td>0.2871</td>\n",
              "      <td>0.07039</td>\n",
              "      <td>1</td>\n",
              "    </tr>\n",
              "  </tbody>\n",
              "</table>\n",
              "<p>569 rows × 31 columns</p>\n",
              "</div>\n",
              "      <button class=\"colab-df-convert\" onclick=\"convertToInteractive('df-dead9090-c22c-41e7-bde6-7c894c8d2f91')\"\n",
              "              title=\"Convert this dataframe to an interactive table.\"\n",
              "              style=\"display:none;\">\n",
              "        \n",
              "  <svg xmlns=\"http://www.w3.org/2000/svg\" height=\"24px\"viewBox=\"0 0 24 24\"\n",
              "       width=\"24px\">\n",
              "    <path d=\"M0 0h24v24H0V0z\" fill=\"none\"/>\n",
              "    <path d=\"M18.56 5.44l.94 2.06.94-2.06 2.06-.94-2.06-.94-.94-2.06-.94 2.06-2.06.94zm-11 1L8.5 8.5l.94-2.06 2.06-.94-2.06-.94L8.5 2.5l-.94 2.06-2.06.94zm10 10l.94 2.06.94-2.06 2.06-.94-2.06-.94-.94-2.06-.94 2.06-2.06.94z\"/><path d=\"M17.41 7.96l-1.37-1.37c-.4-.4-.92-.59-1.43-.59-.52 0-1.04.2-1.43.59L10.3 9.45l-7.72 7.72c-.78.78-.78 2.05 0 2.83L4 21.41c.39.39.9.59 1.41.59.51 0 1.02-.2 1.41-.59l7.78-7.78 2.81-2.81c.8-.78.8-2.07 0-2.86zM5.41 20L4 18.59l7.72-7.72 1.47 1.35L5.41 20z\"/>\n",
              "  </svg>\n",
              "      </button>\n",
              "      \n",
              "  <style>\n",
              "    .colab-df-container {\n",
              "      display:flex;\n",
              "      flex-wrap:wrap;\n",
              "      gap: 12px;\n",
              "    }\n",
              "\n",
              "    .colab-df-convert {\n",
              "      background-color: #E8F0FE;\n",
              "      border: none;\n",
              "      border-radius: 50%;\n",
              "      cursor: pointer;\n",
              "      display: none;\n",
              "      fill: #1967D2;\n",
              "      height: 32px;\n",
              "      padding: 0 0 0 0;\n",
              "      width: 32px;\n",
              "    }\n",
              "\n",
              "    .colab-df-convert:hover {\n",
              "      background-color: #E2EBFA;\n",
              "      box-shadow: 0px 1px 2px rgba(60, 64, 67, 0.3), 0px 1px 3px 1px rgba(60, 64, 67, 0.15);\n",
              "      fill: #174EA6;\n",
              "    }\n",
              "\n",
              "    [theme=dark] .colab-df-convert {\n",
              "      background-color: #3B4455;\n",
              "      fill: #D2E3FC;\n",
              "    }\n",
              "\n",
              "    [theme=dark] .colab-df-convert:hover {\n",
              "      background-color: #434B5C;\n",
              "      box-shadow: 0px 1px 3px 1px rgba(0, 0, 0, 0.15);\n",
              "      filter: drop-shadow(0px 1px 2px rgba(0, 0, 0, 0.3));\n",
              "      fill: #FFFFFF;\n",
              "    }\n",
              "  </style>\n",
              "\n",
              "      <script>\n",
              "        const buttonEl =\n",
              "          document.querySelector('#df-dead9090-c22c-41e7-bde6-7c894c8d2f91 button.colab-df-convert');\n",
              "        buttonEl.style.display =\n",
              "          google.colab.kernel.accessAllowed ? 'block' : 'none';\n",
              "\n",
              "        async function convertToInteractive(key) {\n",
              "          const element = document.querySelector('#df-dead9090-c22c-41e7-bde6-7c894c8d2f91');\n",
              "          const dataTable =\n",
              "            await google.colab.kernel.invokeFunction('convertToInteractive',\n",
              "                                                     [key], {});\n",
              "          if (!dataTable) return;\n",
              "\n",
              "          const docLinkHtml = 'Like what you see? Visit the ' +\n",
              "            '<a target=\"_blank\" href=https://colab.research.google.com/notebooks/data_table.ipynb>data table notebook</a>'\n",
              "            + ' to learn more about interactive tables.';\n",
              "          element.innerHTML = '';\n",
              "          dataTable['output_type'] = 'display_data';\n",
              "          await google.colab.output.renderOutput(dataTable, element);\n",
              "          const docLink = document.createElement('div');\n",
              "          docLink.innerHTML = docLinkHtml;\n",
              "          element.appendChild(docLink);\n",
              "        }\n",
              "      </script>\n",
              "    </div>\n",
              "  </div>\n",
              "  "
            ]
          },
          "metadata": {},
          "execution_count": 62
        }
      ]
    },
    {
      "cell_type": "code",
      "source": [
        "x_train, x_test, y_train, y_test = train_test_split(b_c_data, b_c_label, test_size=0.2, random_state=7)\n",
        "print('x_train 개수:', len(x_train),'x_test 개수:', len(x_test))"
      ],
      "metadata": {
        "colab": {
          "base_uri": "https://localhost:8080/"
        },
        "id": "ZIm_Tdrpg2q0",
        "outputId": "6ad2c195-269d-42f4-efea-ea051b79f06f"
      },
      "execution_count": 63,
      "outputs": [
        {
          "output_type": "stream",
          "name": "stdout",
          "text": [
            "x_train 개수: 455 x_test 개수: 114\n"
          ]
        }
      ]
    },
    {
      "cell_type": "code",
      "source": [
        "from sklearn.tree import DecisionTreeClassifier\n",
        "decision_tree = DecisionTreeClassifier(random_state=32)\n",
        "decision_tree.fit(x_train, y_train)\n",
        "y_pred = decision_tree.predict(x_test)\n",
        "print(classification_report(y_test, y_pred))"
      ],
      "metadata": {
        "colab": {
          "base_uri": "https://localhost:8080/"
        },
        "id": "oWhzqRiiiacI",
        "outputId": "4a8be77b-2970-47b3-aa51-656dd63e51fc"
      },
      "execution_count": 64,
      "outputs": [
        {
          "output_type": "stream",
          "name": "stdout",
          "text": [
            "              precision    recall  f1-score   support\n",
            "\n",
            "           0       0.92      0.82      0.87        40\n",
            "           1       0.91      0.96      0.93        74\n",
            "\n",
            "    accuracy                           0.91       114\n",
            "   macro avg       0.91      0.89      0.90       114\n",
            "weighted avg       0.91      0.91      0.91       114\n",
            "\n"
          ]
        }
      ]
    },
    {
      "cell_type": "code",
      "source": [
        "from sklearn.metrics import accuracy_score\n",
        "accuracy = accuracy_score(y_test, y_pred)\n",
        "accuracy"
      ],
      "metadata": {
        "colab": {
          "base_uri": "https://localhost:8080/"
        },
        "id": "LReeoCc0i7r7",
        "outputId": "0c77a100-fcb1-4bd6-c6fe-20ca4d924aed"
      },
      "execution_count": 65,
      "outputs": [
        {
          "output_type": "execute_result",
          "data": {
            "text/plain": [
              "0.9122807017543859"
            ]
          },
          "metadata": {},
          "execution_count": 65
        }
      ]
    },
    {
      "cell_type": "code",
      "source": [
        "import matplotlib.pyplot as plt\n",
        "import numpy as np\n",
        "np.random.seed(0)\n",
        "plt.scatter(y_test, y_pred)\n",
        "plt.show()"
      ],
      "metadata": {
        "colab": {
          "base_uri": "https://localhost:8080/",
          "height": 265
        },
        "id": "xcNCvb0TtWu4",
        "outputId": "728f1422-d8e1-4b68-940c-b9be3fc1f3ad"
      },
      "execution_count": 66,
      "outputs": [
        {
          "output_type": "display_data",
          "data": {
            "text/plain": [
              "<Figure size 432x288 with 1 Axes>"
            ],
            "image/png": "[encoded data removed]"
          },
          "metadata": {
            "needs_background": "light"
          }
        }
      ]
    },
    {
      "cell_type": "code",
      "source": [
        "from sklearn.ensemble import RandomForestClassifier\n",
        "random_forest = RandomForestClassifier(random_state=32)\n",
        "random_forest.fit(x_train, y_train)\n",
        "y_pred = random_forest.predict(x_test)\n",
        "print(classification_report(y_test, y_pred))\n"
      ],
      "metadata": {
        "colab": {
          "base_uri": "https://localhost:8080/"
        },
        "id": "zyO2COR5k4L3",
        "outputId": "c67c4d3c-c598-4843-9335-ff39fed32903"
      },
      "execution_count": 67,
      "outputs": [
        {
          "output_type": "stream",
          "name": "stdout",
          "text": [
            "              precision    recall  f1-score   support\n",
            "\n",
            "           0       1.00      1.00      1.00        40\n",
            "           1       1.00      1.00      1.00        74\n",
            "\n",
            "    accuracy                           1.00       114\n",
            "   macro avg       1.00      1.00      1.00       114\n",
            "weighted avg       1.00      1.00      1.00       114\n",
            "\n"
          ]
        }
      ]
    },
    {
      "cell_type": "code",
      "source": [
        "accuracy = accuracy_score(y_test, y_pred)\n",
        "accuracy"
      ],
      "metadata": {
        "colab": {
          "base_uri": "https://localhost:8080/"
        },
        "id": "EH_qKWf9pHoc",
        "outputId": "23205906-fb86-4f97-f247-36c3e1af0bdf"
      },
      "execution_count": 68,
      "outputs": [
        {
          "output_type": "execute_result",
          "data": {
            "text/plain": [
              "1.0"
            ]
          },
          "metadata": {},
          "execution_count": 68
        }
      ]
    },
    {
      "cell_type": "code",
      "source": [
        "import matplotlib.pyplot as plt\n",
        "import numpy as np\n",
        "np.random.seed(0)\n",
        "plt.scatter(y_test, y_pred)\n",
        "plt.show()"
      ],
      "metadata": {
        "colab": {
          "base_uri": "https://localhost:8080/",
          "height": 265
        },
        "id": "69MGTqtitZQn",
        "outputId": "84e019cc-e622-4de7-b5f7-3a8bc585e52b"
      },
      "execution_count": 69,
      "outputs": [
        {
          "output_type": "display_data",
          "data": {
            "text/plain": [
              "<Figure size 432x288 with 1 Axes>"
            ],
            "image/png": "[encoded data removed]"
          },
          "metadata": {
            "needs_background": "light"
          }
        }
      ]
    },
    {
      "cell_type": "code",
      "source": [
        "from sklearn import svm\n",
        "svm_model = svm.SVC()\n",
        "svm_model.fit(x_train, y_train)\n",
        "y_pred = svm_model.predict(x_test)\n",
        "print(classification_report(y_test, y_pred))"
      ],
      "metadata": {
        "colab": {
          "base_uri": "https://localhost:8080/"
        },
        "id": "GTIwAbqoprPp",
        "outputId": "9d668105-0170-4eb1-a173-fee8aaba1999"
      },
      "execution_count": 70,
      "outputs": [
        {
          "output_type": "stream",
          "name": "stdout",
          "text": [
            "              precision    recall  f1-score   support\n",
            "\n",
            "           0       1.00      0.72      0.84        40\n",
            "           1       0.87      1.00      0.93        74\n",
            "\n",
            "    accuracy                           0.90       114\n",
            "   macro avg       0.94      0.86      0.89       114\n",
            "weighted avg       0.92      0.90      0.90       114\n",
            "\n"
          ]
        }
      ]
    },
    {
      "cell_type": "code",
      "source": [
        "accuracy = accuracy_score(y_test, y_pred)\n",
        "accuracy"
      ],
      "metadata": {
        "colab": {
          "base_uri": "https://localhost:8080/"
        },
        "id": "tOJGSA0tqXOQ",
        "outputId": "18fd3a6d-e246-43c6-c46e-dd06958efdc5"
      },
      "execution_count": 71,
      "outputs": [
        {
          "output_type": "execute_result",
          "data": {
            "text/plain": [
              "0.9035087719298246"
            ]
          },
          "metadata": {},
          "execution_count": 71
        }
      ]
    },
    {
      "cell_type": "code",
      "source": [
        "import matplotlib.pyplot as plt\n",
        "import numpy as np\n",
        "np.random.seed(0)\n",
        "plt.scatter(y_test, y_pred)\n",
        "plt.show()"
      ],
      "metadata": {
        "id": "cHVmtjqdtagp",
        "outputId": "43087003-0a54-400a-8847-937007e6f5e7",
        "colab": {
          "base_uri": "https://localhost:8080/",
          "height": 265
        }
      },
      "execution_count": 72,
      "outputs": [
        {
          "output_type": "display_data",
          "data": {
            "text/plain": [
              "<Figure size 432x288 with 1 Axes>"
            ],
            "image/png": "[encoded data removed]"
          },
          "metadata": {
            "needs_background": "light"
          }
        }
      ]
    },
    {
      "cell_type": "code",
      "source": [
        "from sklearn.linear_model import SGDClassifier\n",
        "sgd_model = SGDClassifier()\n",
        "\n",
        "svm_model.fit(x_train, y_train)\n",
        "y_pred = svm_model.predict(x_test)\n",
        "print(classification_report(y_test, y_pred))"
      ],
      "metadata": {
        "colab": {
          "base_uri": "https://localhost:8080/"
        },
        "id": "w-mouzpDqfSv",
        "outputId": "fab1a002-e7d6-49de-d87c-2501b98189d1"
      },
      "execution_count": 73,
      "outputs": [
        {
          "output_type": "stream",
          "name": "stdout",
          "text": [
            "              precision    recall  f1-score   support\n",
            "\n",
            "           0       1.00      0.72      0.84        40\n",
            "           1       0.87      1.00      0.93        74\n",
            "\n",
            "    accuracy                           0.90       114\n",
            "   macro avg       0.94      0.86      0.89       114\n",
            "weighted avg       0.92      0.90      0.90       114\n",
            "\n"
          ]
        }
      ]
    },
    {
      "cell_type": "code",
      "source": [
        "accuracy = accuracy_score(y_test, y_pred)\n",
        "accuracy"
      ],
      "metadata": {
        "colab": {
          "base_uri": "https://localhost:8080/"
        },
        "id": "OHyxPWK3rHHw",
        "outputId": "a7b15cdd-b1aa-420d-da97-4b3f9757602e"
      },
      "execution_count": 74,
      "outputs": [
        {
          "output_type": "execute_result",
          "data": {
            "text/plain": [
              "0.9035087719298246"
            ]
          },
          "metadata": {},
          "execution_count": 74
        }
      ]
    },
    {
      "cell_type": "code",
      "source": [
        "import matplotlib.pyplot as plt\n",
        "import numpy as np\n",
        "np.random.seed(0)\n",
        "plt.scatter(y_test, y_pred)\n",
        "plt.show()"
      ],
      "metadata": {
        "id": "URG3N3NDtbzm",
        "outputId": "5152c371-b419-4bc2-9488-90aab6128eb7",
        "colab": {
          "base_uri": "https://localhost:8080/",
          "height": 265
        }
      },
      "execution_count": 75,
      "outputs": [
        {
          "output_type": "display_data",
          "data": {
            "text/plain": [
              "<Figure size 432x288 with 1 Axes>"
            ],
            "image/png": "[encoded data removed]"
          },
          "metadata": {
            "needs_background": "light"
          }
        }
      ]
    },
    {
      "cell_type": "code",
      "source": [
        "from sklearn.linear_model import LogisticRegression\n",
        "logistic_model = LogisticRegression()\n",
        "logistic_model.fit(x_train, y_train)\n",
        "y_pred = logistic_model.predict(x_test)\n",
        "print(classification_report(y_test, y_pred))"
      ],
      "metadata": {
        "colab": {
          "base_uri": "https://localhost:8080/"
        },
        "id": "ZrRl9W7wrVNQ",
        "outputId": "519f7c5e-82f5-4486-de6b-fbaffb3c6780"
      },
      "execution_count": 76,
      "outputs": [
        {
          "output_type": "stream",
          "name": "stdout",
          "text": [
            "              precision    recall  f1-score   support\n",
            "\n",
            "           0       1.00      0.82      0.90        40\n",
            "           1       0.91      1.00      0.95        74\n",
            "\n",
            "    accuracy                           0.94       114\n",
            "   macro avg       0.96      0.91      0.93       114\n",
            "weighted avg       0.94      0.94      0.94       114\n",
            "\n"
          ]
        },
        {
          "output_type": "stream",
          "name": "stderr",
          "text": [
            "/usr/local/lib/python3.7/dist-packages/sklearn/linear_model/_logistic.py:818: ConvergenceWarning: lbfgs failed to converge (status=1):\n",
            "STOP: TOTAL NO. of ITERATIONS REACHED LIMIT.\n",
            "\n",
            "Increase the number of iterations (max_iter) or scale the data as shown in:\n",
            "    https://scikit-learn.org/stable/modules/preprocessing.html\n",
            "Please also refer to the documentation for alternative solver options:\n",
            "    https://scikit-learn.org/stable/modules/linear_model.html#logistic-regression\n",
            "  extra_warning_msg=_LOGISTIC_SOLVER_CONVERGENCE_MSG,\n"
          ]
        }
      ]
    },
    {
      "cell_type": "code",
      "source": [
        "accuracy = accuracy_score(y_test, y_pred)\n",
        "accuracy"
      ],
      "metadata": {
        "colab": {
          "base_uri": "https://localhost:8080/"
        },
        "id": "fF7Ty9z9sLAe",
        "outputId": "4efa8063-4f4c-47f1-f158-5ba9289bde16"
      },
      "execution_count": 77,
      "outputs": [
        {
          "output_type": "execute_result",
          "data": {
            "text/plain": [
              "0.9385964912280702"
            ]
          },
          "metadata": {},
          "execution_count": 77
        }
      ]
    },
    {
      "cell_type": "code",
      "source": [
        "import matplotlib.pyplot as plt\n",
        "import numpy as np\n",
        "np.random.seed(0)\n",
        "plt.scatter(y_test, y_pred)\n",
        "plt.show()"
      ],
      "metadata": {
        "id": "hi-Z1uPvtdLv",
        "outputId": "b415b91d-cdce-4512-e9a7-d9eba2ad52b0",
        "colab": {
          "base_uri": "https://localhost:8080/",
          "height": 265
        }
      },
      "execution_count": 78,
      "outputs": [
        {
          "output_type": "display_data",
          "data": {
            "text/plain": [
              "<Figure size 432x288 with 1 Axes>"
            ],
            "image/png": "[encoded data removed]"
          },
          "metadata": {
            "needs_background": "light"
          }
        }
      ]
    },
    {
      "cell_type": "markdown",
      "source": [
        "_______"
      ],
      "metadata": {
        "id": "1eHAsBKdFbbR"
      }
    },
    {
      "cell_type": "markdown",
      "source": [
        "**모델 평가하기**"
      ],
      "metadata": {
        "id": "YYIXi7FyLwbG"
      }
    },
    {
      "cell_type": "markdown",
      "source": [
        "![image.png](data:image/png;base64,iVBORw0KGgoAAAANSUhEUgAAAr0AAAGICAYAAABMe1hbAAAgAElEQVR4nO3dPa/byrrg+UeD8wnOBTq6pyPJgeF8ACqaySSjAUfOBs6opNFS0M5W6MyJBEwiZUZnjgwMLGXT0RLQueHAUjTnpmd/BU7AV1H1RrJIkdT/BwjY20uiqKpi8alivUyiKIoEAAAAGLH/7dEnAAAAALSNoBcAAACjR9ALAACA0SPoBQAAwOgR9AIAAGD0CHoBAAAwegS9AAAAGD2CXgAAAIweQS8AAABGj6AXAAAAo0fQCwAAgNEj6AUAAMDoEfQCAABg9Ah6AQAAMHoEvQAAABg9gl4AAACMHkEvAAAARo+gFwAAAKNH0AsAAIDRI+gFAADA6BH0AgAAYPT+5uMgk8nEx2EAAACAO1EUNT4GPb0AAAAYPYJeAAAAjB5BLwAAAEaPoBcAAACj52Uim4qPAceAimriJOXNL9J4eMgz/0hTP0hHVNXWAgn09AIAAGD0CHoBAAAwegS9AAAAGD2CXgAAAIweQS8AAABGj6AXAAAAo0fQCwAAgNEj6AUAAMDoEfQCAABg9Ah6AQAAMHoEvQAAABg9gl4AAACMHkEvAAAARo+gFwAAAKNH0AsAAIDRI+gFAADA6BH0AgAAYPQIegEAADB6BL0AAAAYPYJeAACADl13c5lMJjJZnZ7ie/uCoBcAAAzLdSfzyUQmk5UML3w7ydfNOf7Pw48Oz/9R39sfBL0AAODOs/cKtmchH8LkP8MPshj99/bHCIPeq+zmk/hCne/k+ujTQa9llXrVFzcBd6eVY7rOZccF209ZrxrXglek69Na7COJokiivcfQM6lr54aKtJXvHZDxBb3Xn/I96b2X83f5yU0UAOpJg7LZRs669xyWBGhVka7w7iq7L4dHn0TvjS7oPX2NK5EgCETkLN+JemEwXb/Grd7S67IN4jeER+Xfn7WV3EwoR1VaZq9XWU8ffY4dc+iZeZjrTuZZUBbI9qLOt+xagRvSFXiYkQW9J/lxEBEJ5eXbRwlE5Lz5+pSDtQH0XZ97Zq6y+5QEZsFWLoYGyXT9SiPQGekKPNK4gt7TD4lj3g+ymL6Xj4GIyEF+EPUCQAUX+Z08dw9f1vJsHfDtIV17RTffoMKwktPq/vPpx00TAbPPGb5LPeektFpF9htmki7McN7MtHMlXL43+fZ8ftSIxpqPKOjNe03CDwsRmcr7OOqVA1EvALi7/pFfjz6HMSJde+Ikq8lEJkvNk5bD8iZ4VUrGZasOcVg2DA6TY882qhHfB1m2vExbHBjnQfTt1w97rPl4gt5sAlsoH5InQtP38RCH6uvR1W3huH4uf595LJ/5fXcttptWa/mi0JxbpfGE9t+Xt3rtF2XWih34KhvV8iGhnLVdYfWCpp8fmpo9Ml3nTRs9Mw8xfSPvkv+s2mlQpQ5Q9Trd1wuKesfUc9andCxrkK4qdXsZXY8xTidZTZaSxqrhsTye+ijpql6HpaYMWcZlH0MROSw1QavD+c2KQ2BK53fZys1o78U++dtF0mHgwfZSe67EaVUI5FVzWo6h8fO9F3kgInevrl22Qfzd4bH4r9E2iM8n2F6cjnMM73/Lzevm+HU/53pe5vdl3xkeo+gYlr4zjLJvvGyjwHRuIpEE28h0Js6/r/BdmqS6+23m993rorypy5Oacz7ER85+d9Uy5ufzbrymcZYm5bRw+nAU2squoQx1ljfWa6zwXXfnUX4FkWN1dcP3dVG85l3rzyiKKtQBed4W35dde8E2upjSKquzzGWk0rmXtFHX1E7XIlt5C4/2OszHMRy1Umdn51+tXsnT3/S5Ql2guDdmxzDcN7O006TfTd10+4ea9aVbXKH93tI5e7iNNNLWfX4kQa8+gLqpQC1HuQnsVDl+DM2F1/lzvoPeMApNx7pso0BzAblUwNV+X6GyMF01NSusKOpz0GvJh1JQdXfowg1efYymn3fnNY1rV+K3wcx9VhT/rg4Uu8mbwnmo6hnt9Ve9UW7i/7ooNwJcg3HHOiBN01Ka5XV2ENcRpWMUb8zB9qip+4vnXq8REUVt1TV10zX9eDFYvf/sXQeFKg98HKOC3gS9zg2y4ntL6VOjY2cYQW9ej/moj5oi6DUxFRJdwb17W70WTr3PeQ56G1VK5hZtrd/ncNGaWps2vQ16Le/P09JQmRnSrunnq+hD0Ou1R6bNvGn5JuWqrevi/imPPUizp6f+t9t6yO7eo62bmt/E26xr6qTrzed89DI2OEYVvQl6NQ0tzReoy2iFY5juc9q/FRskldK9YdDboCOqDQS9BuYAyqXXoW7lWPdzvoPe+j0ZUWTqDW+eLuabUT8e46rUC3pNv8eWJtk3a3qumn6+mnaCXvPrpoz56JGJOsqbkQe9MdUQAtPvtaSpIc/yYMuQZ46BQZPGdRR1UddUTFcfvYyeeiqr6EvQW3W4hqr8VDmG6b2uwwwaB+mO31vlqXgX2rr2RjCRLV2bN121oSxfxUE7oS2bURvKS5UR33U/51vwUd43+Prpm2Rqxfm3XIp/qP378v29lZM10qXlGp5375h+T/abt/LZuPTmVNLs+PWnuM5Mw88PzeV3NpHD/HtFJFue0LAZTZt5M3ubTCw5yHK0M4AWsi9N8olnkesmwprrgOvP73H+hi/6STamPCtMCFPX+7HZ26Tu//Wnp5NlK6ar83WRl9VWjjFQl3S9uAcfw2a6fr2dsHbeyKyvkzMHZvhBb3rDKqzaUDZdvyQVinrN3qwCDt7KrMJX1/2cd+/eVFvvsTw7XbNsS5Pft8jveHcNjVPSSgk+vh/XOpWGfLj+SRYqyiov/SvNjvPvi7fP94N5R7bXQvST/V6nsp3fnLW/ucW8kelavqXTppOljoa+IoleEqQVbsjnzUwZoOnrgKv8TPaKNwWsz8UtXatcF1nAX+LjGHDTKECeruW1tCqDyFk2s+GvlftIAw96izsaxa1j9c0qX57k8GWsNyOT0pI/pv3efVl8Ti7UckOjsGve0+05C1dd9Kb49HQ9M9O1vBZuxsqdLxcf1J0NiuUlkbCk61B6KvuqWs//VdL2QfA27/bp/unBVNavpa2pD0vvy8ppn/iOzLCD3qzyrOD8XXRPQMfpKrv57SLTd+sStrLunmZzkOKueS18a++p1l3UvVRbkDb9PPSapu3T9cxMZf1tmw3tuH+Kph7ikD5BCrafn7MOsLKlqxsC5HvZ2v3njXy1LiSfxheBfCyMs8mDQ1sskQ+99GW6/pbVLd6HrxWGaY15P69BB73543eXm1U6Zup+3F/dFs4QWkbX3ack4M0fLbvGQk1/3/3mIOVd855H47QcQFnzyUePjCv/adtNz0wvZOOp1TfhxeftXR0QD224DSRQoklXH72M/R/n3KJCuh6Wps1TrrL7tFGPO8+eYJxl80n/5Pi0yp8w+9PiOOvpWl7SRqpuU44RGHDQe5KvSfel29jQhXxObkB3j+LqtnBqt4wcxiCK1OvJLklb6qZelZOuOdq05ZddRMnn09/jMjlpbHSPerv6/MD46JFx1mLattoz0wsXMXYGZkFGkranr3EjfGyTWL1Tp6uPXsZH9lQ+3m0v+lK5+9xJVtluiaEc73qJFrJPn46eNzK723kw3uJ4eQgkDGuMiT6ttHMCrrt5Mq9AVdcV4grVcCMHi33eObiZaSZTnlaDfnI13KA3m8DmfqPLbqTlm1vdFk6DllHW2j580Xyu0NL0QBtcn1bKvcNFxEvLL53Mcvhxyh9rjm0Cm5PCo15jD0Nbnx8YHz0yztpM2/HNgL9hrYdvhzmlDezwZf2EdUAFunT10cv40J7KNpjm88Svm+BtupbXwvj7w1I3ByiUY7RXdxYt9vlTnLvvjz8fHl/l89uaP0kzqTbd1jg8qrcWzp6s3JxTlXv3QvaFlURut0c3T3wfDB/rnskD1ul1WVz7nmndwdv1EpXr3Cl3ZKv5OeOOOOl5BlHgug2x7hff7F6kXgQ+CEwLyddNl/Ln09/SbE3hKOrxOr2295a2/TRunWvdRanG5yvwmsZ117G1/t5i2bTsONhm3hxDbT1kW3PWbQMON17zLEkP84Zqhe9y2n0xrQPMv9VtvVC3tZWbrj3qva7xka43616X0zKvb8PQUIcVj6Fdn91yjApaqbOtW39b7luRYj1cp/WLLedQSM9am1PEf1T/FpcTuzun27rHuU7UnENXu7W1dZ8faNBbf6cd805B5j3c9QWl3ud0F1x+4bluQ2y8hZS2vFSclzUoqZsuit/pYUPvLspbK0FvfGC3ilp3rKafd+Q1jZvsEuf0ez3t/Fc3bR0239B+vfI7e7BpS4WAwueuhfFXjz/obZqu9nuHvQ673xGu+jFcdVFn91Gaxn3Y1ndo2iozgxzecN19qTy0IVUc4vDlrs8/WStRs5pBsL1oZsTX+9x0/VpalDwVTzrzM/k+nlSTP4opfMvRdYZ/3XRJziBL8+ebwHYnmeGvyo+UMV+afn5oLL83XolE8wjS83dl31dO28VevwJKeDRPHi09au2NJC2MC7skv82lrGVr9kog26cb0F/gKV3vlshLJZO69wv7yguLfWQ9BprIJ9iiPyZJRN3sIJPJ3b95OCzG4rRKxgEZxkhVQHlrH2k8POSZf0NO09Mq3kwl2F5uNn55hCGnY23ZfS+Q7UU9Bhd6bZWZQfb0YliyHdhYlxMAOkAv42OdZJVO+GKlkl4h6EW7rjv5ol1iBQDgXbo0HPVuK04rw1bjp1VhBYhAtt9YqaRP/vboE8C4ZRuI1F5OCgDgjl7GTpw3MptsDG9gWEMf0dOL9pxWybqCTz55BQA8oZfx8RZ7/cRukXSCLQFvHzGRDX5lg/dz4dHvTGDKW/tI4+Ehz/zrY5qmE9TM+tXL2Md0RL8xkQ0DFMj2wtI3AOALvYxAffT0YnAob+0jjYeHPPOPNPWDdERV9PQCAAAANRH0AgAAYPQIegEAADB6rY3pBQAAAHxgTC8AAADggKAXAAAAo0fQCwAAgNEj6AUAAMDo/a2tA7PwNNrCQuftI42HhzzzjzT1g3REVW0tkEBPLwAAAEaPoBcAAACjR9ALAACA0SPoBQAAwOgR9AIAAGD0CHoBAAAwegS9AAAAGD2CXgAAAIweQS8AAABGj6AXAAAAo0fQCwAAgNEj6AUAAMDoEfQCAABg9Ah6AQAAMHoEvQAAABg9gl48vetuLpPJpPRaycn4qZOs7j6jetmOUzqH+U6u9nfLbp5/x6r0Bdmxyn/oudNKkX6Vf8Nt2lQ9jjkfdHmuzuOh5oNI87yod01pjmG7Jq47mU8mMt/p3zXkvADgUeSBiNy9gLZ4K2+XbRQojlV8BduL5sPHKLR8Nn6F0dF2Hscwfm+wjXTfdnvawc13hIovSN+jP3+zTq/p9PdrX0Hk8jPK6eKel6XzuMuHS7QN7HmtOn7TfKjCS541zYtG15TiPJTXhDo/bMetkxc+0vQYKtJBddFazrtyvaI6hq2OSfLPlEbZsSr8hiHGCPXyzeN9ITLkm/Y601+fdfLtkdoqMwS9GBw/5a1YOZUroNubqrqOSD/vFpDZz8PxOGllF4RRGJjOL/0N9c6vs2u6GGQZK3bzTeImMFDc2C/bwBLs6PMhP7bqHGxlpVk+VNE4zxrnRdNrqnwcU17UCaar50WjNKUBkRlUjNAo3zroDLGenz6w7bIR3hRBL5DwUd7MgUwU3dwMlBWIn6C3WiWUn1N4zCtXbQCRVo41WvbdXNO2NI6i4k1Em0aFm0DdTgxTPly2oTWPs14hVWDRIB+qaJZnzfOi+TV1exzjdxTSOU37SgGgY17UTlMaEDcGEyN4y7cWO0OOobbHvtg7rc7D7hrhTRH0DkDbjw+G9niiLT7Km8uN0vxI0Efllh7D7VFXVqGFx6h4U9QXh/oVXCfXdHaDsfx+4/vyAKB+70W1fKh/ju3eaBrlmYe8aH5NRVGdvKgU9HYSrNGAKBtGjOCjEf6IzpDSGWSBr6bsdNQIb4qg1zeHR0fmyrnM1DL3oe3jD8dYgt5KFdtdsOES9Ea1K7gurmn3Rpyl16PhNeHlkV9Wn2jKQwc3miZ55iMvfAS9dfKiWtAbtR+s0YC4M4gYwUsjvPvOkDtZXWRrMPW7t7etMsPqDTbnjcw0s+RvLeRDmPxn+EEW3k+k7eM/l9nbQEREzt9/amaGX+Xn97OIiAQf38vU+xmkxw/k43vb0U+yWh5EJJDtZV8t7xcfJBQROfyoNHO+C5ffZ8d3ziTOrrP8vtz+5fTjEP9H7WuiSj64eCdvVIfpcT6I+MmL5teU77zQaDkvrn9+xf9hK5Ppecgv+WNfsqX6eey+yEFEgu3nlu4XU1m/hCJyls3XPpbqasi350DQK6Ec4x5vxesi2yB/52FpXvJmsU8+t2+nqFqPf1rJxLJ0D2LT9UtccZ038kmRXtfdJ9mcRURCeVm3cAO+/pT4/v5RbPf302qZVILfpPqppI2lg/wYQf326+Yuc5I85q15zVXIB6PLbzmLiARvZaZ8w7jyQaScFx6uKV95YdVuXtCAGCYf+dach3yz1kUyqnyriqDXaCrr11Lwe1j2dK3Hq+y+HB59EgOykP1lK4GInDezwlqg8Vqss81Z4gaRrWf1LJtZeT3SuVjbHWnF9O6NuRf5tJK4k3cr32oG3+kNtBykPNoifXRhq3jTYOju3/9I3DcTyNukdletL2tsBLrmg0Xa42x6KtDXfBDxkBfxUZpdU57ywkXf8oIGxDB5Lz+N8y2PA8KXteE6euJ88zFGQoYwXqfMOu7lXnFmZP/GgPuY0DMMfsubZg1WL+sx6stWWpaMX2McJ+o4pjf+ssrjSbu5ph1WZogMM5JvxtbZ8kOdF075YP0ZFccCtlR5NMuzhnlxo941VTcvKo/pjT/kdE610tS1PBTmlSjPvTjvJBu36zi3o2ZZq5OWLuOwBxEjeMk3Uz3kMIa2SR1RWHnCJf/6vnxZW2WGnt4KFvujpMNqD19cds5C/11E+VTr8MXSW7uQvWZYzDHMDiLLirtQ5a6y+7SRs9Qd1lAweyuBiMivPz0rswv5nDxCOW9miico8e5qy0MgQXD/6aIfyRCQ8HibF5f8EY0snXa7q+i6k/ky6Vk5Wp4K9DYfRHzmRf1rqkNt5kU25vMgXww/+PQ1vr61pmt5TZ8yZnNL4nIu4VEiw1Oo9MlD7WE/FUzfvBMRkbP/Z/3d8pVvWulTQf09wT3fFLtDLg+SDtd8dbhhjCbfKiLorSS/Mcj5u/wsXRfZo1XL8AfVI9j0I6btMpXHT8bxTiaz5HFXctOyPGr3sU3o0MVpULyJFIeyJBVUjaEsi30kURb5qirQq8RzJvLH8vfnljy+DI9OFZjR9I28ExE5/5a+VW/T9WveSDgsS+UxLtPh8VVe3pmOcpDDIa7sy8Pdp+vXPC/OG7mdt2HPB7OTrGZpw+Ry9913epwPIn7yov411TQvKmo1L2hADJOPfGu7M8TmIEuX4XUiI8q3agh6K5q+/yjJZVF9EHuyR/xSMfTWNknOm+QcZhtlTdrixdgv1908SYNAtpfi5MBkHHdaQ9Udw73YZ5WcfjKK9uTkUzr+saVJkX0ST9DMn6Lk0kA2DYhE3imXRrDMdF58zsbk+xuDd5JVIbhr3DDpiSZ50fo1NSA0IIbJTyNczUdnSOFoiuD6tmxYJ7SPKN+qIOitKi0oUvEGet3JfJY+FkluCuVW4GGpCUYNFvu7lSaC7aVw7NfCo/G8Z0qCrVzKF00yCWX8TvI1Sefw+KoeOrDYF27S9XpVsslBlSqVfFhD3Ai5fyowKT7mlKTBNPieelUlnj6+TXu7dDcD20znqbz/mDRVvTzKuw1421qt5XHq5EU319SQ0IAYJh+NcMPB63eGWN2WjfNmZllm9TkR9FaWLldSTTYOKNjKJbq/KSz2xfGHLTn9SAKlUI6vipmd07W8WlcrGIE0HYKtfDb92KyH8Czfy2NZXKSPj9BMtkpDaQ3cOunb+FHe2ANeC11edHVNDQ4NiGFq0gi3HLlWZ0iVL8gD68PTLc1gR9DbgHOv0XUn6WpipmVEputv0nbci8Ii5FZTeVPjMVYmXYKpknSZPNsr74nIJ29pGixpoGJat7HHsgZjedH47KlLhaFGjZbDahjwDjwfRPR50dk15Usf8oIGxDDp8s1VB50h6ZJ8zzZe1wVBbwOBazMvWyzaUom1fUPILraDLHnu4SB/jFWHfrewNJ/bWNx8ZLIGYyDbu4sn36XQ3KNRWMj/5pqtkg9P3sMrYskL54NorqnnuyZoQAyTthHuqlZnSAueLN9SBL2V5bNpXcfzXPMBQNZeplmdsROupmv5lnYlp4P021jGqeeyyYh3s/lLTl+TFTFq7I6Tbioh6uVnulwc//rze2eL/vtVGIMevigf8+abKiy149dMC/m75YOfgHe4+SBiywsf19RTXRM0IIbJQ7510RlyyYOUAdY1LfOx2K8MYeHpshqbU0RRVFgA+n6h6Wzh9tLC0rp/V59WoH2v+TgVNqcoLnpeZeHsnvBR3oqL7KvSM8sHU15Y8sGY52keZIvOV/4FzptT1Fn0v6tr+rIN1OW1sNC6LY1Mm8ZYN1Ow5oPbpg0uvGyEYdA0z5rmRdNrqu41UWdDBde8aOc6KGxgYEoH2/kZ7kV1Nx5osjmF6f42yBjhjiXfnA6RX0vqrPewYYShXKi+q63Ncppqq8wQ9FYMerOKXVEx+wh6Te/1FvQqPmMN0nrET3nT7BpVfmnS4+YGX/GzyRGSCrRio+vu87Ybd73v6TLoNaahUwBkz0v9NWFOH6d8vnnp0rlpftv5CHqb5UWza8oljaznWHqpv8o9L+qmKQ2IW0OJEbzkW5udIZdtFBiCWVu5Ub23r7d8gl7f6gS9lha4LijNKiiHCqjboFdxjj2+CFJey5uy17tiXtUK1Gpun5p/2i3orbmtZZfXtDqQqREcFm9MNfJRlQ/egt6WtyCOIj955iUvPFxTumvCS9BbIS+aBL3Gc3uyBsRQYoSm+dZ6Z4ju2iq97PeU9hvhTbVVZgh6nTO98GhDU/C1Qanj4wbb45M2g97mn+/OIMubSuMhDnZ1W/OjSWMXPc6HKkaRZz3LiyZpSgMiN6Sy2TTf2u8MKcQJlQLqmy+p9v4HIOj1rUrQe1Px6N+vD0rtAfPN5x8S9DbteezOIMubRqvBUIMAYkxp7KKv+VDFWPKsT3kx6DTtUQNi0OnYtR7l2yMR9PrmEvSWW9mujzbUYx8MrcY0KA6iMKw7ka0YNBsesWp+Q9667f+EtkGWN53WKri8EVSnYhtVGrvoaT5UMZo861FeDD1N+9KAGHo6dq0v+fZIBL2+OY6NSV8uvZ+2oNT2OCk8Nlm9QfebCkGsasyj4hz6bpDlzcDLjF3NMes+vhpbGrvoYz5UMaY860teDD5Ne9KAGHw6dq0n+fZIBL2+OQW9NVd2MJUm1fcWCnb9iWy645d6bnWBb9+vgIJBljcLn0NLqkyc1BljGrvoWz5UMbY860NejCFN+9CAGEM6dq0P+fZIbZWZSXLwRiaTyd2/eTjsUzqtJrI8iATbi7wqN10H5a19pPHwkGf+jSVNfd5Xrru5zDZnkWArl9e10+YHY0nHrj063x6prTJD0NsrV9nNZxKXS4JeHcpb+0jj4SHP/CNN/SAdUVVbZYZtiPukyba3AAAA0CLo7Y2TrJbJntzBRyHmBQAA8IegtyOn1UQm851c1X+UyWQpccgbyPZb/8fbAAAADMnfHn0CT+W8kdlkY3hDINvLqzCUFwAAwC96ejuy2EcSHUPt38NjJFFEwAsAANAGVm/A4FDe2kcaDw955h9p6gfpiKpYvQEAAACoiaAXAAAAo0fQCwAAgNEj6AUAAMDoEfQCAABg9Ah6AQAAMHoEvQAAABg9gl4AAACMHkEvAAAARo+gFwAAAKNH0AsAAIDRm0QeNjNW7ZEMAAAA+OAhXKWnFwAAAONH0AsAAIDRI+gFAADA6BH0AgAAYPT+1taBfQw4BlRUEycpb36RxsNDnvlFevpDWqKqthZIoKcXAAAAo0fQCwAAgNEj6AUAAMDoEfQCAABg9Ah6AQAAMHoEvQAAABg9gl4AAACMHkEvAAAARo+gFwAAAKNH0AsAAIDRI+gFAADA6BH0AgAAYPQIegEAADB6BL0AALTqKrv5RCaT0mt1qnCIncwnE5nvrtW/fTePv2++E/unb8+1fIrZsaqcO9ATBL0AALQkDhJnsjkr/nhYGoLYUqA824jqEFanlcw2Z5FgK5fXtUyt5/tJfa6J6fpVLtvAcu7jcFpVa6go3297WRoP5gbLSVbK465EdVQaLCISeSAidy+4uWyDOM3C46NPZTDaKG/H8P6Y9fPkEm2D/Diuh8nKQrCNLrd/iALFbxYJou3Fcqyav+Hh1/QxvD+Hcrq0+fnIkB/3b4wCkSjQZUbUzXXuL89uy2+t68EhTfQfdUx3xbmWT7FJuvtIz+z7Nb/nsg2UaXTzudKrWpoeo9BSV5S+OK5rgjAKA1P9laa723EfXp9Upao/HOpe5X3E8jIWzfQ87sqO5hp1KCtp2apzbXaprTJD0JvIK5kwcqse08rEtfCo3p//m/v3wmt5q1m5mZRvWE73W13lZj0//Q29SeX2uGvaXpmb07Pp5xPam43+O2zp3PbNxnuQVingqpcmd4zpbj9fVd7WTffG6Vm4dqvG3KrAPw2oqvyOar89z8PwmN+btOee/j6HHzeoGKFY5xo7IBrcs53Kub7BYo5XbJ0u1Rosj0LQ27ZCYa50U3StoLP33xa0rGVIT68zb+WtjcrNuafk5kT0vTHHUFu+ir0K6pta/crtMdd0sbIun7NLA7Hp58vvNd1s6gR47d5smuYZvZK3mqVnXhZ9NXKqB71perrVX7f3Ioegt0K6DidGKNQh+mi/YoeX/jtcng6pr7nQmuZZfqruHxUaLI9C0Ns6l+6Aw7YAACAASURBVMJeePdNRW+vVKr3JEPHT3lro3Kr2FOSfqpBD2Ae+GrKVc3K7SHXtKZhWHhDHriqfk/TzyfMN5uGPXAt3mwa5Rm9knf8pKe/+r5qmlZKz7vzday/HNN1MDGCa741yd+sQ8X02WoNlurn2P/eXoLeDriPJbt/lOf8yLXHLauh8FLeWqjcqveURFHjys1agT6il6uOar0f97+36edT1fOjWjDS3s2mfp7RK6nS5Bpo4wlee+VM1cPut/4aSozgPga84lOJ4icdyoaXoVDZvUFzjj3v7W2rzLB6Q8H0zbv4P87f5adpUur1p3w/i4iEEobxPx1+GGZDZu8XCT8sPJwpmrr++RX/R/hBjDmy+CBxFv+SP6YycVrJ8iAiEspx757H190XOYhIsP1sPo/aprJ+CUXkLJuvPZ6xm10jgXx8r59fPl2/JPlxkJtLrunn08M8Y36cviaz9UN5Wdvm9rejUrrXuta6TPeT/DjE//Ww+j69HoKPYrgcRETktFomaf9Nqmf/Qj6EIrrraWguv13Xx5jJ20BE5Cy/L1W+IS0bgWw/68rGVX7GmWesy9y9kzeqw6T3tsMP5UoPY0XQW5QFOGf5boh6rz+/x0vHhB9k/yGJen/90a9/ePmdLDUTCjFvP/it3E6yWh5EJJDtZV8hWPJQuaVlK3grM917hlC5Zb/DdpNO80PkV7EV0vTzIuL/ZqPRs/w45RFaS4G+TZV0r3utSXfpfv0jcZM6kLfJRalayqrV5b7S6+HdG/MSZWkDItjKt5oNnllyQd1fT8+hyu9OG3fGeqpCg8XIem8YV4PFFUHvjbQQiJy//9QEsWkFnbTiZ28ljon0vcPZTUVR+LLKULFunmpNvfvKcy7OdWeyuHntzz85XeVWu6ekceV2ld2XuGyFL6b1N/tfuWU977abtEwleyBTaIU0/Xx8EE83G6s+5Qe9kt5lnRzv5M00Xkd1ebh/23kz066n2lR6zzHm6XUn87QB8c2+fq9O+oT07noaoEUaANgaRoWnt+4KsYOpvnZtsFikZSD4+F57nGdssBD0lmSF/vxb1JfwRX4nj1HfzkRk+l4+Jj2B6t7h/KZiKnxWScB6X3meZTOz9Roki5wrFzePP/9si1V7q9ya9JQ0qdxOq2zB+2B7EdtT3r5Xbu497/lv8fn55CBebjZVzuHh+UGvZKt+JEF6eIwkivLXZZuWwYMsnXZJ8+0qu0/x/aBeA6Ig7fgxPe0ciuxp70G+GMr86WuNjUIKwyJNbRGnBotNYQiQacjSmBosrgh6y9ILWNcbcPpRejwxlfdx1KsuOIWbSv1Hpj9kNdvIWUI5RsXK85hcoCLnzSdNj+1VdvN8N6By5Rsd0+Bv/Lvr3PBRuTXsKXGv3BS77iwPIkl5eHW4Yw2lcgveagdp3FPcZJt83svNxlFv8oNeyRYd5HCIr9Fyo3S6fs3r3vNG/A4zvkr84CNvyNy9I911LTw61R9G0zfyTsTQUTQkC/mcNEjOm5miMyjuQFoeAgk0bWed7F7S9jCi7FoRCY+WIUBjarA4Iugty3pu1ZPTVI8Msglwil7DbPyvbjC5i8NBDsFWLlG5AC9knwW+6p7mfEtJdeUri31W+Z43X3sxxrAbTSs3jz0ltR1k6To85Qkrt17rYX7QK+mfcWLe4rOkSdtpj/91J5/iiLfSpNtnMV2/StoekcOy9NQj7kAKj6/y8q7KUV0msIm4NFhs37OapdeK/QnguBosbgh67+Q9t/dBbF5wb3ptC72Gt3FyPoanWevO1LthGod8kq9JF6+xxZdVvn0YY9idJpVb856SKpXbQvZRqYc+uiR55jK8RcZZuTUdhnDz+aY3m4p6lx/0Svpne7pneUrYirwBETea74eyxK+4ASQiclim/9ZOT38fLfa3T1Jz6TWSlluRdw69WU4T2Bo7ySrNNx/XykgR9CpM339MhjiUlqlKhzbc9drmgedt73A6/rfhI1PLhaIdo5gNxdiKsXFZmNzz8DGGHatVufWip2Qq69eo0Es/kycblg3P6JX0JBsiV0GPevyRUnU2pJ1Hpbk9Ro4T2Bq5DXijoVwrD0DQq6KZnGZa23WWr4OUV15ZkNxwqTJLj1Y2vKIkO9/zRmbaFn38SsfxPXyM4UNUqdx61lOy2Ge91ca1ogfCpfylk9ZU43ebfv550SvpTdqbXGUN1w4mT8aSxvJdfVd+5R0B+XAXzdPCdN6KadnEscnm6jgMWyysg93OdAEC3ioIepUKyxplQwZKS5WVP5H2DheWLjMtVYaBqFK5PYiywTUw7r9B/Vix6eefFr2SLdA9+SvL7yl+G2Dp/avqxglwVWVSWjYPqJUNbxoGvE/YYCHo1ciXLkuC2MKOT8r66a53OL+5NlqqzIdgKxdryz550Uq8cV+5tdBT0oWeV275boi2sZbqx4pNP9+5vuQHvZKtyJdEXGqHHRUnGfveCa/LpdmyydqdlYsHu+7ki9OktNv3uq3eVKXBQg9vHQS9OoXd2X5fChe2dnxtadF7x21R2+QeCECpSuVWmb/emGyN2iHfdLSTQUvulgz09Pmn7R2jV7IVxWFHy8ld4HtaTWSWTDJuowcwffKo32TJn7T+edjmJp3KV0eQ8MW6kki+e6v9vSm3BoufgPfpGixC0GtQvBns8grf0Gtb3PBg52OpsqZcAwEoVKvc6vDSG5MtQm4OzPtfueVLyB2WuvGY6Ra0qgkhTT//vL1j9Eq2Y7G/ZJP/8rHGt3Mogu1FOcs+241TNe9iM7v7212+dbZKRbqiUVvjVbt33c3Vq+GcVvn48WArF2ugWVg9qULi2BssecAbbC+Nenifq8GSiDwQkbvXKBzD+PcEQRQkvys8Gj8QhSKRSBAFQZIW5g9Ex1D/vss2cDpGfp7b6KI7voSR5SiD4au8XbZBFGzLKRbl6alJUzdpWTCUmcs2Lle677hso0CCSHWK8WkW0sCxnNmKUuox13SeZvfltfA3bZ40/LwtP3RnnaStsixZPuOaHy6a5FmxLJXPqfg3199YKU1qpnvh2+zXWum8XNLd2zVQrE8c65Ws7nd8qX5PnXJZ+LRbmqa/zZKgQ4oRrGnvWk4N92XLB5O0V9+zb+p9p5fu3m/+nkdrq8wQ9JqklbG18GQfiLbBbTq4VsJtBb3l36A71DF0+J6e8Bn0eqnclFxuGpZK5678qV/2m1r1yu1h17TtN9vypNHn7enkIxhp62bTLM/u6y7XctY8TZqmh2vQW+17Bn9fa9yYsHNtRAwtLdVlukr5zK+nOo0OU4PFW9Dr2GB5FILehyjdCBwKx+3FYr9IWg964wM5BU99LfxlPstb88pNx+1GbO+NKfZe1syvGpXbo69pVcVepXjW/bwtP7wEvS3dbLzkGb2SmUdfAz608UQhUyGoHkNadqpHDZZHIeh9kGKF7lQ4igGmQ4HtJOgtH8/15txToypvPa3cRpXGVfQ0P1wMOs96mO6DTs9Ua+madwh1OlTkifSlwfIoBL1AYmzlrY+V29jSuIo+5oeLoedZ39J96OmZSjs76vWim4/5TL3mnetJg+VRCHqBxOjKWw8rt9GlcRU9zA8Xg8+znqX74NOzoNnwkVtZwPuEDYiu9aHB8igEvUBijOWtb5XbGNO4ir7lh4sx5Fmf0n0M6dkXpGV9j26wPEpbZWaSHLyRyWRy928eDgsojbW8nVbxWpy6tTuruO7m8eL3wVYur/dr0tqMNY2r6FN+uBhLnvUl3ceSnn1AWqKqtsoMQS8Gh/LWPtJ4eMgzv0hPf0hLVNVWmWFHNgAAAIweQS8AAABGj6AXAAAAo0fQCwAAgNEj6AUAAMDoEfQCAABg9Ah6AQAAMHoEvQAAABg9gl4AAACMHkEvAAAARo+gFwAAAKNH0AsAAIDRI+gFAADA6BH0AgAAYPQmURRFjQ8ymfg4FwAAAOCOh3C1eU8vAS8AAAD6juENAAAAGD2CXgAAAIxe46DXxxgLAAAAoE1/a+vABMNoi2ocOeXNL9J4eMgzv0hPf0hLVNXWfDGGNwAAAGD0CHoBAAAwegS9AAAAGD2CXgAAAIweQS8AAABGj6AXAAAAo0fQCwAAgNEj6AUAAMDoEfSKyGk1kclE/VqdHn12AAAAaOqJg96r7OZxYLs86N91WE5kvrt2d1oAAADw7jmD3utO5pOZbM7J/4dHiaJI8brINnjomQIAAMCD5wt6rzuZzzYSx7uhHKNIov1C8+aprF8jeV1Puzs/AHgg5XCvKuO8Tqv7z893UuV52XU3r/C5/KmdakhadizGqgFP78mC3qvsPiUBb7CVS7QXXbgL4AGaBkxdBlzXncwn5uFPgwq4krRTDvc6LGUymYt5pFcSfKoOcN7IzHWOxGkls805rqNf12LrcrjuPuVP7RSm61e5bAORw/KhQ9VoTAA9EHkgInevPrpsg+T8gmh7efTZoK6hlLch6z6NL9E2uP/O4is8tvn5xDGM3x9so/sqQv0dgaUySesd2/uaapRn6e9W/fbLNgqyY4aROhmLaVOuX49RaP18+b2OdXR6bkEYhYEpn9Pzc6/7vV0DxbRVvmzn1EXZVnxrdr/Uf4dr2abORlVtlZknCnoLFa9TDWGjr4hMFUBWkRTO4RhWrQQdzsP2G29uZG7fm51neuybytx2M/OnjfJ2nwc1y0mSrnUCnKxsGIMOt/xSlbMqur2mmwZM7Qdc5QCgStBbJ+Cqo36eFdJPW17ydFT+3qwu0P1Gt/q3WgMhP+/wmB9f/xPCSteEl2uAxkQURUOJEdRq3xtq1Nv6Q2nuDfEZFspB8aUuE03vDV0h6G3KWilXoC3MhZemNX1T4CzHsVX8yovRemHaew10F8NN0HvXezHQoLelXpjKQa+uF8Z6fvr8atLD2Ok13TRg6iDgUt100uvBKX0rBlx11M6zLP0s17D2ffk14NTg135Pmk9udcltI9wh6K3Y+Gh+DdCYSA0iRihrcm9oUG9rj3UXUzjcyy31WdtPn5poq8w8TdBrr3ArHSwKNMcpBqLGm2cYair4YqtNf1HdBLy6QODu328vkrs/Fy5U1bnnN5n43B91wXgrbw17YZr1/t2ciL4X5hhqG1C2stakh7G7a7ppwPSYgCuKKga9HfT21s0z954fTTnNrhXbbzMHUJVuxHcBuEvQG1VqfDS+BmhMZIYQI9xo2kPfqN6+ebfD0yfVOVju9R09fWqCoLehrKA5jmeqr1DYFN91Eyhpz8Xc+i8eo0rHkVPgb6iorYF2R/yUt+a9MI17/0rHqdOIyPPEUPnWyK/OrummAdMjAq70iFXzuuXe3rp5djdsSavYA3hzAMe61RTEVbkJqwIBx6C3QgDY9BqgMZEbQoyQ89BDb2Gtt9MzMT59Cq3XijHu6eDpUxMEvQ11F/Sax9+4TqbTn2/di831pqC5sRXP6cGtQy/lrXEvjO7tVfOmeg/jjezGaBsTWC3POrummwZMnQdcxa/uOK8tugx6i7+5yhhB7XdlY0jt9bM63V3rt/zztvc1vQZoTOSGECNkWro33LDW21Hkpb4wnmO/e3vbKjNPtmRZN6Zv3sX/cf4tF92bgo/y3rAWz+ytZleM6x/5JSIiobxUWT/49EMOIiLBVj4b12mbSnr6v/5oFrWxnPsQXP/EqSjhB/OydYsPEoqIyC/RJUej89h9kYOIBNvPLS2fN5X1SygiZ9l87d/SQlk+vHtjWZoqL5fn3/lV1fTz8UF+yvezdFCuF/IhFBE5yI8eZcUiPimRww8xnlaaTiWX34b1wkq09drld7yUpC0fT6t4SbVgK99qrp+enoO2fnug4jl1XbZPq2VSF32T6knbz7Jdx6juDbO3kpR2xTn2+97QFoJeH5L1OrO1E037GqcsFVkWOJe/6uf3ZJ3htzKrcorphZysl3m33mPhlZ7+XQXqeO5D4H6jnkl8jzyLLjnqu8rP+I4kH+tGW2mwYCoPaeVsC2oeoGnA1GnA5UEvA67s5n2QL4Z1bE9f00191IK3FWqkX39u1ok9/YgrnfCD4fZ+3ck8jnhl+82+fq9OWrdq6zdPaEwMUyf3Bmu97eHecOOdvFEdpsf3hrY8TdCbVQrn7/Kz8TV5u2j3ZGa+GWAcvFfmjXsYr7L7kgQLL6YgoP+9ME0Cpqafdwq4POkq4KpmIZ+T/dbPm5lis4G4vlseAgketi17vrFQvZ7IgrT3S1GOvKIx8TSq3Rsc6m1fT5+swXX/7w2+PU3QO33/MenmP8v3RlHvVXbz2c0OQOExkigqvI5hs5NtU7CVS1Q6X91Luz3z8DXthfGiSQ/jaSWTSVwOg+1FbFk1ll6Ywesq4Kpoun6VrNo6LEtPf+JyFh5f5UX9AKq6mzJ/lfhBVCC6+C7bdS08Nt8WfvpG3omYh595QWNiiFq9N7jW256ePqWNnuDje+1xnu3e8DRBr0zfy8ess/dn7Ysy3/IylGMSHHYZGzqNF/b4udHy1AvThHsP40lW5WEoy4OkZdAlCBhVL0zTYQgVAy6vOgu4qlvsI4mio9w32eNytl+kaSXyTvmstCXXnXyKI145DqwhTmNigLzdG+rX216ePqVDVizzf0Z1b3DwPEFvNmhb4nGtNfcLT8f7mAaXpwW2FdnA9IqPIwoX8rM8xjAbQi+MzUGWk7kY6uXcSHph0LaF7O+e+uyTuu4icfWnDqJcbppZ/encwsh7IuPyrpuLEE/CEhE5LNN/W/VinCKNiaFp+95Qod6uKxuyIhIe9+aJcE92b3iioFdEFvvbVnfNwFfEUMFnrauWTNeSxu6HZZULJx27I3JY9uNm8Gid98LcqNLDqApELrJNJlFsZhOZ2wpCz3thmgZM7QRcuJGtHHM7KSabL2G9aT4ouOsFGhND4ufeULfebvr06SSrWTpkxT70re/3Bt+eK+iVuNVdLsz62Ddu0RULZlbBH5Z3Bfa6m8tkeZCg5a7BxT7tNTBcOKfVXVC/+LzNeomXht99Wk0aNQiGpLe9MFZTWb/m48fPm5mhHPdX04CJgKs72ePc0lJO7kOnzMGdWlLOrXMQ8ms4n2Oh6eFKg/eKK+C0hsZEL7Vzb2i73j7JKm2o+BiyMkJPF/SKxIX5ss0D07wFW37dTlgTEZmuv0n60fNmdvP+Wdz8k9d2ugaLv0D2hYuxfB7aZdOma3m9pIGv/ne32lPdS/V7YR6u8PTiMMBxK00DpnYDrhb0LeBydd1JPOE8kG15oW/XoVPZWuHlGenpOrNtLAvYfzQm+qyle0Mr9fZtwDvmiehNPGXQKxI/voii2+D3XiDbS3nAeVxZqD4XHrtc8SC5GDUrRQTbi/pcpmt5tfzubn9Hz2l6YfrEvUeoh5oGTARcHcgfl0r4opjhn4+B1A+dOskqHWOoWKapyxnk2VrnfVhvnMbEcDW8N/ittwl4nfnY1k2GtMUgBq/L8ua+lejt++1b0/rbAtK07XXhTc7bvEZRt2mcb82t227TvBWqr89X29a7zjbE1bbsrapJnl22gfp3ZNuY2spOnsb3+VD4m+4YFcun6fv7sg2xXSFdNCfzqLLtenzluSreOMYYoeq9oUxfb1e9N9jLkeVEGl577WirzDxtTy9gZeqFacxfL0y2g1Afeq5qmK5fsh6t5d0kmUIPhmYL7cafT9bwbrKUoas0r7rYCKMq4zCpYCuXV/MGKPvL7ZyBu8lQpmN0NpnmJD+SZZy6yILrbq6fc1FMF03PHGW7pzzcG/T1dpV7Az28lfmInGWErTj0VzflrV7ruUrvX/NemKjQE2fuFajaw9j5NZ32Nuhetl6IRp9P81rXm1bscXN7qZPZ/j1NNM0z9W+sfq5ZD5g1PdSfq3c9OPZIpteLwwn5uAas5cald63lsm3m2tNr/p5xxQgNe1ajyFpvu90bPJxH1O7TpybaKjMEvRgcX+Wt+SNd1Ucr3Lhtj5Uu2ygwBLM3wYWlwnJ9pJt61DVdN2Bq+nlbvnkJeisEXHUMvh7u4DFrlevAZz3z7I2JoZXNRvcGH/W29VrI86VRp0lU/d7QFYJeINHuzci9F6Z5IGTphbH18DhXetV7e57umu5ZwFXHGPKs1TTq8bj2VvWgbA8tLRvdG7zU2+Y6W9UAMr9sY8LbefrUBEEvkPBZ3pr0wvjo/bP3whQnCJVerpFBjR7GZ7ym+xRw1TGKPGstndLJQf1/2tGGR5ftIaZlsx765vW26d7gLeht+elTEwS9QGJU5a0HvTAqo0pjVz0KuOoYS555GeuuOebTNvweXLZHlZZd6em9oSsEvUBibOXt0b0wKmNLY1d9CbjqGFOeNRuHestpST+FMaVnFD22bI8tLbvSx3tDVwh6gcToylsPexhHl8YV9CHgquOZ86wNY0zPR5XtMaZlJ3p4b+hKW2Vmkhy8kclkcvdvHg4LKI2xvF13c5ltzhJsL972S0+PWWf9xjGm8diRZ36Rnv6QlvX17d7QlbbKDJtTAD0wXb/KMYw3CFAuZl9RVqkZFr4HAPQb9wa/6OnF4FDe2kcaDw955hfp6Q9piaro6QUAAABqIugFAADA6BH0AgAAYPQIegEAADB6BL0AAAAYPYJeAAAAjB5BLwAAAEaPoBcAAACjR9ALAACA0SPoBQAAwOgR9AIAAGD0CHoBAAAwegS9AAAAGD2CXgAAAIweQS8AAABGj6AXAAAAozeJoihqfJDJxMe5AAAAAHc8hKv09AIAAGD8CHoBAAAwegS9AAAAGD2CXgAAAIze33wcxMfgYqCK4uRJyh8AALDxEvQCXSPQBQAAVTC8AQAAAKNH0AsAAIDRI+gFAADA6BH0AgAAYPQGFfT+9Y+Z/PWP2aNPAwAAAAMzmKC3GOwS+AIAAKCKQQS9qiCXwBcAAACuBhH0AgAAAE0Q9AIAAGD0eh/0moYxMMQBAAAALnof9AIAAABNEfQCAABg9Hod9LoMX2CIAwAAAGx6HfQCAAAAPhD0AgAAYPQmURRFbRyYYQcAAACo4u//vLR2bK9BL4EuAAAAfPAdAHsJegl2AQAA0AZfwW/joJeAFwAAAG1rGvw2mshGwAsAAIAuNI07a/X0un5p3YhcdfzysVzeAwAAgGFoO778W61PWRB8AgAAoIpi/GgKgP/6x6xWrFl5eIPpJP7+z0vjgLdJ1zXDLQAAAIbPFlPWifkqBb22gLcp3fFVx9Z9H4EvAADAOPgMfJ3H9D4ymHxUgMswDQAAgMfz0fHKNsQG9Br3x3U3l8lkIvPd9dGn0onTavJUv9fsKrt5nB61X/Od9CIlT6v787nuZD6ZyGSyklNHp9H99ZTn4aqrH+nkJKvJRCaTuTRNijRNda8hXcuNy0daph2vuyzt+lU4PEvLWnfXuTt/55beu7SvBnnsoyPSKeitMuzAN9N3DKonNqkEOq/4shuqrfAVAosahTIr6H0JLqpwTiOXQ5lufM1vrAASpuu2w4ZPWvfNNmfj+86bWYuBXd2GIXUSfEiD5oksD5a3HpZJ2asXYDd98k9Pb2tKldBsI+Yq0ffXJzcE0/celoUKeCrvPwbJv/+oWBhP8iMp6MHH9zI1vnXlvfVXW+U00nO78Z1lMxtWj8+9vHKr/6rbmxDI9hJJFNV4va7N5bIy1yCjxaBCeS3570Wy9twoXr3ssHv3ppUykN3kg61ctGXwItukeo1v+n3s7RuaDp8A6e5bfbgGHvCk6P77l5LFuuHRWBcfw/SNB1k+oNFVO+hNo23fva3/4z9f5d/+4z/J//ifbitB/K/lVf7tP/KXT3V/W9zbNxNLw789153Ms0BOHyhcslo4Nn3/UeJ/OciXKiXx9CMp8KG8rDW3lfTC1DUDk9ZfpxVFjTRSHmfieuM7Smg8GOAiudkrr6WDLCdDb1g5mq7l1aHBk95kg7d+h6tdd5+SOj6pP4wNq6msXyOJLtusjl16reyS42uDbV0d9yq6KtvK1NOe1q3njcw67nlHt05fk7xO7337hfH9i32xXJ5l87X6ddAk7rQGvS5dxq4n8Pd/XuTv//O/yn/5j6v823/8n/K/kuUo8lf1Hx8nYP76+90x77/T9VwbKwRAx86inavsPhULob5Sm65fbwvodC0vyXmev/90rpBOaTdv+EGUxf20KvSmhnI0BIOHZRc37AZpdHOYYuCc/C7jjW8h+yiS19p3mT6p0eua3fDHxJYODYIKpavs5nmDOjyqA7zzZub9Ogq2F+e8ttz3OpQ+hQrk43ufGXGVn9+TK/9YIY+na3lNM6nyE7U6LvL7UZ0vnengCdBi73jM9F4WiOc2Vk/l19f2W5WnaVNZf0vuBx6vA5d4tVZPryog/Ou//ydrT+tf/5h1/5hfRK4/v8ffGX6Q/92SKP/lv58aB7zT9WtLj1Rd5JVc+FL9+xcfsqhXfrrNQJAvWcyrutOdZJX2SIVHiaK9IjCOg8G0V/W8+dryzaBZGsXKgbPqdwF+lXsXy8HlYl+8jj49/XjN6+5L/BQq+CheY96sDqkR3Mzedtf4u/6RXyIicpbvThV6BY497d0NOeqBLL3fyZvR/TiFJr93+kbeiYjIL/lTo2jWjdO8j+m1Bb7/+neXlInHPvoZH5O3yP91/G/Gd/oeHvEQWSGsafEhaam6VZJZg0JCUcW8+U1nKxdL9890/S155FFxeEVVTdNISsFHpRYuUFdelwXbb8anE3FnYr1Hh+Nxkq9Jl3j9xq3OTN4mj2d/V733Xn531/FT+K77p3f68fm2SXlq5jG2vRzn7Vua3sFbeYqO3iaB64MaCN6D3mBrH4v7r3+fyr/+/f/1/dVqp6/yf/1/U2uwPYqAV6RQCEUOP+rUMgv54DzEoXgT/qzs6bwkXarWCW4iUpxMd658J6mgcRrlN1NT8OFDNuO7xuspxnU+k+tPiS83w9j5RPbEppNH6H10ld08mVwTHh2GW1TtaMnrqsOywmSc607myZMvXZ3pz1V2SQ+G1QAAFldJREFUXwrjvs8baacNlAa75nksh+X4g990qJ/b/W4M8sbf5lOVMdrFJ6XdNhBaW73BZUti/VCD+zE69caIneSv0Bxcp+dpnbA0GHnQKodlrcDHeYhDdhP2PV6ubQ3TKJu4N7TfPXT3gYn7awRLM6W9SLqx80XZE5t6jw6H7rRKA7BQji0NMM6fTCXl0jgxKwkMZ/mQqG8tj+3PnkYFWzluVQF6PKys1gTegjytTeO+89UrKjUSBqWt8eN9Vhibm05atLRq4tVgZg97Utr6kmW2wLe9DSCu8tc/zMMZBrXObwWLfV7BxD2FFSuZxeesMjcNcciGNngfL9e+Jml0/ZMOjmjvsUx5gmad1zgmzCGVlju3VQgaPH4fuNMqXU0llKPzWPs6HS3xignZJGXTSgXFXtDw2P541utOPhWGdiyKQ15mPoPOwkSmi6nOKaZVC+OL+yDtDBng/bCR6VpeiysTZevwql/5ojOhHL1P9LXzHvSqHse6THDz7a9/mGussQa8sVJlnPWQuVZ2hWEG2iEOhaENhkc5s7e242iO2frU1/pplA7ZeJpxWw+nW46pyqvrylUzXtK6crve5cHT8G1DbR4/nCZO8+oBbzNpA9XWO5r1gra9tEVxVZnC0I68oR/Xdb0cZlAOmHp5kir5UBL/48eHIH1qUFiPWidb1eoxk78725zCto7uX/+YWQNVF/FxzPszjzvgzcWVcXFt2DSwsy9ina3Zqxvi4Di+cLp+ib//vJGZ9bFH/khSd8z7G2+zBbmbpJGZaVIHC9NjxJTrt7a7bnn8yHSZT5p9wA01W7XnkU9eistD3k0ensr6tTjMwMdauelQMdvGO8WNPMb3+L84lOSzteDFa2n3856gOLdKZeS2gyJtCN4Me3nwqh3egl7bBZ++2g04zcXm7/+8aHdWqTdbdQjSFlgxsHNYwH76Xj4ahjgUl4GzLEUt+2xdSt1ORMUeGpHw2PUNq2YaAVqa8ZINFuxOn5o8im2d3kcMp0l3i0vrjmB7efhN9TFKG5YEW7ko00ExJKNh4Hs/VMw8vMM4+be8m1d/FnzWKw0leb6yNywP2YbYFPjGrYTqjyLjXdCWtb7zOSQ34cIGAeYF7E1DHApLASnX5i1/9b5ws1e1cvMtDMOjeSzd/Y3XZ4DslkZuwYfikbwu4DHtbOTt5XvySI1JZQ9Yo3tMpm/iNUfcVjZpsI5sU8r1Wx0eezrLn6KUd0J81nHsxclk+oA3t9gn9ZHDe+3Sus6y42QS0PrPoyYTXJsO8zjJSjGUxEy1QVNf1nlXnFuxfFS8V6WdidVWIWp3ouNDgl4Rj0Fo0nNr6qm9+S7NzirjWb3BYrqW16jYMtdvBKEd4lDYdtgl5hWRLN11cV8azPaiYW9JozT4cN7AA9UMshHQgXRTA5dlyLJrdIyL5Bce06c9g7UDt7RH3tLR0vMyudjHdWulnu7F3nOveOHpRrb3c2Fb9l5U7j4VlsVzWIce/dBK0Bv3utovchXniz8dppA19eMWikp7K0QMVWGZETmIdqnabFvi2yEO2VqENdaZvJv00VrrvylDGmU7Knmahdx0Z6NOJ3LplznSjuHqba/GwGRDjmybtxTWZ3VZ3myQkt5FAo3MYu+vHk2HK/avXi4yT3B1q4vqdrQUtwMP5fgsQ2oGda9Se1hPr2qziEobRCz2SaFOl5qJb6QMY3CU3UBFfhkW8kzX7M2HODzRWoS6NCr8u9uqFKhkBBVrO6ayfkmuR8MWwze7Bdpn1YyDZq6Gt8fcYyiTLmnk+qzf1vOddkYZl3GbeJhI9wgnWU0KAS+N+EFpJeh1mdSmUnXcV/w9Q7x59UE65s8iXeQ+3c3nqdYi1KVRaUHuFpbVSSfoDGbFHnRjsS+st3pfPk6rfKhX27sFYhjSusRpubxsyTDLagKFXS2fymkl+RyUvgW8qvky5lfzidr6razdX92uXPGwnt5WJK1POHDeVSzfvezw4/Rc2yya0mi6lm/52j8DWk9yiNKKtS/L+hS5TKLxO364OFs+3do1fRVXMej3o+mWlGf/V3hVe8ydlsk+jw0vLhMmop5AVXwVO50OsjT+NvMwJ+dXMiwg6yjr7XAVxeoYvQp463GbFDsuDxnTqxtja1rLMV1/17YOr85gxvVmj41qVqbJ500x2GlVuHjDF2tvULYt8a8v8iVZ+N20Nm/veUqjabbLkWQ9JLpjXnfzRhsTALlkLGNhlZFcHNi0EfBWm4E91EfX43EzzKUwBFAvHSNb2MTi066DM+250+omNgmPUb+WxWsy9MZbI8PWoFK9LKt9tKQ3Pb22jStc/i071n/+r5W/3+fAfVXQnw9xur9xFAOlbP3bhpOkyj1AqnOR8OhW6NNtic9nx7V57Q2fbLUNy5aFbd44faRRtvSP5ZjF1UW6X4cY/lXZJa6lIVjKm92Tly1bffI0AXphd8vKw1yKw7d+O37Gx2PuST+fmKXzh5KVKHrbGQ0n7Qa9mkdNKqqbhK1Xt26vb59ly4TVnSiW3AiNa+Cn+eJ89eZr9oq4rc2bLevVR77TKF0Gz3TAwtI9g6o0R7AuI5pJV1yp++gajzCVPlfBtTywLpquXynPI/G3R5+ATpVg9q9/zJxWbXB9X1PT9atE69ofltfaH84t9pFE+8aHyVT+TYu9RB5PoI2YyHca+f7NACpyfXr1BOJNdM7xSh/vqzxtuMruU7qV8VvHz8RjfOvWftfdfMS7oqJPOh/eoApmy4GojzG7f7F0GdDcGJZqAp7QdP0tH5s7m4h9Imi6090sHwv8rXkHjDfURfCg3aBXMb5KpTjBrclwhb/+j/9b/p9/n2ZrA5q+i0etGALTuGPbq/lyNH1TfUmecacH7tQd01t7XG+zLXDbLZPxuPN81JXt+ilOJA/lSAAIZ3Xq5nTpt271ZiKbarOKor//83LzanIsAACeQTYm2ziJIZbvXvbkEyIxWq2M6dWN/9T14roEvKp/M/UK6475r3+fsmsbes/7eONBazZesFcY992OztN1gGWSsgfvhncdTCLdcgoJlzG4ruoMXbB9VxvHBAAAQH/ViU97u3qDa2Cavm9sS5cBAADAn87G9FYJSuv0xFb5DAEyAADAc+lVT2/TYQf0+gIAAEClN6s3+Bxny5hdAAAAFPUi6G0jSCXwBQAAQOqhwxvaDkwZ7gAAAACRDnt6ywFulz2xj/xuAAAAPF6nPb2PDDYJdAEAAJ5XL8b0AgAAAG0i6AUAAMDoEfQCAABg9Ah6AQAAMHoEvQAAABg9gl4AAACMHkEvAAAARo+gF8DzOq1kMpnIZL6Ta/pv153MJxOZTFZy6ug0rru5TCYTme+u9jf7+UbZzScymUxk1dWPTL+589/qSFUW2vsyWbVaxtLjN3l1V/5TvS0bGA2CXgDASOTBfPlFINUVXcDdfRANlBH0AhgBfbBz+5pLa7FP2lPY8o3+tKrea9d1b67eVX5+P4uIyPn7T689qnG6zGRzVv/9vJn5yX9lPvc1/QPZXiKJojqvvSwqfVd6DS7loPz7QZaTiUz6UxjxhAh6AaCR5Ga/VN3q4xs9vYyx6+5THpSeN/LJU7qcVhNJkz/YXhQB3FHC+EtlM2ux4fO0rrKb5w2O8HgfRF+2QfzHw5LAFw9D0Asv0rFYVGZ4LFvP1quspz6/z3yzP8aRlpw3M++Brzq4U7/21brs2nFayWxzFpFAtsetBBKnS+Mq47RKAt4471+VGbyQfZYfZ9l8ajBud7F3TPc00A7k7azulw1D3pgJ5agpb9P1q0SXON/lsOzR0wc8E4LeTnQ3xikLPp2PnZ+b201Z9f6TfE3v+ocfTzVuy/SomUp9/PKbfRxwlW/2i33ew3XefHraHsbrbp71hIfHV1kv1vKatAgOy2Y94acfSRdv+GJt0Cz2SSB6/i4/286L6x/5JSIi7+SN14ZW3+RDVsKjZUjEdC3fkuvh8IMKEt0j6G2V2xgnnz1A0/cfJalSxKlOOf3Izs1pjF32/kA+vk9r8oV8SHq0JPxQcRzYEOXjR5VPtBNNb+bou/xmH2y/aQOu6fo172H8+mw3+riRnPXwFhsGi33W8xePt23WCRA4dafO5G3Q4EuquPyWuD30Vsbd0XuR30nDzyULsnvUrz8drJIB3CLobVH5kc/to6+LpEOcvDziS03fy8d06JRD1Hv98yv/n/NvuTi//7b3YrFPflcvnqO26LqTeXGyTHjUPNrM8xcjdf0p35Pr+8XSxbhIW4XP8iQkm+yVNPiDrVxUQ0uma3nNrpVkolPNpyTn37baSyQP0NqX9kAHH9/L4zp6z7KZ1V+2jKdVGBuC3la9S8YXqh75TGX9mo/5O3zxtTbkVN6nUa+1JZ33VCVnYekdLrz/KXp0S647mc82kjzIixsy2iA/zl/1+EKMQtqT53ItLD4k4zt/yZ+Rdm/dDPXJHoEk18nr2hD4xddKPgY2fkqSHcsSeeUNii/W4SOnVRqEf5T3rV6aJ/mRjDP+2O4X9UDae36W7w5jRq4/v8fXzbs3D2wM4FkR9LZout7bx5ilFbZDL6vz9755lxzTMm6t0FMVZh1RhhtM9n6R8MOzhbxX2X1KAt5gK5fKy/lgbNKnHtUeq5/FqUNygLLxslKcZFflOoknm93M9JdQjranR4t9PnxkphtSFA+zyCa8fTMF4R6kw8BaD6518rRUvdL0tU2GdHtwl3e0nDdfzU8yrjv5lDwme757CPqAoPfRZm+TMbgee4CyXiVzyztrcYcfZJ8G36be4bRnS0J5tvrqZsJS2zdMtEAzmdQ0KNvi0tVzco14HKz+0XT348nzQKvpE47p+rVS0LzY366UcZ8ey2wuwvbiewWPsqvsviST9l6eo66Yrr/dDFFRdc5fd3OZpE/KwmM/VhTB0yHo7Q2fM3zziWX6yWmFGbcfFnnwbegdzmZJKyZmZI82FbWdajmz+1UPKqydmW0T29GmA8XVKRxmiNvV2zXKezrqzsM2kK9G+t+Vj5sF/tmpqVXK/NJv4jBU8bwC/Vj6uFez7YC30EAOtvLZGtjl45iHfT1MZf2ap/3N8JTkNcvX9Rv/3A/0FkHvo7U0w9c+bKI04zabAKfrHU7HqDWcmJHcgO872EyPJrMPx0FaNq72/vOtrBNcWLFia7+LmZUnwpWcNzOZzB3GdzdKR8vuVdrF4z2l/2nVqIe1Hs3j3rR7sIZZZ8sAqNkeTT/nePJ0fPCD0qP4+L7LXl5lw0b/SgNQ29OCag3q+7HZt2zzIID2EfQ+WGszfLNhE5rJaXdjzgrjslSDDrM1J5tMzPghq9lGznerWeSVpH4tU8uOP9mMwKX3x7q6FSvqU63mkT+ete9U1SQdb3evUq4+oQwEfaX/D1ktD6WAbZjjo9Ox89VWDXjARgXTtby2ubpIxYCr3msIu6idkutSKjy+V9UFw7wecrrxxPbflQ5rec4GG7pA0PtI2U5C9iWPKrMsXaYKtrMJcIpllbLxv00Cv8NBDspJYAvZF7YJVfU0W3f8WeyzwMs6maKibOymj9746VpeNZX/Yl9Yxs60ZnKjdJxnAW941PS6LPZ3/+4t/Q8HOYTHcdzU0oalyzJk2dOCsW9U8KyuspsXlmfrujdT2bDx/Wp/aAjQNoLeR7nuZJ7tUNRGy76wdNndTVmznE42Aa7cO+xrqTLTJDDTOOR8TK0xrRafs8kUw9zsp5BnRs3TMdheKkwk8Zn+HoaI9EXWsDzIF9uwnC9pS2OES/1VDLhcVw4wB1z6cfGVXy7DiYyKT0FCORqXZ3sCN+P1673Y1AdtIeh9iPwxWLXgo5p8d7bSyhDaXqc8YLrtHc4XdG+0zIxl+R7tGMlsKIZtYshU0s7qXwNdDDVfbs6whF3ddMyGqFR8suAz/R+2hFMbprJ+SXu39cNJblb+GEvAPyaNlos8yWpSCHh7OzRBs3rJ4CfQAdUQ9HbuJKt0+Zy2H/NqJqdlY1QVvU5ZwFRcuiwLkhsuVWZZjDwL+Eqy8z1vZGapuNNH927jLHugPB7SZYJX3XRMh6hUHKbhNf3HtiB9aY3Y8jy+0yqfNGTaqhhV6SeslcfI23uUawaqp5XkS6H1NOAt74xn1GxHvMxiX3sIxYVtLNEygt5O3Qa87c9izXve8kfdpaXKyp9Ie4cLS5eZlip7BllDwLbZh5PSY1nlSgioz2XbVb+ToopjsctLNaWNgGB7Gcc4Zidpr+IQJp/VkVzDeeb2crOa625+04i+m3xqmMB6WDLEAONE0NuZrgPeWL50WRKwZbuqaWaR3/UOXyXt6HvsHvKS3Fwcew08pm8+TMRtm0292xUQRAyrIPTRg9K//5Jex8tW7vup4ol/bQS81Zab8jF2FXHPaWkVkz6O4S0snZb2dFsvyaSHNu1tNQ3ZMWowpnc2tsWj0TsEvZ14TMArIje7s/2+FB9x68ZWFnqH4w9kQfKj9pB3Gufa6gnkK2EYV1WwKK+A4HQj8qhuOj48/Z3YH3e3PgtdOaGrfz2AaGCxj4PCpAHY27Zdtv77Vr5VLOz57mrj3TIbz4ugt3UPDHhF5HZy2i4b2mDqtV3kH5Cdj6XKmtKuKtGVfMKSnDcyqzngLV36LNh+1gZC2VCSNtjWbtZ5ePqjKN55rMarjz2SAzRdv5KWLqo8GSq9nmcoELpG0NuqRwe8sSyI/fVd0pXH3pki2CzI+SXfvSxV1lQhcF8+aIZxNmFJDDuWudFO8srWbW7JdC0vWTpWGW/Zg/THaLABQQeybeVtG93cK6420vlGKkDLCHpbkwe8wfZSPeDNZvV7mAySVYDnpNfWtgrDTN4mj7fOPpYq82DxeZv1Ui4Ns4tPq8l9QJqlZbOAbbGPbgNf4yzneLJLcTJINiFOsWtZOukkCNqdvbzY55tXaLcrPq3u0rBR+gPo1nQt37KxuTO3FRmSsbisNoIxqxX0/vUPmn82p1W+RIzbhJPbgCzfAa3p5Cm5GZMqIg69tuVNEhouVebDdC2vhYlC5Vny5dnyN9LxbR56qxf722V1dOdRnOyS/4Rv+Y5rpTIx25zjJexe1MuN+VPctU1TNlWJ2CT98aRcVtJgg4K2TNevdysyGNO8tNJD4554hyUOTS/azjCpG4dag96//5OR7I+QrxjgYwLZbRDr0mubf7/0Z6myZKKQaS1H1da66Tqzvnqr08ez5jUlA9leyjeOeLKV6nPaLYFbsZC9YaUI7ZOJmukP4EGyNXPzhq7eYybYAr64xKuTKIoi25tUETXBMIYhXSYskO2FvePh4LqT+Wwj5w43HLju5jLbnDtczzdfPi88EuSISPx4f3mIJ2C1PlEtHf7W000tgJ6rG5fWDnpdvwAAAADwoUlM6jSmV3cgxvYCAACgC007YRuv3kDgCwAAgDb5iDedg15TFE3gCwAAgDaY4swqQ20r9fQS+AIAAKArvgJeEZG/NT2ZovTEmOAGAACAumydqXViTafVG6qeSJMTAgAAwHNqM8asFfSmGNIAAACArjTpUG20egM9uQAAAOhC07izUU9vih5fAAAAtMFXJ6uXoDdF8AsAAABffI4q8Br0FhEAAwAAoIo2h862FvQCAAAAfdF4G2IAAACg7wh6AQAAMHoEvQAAABg9gl4AAACM3v8PechJ4WgnkdIAAAAASUVORK5CYII=)"
      ],
      "metadata": {
        "id": "mL0LXtMPV_Sj"
      }
    },
    {
      "cell_type": "markdown",
      "source": [
        "**회고**\n",
        "\n",
        "처음 경험해보는 프로젝트에 막막하고 두려웠다. 이론과 실습을 완벽히 이해해야 프로젝트를 진행할 수 있을 것 같아 노드를 수행하는 시간은 훨씬 더 걸렸지만, 코드의 알고리즘을 파악한 후 실습했던 내용들을 이해하며 직접 프로젝트를 진행하니 결과가 도출되었을 때 처음으로 코딩에서 재미를 느꼈다. 또한 손글씨 분류 프로젝트를 진행하는 시간은 오래 걸렸지만, 다음 프로젝트는 연관되는 부분이 많아 빠르게 끝낼 수 있었다. 시간이 된다면 위의 ☆부분을 더 깊이 학습을 하였으면 하는 아쉬움이 남는다."
      ],
      "metadata": {
        "id": "BPXjyUMzUKdM"
      }
    },
    {
      "cell_type": "code",
      "source": [
        ""
      ],
      "metadata": {
        "id": "SkuBCODOTUps"
      },
      "execution_count": 78,
      "outputs": []
    }
  ],
  "metadata": {
    "colab": {
      "name": "EX1 프로젝트",
      "provenance": [],
      "collapsed_sections": []
    },
    "kernelspec": {
      "display_name": "Python 3",
      "name": "python3"
    },
    "language_info": {
      "name": "python"
    }
  },
  "nbformat": 4,
  "nbformat_minor": 0
}