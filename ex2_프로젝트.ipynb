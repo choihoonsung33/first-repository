{
  "metadata": {
    "kernelspec": {
      "language": "python",
      "display_name": "Python 3",
      "name": "python3"
    },
    "language_info": {
      "name": "python",
      "version": "3.7.12",
      "mimetype": "text/x-python",
      "codemirror_mode": {
        "name": "ipython",
        "version": 3
      },
      "pygments_lexer": "ipython3",
      "nbconvert_exporter": "python",
      "file_extension": ".py"
    },
    "colab": {
      "name": "ex2_프로젝트.ipynb",
      "provenance": []
    }
  },
  "nbformat_minor": 0,
  "nbformat": 4,
  "cells": [
    {
      "cell_type": "markdown",
      "source": [
        "**프로젝트 1 : 손수 설계하는 선형회귀, 당뇨병 수치를 맞춰보자!**"
      ],
      "metadata": {
        "id": "ubVHfnpfpL5A"
      }
    },
    {
      "cell_type": "markdown",
      "source": [
        "(1) 데이터 가져오기"
      ],
      "metadata": {
        "id": "kiSGPWxnpL5A"
      }
    },
    {
      "cell_type": "code",
      "source": [
        "from sklearn import datasets\n",
        "dataset = datasets.load_diabetes()"
      ],
      "metadata": {
        "execution": {
          "iopub.status.busy": "2022-07-22T06:37:39.383339Z",
          "iopub.execute_input": "2022-07-22T06:37:39.383838Z",
          "iopub.status.idle": "2022-07-22T06:37:39.406198Z",
          "shell.execute_reply.started": "2022-07-22T06:37:39.383797Z",
          "shell.execute_reply": "2022-07-22T06:37:39.404952Z"
        },
        "trusted": true,
        "id": "DYyfv6zmpL5A"
      },
      "execution_count": 71,
      "outputs": []
    },
    {
      "cell_type": "code",
      "source": [
        "x_data = dataset.data\n",
        "y_data = dataset.target\n",
        "print(x_data) \n",
        "print(y_data)"
      ],
      "metadata": {
        "id": "r0EQ_ViXtm8r",
        "outputId": "664885d1-3670-4404-9d26-e48a23eeb1de",
        "execution": {
          "iopub.status.busy": "2022-07-22T06:37:39.594786Z",
          "iopub.execute_input": "2022-07-22T06:37:39.595266Z",
          "iopub.status.idle": "2022-07-22T06:37:39.608159Z",
          "shell.execute_reply.started": "2022-07-22T06:37:39.595226Z",
          "shell.execute_reply": "2022-07-22T06:37:39.606726Z"
        },
        "trusted": true,
        "colab": {
          "base_uri": "https://localhost:8080/"
        }
      },
      "execution_count": 72,
      "outputs": [
        {
          "output_type": "stream",
          "name": "stdout",
          "text": [
            "[[ 0.03807591  0.05068012  0.06169621 ... -0.00259226  0.01990842\n",
            "  -0.01764613]\n",
            " [-0.00188202 -0.04464164 -0.05147406 ... -0.03949338 -0.06832974\n",
            "  -0.09220405]\n",
            " [ 0.08529891  0.05068012  0.04445121 ... -0.00259226  0.00286377\n",
            "  -0.02593034]\n",
            " ...\n",
            " [ 0.04170844  0.05068012 -0.01590626 ... -0.01107952 -0.04687948\n",
            "   0.01549073]\n",
            " [-0.04547248 -0.04464164  0.03906215 ...  0.02655962  0.04452837\n",
            "  -0.02593034]\n",
            " [-0.04547248 -0.04464164 -0.0730303  ... -0.03949338 -0.00421986\n",
            "   0.00306441]]\n",
            "[151.  75. 141. 206. 135.  97. 138.  63. 110. 310. 101.  69. 179. 185.\n",
            " 118. 171. 166. 144.  97. 168.  68.  49.  68. 245. 184. 202. 137.  85.\n",
            " 131. 283. 129.  59. 341.  87.  65. 102. 265. 276. 252.  90. 100.  55.\n",
            "  61.  92. 259.  53. 190. 142.  75. 142. 155. 225.  59. 104. 182. 128.\n",
            "  52.  37. 170. 170.  61. 144.  52. 128.  71. 163. 150.  97. 160. 178.\n",
            "  48. 270. 202. 111.  85.  42. 170. 200. 252. 113. 143.  51.  52. 210.\n",
            "  65. 141.  55. 134.  42. 111.  98. 164.  48.  96.  90. 162. 150. 279.\n",
            "  92.  83. 128. 102. 302. 198.  95.  53. 134. 144. 232.  81. 104.  59.\n",
            " 246. 297. 258. 229. 275. 281. 179. 200. 200. 173. 180.  84. 121. 161.\n",
            "  99. 109. 115. 268. 274. 158. 107.  83. 103. 272.  85. 280. 336. 281.\n",
            " 118. 317. 235.  60. 174. 259. 178. 128.  96. 126. 288.  88. 292.  71.\n",
            " 197. 186.  25.  84.  96. 195.  53. 217. 172. 131. 214.  59.  70. 220.\n",
            " 268. 152.  47.  74. 295. 101. 151. 127. 237. 225.  81. 151. 107.  64.\n",
            " 138. 185. 265. 101. 137. 143. 141.  79. 292. 178.  91. 116.  86. 122.\n",
            "  72. 129. 142.  90. 158.  39. 196. 222. 277.  99. 196. 202. 155.  77.\n",
            " 191.  70.  73.  49.  65. 263. 248. 296. 214. 185.  78.  93. 252. 150.\n",
            "  77. 208.  77. 108. 160.  53. 220. 154. 259.  90. 246. 124.  67.  72.\n",
            " 257. 262. 275. 177.  71.  47. 187. 125.  78.  51. 258. 215. 303. 243.\n",
            "  91. 150. 310. 153. 346.  63.  89.  50.  39. 103. 308. 116. 145.  74.\n",
            "  45. 115. 264.  87. 202. 127. 182. 241.  66.  94. 283.  64. 102. 200.\n",
            " 265.  94. 230. 181. 156. 233.  60. 219.  80.  68. 332. 248.  84. 200.\n",
            "  55.  85.  89.  31. 129.  83. 275.  65. 198. 236. 253. 124.  44. 172.\n",
            " 114. 142. 109. 180. 144. 163. 147.  97. 220. 190. 109. 191. 122. 230.\n",
            " 242. 248. 249. 192. 131. 237.  78. 135. 244. 199. 270. 164.  72.  96.\n",
            " 306.  91. 214.  95. 216. 263. 178. 113. 200. 139. 139.  88. 148.  88.\n",
            " 243.  71.  77. 109. 272.  60.  54. 221.  90. 311. 281. 182. 321.  58.\n",
            " 262. 206. 233. 242. 123. 167.  63. 197.  71. 168. 140. 217. 121. 235.\n",
            " 245.  40.  52. 104. 132.  88.  69. 219.  72. 201. 110.  51. 277.  63.\n",
            " 118.  69. 273. 258.  43. 198. 242. 232. 175.  93. 168. 275. 293. 281.\n",
            "  72. 140. 189. 181. 209. 136. 261. 113. 131. 174. 257.  55.  84.  42.\n",
            " 146. 212. 233.  91. 111. 152. 120.  67. 310.  94. 183.  66. 173.  72.\n",
            "  49.  64.  48. 178. 104. 132. 220.  57.]\n"
          ]
        }
      ]
    },
    {
      "cell_type": "markdown",
      "source": [
        "(2) 모델에 입력할 데이터 x, y 준비하기"
      ],
      "metadata": {
        "id": "mZcssLDWpL5Q"
      }
    },
    {
      "cell_type": "code",
      "source": [
        "import numpy as np\n",
        "\n",
        "x = np.array(x_data)\n",
        "y = np.array(y_data)\n"
      ],
      "metadata": {
        "id": "y6GoBFO4w00m",
        "execution": {
          "iopub.status.busy": "2022-07-22T06:37:39.838464Z",
          "iopub.execute_input": "2022-07-22T06:37:39.839429Z",
          "iopub.status.idle": "2022-07-22T06:37:39.846251Z",
          "shell.execute_reply.started": "2022-07-22T06:37:39.839371Z",
          "shell.execute_reply": "2022-07-22T06:37:39.844868Z"
        },
        "trusted": true
      },
      "execution_count": 73,
      "outputs": []
    },
    {
      "cell_type": "markdown",
      "source": [
        "(3) train 데이터와 test 데이터로 분리하기"
      ],
      "metadata": {
        "id": "K19_tB9rpL5Q"
      }
    },
    {
      "cell_type": "code",
      "source": [
        "from sklearn.model_selection import train_test_split"
      ],
      "metadata": {
        "id": "1d4hN-bm3Y55",
        "execution": {
          "iopub.status.busy": "2022-07-22T06:37:40.101006Z",
          "iopub.execute_input": "2022-07-22T06:37:40.101448Z",
          "iopub.status.idle": "2022-07-22T06:37:40.106877Z",
          "shell.execute_reply.started": "2022-07-22T06:37:40.101413Z",
          "shell.execute_reply": "2022-07-22T06:37:40.105601Z"
        },
        "trusted": true
      },
      "execution_count": 74,
      "outputs": []
    },
    {
      "cell_type": "code",
      "source": [
        "X_train, X_test, y_train, y_test = train_test_split(x, y, test_size=0.2, random_state=7)\n",
        "print('X_train 개수:', len(X_train),',X_test 개수:', len(X_test))"
      ],
      "metadata": {
        "id": "6cXssnG64KsE",
        "outputId": "4b4e68ba-f306-41a6-f598-6f2b92d56c6c",
        "execution": {
          "iopub.status.busy": "2022-07-22T06:37:40.266376Z",
          "iopub.execute_input": "2022-07-22T06:37:40.266895Z",
          "iopub.status.idle": "2022-07-22T06:37:40.275442Z",
          "shell.execute_reply.started": "2022-07-22T06:37:40.266851Z",
          "shell.execute_reply": "2022-07-22T06:37:40.274453Z"
        },
        "trusted": true,
        "colab": {
          "base_uri": "https://localhost:8080/"
        }
      },
      "execution_count": 75,
      "outputs": [
        {
          "output_type": "stream",
          "name": "stdout",
          "text": [
            "X_train 개수: 353 ,X_test 개수: 89\n"
          ]
        }
      ]
    },
    {
      "cell_type": "code",
      "source": [
        "print(X_train.shape, y_train.shape)\n",
        "print(X_test.shape, y_test.shape)"
      ],
      "metadata": {
        "id": "LF6Xex0N4Z-q",
        "outputId": "2f8294b0-f235-40a4-b994-392c8a3569a6",
        "execution": {
          "iopub.status.busy": "2022-07-22T06:37:40.462619Z",
          "iopub.execute_input": "2022-07-22T06:37:40.463407Z",
          "iopub.status.idle": "2022-07-22T06:37:40.470524Z",
          "shell.execute_reply.started": "2022-07-22T06:37:40.463351Z",
          "shell.execute_reply": "2022-07-22T06:37:40.469481Z"
        },
        "trusted": true,
        "colab": {
          "base_uri": "https://localhost:8080/"
        }
      },
      "execution_count": 76,
      "outputs": [
        {
          "output_type": "stream",
          "name": "stdout",
          "text": [
            "(353, 10) (353,)\n",
            "(89, 10) (89,)\n"
          ]
        }
      ]
    },
    {
      "cell_type": "markdown",
      "source": [
        "(4) 모델 준비하기"
      ],
      "metadata": {
        "id": "wVvvPUMtpL5Q"
      }
    },
    {
      "cell_type": "code",
      "source": [
        "import numpy as np\n",
        "W = np.random.rand(10)\n",
        "b = np.random.rand()\n",
        "print(\"GOOD\")"
      ],
      "metadata": {
        "id": "jzBxYiz158ne",
        "outputId": "8dc882ee-074f-4070-8fc2-6dc3f489a7db",
        "execution": {
          "iopub.status.busy": "2022-07-22T06:37:40.634312Z",
          "iopub.execute_input": "2022-07-22T06:37:40.635429Z",
          "iopub.status.idle": "2022-07-22T06:37:40.643178Z",
          "shell.execute_reply.started": "2022-07-22T06:37:40.635379Z",
          "shell.execute_reply": "2022-07-22T06:37:40.641665Z"
        },
        "trusted": true,
        "colab": {
          "base_uri": "https://localhost:8080/"
        }
      },
      "execution_count": 77,
      "outputs": [
        {
          "output_type": "stream",
          "name": "stdout",
          "text": [
            "GOOD\n"
          ]
        }
      ]
    },
    {
      "cell_type": "code",
      "source": [
        "W"
      ],
      "metadata": {
        "id": "z61Wzy-a6O2H",
        "outputId": "0064eb20-4845-4acd-db4c-d9b06e8d4f55",
        "execution": {
          "iopub.status.busy": "2022-07-22T06:37:40.814665Z",
          "iopub.execute_input": "2022-07-22T06:37:40.815835Z",
          "iopub.status.idle": "2022-07-22T06:37:40.824019Z",
          "shell.execute_reply.started": "2022-07-22T06:37:40.815788Z",
          "shell.execute_reply": "2022-07-22T06:37:40.822760Z"
        },
        "trusted": true,
        "colab": {
          "base_uri": "https://localhost:8080/"
        }
      },
      "execution_count": 78,
      "outputs": [
        {
          "output_type": "execute_result",
          "data": {
            "text/plain": [
              "array([0.2411    , 0.7347397 , 0.37811349, 0.14133326, 0.86557285,\n",
              "       0.56044374, 0.7667174 , 0.37568552, 0.566782  , 0.999819  ])"
            ]
          },
          "metadata": {},
          "execution_count": 78
        }
      ]
    },
    {
      "cell_type": "code",
      "source": [
        "b"
      ],
      "metadata": {
        "id": "ru2r5Zjm6TFs",
        "outputId": "f0b186d2-0b7c-432c-ed6e-c79944465935",
        "execution": {
          "iopub.status.busy": "2022-07-22T06:37:41.029707Z",
          "iopub.execute_input": "2022-07-22T06:37:41.030520Z",
          "iopub.status.idle": "2022-07-22T06:37:41.037781Z",
          "shell.execute_reply.started": "2022-07-22T06:37:41.030447Z",
          "shell.execute_reply": "2022-07-22T06:37:41.036600Z"
        },
        "trusted": true,
        "colab": {
          "base_uri": "https://localhost:8080/"
        }
      },
      "execution_count": 79,
      "outputs": [
        {
          "output_type": "execute_result",
          "data": {
            "text/plain": [
              "0.6502968576323886"
            ]
          },
          "metadata": {},
          "execution_count": 79
        }
      ]
    },
    {
      "cell_type": "code",
      "source": [
        "def model(x, W, b):\n",
        "    predictions = 0\n",
        "    for i in range(10):\n",
        "        predictions += x[:, i] * W[i]\n",
        "    predictions += b\n",
        "    return predictions\n",
        "print(\"GOOD\")"
      ],
      "metadata": {
        "id": "UzJ1uDGJ6YRb",
        "outputId": "f626747a-3146-4b81-808a-fc448f7ea923",
        "execution": {
          "iopub.status.busy": "2022-07-22T06:37:41.196299Z",
          "iopub.execute_input": "2022-07-22T06:37:41.197308Z",
          "iopub.status.idle": "2022-07-22T06:37:41.204734Z",
          "shell.execute_reply.started": "2022-07-22T06:37:41.197239Z",
          "shell.execute_reply": "2022-07-22T06:37:41.203563Z"
        },
        "trusted": true,
        "colab": {
          "base_uri": "https://localhost:8080/"
        }
      },
      "execution_count": 80,
      "outputs": [
        {
          "output_type": "stream",
          "name": "stdout",
          "text": [
            "GOOD\n"
          ]
        }
      ]
    },
    {
      "cell_type": "markdown",
      "source": [
        "(6) 손실함수 loss 정의하기"
      ],
      "metadata": {
        "id": "nkLYbTCzpL5Q"
      }
    },
    {
      "cell_type": "code",
      "source": [
        "def MSE(a, b):\n",
        "    mse = ((a - b) ** 2).mean()  # 두 값의 차이의 제곱의 평균\n",
        "    return mse\n",
        "print(\"GOOD\")"
      ],
      "metadata": {
        "id": "ZRK5bIH96ioG",
        "outputId": "e64c0ca6-8af4-496d-fdaa-9a65dd3e675d",
        "execution": {
          "iopub.status.busy": "2022-07-22T06:37:41.362221Z",
          "iopub.execute_input": "2022-07-22T06:37:41.363453Z",
          "iopub.status.idle": "2022-07-22T06:37:41.371089Z",
          "shell.execute_reply.started": "2022-07-22T06:37:41.363385Z",
          "shell.execute_reply": "2022-07-22T06:37:41.369924Z"
        },
        "trusted": true,
        "colab": {
          "base_uri": "https://localhost:8080/"
        }
      },
      "execution_count": 81,
      "outputs": [
        {
          "output_type": "stream",
          "name": "stdout",
          "text": [
            "GOOD\n"
          ]
        }
      ]
    },
    {
      "cell_type": "code",
      "source": [
        "def loss(x, W, b, y):\n",
        "    predictions = model(x, W, b)\n",
        "    L = MSE(predictions, y)\n",
        "    return L\n",
        "print(\"GOOD\")"
      ],
      "metadata": {
        "id": "VbC9WymU6shl",
        "outputId": "12e94308-5a74-4f2d-d93e-ee4df00be6a1",
        "execution": {
          "iopub.status.busy": "2022-07-22T06:37:41.528351Z",
          "iopub.execute_input": "2022-07-22T06:37:41.529618Z",
          "iopub.status.idle": "2022-07-22T06:37:41.537306Z",
          "shell.execute_reply.started": "2022-07-22T06:37:41.529553Z",
          "shell.execute_reply": "2022-07-22T06:37:41.536284Z"
        },
        "trusted": true,
        "colab": {
          "base_uri": "https://localhost:8080/"
        }
      },
      "execution_count": 82,
      "outputs": [
        {
          "output_type": "stream",
          "name": "stdout",
          "text": [
            "GOOD\n"
          ]
        }
      ]
    },
    {
      "cell_type": "markdown",
      "source": [
        "(7) 기울기를 구하는 gradient 함수 구현하기"
      ],
      "metadata": {
        "id": "R8TBA7v4pL5f"
      }
    },
    {
      "cell_type": "code",
      "source": [
        "def gradient(x, W, b, y):\n",
        "    # N은 가중치의 개수\n",
        "    N = len(W)\n",
        "    \n",
        "    # y_pred 준비\n",
        "    y_pred = model(x, W, b)\n",
        "    \n",
        "    # 공식에 맞게 gradient 계산\n",
        "    dW = 1/N * 2 * x.T.dot(y_pred - y)\n",
        "        \n",
        "    # b의 gradient 계산\n",
        "    db = 2 * (y_pred - y).mean()\n",
        "    return dW, db\n",
        "print(\"GOOD\")"
      ],
      "metadata": {
        "id": "_uYlBDzj6yRp",
        "outputId": "4f911e7f-4334-4378-81a0-a6d6e870b3cd",
        "execution": {
          "iopub.status.busy": "2022-07-22T06:37:41.676408Z",
          "iopub.execute_input": "2022-07-22T06:37:41.677269Z",
          "iopub.status.idle": "2022-07-22T06:37:41.686453Z",
          "shell.execute_reply.started": "2022-07-22T06:37:41.677207Z",
          "shell.execute_reply": "2022-07-22T06:37:41.685196Z"
        },
        "trusted": true,
        "colab": {
          "base_uri": "https://localhost:8080/"
        }
      },
      "execution_count": 83,
      "outputs": [
        {
          "output_type": "stream",
          "name": "stdout",
          "text": [
            "GOOD\n"
          ]
        }
      ]
    },
    {
      "cell_type": "code",
      "source": [
        "dW, db = gradient(x, W, b, y)\n",
        "print(\"dW:\", dW)\n",
        "print(\"db:\", db)"
      ],
      "metadata": {
        "id": "WBYQjX2E67rH",
        "outputId": "b1b0f3a0-d19c-4037-fe87-726b8b90c7cb",
        "execution": {
          "iopub.status.busy": "2022-07-22T06:37:41.839131Z",
          "iopub.execute_input": "2022-07-22T06:37:41.839921Z",
          "iopub.status.idle": "2022-07-22T06:37:41.847960Z",
          "shell.execute_reply.started": "2022-07-22T06:37:41.839854Z",
          "shell.execute_reply": "2022-07-22T06:37:41.847071Z"
        },
        "trusted": true,
        "colab": {
          "base_uri": "https://localhost:8080/"
        }
      },
      "execution_count": 84,
      "outputs": [
        {
          "output_type": "stream",
          "name": "stdout",
          "text": [
            "dW: [ -60.57497453  -13.72673452 -189.60271705 -142.6611726   -68.16159643\n",
            "  -55.91942831  127.72177479 -138.99621552 -182.83129257 -123.42802583]\n",
            "db: -302.96637461052705\n"
          ]
        }
      ]
    },
    {
      "cell_type": "markdown",
      "source": [
        "(8) 하이퍼 파라미터인 학습률 설정하기"
      ],
      "metadata": {
        "id": "gqrHAby7pL5f"
      }
    },
    {
      "cell_type": "code",
      "source": [
        "LEARNING_RATE = 0.1"
      ],
      "metadata": {
        "id": "x10uhIJ87AHo",
        "execution": {
          "iopub.status.busy": "2022-07-22T06:37:41.978237Z",
          "iopub.execute_input": "2022-07-22T06:37:41.980257Z",
          "iopub.status.idle": "2022-07-22T06:37:41.985059Z",
          "shell.execute_reply.started": "2022-07-22T06:37:41.980198Z",
          "shell.execute_reply": "2022-07-22T06:37:41.983963Z"
        },
        "trusted": true
      },
      "execution_count": 85,
      "outputs": []
    },
    {
      "cell_type": "markdown",
      "source": [
        "(9) 모델 학습하기"
      ],
      "metadata": {
        "id": "ZM654SYNpL5f"
      }
    },
    {
      "cell_type": "code",
      "source": [
        "losses = []\n",
        "\n",
        "for i in range(1, 1001):\n",
        "    dW, db = gradient(X_train, W, b, y_train)\n",
        "    W -= LEARNING_RATE * dW\n",
        "    b -= LEARNING_RATE * db\n",
        "    L = loss(X_train, W, b, y_train)\n",
        "    losses.append(L)\n",
        "    if i % 10 == 0:\n",
        "        print('Iteration %d : Loss %0.4f' % (i, L))"
      ],
      "metadata": {
        "id": "M8L4NvbP8Ruo",
        "outputId": "bc0a82f4-276e-453e-b70b-c8b803b20450",
        "execution": {
          "iopub.status.busy": "2022-07-22T06:37:42.147927Z",
          "iopub.execute_input": "2022-07-22T06:37:42.148371Z",
          "iopub.status.idle": "2022-07-22T06:37:42.319276Z",
          "shell.execute_reply.started": "2022-07-22T06:37:42.148335Z",
          "shell.execute_reply": "2022-07-22T06:37:42.318038Z"
        },
        "trusted": true,
        "colab": {
          "base_uri": "https://localhost:8080/"
        }
      },
      "execution_count": 86,
      "outputs": [
        {
          "output_type": "stream",
          "name": "stdout",
          "text": [
            "Iteration 10 : Loss 4601.5388\n",
            "Iteration 20 : Loss 3712.4447\n",
            "Iteration 30 : Loss 3427.6681\n",
            "Iteration 40 : Loss 3266.5996\n",
            "Iteration 50 : Loss 3160.9689\n",
            "Iteration 60 : Loss 3087.0999\n",
            "Iteration 70 : Loss 3033.9779\n",
            "Iteration 80 : Loss 2995.2564\n",
            "Iteration 90 : Loss 2966.8006\n",
            "Iteration 100 : Loss 2945.7585\n",
            "Iteration 110 : Loss 2930.1124\n",
            "Iteration 120 : Loss 2918.4167\n",
            "Iteration 130 : Loss 2909.6279\n",
            "Iteration 140 : Loss 2902.9882\n",
            "Iteration 150 : Loss 2897.9447\n",
            "Iteration 160 : Loss 2894.0917\n",
            "Iteration 170 : Loss 2891.1308\n",
            "Iteration 180 : Loss 2888.8409\n",
            "Iteration 190 : Loss 2887.0581\n",
            "Iteration 200 : Loss 2885.6600\n",
            "Iteration 210 : Loss 2884.5550\n",
            "Iteration 220 : Loss 2883.6741\n",
            "Iteration 230 : Loss 2882.9655\n",
            "Iteration 240 : Loss 2882.3898\n",
            "Iteration 250 : Loss 2881.9169\n",
            "Iteration 260 : Loss 2881.5240\n",
            "Iteration 270 : Loss 2881.1937\n",
            "Iteration 280 : Loss 2880.9124\n",
            "Iteration 290 : Loss 2880.6697\n",
            "Iteration 300 : Loss 2880.4575\n",
            "Iteration 310 : Loss 2880.2697\n",
            "Iteration 320 : Loss 2880.1011\n",
            "Iteration 330 : Loss 2879.9481\n",
            "Iteration 340 : Loss 2879.8075\n",
            "Iteration 350 : Loss 2879.6770\n",
            "Iteration 360 : Loss 2879.5547\n",
            "Iteration 370 : Loss 2879.4391\n",
            "Iteration 380 : Loss 2879.3290\n",
            "Iteration 390 : Loss 2879.2233\n",
            "Iteration 400 : Loss 2879.1214\n",
            "Iteration 410 : Loss 2879.0226\n",
            "Iteration 420 : Loss 2878.9264\n",
            "Iteration 430 : Loss 2878.8324\n",
            "Iteration 440 : Loss 2878.7402\n",
            "Iteration 450 : Loss 2878.6496\n",
            "Iteration 460 : Loss 2878.5604\n",
            "Iteration 470 : Loss 2878.4723\n",
            "Iteration 480 : Loss 2878.3853\n",
            "Iteration 490 : Loss 2878.2992\n",
            "Iteration 500 : Loss 2878.2139\n",
            "Iteration 510 : Loss 2878.1293\n",
            "Iteration 520 : Loss 2878.0453\n",
            "Iteration 530 : Loss 2877.9620\n",
            "Iteration 540 : Loss 2877.8791\n",
            "Iteration 550 : Loss 2877.7968\n",
            "Iteration 560 : Loss 2877.7149\n",
            "Iteration 570 : Loss 2877.6335\n",
            "Iteration 580 : Loss 2877.5525\n",
            "Iteration 590 : Loss 2877.4718\n",
            "Iteration 600 : Loss 2877.3916\n",
            "Iteration 610 : Loss 2877.3116\n",
            "Iteration 620 : Loss 2877.2321\n",
            "Iteration 630 : Loss 2877.1528\n",
            "Iteration 640 : Loss 2877.0739\n",
            "Iteration 650 : Loss 2876.9953\n",
            "Iteration 660 : Loss 2876.9169\n",
            "Iteration 670 : Loss 2876.8389\n",
            "Iteration 680 : Loss 2876.7612\n",
            "Iteration 690 : Loss 2876.6838\n",
            "Iteration 700 : Loss 2876.6066\n",
            "Iteration 710 : Loss 2876.5297\n",
            "Iteration 720 : Loss 2876.4531\n",
            "Iteration 730 : Loss 2876.3767\n",
            "Iteration 740 : Loss 2876.3007\n",
            "Iteration 750 : Loss 2876.2248\n",
            "Iteration 760 : Loss 2876.1493\n",
            "Iteration 770 : Loss 2876.0740\n",
            "Iteration 780 : Loss 2875.9989\n",
            "Iteration 790 : Loss 2875.9241\n",
            "Iteration 800 : Loss 2875.8496\n",
            "Iteration 810 : Loss 2875.7753\n",
            "Iteration 820 : Loss 2875.7012\n",
            "Iteration 830 : Loss 2875.6274\n",
            "Iteration 840 : Loss 2875.5538\n",
            "Iteration 850 : Loss 2875.4805\n",
            "Iteration 860 : Loss 2875.4074\n",
            "Iteration 870 : Loss 2875.3345\n",
            "Iteration 880 : Loss 2875.2619\n",
            "Iteration 890 : Loss 2875.1895\n",
            "Iteration 900 : Loss 2875.1174\n",
            "Iteration 910 : Loss 2875.0454\n",
            "Iteration 920 : Loss 2874.9737\n",
            "Iteration 930 : Loss 2874.9022\n",
            "Iteration 940 : Loss 2874.8310\n",
            "Iteration 950 : Loss 2874.7600\n",
            "Iteration 960 : Loss 2874.6892\n",
            "Iteration 970 : Loss 2874.6186\n",
            "Iteration 980 : Loss 2874.5482\n",
            "Iteration 990 : Loss 2874.4781\n",
            "Iteration 1000 : Loss 2874.4081\n"
          ]
        }
      ]
    },
    {
      "cell_type": "code",
      "source": [
        "import matplotlib.pyplot as plt\n",
        "plt.plot(losses)\n",
        "plt.show()"
      ],
      "metadata": {
        "id": "o2hgi98C8WN9",
        "outputId": "a12ddcd9-6ef6-4212-c8aa-f0dcd3e10df4",
        "execution": {
          "iopub.status.busy": "2022-07-22T06:37:42.321335Z",
          "iopub.execute_input": "2022-07-22T06:37:42.321711Z",
          "iopub.status.idle": "2022-07-22T06:37:42.493474Z",
          "shell.execute_reply.started": "2022-07-22T06:37:42.321678Z",
          "shell.execute_reply": "2022-07-22T06:37:42.492289Z"
        },
        "trusted": true,
        "colab": {
          "base_uri": "https://localhost:8080/",
          "height": 269
        }
      },
      "execution_count": 87,
      "outputs": [
        {
          "output_type": "display_data",
          "data": {
            "text/plain": [
              "<Figure size 432x288 with 1 Axes>"
            ],
            "image/png": "[encoded data removed]"
          },
          "metadata": {
            "needs_background": "light"
          }
        }
      ]
    },
    {
      "cell_type": "code",
      "source": [
        "W, b"
      ],
      "metadata": {
        "id": "Xy1OU92A8uID",
        "outputId": "a40b2d07-b5bc-40ba-919b-695309080c99",
        "execution": {
          "iopub.status.busy": "2022-07-22T06:37:42.495887Z",
          "iopub.execute_input": "2022-07-22T06:37:42.496619Z",
          "iopub.status.idle": "2022-07-22T06:37:42.504145Z",
          "shell.execute_reply.started": "2022-07-22T06:37:42.496569Z",
          "shell.execute_reply": "2022-07-22T06:37:42.503096Z"
        },
        "trusted": true,
        "colab": {
          "base_uri": "https://localhost:8080/"
        }
      },
      "execution_count": 88,
      "outputs": [
        {
          "output_type": "execute_result",
          "data": {
            "text/plain": [
              "(array([ -57.95212281, -255.00843971,  550.58801869,  338.18762872,\n",
              "        -152.89813005,  -49.45679526, -190.55368187,  114.4381102 ,\n",
              "         527.97131425,   73.54316083]), 153.99198146705385)"
            ]
          },
          "metadata": {},
          "execution_count": 88
        }
      ]
    },
    {
      "cell_type": "markdown",
      "source": [
        "(10) test 데이터에 대한 성능 확인하기"
      ],
      "metadata": {
        "id": "16mQatDFpL5f"
      }
    },
    {
      "cell_type": "code",
      "source": [
        "prediction = model(X_test, W, b)\n",
        "mse = loss(X_test, W, b, y_test)\n",
        "mse"
      ],
      "metadata": {
        "id": "AMjSov8U8_fT",
        "outputId": "689aa490-0527-4129-e8eb-06691a064340",
        "execution": {
          "iopub.status.busy": "2022-07-22T06:37:42.968662Z",
          "iopub.execute_input": "2022-07-22T06:37:42.969115Z",
          "iopub.status.idle": "2022-07-22T06:37:42.978325Z",
          "shell.execute_reply.started": "2022-07-22T06:37:42.969079Z",
          "shell.execute_reply": "2022-07-22T06:37:42.977065Z"
        },
        "trusted": true,
        "colab": {
          "base_uri": "https://localhost:8080/"
        }
      },
      "execution_count": 89,
      "outputs": [
        {
          "output_type": "execute_result",
          "data": {
            "text/plain": [
              "2944.5055230247435"
            ]
          },
          "metadata": {},
          "execution_count": 89
        }
      ]
    },
    {
      "cell_type": "markdown",
      "source": [
        "(11) 정답 데이터와 예측한 데이터 시각화하기"
      ],
      "metadata": {
        "id": "-mFtxFi0pL5f"
      }
    },
    {
      "cell_type": "code",
      "source": [
        "plt.scatter(X_test[:, 0], y_test)\n",
        "plt.scatter(X_test[:, 0], prediction)\n",
        "plt.show()"
      ],
      "metadata": {
        "execution": {
          "iopub.status.busy": "2022-07-22T06:37:42.981220Z",
          "iopub.execute_input": "2022-07-22T06:37:42.981762Z",
          "iopub.status.idle": "2022-07-22T06:37:43.186532Z",
          "shell.execute_reply.started": "2022-07-22T06:37:42.981707Z",
          "shell.execute_reply": "2022-07-22T06:37:43.185161Z"
        },
        "trusted": true,
        "colab": {
          "base_uri": "https://localhost:8080/",
          "height": 274
        },
        "id": "wFkEghhLpL5f",
        "outputId": "c992c97c-facb-4125-f252-40b4f89c1a45"
      },
      "execution_count": 90,
      "outputs": [
        {
          "output_type": "display_data",
          "data": {
            "text/plain": [
              "<Figure size 432x288 with 1 Axes>"
            ],
            "image/png": "[encoded data removed]"
          },
          "metadata": {
            "needs_background": "light"
          }
        }
      ]
    },
    {
      "cell_type": "code",
      "source": [
        "y_pred=model(X_test, W, b)  # 창현님 코딩 참조\n",
        "#for i in range(len(y_pred)):\n",
        "#print(y_pred[i],Y_test[i])\n",
        "\n",
        "print('total accuracy(my_LR) = {:.2%}'.format(float((1-np.abs((y_pred-y_test)/y_test)).mean())))\n",
        "print(W, b)"
      ],
      "metadata": {
        "id": "b5A_DKQl9mae",
        "outputId": "595d41e9-128d-47d1-e0bf-d36df4e8cf87",
        "execution": {
          "iopub.status.busy": "2022-07-22T06:37:43.189332Z",
          "iopub.execute_input": "2022-07-22T06:37:43.189874Z",
          "iopub.status.idle": "2022-07-22T06:37:43.198199Z",
          "shell.execute_reply.started": "2022-07-22T06:37:43.189823Z",
          "shell.execute_reply": "2022-07-22T06:37:43.197011Z"
        },
        "trusted": true,
        "colab": {
          "base_uri": "https://localhost:8080/"
        }
      },
      "execution_count": 91,
      "outputs": [
        {
          "output_type": "stream",
          "name": "stdout",
          "text": [
            "total accuracy(my_LR) = 60.36%\n",
            "[ -57.95212281 -255.00843971  550.58801869  338.18762872 -152.89813005\n",
            "  -49.45679526 -190.55368187  114.4381102   527.97131425   73.54316083] 153.99198146705385\n"
          ]
        }
      ]
    },
    {
      "cell_type": "markdown",
      "source": [
        "**회고**\n",
        "\n",
        "처음에 학습을 진행했을 때는 원하는 값이 나오지 않았습니다. 그래서, learning rate 와 트레이닝 횟수를 계속 조절하였고, loss값을 3000에 근접하도록 얻을 수 있었습니다."
      ],
      "metadata": {
        "id": "yzF6pZlcpL5f"
      }
    },
    {
      "cell_type": "markdown",
      "source": [
        "**프로젝트 2 : 날씨 좋은 월요일 오후 세 시, 자전거 타는 사람은 몇 명?**"
      ],
      "metadata": {
        "id": "nrNOUHzPpL5f"
      }
    },
    {
      "cell_type": "markdown",
      "source": [
        "(1) 데이터 가져오기"
      ],
      "metadata": {
        "id": "7TOC7ylcpL5f"
      }
    },
    {
      "cell_type": "code",
      "source": [
        "from sklearn.model_selection import train_test_split\n",
        "from sklearn.linear_model import LinearRegression\n",
        "from sklearn.metrics import mean_squared_error\n",
        "\n",
        "import pandas as pd\n",
        "import numpy as np\n",
        "import matplotlib.pyplot as plt\n",
        "import seaborn as sns"
      ],
      "metadata": {
        "execution": {
          "iopub.status.busy": "2022-07-22T06:37:43.377303Z",
          "iopub.execute_input": "2022-07-22T06:37:43.377793Z",
          "iopub.status.idle": "2022-07-22T06:37:43.384195Z",
          "shell.execute_reply.started": "2022-07-22T06:37:43.377750Z",
          "shell.execute_reply": "2022-07-22T06:37:43.383191Z"
        },
        "trusted": true,
        "id": "WxwFQsIRpL5f"
      },
      "execution_count": 92,
      "outputs": []
    },
    {
      "cell_type": "code",
      "source": [
        "train = pd.read_csv('/content/train.csv')\n",
        "train.head()"
      ],
      "metadata": {
        "colab": {
          "base_uri": "https://localhost:8080/",
          "height": 206
        },
        "id": "EVDj83FvqSo7",
        "outputId": "6c61ce77-6ba1-4320-a190-f9325fef7003"
      },
      "execution_count": 93,
      "outputs": [
        {
          "output_type": "execute_result",
          "data": {
            "text/plain": [
              "              datetime  season  holiday  workingday  weather  temp   atemp  \\\n",
              "0  2011-01-01 00:00:00       1        0           0        1  9.84  14.395   \n",
              "1  2011-01-01 01:00:00       1        0           0        1  9.02  13.635   \n",
              "2  2011-01-01 02:00:00       1        0           0        1  9.02  13.635   \n",
              "3  2011-01-01 03:00:00       1        0           0        1  9.84  14.395   \n",
              "4  2011-01-01 04:00:00       1        0           0        1  9.84  14.395   \n",
              "\n",
              "   humidity  windspeed  casual  registered  count  \n",
              "0        81        0.0       3          13     16  \n",
              "1        80        0.0       8          32     40  \n",
              "2        80        0.0       5          27     32  \n",
              "3        75        0.0       3          10     13  \n",
              "4        75        0.0       0           1      1  "
            ],
            "text/html": [
              "\n",
              "  <div id=\"df-67e31f3a-67d0-4cd1-8fcd-0f96a9ccfda7\">\n",
              "    <div class=\"colab-df-container\">\n",
              "      <div>\n",
              "<style scoped>\n",
              "    .dataframe tbody tr th:only-of-type {\n",
              "        vertical-align: middle;\n",
              "    }\n",
              "\n",
              "    .dataframe tbody tr th {\n",
              "        vertical-align: top;\n",
              "    }\n",
              "\n",
              "    .dataframe thead th {\n",
              "        text-align: right;\n",
              "    }\n",
              "</style>\n",
              "<table border=\"1\" class=\"dataframe\">\n",
              "  <thead>\n",
              "    <tr style=\"text-align: right;\">\n",
              "      <th></th>\n",
              "      <th>datetime</th>\n",
              "      <th>season</th>\n",
              "      <th>holiday</th>\n",
              "      <th>workingday</th>\n",
              "      <th>weather</th>\n",
              "      <th>temp</th>\n",
              "      <th>atemp</th>\n",
              "      <th>humidity</th>\n",
              "      <th>windspeed</th>\n",
              "      <th>casual</th>\n",
              "      <th>registered</th>\n",
              "      <th>count</th>\n",
              "    </tr>\n",
              "  </thead>\n",
              "  <tbody>\n",
              "    <tr>\n",
              "      <th>0</th>\n",
              "      <td>2011-01-01 00:00:00</td>\n",
              "      <td>1</td>\n",
              "      <td>0</td>\n",
              "      <td>0</td>\n",
              "      <td>1</td>\n",
              "      <td>9.84</td>\n",
              "      <td>14.395</td>\n",
              "      <td>81</td>\n",
              "      <td>0.0</td>\n",
              "      <td>3</td>\n",
              "      <td>13</td>\n",
              "      <td>16</td>\n",
              "    </tr>\n",
              "    <tr>\n",
              "      <th>1</th>\n",
              "      <td>2011-01-01 01:00:00</td>\n",
              "      <td>1</td>\n",
              "      <td>0</td>\n",
              "      <td>0</td>\n",
              "      <td>1</td>\n",
              "      <td>9.02</td>\n",
              "      <td>13.635</td>\n",
              "      <td>80</td>\n",
              "      <td>0.0</td>\n",
              "      <td>8</td>\n",
              "      <td>32</td>\n",
              "      <td>40</td>\n",
              "    </tr>\n",
              "    <tr>\n",
              "      <th>2</th>\n",
              "      <td>2011-01-01 02:00:00</td>\n",
              "      <td>1</td>\n",
              "      <td>0</td>\n",
              "      <td>0</td>\n",
              "      <td>1</td>\n",
              "      <td>9.02</td>\n",
              "      <td>13.635</td>\n",
              "      <td>80</td>\n",
              "      <td>0.0</td>\n",
              "      <td>5</td>\n",
              "      <td>27</td>\n",
              "      <td>32</td>\n",
              "    </tr>\n",
              "    <tr>\n",
              "      <th>3</th>\n",
              "      <td>2011-01-01 03:00:00</td>\n",
              "      <td>1</td>\n",
              "      <td>0</td>\n",
              "      <td>0</td>\n",
              "      <td>1</td>\n",
              "      <td>9.84</td>\n",
              "      <td>14.395</td>\n",
              "      <td>75</td>\n",
              "      <td>0.0</td>\n",
              "      <td>3</td>\n",
              "      <td>10</td>\n",
              "      <td>13</td>\n",
              "    </tr>\n",
              "    <tr>\n",
              "      <th>4</th>\n",
              "      <td>2011-01-01 04:00:00</td>\n",
              "      <td>1</td>\n",
              "      <td>0</td>\n",
              "      <td>0</td>\n",
              "      <td>1</td>\n",
              "      <td>9.84</td>\n",
              "      <td>14.395</td>\n",
              "      <td>75</td>\n",
              "      <td>0.0</td>\n",
              "      <td>0</td>\n",
              "      <td>1</td>\n",
              "      <td>1</td>\n",
              "    </tr>\n",
              "  </tbody>\n",
              "</table>\n",
              "</div>\n",
              "      <button class=\"colab-df-convert\" onclick=\"convertToInteractive('df-67e31f3a-67d0-4cd1-8fcd-0f96a9ccfda7')\"\n",
              "              title=\"Convert this dataframe to an interactive table.\"\n",
              "              style=\"display:none;\">\n",
              "        \n",
              "  <svg xmlns=\"http://www.w3.org/2000/svg\" height=\"24px\"viewBox=\"0 0 24 24\"\n",
              "       width=\"24px\">\n",
              "    <path d=\"M0 0h24v24H0V0z\" fill=\"none\"/>\n",
              "    <path d=\"M18.56 5.44l.94 2.06.94-2.06 2.06-.94-2.06-.94-.94-2.06-.94 2.06-2.06.94zm-11 1L8.5 8.5l.94-2.06 2.06-.94-2.06-.94L8.5 2.5l-.94 2.06-2.06.94zm10 10l.94 2.06.94-2.06 2.06-.94-2.06-.94-.94-2.06-.94 2.06-2.06.94z\"/><path d=\"M17.41 7.96l-1.37-1.37c-.4-.4-.92-.59-1.43-.59-.52 0-1.04.2-1.43.59L10.3 9.45l-7.72 7.72c-.78.78-.78 2.05 0 2.83L4 21.41c.39.39.9.59 1.41.59.51 0 1.02-.2 1.41-.59l7.78-7.78 2.81-2.81c.8-.78.8-2.07 0-2.86zM5.41 20L4 18.59l7.72-7.72 1.47 1.35L5.41 20z\"/>\n",
              "  </svg>\n",
              "      </button>\n",
              "      \n",
              "  <style>\n",
              "    .colab-df-container {\n",
              "      display:flex;\n",
              "      flex-wrap:wrap;\n",
              "      gap: 12px;\n",
              "    }\n",
              "\n",
              "    .colab-df-convert {\n",
              "      background-color: #E8F0FE;\n",
              "      border: none;\n",
              "      border-radius: 50%;\n",
              "      cursor: pointer;\n",
              "      display: none;\n",
              "      fill: #1967D2;\n",
              "      height: 32px;\n",
              "      padding: 0 0 0 0;\n",
              "      width: 32px;\n",
              "    }\n",
              "\n",
              "    .colab-df-convert:hover {\n",
              "      background-color: #E2EBFA;\n",
              "      box-shadow: 0px 1px 2px rgba(60, 64, 67, 0.3), 0px 1px 3px 1px rgba(60, 64, 67, 0.15);\n",
              "      fill: #174EA6;\n",
              "    }\n",
              "\n",
              "    [theme=dark] .colab-df-convert {\n",
              "      background-color: #3B4455;\n",
              "      fill: #D2E3FC;\n",
              "    }\n",
              "\n",
              "    [theme=dark] .colab-df-convert:hover {\n",
              "      background-color: #434B5C;\n",
              "      box-shadow: 0px 1px 3px 1px rgba(0, 0, 0, 0.15);\n",
              "      filter: drop-shadow(0px 1px 2px rgba(0, 0, 0, 0.3));\n",
              "      fill: #FFFFFF;\n",
              "    }\n",
              "  </style>\n",
              "\n",
              "      <script>\n",
              "        const buttonEl =\n",
              "          document.querySelector('#df-67e31f3a-67d0-4cd1-8fcd-0f96a9ccfda7 button.colab-df-convert');\n",
              "        buttonEl.style.display =\n",
              "          google.colab.kernel.accessAllowed ? 'block' : 'none';\n",
              "\n",
              "        async function convertToInteractive(key) {\n",
              "          const element = document.querySelector('#df-67e31f3a-67d0-4cd1-8fcd-0f96a9ccfda7');\n",
              "          const dataTable =\n",
              "            await google.colab.kernel.invokeFunction('convertToInteractive',\n",
              "                                                     [key], {});\n",
              "          if (!dataTable) return;\n",
              "\n",
              "          const docLinkHtml = 'Like what you see? Visit the ' +\n",
              "            '<a target=\"_blank\" href=https://colab.research.google.com/notebooks/data_table.ipynb>data table notebook</a>'\n",
              "            + ' to learn more about interactive tables.';\n",
              "          element.innerHTML = '';\n",
              "          dataTable['output_type'] = 'display_data';\n",
              "          await google.colab.output.renderOutput(dataTable, element);\n",
              "          const docLink = document.createElement('div');\n",
              "          docLink.innerHTML = docLinkHtml;\n",
              "          element.appendChild(docLink);\n",
              "        }\n",
              "      </script>\n",
              "    </div>\n",
              "  </div>\n",
              "  "
            ]
          },
          "metadata": {},
          "execution_count": 93
        }
      ]
    },
    {
      "cell_type": "code",
      "source": [
        "train.shape"
      ],
      "metadata": {
        "execution": {
          "iopub.status.busy": "2022-07-22T06:37:43.574332Z",
          "iopub.execute_input": "2022-07-22T06:37:43.575710Z",
          "iopub.status.idle": "2022-07-22T06:37:43.582621Z",
          "shell.execute_reply.started": "2022-07-22T06:37:43.575655Z",
          "shell.execute_reply": "2022-07-22T06:37:43.581553Z"
        },
        "trusted": true,
        "colab": {
          "base_uri": "https://localhost:8080/"
        },
        "id": "aRmkKoQCpL5v",
        "outputId": "7851cd3d-cb9c-4b9c-8c39-71ff5ea4f51b"
      },
      "execution_count": 94,
      "outputs": [
        {
          "output_type": "execute_result",
          "data": {
            "text/plain": [
              "(10886, 12)"
            ]
          },
          "metadata": {},
          "execution_count": 94
        }
      ]
    },
    {
      "cell_type": "code",
      "source": [
        "train.head()"
      ],
      "metadata": {
        "execution": {
          "iopub.status.busy": "2022-07-22T06:37:43.677953Z",
          "iopub.execute_input": "2022-07-22T06:37:43.679100Z",
          "iopub.status.idle": "2022-07-22T06:37:43.696247Z",
          "shell.execute_reply.started": "2022-07-22T06:37:43.679042Z",
          "shell.execute_reply": "2022-07-22T06:37:43.695270Z"
        },
        "trusted": true,
        "colab": {
          "base_uri": "https://localhost:8080/",
          "height": 206
        },
        "id": "QW9vZ_G-pL5v",
        "outputId": "e320828e-da54-46e0-9a78-26cd83fc3424"
      },
      "execution_count": 95,
      "outputs": [
        {
          "output_type": "execute_result",
          "data": {
            "text/plain": [
              "              datetime  season  holiday  workingday  weather  temp   atemp  \\\n",
              "0  2011-01-01 00:00:00       1        0           0        1  9.84  14.395   \n",
              "1  2011-01-01 01:00:00       1        0           0        1  9.02  13.635   \n",
              "2  2011-01-01 02:00:00       1        0           0        1  9.02  13.635   \n",
              "3  2011-01-01 03:00:00       1        0           0        1  9.84  14.395   \n",
              "4  2011-01-01 04:00:00       1        0           0        1  9.84  14.395   \n",
              "\n",
              "   humidity  windspeed  casual  registered  count  \n",
              "0        81        0.0       3          13     16  \n",
              "1        80        0.0       8          32     40  \n",
              "2        80        0.0       5          27     32  \n",
              "3        75        0.0       3          10     13  \n",
              "4        75        0.0       0           1      1  "
            ],
            "text/html": [
              "\n",
              "  <div id=\"df-e1d7c2cf-b310-4e89-b326-21367d5d7a97\">\n",
              "    <div class=\"colab-df-container\">\n",
              "      <div>\n",
              "<style scoped>\n",
              "    .dataframe tbody tr th:only-of-type {\n",
              "        vertical-align: middle;\n",
              "    }\n",
              "\n",
              "    .dataframe tbody tr th {\n",
              "        vertical-align: top;\n",
              "    }\n",
              "\n",
              "    .dataframe thead th {\n",
              "        text-align: right;\n",
              "    }\n",
              "</style>\n",
              "<table border=\"1\" class=\"dataframe\">\n",
              "  <thead>\n",
              "    <tr style=\"text-align: right;\">\n",
              "      <th></th>\n",
              "      <th>datetime</th>\n",
              "      <th>season</th>\n",
              "      <th>holiday</th>\n",
              "      <th>workingday</th>\n",
              "      <th>weather</th>\n",
              "      <th>temp</th>\n",
              "      <th>atemp</th>\n",
              "      <th>humidity</th>\n",
              "      <th>windspeed</th>\n",
              "      <th>casual</th>\n",
              "      <th>registered</th>\n",
              "      <th>count</th>\n",
              "    </tr>\n",
              "  </thead>\n",
              "  <tbody>\n",
              "    <tr>\n",
              "      <th>0</th>\n",
              "      <td>2011-01-01 00:00:00</td>\n",
              "      <td>1</td>\n",
              "      <td>0</td>\n",
              "      <td>0</td>\n",
              "      <td>1</td>\n",
              "      <td>9.84</td>\n",
              "      <td>14.395</td>\n",
              "      <td>81</td>\n",
              "      <td>0.0</td>\n",
              "      <td>3</td>\n",
              "      <td>13</td>\n",
              "      <td>16</td>\n",
              "    </tr>\n",
              "    <tr>\n",
              "      <th>1</th>\n",
              "      <td>2011-01-01 01:00:00</td>\n",
              "      <td>1</td>\n",
              "      <td>0</td>\n",
              "      <td>0</td>\n",
              "      <td>1</td>\n",
              "      <td>9.02</td>\n",
              "      <td>13.635</td>\n",
              "      <td>80</td>\n",
              "      <td>0.0</td>\n",
              "      <td>8</td>\n",
              "      <td>32</td>\n",
              "      <td>40</td>\n",
              "    </tr>\n",
              "    <tr>\n",
              "      <th>2</th>\n",
              "      <td>2011-01-01 02:00:00</td>\n",
              "      <td>1</td>\n",
              "      <td>0</td>\n",
              "      <td>0</td>\n",
              "      <td>1</td>\n",
              "      <td>9.02</td>\n",
              "      <td>13.635</td>\n",
              "      <td>80</td>\n",
              "      <td>0.0</td>\n",
              "      <td>5</td>\n",
              "      <td>27</td>\n",
              "      <td>32</td>\n",
              "    </tr>\n",
              "    <tr>\n",
              "      <th>3</th>\n",
              "      <td>2011-01-01 03:00:00</td>\n",
              "      <td>1</td>\n",
              "      <td>0</td>\n",
              "      <td>0</td>\n",
              "      <td>1</td>\n",
              "      <td>9.84</td>\n",
              "      <td>14.395</td>\n",
              "      <td>75</td>\n",
              "      <td>0.0</td>\n",
              "      <td>3</td>\n",
              "      <td>10</td>\n",
              "      <td>13</td>\n",
              "    </tr>\n",
              "    <tr>\n",
              "      <th>4</th>\n",
              "      <td>2011-01-01 04:00:00</td>\n",
              "      <td>1</td>\n",
              "      <td>0</td>\n",
              "      <td>0</td>\n",
              "      <td>1</td>\n",
              "      <td>9.84</td>\n",
              "      <td>14.395</td>\n",
              "      <td>75</td>\n",
              "      <td>0.0</td>\n",
              "      <td>0</td>\n",
              "      <td>1</td>\n",
              "      <td>1</td>\n",
              "    </tr>\n",
              "  </tbody>\n",
              "</table>\n",
              "</div>\n",
              "      <button class=\"colab-df-convert\" onclick=\"convertToInteractive('df-e1d7c2cf-b310-4e89-b326-21367d5d7a97')\"\n",
              "              title=\"Convert this dataframe to an interactive table.\"\n",
              "              style=\"display:none;\">\n",
              "        \n",
              "  <svg xmlns=\"http://www.w3.org/2000/svg\" height=\"24px\"viewBox=\"0 0 24 24\"\n",
              "       width=\"24px\">\n",
              "    <path d=\"M0 0h24v24H0V0z\" fill=\"none\"/>\n",
              "    <path d=\"M18.56 5.44l.94 2.06.94-2.06 2.06-.94-2.06-.94-.94-2.06-.94 2.06-2.06.94zm-11 1L8.5 8.5l.94-2.06 2.06-.94-2.06-.94L8.5 2.5l-.94 2.06-2.06.94zm10 10l.94 2.06.94-2.06 2.06-.94-2.06-.94-.94-2.06-.94 2.06-2.06.94z\"/><path d=\"M17.41 7.96l-1.37-1.37c-.4-.4-.92-.59-1.43-.59-.52 0-1.04.2-1.43.59L10.3 9.45l-7.72 7.72c-.78.78-.78 2.05 0 2.83L4 21.41c.39.39.9.59 1.41.59.51 0 1.02-.2 1.41-.59l7.78-7.78 2.81-2.81c.8-.78.8-2.07 0-2.86zM5.41 20L4 18.59l7.72-7.72 1.47 1.35L5.41 20z\"/>\n",
              "  </svg>\n",
              "      </button>\n",
              "      \n",
              "  <style>\n",
              "    .colab-df-container {\n",
              "      display:flex;\n",
              "      flex-wrap:wrap;\n",
              "      gap: 12px;\n",
              "    }\n",
              "\n",
              "    .colab-df-convert {\n",
              "      background-color: #E8F0FE;\n",
              "      border: none;\n",
              "      border-radius: 50%;\n",
              "      cursor: pointer;\n",
              "      display: none;\n",
              "      fill: #1967D2;\n",
              "      height: 32px;\n",
              "      padding: 0 0 0 0;\n",
              "      width: 32px;\n",
              "    }\n",
              "\n",
              "    .colab-df-convert:hover {\n",
              "      background-color: #E2EBFA;\n",
              "      box-shadow: 0px 1px 2px rgba(60, 64, 67, 0.3), 0px 1px 3px 1px rgba(60, 64, 67, 0.15);\n",
              "      fill: #174EA6;\n",
              "    }\n",
              "\n",
              "    [theme=dark] .colab-df-convert {\n",
              "      background-color: #3B4455;\n",
              "      fill: #D2E3FC;\n",
              "    }\n",
              "\n",
              "    [theme=dark] .colab-df-convert:hover {\n",
              "      background-color: #434B5C;\n",
              "      box-shadow: 0px 1px 3px 1px rgba(0, 0, 0, 0.15);\n",
              "      filter: drop-shadow(0px 1px 2px rgba(0, 0, 0, 0.3));\n",
              "      fill: #FFFFFF;\n",
              "    }\n",
              "  </style>\n",
              "\n",
              "      <script>\n",
              "        const buttonEl =\n",
              "          document.querySelector('#df-e1d7c2cf-b310-4e89-b326-21367d5d7a97 button.colab-df-convert');\n",
              "        buttonEl.style.display =\n",
              "          google.colab.kernel.accessAllowed ? 'block' : 'none';\n",
              "\n",
              "        async function convertToInteractive(key) {\n",
              "          const element = document.querySelector('#df-e1d7c2cf-b310-4e89-b326-21367d5d7a97');\n",
              "          const dataTable =\n",
              "            await google.colab.kernel.invokeFunction('convertToInteractive',\n",
              "                                                     [key], {});\n",
              "          if (!dataTable) return;\n",
              "\n",
              "          const docLinkHtml = 'Like what you see? Visit the ' +\n",
              "            '<a target=\"_blank\" href=https://colab.research.google.com/notebooks/data_table.ipynb>data table notebook</a>'\n",
              "            + ' to learn more about interactive tables.';\n",
              "          element.innerHTML = '';\n",
              "          dataTable['output_type'] = 'display_data';\n",
              "          await google.colab.output.renderOutput(dataTable, element);\n",
              "          const docLink = document.createElement('div');\n",
              "          docLink.innerHTML = docLinkHtml;\n",
              "          element.appendChild(docLink);\n",
              "        }\n",
              "      </script>\n",
              "    </div>\n",
              "  </div>\n",
              "  "
            ]
          },
          "metadata": {},
          "execution_count": 95
        }
      ]
    },
    {
      "cell_type": "markdown",
      "source": [
        "(2) datetime 컬럼을 datetime 자료형으로 변환하고 연, 월, 일, 시, 분, 초까지 6가지 컬럼 생성하기"
      ],
      "metadata": {
        "id": "2H33utPnpL5v"
      }
    },
    {
      "cell_type": "code",
      "source": [
        "train['datetime'] = pd.to_datetime(train['datetime']) # string에서 datetime 자료형으로 전환 : pd.to_datetime()"
      ],
      "metadata": {
        "execution": {
          "iopub.status.busy": "2022-07-22T06:37:43.741134Z",
          "iopub.execute_input": "2022-07-22T06:37:43.742312Z",
          "iopub.status.idle": "2022-07-22T06:37:43.753070Z",
          "shell.execute_reply.started": "2022-07-22T06:37:43.742262Z",
          "shell.execute_reply": "2022-07-22T06:37:43.751872Z"
        },
        "trusted": true,
        "id": "TSGIV7dPpL5v"
      },
      "execution_count": 96,
      "outputs": []
    },
    {
      "cell_type": "code",
      "source": [
        "train['year'] = train['datetime'].dt.year # 건희님 코딩 참조\n",
        "train['month'] = train['datetime'].dt.month\n",
        "train['day'] = train['datetime'].dt.day\n",
        "train['hour'] = train['datetime'].dt.hour\n",
        "train['minute'] = train['datetime'].dt.minute\n",
        "train['second'] = train['datetime'].dt.second"
      ],
      "metadata": {
        "execution": {
          "iopub.status.busy": "2022-07-22T06:37:43.810149Z",
          "iopub.execute_input": "2022-07-22T06:37:43.810636Z",
          "iopub.status.idle": "2022-07-22T06:37:43.829693Z",
          "shell.execute_reply.started": "2022-07-22T06:37:43.810598Z",
          "shell.execute_reply": "2022-07-22T06:37:43.828741Z"
        },
        "trusted": true,
        "id": "SVtQhfVmpL5v"
      },
      "execution_count": 97,
      "outputs": []
    },
    {
      "cell_type": "code",
      "source": [
        "train.shape"
      ],
      "metadata": {
        "execution": {
          "iopub.status.busy": "2022-07-22T06:37:43.885792Z",
          "iopub.execute_input": "2022-07-22T06:37:43.886864Z",
          "iopub.status.idle": "2022-07-22T06:37:43.894830Z",
          "shell.execute_reply.started": "2022-07-22T06:37:43.886819Z",
          "shell.execute_reply": "2022-07-22T06:37:43.893468Z"
        },
        "trusted": true,
        "colab": {
          "base_uri": "https://localhost:8080/"
        },
        "id": "szOhSn5vpL5v",
        "outputId": "85df091b-5744-4780-f801-8d19e4f421de"
      },
      "execution_count": 98,
      "outputs": [
        {
          "output_type": "execute_result",
          "data": {
            "text/plain": [
              "(10886, 18)"
            ]
          },
          "metadata": {},
          "execution_count": 98
        }
      ]
    },
    {
      "cell_type": "code",
      "source": [
        "train.head()"
      ],
      "metadata": {
        "execution": {
          "iopub.status.busy": "2022-07-22T06:37:43.965181Z",
          "iopub.execute_input": "2022-07-22T06:37:43.965700Z",
          "iopub.status.idle": "2022-07-22T06:37:43.990731Z",
          "shell.execute_reply.started": "2022-07-22T06:37:43.965657Z",
          "shell.execute_reply": "2022-07-22T06:37:43.989687Z"
        },
        "trusted": true,
        "colab": {
          "base_uri": "https://localhost:8080/",
          "height": 337
        },
        "id": "UjYtedSCpL5v",
        "outputId": "23a3a649-c0a0-472e-db21-1a0ad6501e24"
      },
      "execution_count": 99,
      "outputs": [
        {
          "output_type": "execute_result",
          "data": {
            "text/plain": [
              "             datetime  season  holiday  workingday  weather  temp   atemp  \\\n",
              "0 2011-01-01 00:00:00       1        0           0        1  9.84  14.395   \n",
              "1 2011-01-01 01:00:00       1        0           0        1  9.02  13.635   \n",
              "2 2011-01-01 02:00:00       1        0           0        1  9.02  13.635   \n",
              "3 2011-01-01 03:00:00       1        0           0        1  9.84  14.395   \n",
              "4 2011-01-01 04:00:00       1        0           0        1  9.84  14.395   \n",
              "\n",
              "   humidity  windspeed  casual  registered  count  year  month  day  hour  \\\n",
              "0        81        0.0       3          13     16  2011      1    1     0   \n",
              "1        80        0.0       8          32     40  2011      1    1     1   \n",
              "2        80        0.0       5          27     32  2011      1    1     2   \n",
              "3        75        0.0       3          10     13  2011      1    1     3   \n",
              "4        75        0.0       0           1      1  2011      1    1     4   \n",
              "\n",
              "   minute  second  \n",
              "0       0       0  \n",
              "1       0       0  \n",
              "2       0       0  \n",
              "3       0       0  \n",
              "4       0       0  "
            ],
            "text/html": [
              "\n",
              "  <div id=\"df-96bd854b-e83d-449d-a275-bbfb96359a89\">\n",
              "    <div class=\"colab-df-container\">\n",
              "      <div>\n",
              "<style scoped>\n",
              "    .dataframe tbody tr th:only-of-type {\n",
              "        vertical-align: middle;\n",
              "    }\n",
              "\n",
              "    .dataframe tbody tr th {\n",
              "        vertical-align: top;\n",
              "    }\n",
              "\n",
              "    .dataframe thead th {\n",
              "        text-align: right;\n",
              "    }\n",
              "</style>\n",
              "<table border=\"1\" class=\"dataframe\">\n",
              "  <thead>\n",
              "    <tr style=\"text-align: right;\">\n",
              "      <th></th>\n",
              "      <th>datetime</th>\n",
              "      <th>season</th>\n",
              "      <th>holiday</th>\n",
              "      <th>workingday</th>\n",
              "      <th>weather</th>\n",
              "      <th>temp</th>\n",
              "      <th>atemp</th>\n",
              "      <th>humidity</th>\n",
              "      <th>windspeed</th>\n",
              "      <th>casual</th>\n",
              "      <th>registered</th>\n",
              "      <th>count</th>\n",
              "      <th>year</th>\n",
              "      <th>month</th>\n",
              "      <th>day</th>\n",
              "      <th>hour</th>\n",
              "      <th>minute</th>\n",
              "      <th>second</th>\n",
              "    </tr>\n",
              "  </thead>\n",
              "  <tbody>\n",
              "    <tr>\n",
              "      <th>0</th>\n",
              "      <td>2011-01-01 00:00:00</td>\n",
              "      <td>1</td>\n",
              "      <td>0</td>\n",
              "      <td>0</td>\n",
              "      <td>1</td>\n",
              "      <td>9.84</td>\n",
              "      <td>14.395</td>\n",
              "      <td>81</td>\n",
              "      <td>0.0</td>\n",
              "      <td>3</td>\n",
              "      <td>13</td>\n",
              "      <td>16</td>\n",
              "      <td>2011</td>\n",
              "      <td>1</td>\n",
              "      <td>1</td>\n",
              "      <td>0</td>\n",
              "      <td>0</td>\n",
              "      <td>0</td>\n",
              "    </tr>\n",
              "    <tr>\n",
              "      <th>1</th>\n",
              "      <td>2011-01-01 01:00:00</td>\n",
              "      <td>1</td>\n",
              "      <td>0</td>\n",
              "      <td>0</td>\n",
              "      <td>1</td>\n",
              "      <td>9.02</td>\n",
              "      <td>13.635</td>\n",
              "      <td>80</td>\n",
              "      <td>0.0</td>\n",
              "      <td>8</td>\n",
              "      <td>32</td>\n",
              "      <td>40</td>\n",
              "      <td>2011</td>\n",
              "      <td>1</td>\n",
              "      <td>1</td>\n",
              "      <td>1</td>\n",
              "      <td>0</td>\n",
              "      <td>0</td>\n",
              "    </tr>\n",
              "    <tr>\n",
              "      <th>2</th>\n",
              "      <td>2011-01-01 02:00:00</td>\n",
              "      <td>1</td>\n",
              "      <td>0</td>\n",
              "      <td>0</td>\n",
              "      <td>1</td>\n",
              "      <td>9.02</td>\n",
              "      <td>13.635</td>\n",
              "      <td>80</td>\n",
              "      <td>0.0</td>\n",
              "      <td>5</td>\n",
              "      <td>27</td>\n",
              "      <td>32</td>\n",
              "      <td>2011</td>\n",
              "      <td>1</td>\n",
              "      <td>1</td>\n",
              "      <td>2</td>\n",
              "      <td>0</td>\n",
              "      <td>0</td>\n",
              "    </tr>\n",
              "    <tr>\n",
              "      <th>3</th>\n",
              "      <td>2011-01-01 03:00:00</td>\n",
              "      <td>1</td>\n",
              "      <td>0</td>\n",
              "      <td>0</td>\n",
              "      <td>1</td>\n",
              "      <td>9.84</td>\n",
              "      <td>14.395</td>\n",
              "      <td>75</td>\n",
              "      <td>0.0</td>\n",
              "      <td>3</td>\n",
              "      <td>10</td>\n",
              "      <td>13</td>\n",
              "      <td>2011</td>\n",
              "      <td>1</td>\n",
              "      <td>1</td>\n",
              "      <td>3</td>\n",
              "      <td>0</td>\n",
              "      <td>0</td>\n",
              "    </tr>\n",
              "    <tr>\n",
              "      <th>4</th>\n",
              "      <td>2011-01-01 04:00:00</td>\n",
              "      <td>1</td>\n",
              "      <td>0</td>\n",
              "      <td>0</td>\n",
              "      <td>1</td>\n",
              "      <td>9.84</td>\n",
              "      <td>14.395</td>\n",
              "      <td>75</td>\n",
              "      <td>0.0</td>\n",
              "      <td>0</td>\n",
              "      <td>1</td>\n",
              "      <td>1</td>\n",
              "      <td>2011</td>\n",
              "      <td>1</td>\n",
              "      <td>1</td>\n",
              "      <td>4</td>\n",
              "      <td>0</td>\n",
              "      <td>0</td>\n",
              "    </tr>\n",
              "  </tbody>\n",
              "</table>\n",
              "</div>\n",
              "      <button class=\"colab-df-convert\" onclick=\"convertToInteractive('df-96bd854b-e83d-449d-a275-bbfb96359a89')\"\n",
              "              title=\"Convert this dataframe to an interactive table.\"\n",
              "              style=\"display:none;\">\n",
              "        \n",
              "  <svg xmlns=\"http://www.w3.org/2000/svg\" height=\"24px\"viewBox=\"0 0 24 24\"\n",
              "       width=\"24px\">\n",
              "    <path d=\"M0 0h24v24H0V0z\" fill=\"none\"/>\n",
              "    <path d=\"M18.56 5.44l.94 2.06.94-2.06 2.06-.94-2.06-.94-.94-2.06-.94 2.06-2.06.94zm-11 1L8.5 8.5l.94-2.06 2.06-.94-2.06-.94L8.5 2.5l-.94 2.06-2.06.94zm10 10l.94 2.06.94-2.06 2.06-.94-2.06-.94-.94-2.06-.94 2.06-2.06.94z\"/><path d=\"M17.41 7.96l-1.37-1.37c-.4-.4-.92-.59-1.43-.59-.52 0-1.04.2-1.43.59L10.3 9.45l-7.72 7.72c-.78.78-.78 2.05 0 2.83L4 21.41c.39.39.9.59 1.41.59.51 0 1.02-.2 1.41-.59l7.78-7.78 2.81-2.81c.8-.78.8-2.07 0-2.86zM5.41 20L4 18.59l7.72-7.72 1.47 1.35L5.41 20z\"/>\n",
              "  </svg>\n",
              "      </button>\n",
              "      \n",
              "  <style>\n",
              "    .colab-df-container {\n",
              "      display:flex;\n",
              "      flex-wrap:wrap;\n",
              "      gap: 12px;\n",
              "    }\n",
              "\n",
              "    .colab-df-convert {\n",
              "      background-color: #E8F0FE;\n",
              "      border: none;\n",
              "      border-radius: 50%;\n",
              "      cursor: pointer;\n",
              "      display: none;\n",
              "      fill: #1967D2;\n",
              "      height: 32px;\n",
              "      padding: 0 0 0 0;\n",
              "      width: 32px;\n",
              "    }\n",
              "\n",
              "    .colab-df-convert:hover {\n",
              "      background-color: #E2EBFA;\n",
              "      box-shadow: 0px 1px 2px rgba(60, 64, 67, 0.3), 0px 1px 3px 1px rgba(60, 64, 67, 0.15);\n",
              "      fill: #174EA6;\n",
              "    }\n",
              "\n",
              "    [theme=dark] .colab-df-convert {\n",
              "      background-color: #3B4455;\n",
              "      fill: #D2E3FC;\n",
              "    }\n",
              "\n",
              "    [theme=dark] .colab-df-convert:hover {\n",
              "      background-color: #434B5C;\n",
              "      box-shadow: 0px 1px 3px 1px rgba(0, 0, 0, 0.15);\n",
              "      filter: drop-shadow(0px 1px 2px rgba(0, 0, 0, 0.3));\n",
              "      fill: #FFFFFF;\n",
              "    }\n",
              "  </style>\n",
              "\n",
              "      <script>\n",
              "        const buttonEl =\n",
              "          document.querySelector('#df-96bd854b-e83d-449d-a275-bbfb96359a89 button.colab-df-convert');\n",
              "        buttonEl.style.display =\n",
              "          google.colab.kernel.accessAllowed ? 'block' : 'none';\n",
              "\n",
              "        async function convertToInteractive(key) {\n",
              "          const element = document.querySelector('#df-96bd854b-e83d-449d-a275-bbfb96359a89');\n",
              "          const dataTable =\n",
              "            await google.colab.kernel.invokeFunction('convertToInteractive',\n",
              "                                                     [key], {});\n",
              "          if (!dataTable) return;\n",
              "\n",
              "          const docLinkHtml = 'Like what you see? Visit the ' +\n",
              "            '<a target=\"_blank\" href=https://colab.research.google.com/notebooks/data_table.ipynb>data table notebook</a>'\n",
              "            + ' to learn more about interactive tables.';\n",
              "          element.innerHTML = '';\n",
              "          dataTable['output_type'] = 'display_data';\n",
              "          await google.colab.output.renderOutput(dataTable, element);\n",
              "          const docLink = document.createElement('div');\n",
              "          docLink.innerHTML = docLinkHtml;\n",
              "          element.appendChild(docLink);\n",
              "        }\n",
              "      </script>\n",
              "    </div>\n",
              "  </div>\n",
              "  "
            ]
          },
          "metadata": {},
          "execution_count": 99
        }
      ]
    },
    {
      "cell_type": "code",
      "source": [
        "import seaborn as sns\n",
        "import matplotlib as mpl\n",
        "import matplotlib.pyplot as plt\n",
        "%matplotlib inline"
      ],
      "metadata": {
        "execution": {
          "iopub.status.busy": "2022-07-22T06:37:44.059320Z",
          "iopub.execute_input": "2022-07-22T06:37:44.060147Z",
          "iopub.status.idle": "2022-07-22T06:37:44.068647Z",
          "shell.execute_reply.started": "2022-07-22T06:37:44.060098Z",
          "shell.execute_reply": "2022-07-22T06:37:44.067344Z"
        },
        "trusted": true,
        "id": "hDQ2nXO1pL5v"
      },
      "execution_count": 100,
      "outputs": []
    },
    {
      "cell_type": "code",
      "source": [
        "mpl.rc('font', size=15)      # 폰트 크기를 15로 설정 \n",
        "sns.displot(train['count']); # 분포도 출력"
      ],
      "metadata": {
        "execution": {
          "iopub.status.busy": "2022-07-22T06:37:44.133949Z",
          "iopub.execute_input": "2022-07-22T06:37:44.134798Z",
          "iopub.status.idle": "2022-07-22T06:37:44.523133Z",
          "shell.execute_reply.started": "2022-07-22T06:37:44.134745Z",
          "shell.execute_reply": "2022-07-22T06:37:44.521943Z"
        },
        "trusted": true,
        "colab": {
          "base_uri": "https://localhost:8080/",
          "height": 358
        },
        "id": "oPe67h6PpL5v",
        "outputId": "9ce959c9-3130-4d31-e685-ab13593b8f2c"
      },
      "execution_count": 101,
      "outputs": [
        {
          "output_type": "display_data",
          "data": {
            "text/plain": [
              "<Figure size 360x360 with 1 Axes>"
            ],
            "image/png": "[encoded data removed]"
          },
          "metadata": {
            "needs_background": "light"
          }
        }
      ]
    },
    {
      "cell_type": "code",
      "source": [
        "sns.displot(np.log(train['count']))"
      ],
      "metadata": {
        "execution": {
          "iopub.status.busy": "2022-07-22T06:37:44.525917Z",
          "iopub.execute_input": "2022-07-22T06:37:44.526402Z",
          "iopub.status.idle": "2022-07-22T06:37:44.892573Z",
          "shell.execute_reply.started": "2022-07-22T06:37:44.526351Z",
          "shell.execute_reply": "2022-07-22T06:37:44.891181Z"
        },
        "trusted": true,
        "colab": {
          "base_uri": "https://localhost:8080/",
          "height": 376
        },
        "id": "C98fFrqRpL5v",
        "outputId": "d99902c4-738b-4d2d-dd29-71d0dc85d33b"
      },
      "execution_count": 102,
      "outputs": [
        {
          "output_type": "execute_result",
          "data": {
            "text/plain": [
              "<seaborn.axisgrid.FacetGrid at 0x7fdb287bba50>"
            ]
          },
          "metadata": {},
          "execution_count": 102
        },
        {
          "output_type": "display_data",
          "data": {
            "text/plain": [
              "<Figure size 360x360 with 1 Axes>"
            ],
            "image/png": "[encoded data removed]"
          },
          "metadata": {
            "needs_background": "light"
          }
        }
      ]
    },
    {
      "cell_type": "code",
      "source": [
        "plt.figure(figsize=(20,10))\n",
        "plt.subplot(2,3,1)\n",
        "sns.countplot(x = 'year', data=train)\n",
        "\n",
        "plt.subplot(2,3,2)\n",
        "sns.countplot(x = 'month', data=train)\n",
        "\n",
        "plt.subplot(2,3,3)\n",
        "sns.countplot(x = 'day', data=train)\n",
        "\n",
        "plt.subplot(2,3,4)\n",
        "sns.countplot(x = 'hour', data=train)\n",
        "\n",
        "plt.subplot(2,3,5)\n",
        "sns.countplot(x = 'minute', data=train)\n",
        "\n",
        "plt.subplot(2,3,6)\n",
        "sns.countplot(x = 'second',data=train)\n",
        "\n",
        "plt.show()"
      ],
      "metadata": {
        "execution": {
          "iopub.status.busy": "2022-07-22T06:37:44.894525Z",
          "iopub.execute_input": "2022-07-22T06:37:44.895006Z",
          "iopub.status.idle": "2022-07-22T06:37:45.833850Z",
          "shell.execute_reply.started": "2022-07-22T06:37:44.894949Z",
          "shell.execute_reply": "2022-07-22T06:37:45.832420Z"
        },
        "trusted": true,
        "colab": {
          "base_uri": "https://localhost:8080/",
          "height": 620
        },
        "id": "L2KKG9Q8pL5v",
        "outputId": "0a870497-5c2a-406e-a75f-cf51285345ce"
      },
      "execution_count": 103,
      "outputs": [
        {
          "output_type": "display_data",
          "data": {
            "text/plain": [
              "<Figure size 1440x720 with 6 Axes>"
            ],
            "image/png": "[encoded data removed]"
          },
          "metadata": {
            "needs_background": "light"
          }
        }
      ]
    },
    {
      "cell_type": "code",
      "source": [
        "# 스텝 1 : m행 n열 Figure 준비\n",
        "mpl.rc('font', size=14)       # 폰트 크기 설정\n",
        "mpl.rc('axes', titlesize=15)  # 각 축의 제목 크기 설정\n",
        "figure, axes = plt.subplots(nrows=3, ncols=2) # 3행 2열 Figure 생성 \n",
        "plt.tight_layout()            # 그래프 사이에 여백 확보 \n",
        "figure.set_size_inches(10, 9) # 전체 Figure 크기를 10x9인치로 설정 \n",
        "\n",
        "# 스텝 2 : 각 축에 서브플롯 할당\n",
        "# 각 축에 연도, 월, 일, 시간, 분, 초별 평균 대여 수량 막대 그래프 할당\n",
        "sns.barplot(x='year', y='count', data=train, ax=axes[0, 0])\n",
        "sns.barplot(x='month', y='count', data=train, ax=axes[0, 1])\n",
        "sns.barplot(x='day', y='count', data=train, ax=axes[1, 0])\n",
        "sns.barplot(x='hour', y='count', data=train, ax=axes[1, 1])\n",
        "sns.barplot(x='minute', y='count', data=train, ax=axes[2, 0])\n",
        "sns.barplot(x='second', y='count', data=train, ax=axes[2, 1])\n",
        "\n",
        "# 스텝 3 : 세부 설정\n",
        "# 3-1 : 서브플롯에 제목 달기\n",
        "axes[0, 0].set(title='Rental amounts by year')\n",
        "axes[0, 1].set(title='Rental amounts by month')\n",
        "axes[1, 0].set(title='Rental amounts by day')\n",
        "axes[1, 1].set(title='Rental amounts by hour')\n",
        "axes[2, 0].set(title='Rental amounts by minute')\n",
        "axes[2, 1].set(title='Rental amounts by second')\n",
        "\n",
        "# 3-2 : 1행에 위치한 서브플롯들의 x축 라벨 90도 회전\n",
        "axes[1, 0].tick_params(axis='x', labelrotation=90)\n",
        "axes[1, 1].tick_params(axis='x', labelrotation=90)"
      ],
      "metadata": {
        "execution": {
          "iopub.status.busy": "2022-07-22T06:37:45.836835Z",
          "iopub.execute_input": "2022-07-22T06:37:45.837366Z",
          "iopub.status.idle": "2022-07-22T06:37:49.647014Z",
          "shell.execute_reply.started": "2022-07-22T06:37:45.837330Z",
          "shell.execute_reply": "2022-07-22T06:37:49.646025Z"
        },
        "trusted": true,
        "colab": {
          "base_uri": "https://localhost:8080/",
          "height": 608
        },
        "id": "DLOzjzt5pL5v",
        "outputId": "d5450270-f8a0-40ed-c0b7-f6445f8f8ca2"
      },
      "execution_count": 104,
      "outputs": [
        {
          "output_type": "display_data",
          "data": {
            "text/plain": [
              "<Figure size 720x648 with 6 Axes>"
            ],
            "image/png": "[encoded data removed]"
          },
          "metadata": {
            "needs_background": "light"
          }
        }
      ]
    },
    {
      "cell_type": "code",
      "source": [
        "X = train[['season', 'workingday', 'weather', 'temp', 'atemp', 'humidity', 'windspeed', 'year', 'month', 'day', 'hour',]].values\n",
        "y = train[['count']].values"
      ],
      "metadata": {
        "execution": {
          "iopub.status.busy": "2022-07-22T06:37:49.648473Z",
          "iopub.execute_input": "2022-07-22T06:37:49.649029Z",
          "iopub.status.idle": "2022-07-22T06:37:49.660109Z",
          "shell.execute_reply.started": "2022-07-22T06:37:49.648994Z",
          "shell.execute_reply": "2022-07-22T06:37:49.658622Z"
        },
        "trusted": true,
        "id": "zhF7mzbVpL5v"
      },
      "execution_count": 105,
      "outputs": []
    },
    {
      "cell_type": "code",
      "source": [
        "X_train, X_test, y_train, y_test = train_test_split(X, y, test_size=0.2, random_state=2)"
      ],
      "metadata": {
        "execution": {
          "iopub.status.busy": "2022-07-22T06:37:49.661433Z",
          "iopub.execute_input": "2022-07-22T06:37:49.662248Z",
          "iopub.status.idle": "2022-07-22T06:37:49.669316Z",
          "shell.execute_reply.started": "2022-07-22T06:37:49.662211Z",
          "shell.execute_reply": "2022-07-22T06:37:49.668181Z"
        },
        "trusted": true,
        "id": "hjxMO2jypL5v"
      },
      "execution_count": 106,
      "outputs": []
    },
    {
      "cell_type": "markdown",
      "source": [
        "(5) LinearRegression 모델 학습"
      ],
      "metadata": {
        "id": "vXPJpqHQpL5-"
      }
    },
    {
      "cell_type": "code",
      "source": [
        "model = LinearRegression()"
      ],
      "metadata": {
        "execution": {
          "iopub.status.busy": "2022-07-22T06:37:49.671698Z",
          "iopub.execute_input": "2022-07-22T06:37:49.672214Z",
          "iopub.status.idle": "2022-07-22T06:37:49.682261Z",
          "shell.execute_reply.started": "2022-07-22T06:37:49.672165Z",
          "shell.execute_reply": "2022-07-22T06:37:49.681329Z"
        },
        "trusted": true,
        "id": "SmwFyUFZpL5-"
      },
      "execution_count": 107,
      "outputs": []
    },
    {
      "cell_type": "code",
      "source": [
        "model.fit(X_train, y_train)"
      ],
      "metadata": {
        "execution": {
          "iopub.status.busy": "2022-07-22T06:37:49.684042Z",
          "iopub.execute_input": "2022-07-22T06:37:49.684782Z",
          "iopub.status.idle": "2022-07-22T06:37:49.723671Z",
          "shell.execute_reply.started": "2022-07-22T06:37:49.684734Z",
          "shell.execute_reply": "2022-07-22T06:37:49.721849Z"
        },
        "trusted": true,
        "colab": {
          "base_uri": "https://localhost:8080/"
        },
        "id": "sxgVHRwppL5-",
        "outputId": "7f55411e-b3b2-43cd-ff8b-c9ab945f2ca7"
      },
      "execution_count": 108,
      "outputs": [
        {
          "output_type": "execute_result",
          "data": {
            "text/plain": [
              "LinearRegression()"
            ]
          },
          "metadata": {},
          "execution_count": 108
        }
      ]
    },
    {
      "cell_type": "markdown",
      "source": [
        "(6) 학습된 모델로 X_test에 대한 예측값 출력 및 손실함수값 계산"
      ],
      "metadata": {
        "id": "Hc-ch8FapL5-"
      }
    },
    {
      "cell_type": "code",
      "source": [
        "predictions = model.predict(X_test)\n",
        "predictions"
      ],
      "metadata": {
        "execution": {
          "iopub.status.busy": "2022-07-22T06:37:49.726452Z",
          "iopub.execute_input": "2022-07-22T06:37:49.728063Z",
          "iopub.status.idle": "2022-07-22T06:37:49.751325Z",
          "shell.execute_reply.started": "2022-07-22T06:37:49.727989Z",
          "shell.execute_reply": "2022-07-22T06:37:49.749573Z"
        },
        "trusted": true,
        "colab": {
          "base_uri": "https://localhost:8080/"
        },
        "id": "ChtZKGZopL5-",
        "outputId": "e43db55c-e92c-4254-b385-bf5996823cff"
      },
      "execution_count": 109,
      "outputs": [
        {
          "output_type": "execute_result",
          "data": {
            "text/plain": [
              "array([[-33.96697339],\n",
              "       [ 59.23679918],\n",
              "       [112.62548605],\n",
              "       ...,\n",
              "       [195.79183719],\n",
              "       [197.74006566],\n",
              "       [294.24680107]])"
            ]
          },
          "metadata": {},
          "execution_count": 109
        }
      ]
    },
    {
      "cell_type": "code",
      "source": [
        "rmse = mean_squared_error(y_test, predictions, squared = False)\n",
        "rmse"
      ],
      "metadata": {
        "execution": {
          "iopub.status.busy": "2022-07-22T06:37:49.760866Z",
          "iopub.execute_input": "2022-07-22T06:37:49.763818Z",
          "iopub.status.idle": "2022-07-22T06:37:49.784767Z",
          "shell.execute_reply.started": "2022-07-22T06:37:49.763738Z",
          "shell.execute_reply": "2022-07-22T06:37:49.782420Z"
        },
        "trusted": true,
        "colab": {
          "base_uri": "https://localhost:8080/"
        },
        "id": "smMZwK9mpL5-",
        "outputId": "907d4b4d-c8ea-4f5b-ccc1-92149a99ac18"
      },
      "execution_count": 110,
      "outputs": [
        {
          "output_type": "execute_result",
          "data": {
            "text/plain": [
              "140.47528542723464"
            ]
          },
          "metadata": {},
          "execution_count": 110
        }
      ]
    },
    {
      "cell_type": "code",
      "source": [
        "col = ['season', 'workingday', 'weather', 'temp', 'atemp', 'humidity', 'windspeed', 'year', 'month', 'day', 'hour']\n",
        "X_test_df = pd.DataFrame(X_test, columns=col)\n",
        "X_test_df['predictions'] = predictions\n",
        "X_test_df['y_test'] = y_test"
      ],
      "metadata": {
        "execution": {
          "iopub.status.busy": "2022-07-22T06:37:49.788316Z",
          "iopub.execute_input": "2022-07-22T06:37:49.790808Z",
          "iopub.status.idle": "2022-07-22T06:37:49.815009Z",
          "shell.execute_reply.started": "2022-07-22T06:37:49.790739Z",
          "shell.execute_reply": "2022-07-22T06:37:49.812913Z"
        },
        "trusted": true,
        "id": "mZmjrC1IpL5-"
      },
      "execution_count": 111,
      "outputs": []
    },
    {
      "cell_type": "code",
      "source": [
        "X_test_df"
      ],
      "metadata": {
        "execution": {
          "iopub.status.busy": "2022-07-22T06:37:49.819280Z",
          "iopub.execute_input": "2022-07-22T06:37:49.821718Z",
          "iopub.status.idle": "2022-07-22T06:37:49.868856Z",
          "shell.execute_reply.started": "2022-07-22T06:37:49.821648Z",
          "shell.execute_reply": "2022-07-22T06:37:49.867914Z"
        },
        "trusted": true,
        "colab": {
          "base_uri": "https://localhost:8080/",
          "height": 424
        },
        "id": "cUsjdLF6pL5-",
        "outputId": "3a467351-03c3-4d30-ee91-1e0337345210"
      },
      "execution_count": 112,
      "outputs": [
        {
          "output_type": "execute_result",
          "data": {
            "text/plain": [
              "      season  workingday  weather   temp   atemp  humidity  windspeed    year  \\\n",
              "0        1.0         1.0      2.0   6.56   9.090      80.0     8.9981  2011.0   \n",
              "1        2.0         1.0      2.0  14.76  16.665      71.0    19.0012  2011.0   \n",
              "2        3.0         1.0      3.0  24.60  27.275      88.0     8.9981  2011.0   \n",
              "3        2.0         1.0      1.0  16.40  20.455      56.0    23.9994  2011.0   \n",
              "4        4.0         1.0      2.0  22.14  25.760      49.0     8.9981  2012.0   \n",
              "...      ...         ...      ...    ...     ...       ...        ...     ...   \n",
              "2173     1.0         1.0      1.0  12.30  13.635      61.0    19.9995  2012.0   \n",
              "2174     1.0         1.0      1.0  28.70  31.820      39.0    16.9979  2012.0   \n",
              "2175     2.0         1.0      1.0  18.86  22.725      72.0    15.0013  2011.0   \n",
              "2176     1.0         1.0      1.0  12.30  13.635      42.0    31.0009  2012.0   \n",
              "2177     3.0         1.0      1.0  26.24  30.305      65.0    16.9979  2011.0   \n",
              "\n",
              "      month   day  hour  predictions  y_test  \n",
              "0       2.0   4.0   9.0   -33.966973     127  \n",
              "1       4.0   8.0  10.0    59.236799      73  \n",
              "2       9.0   7.0   9.0   112.625486     190  \n",
              "3       4.0   4.0   1.0    44.829705      11  \n",
              "4      10.0  17.0  13.0   303.039383     310  \n",
              "...     ...   ...   ...          ...     ...  \n",
              "2173    3.0   7.0   1.0    76.753725       5  \n",
              "2174    3.0  15.0  17.0   356.228964     713  \n",
              "2175    5.0   6.0  22.0   195.791837     151  \n",
              "2176    1.0  18.0  13.0   197.740066     130  \n",
              "2177    9.0   1.0  23.0   294.246801     126  \n",
              "\n",
              "[2178 rows x 13 columns]"
            ],
            "text/html": [
              "\n",
              "  <div id=\"df-6d236a40-716f-4b06-ad70-9843b093ac38\">\n",
              "    <div class=\"colab-df-container\">\n",
              "      <div>\n",
              "<style scoped>\n",
              "    .dataframe tbody tr th:only-of-type {\n",
              "        vertical-align: middle;\n",
              "    }\n",
              "\n",
              "    .dataframe tbody tr th {\n",
              "        vertical-align: top;\n",
              "    }\n",
              "\n",
              "    .dataframe thead th {\n",
              "        text-align: right;\n",
              "    }\n",
              "</style>\n",
              "<table border=\"1\" class=\"dataframe\">\n",
              "  <thead>\n",
              "    <tr style=\"text-align: right;\">\n",
              "      <th></th>\n",
              "      <th>season</th>\n",
              "      <th>workingday</th>\n",
              "      <th>weather</th>\n",
              "      <th>temp</th>\n",
              "      <th>atemp</th>\n",
              "      <th>humidity</th>\n",
              "      <th>windspeed</th>\n",
              "      <th>year</th>\n",
              "      <th>month</th>\n",
              "      <th>day</th>\n",
              "      <th>hour</th>\n",
              "      <th>predictions</th>\n",
              "      <th>y_test</th>\n",
              "    </tr>\n",
              "  </thead>\n",
              "  <tbody>\n",
              "    <tr>\n",
              "      <th>0</th>\n",
              "      <td>1.0</td>\n",
              "      <td>1.0</td>\n",
              "      <td>2.0</td>\n",
              "      <td>6.56</td>\n",
              "      <td>9.090</td>\n",
              "      <td>80.0</td>\n",
              "      <td>8.9981</td>\n",
              "      <td>2011.0</td>\n",
              "      <td>2.0</td>\n",
              "      <td>4.0</td>\n",
              "      <td>9.0</td>\n",
              "      <td>-33.966973</td>\n",
              "      <td>127</td>\n",
              "    </tr>\n",
              "    <tr>\n",
              "      <th>1</th>\n",
              "      <td>2.0</td>\n",
              "      <td>1.0</td>\n",
              "      <td>2.0</td>\n",
              "      <td>14.76</td>\n",
              "      <td>16.665</td>\n",
              "      <td>71.0</td>\n",
              "      <td>19.0012</td>\n",
              "      <td>2011.0</td>\n",
              "      <td>4.0</td>\n",
              "      <td>8.0</td>\n",
              "      <td>10.0</td>\n",
              "      <td>59.236799</td>\n",
              "      <td>73</td>\n",
              "    </tr>\n",
              "    <tr>\n",
              "      <th>2</th>\n",
              "      <td>3.0</td>\n",
              "      <td>1.0</td>\n",
              "      <td>3.0</td>\n",
              "      <td>24.60</td>\n",
              "      <td>27.275</td>\n",
              "      <td>88.0</td>\n",
              "      <td>8.9981</td>\n",
              "      <td>2011.0</td>\n",
              "      <td>9.0</td>\n",
              "      <td>7.0</td>\n",
              "      <td>9.0</td>\n",
              "      <td>112.625486</td>\n",
              "      <td>190</td>\n",
              "    </tr>\n",
              "    <tr>\n",
              "      <th>3</th>\n",
              "      <td>2.0</td>\n",
              "      <td>1.0</td>\n",
              "      <td>1.0</td>\n",
              "      <td>16.40</td>\n",
              "      <td>20.455</td>\n",
              "      <td>56.0</td>\n",
              "      <td>23.9994</td>\n",
              "      <td>2011.0</td>\n",
              "      <td>4.0</td>\n",
              "      <td>4.0</td>\n",
              "      <td>1.0</td>\n",
              "      <td>44.829705</td>\n",
              "      <td>11</td>\n",
              "    </tr>\n",
              "    <tr>\n",
              "      <th>4</th>\n",
              "      <td>4.0</td>\n",
              "      <td>1.0</td>\n",
              "      <td>2.0</td>\n",
              "      <td>22.14</td>\n",
              "      <td>25.760</td>\n",
              "      <td>49.0</td>\n",
              "      <td>8.9981</td>\n",
              "      <td>2012.0</td>\n",
              "      <td>10.0</td>\n",
              "      <td>17.0</td>\n",
              "      <td>13.0</td>\n",
              "      <td>303.039383</td>\n",
              "      <td>310</td>\n",
              "    </tr>\n",
              "    <tr>\n",
              "      <th>...</th>\n",
              "      <td>...</td>\n",
              "      <td>...</td>\n",
              "      <td>...</td>\n",
              "      <td>...</td>\n",
              "      <td>...</td>\n",
              "      <td>...</td>\n",
              "      <td>...</td>\n",
              "      <td>...</td>\n",
              "      <td>...</td>\n",
              "      <td>...</td>\n",
              "      <td>...</td>\n",
              "      <td>...</td>\n",
              "      <td>...</td>\n",
              "    </tr>\n",
              "    <tr>\n",
              "      <th>2173</th>\n",
              "      <td>1.0</td>\n",
              "      <td>1.0</td>\n",
              "      <td>1.0</td>\n",
              "      <td>12.30</td>\n",
              "      <td>13.635</td>\n",
              "      <td>61.0</td>\n",
              "      <td>19.9995</td>\n",
              "      <td>2012.0</td>\n",
              "      <td>3.0</td>\n",
              "      <td>7.0</td>\n",
              "      <td>1.0</td>\n",
              "      <td>76.753725</td>\n",
              "      <td>5</td>\n",
              "    </tr>\n",
              "    <tr>\n",
              "      <th>2174</th>\n",
              "      <td>1.0</td>\n",
              "      <td>1.0</td>\n",
              "      <td>1.0</td>\n",
              "      <td>28.70</td>\n",
              "      <td>31.820</td>\n",
              "      <td>39.0</td>\n",
              "      <td>16.9979</td>\n",
              "      <td>2012.0</td>\n",
              "      <td>3.0</td>\n",
              "      <td>15.0</td>\n",
              "      <td>17.0</td>\n",
              "      <td>356.228964</td>\n",
              "      <td>713</td>\n",
              "    </tr>\n",
              "    <tr>\n",
              "      <th>2175</th>\n",
              "      <td>2.0</td>\n",
              "      <td>1.0</td>\n",
              "      <td>1.0</td>\n",
              "      <td>18.86</td>\n",
              "      <td>22.725</td>\n",
              "      <td>72.0</td>\n",
              "      <td>15.0013</td>\n",
              "      <td>2011.0</td>\n",
              "      <td>5.0</td>\n",
              "      <td>6.0</td>\n",
              "      <td>22.0</td>\n",
              "      <td>195.791837</td>\n",
              "      <td>151</td>\n",
              "    </tr>\n",
              "    <tr>\n",
              "      <th>2176</th>\n",
              "      <td>1.0</td>\n",
              "      <td>1.0</td>\n",
              "      <td>1.0</td>\n",
              "      <td>12.30</td>\n",
              "      <td>13.635</td>\n",
              "      <td>42.0</td>\n",
              "      <td>31.0009</td>\n",
              "      <td>2012.0</td>\n",
              "      <td>1.0</td>\n",
              "      <td>18.0</td>\n",
              "      <td>13.0</td>\n",
              "      <td>197.740066</td>\n",
              "      <td>130</td>\n",
              "    </tr>\n",
              "    <tr>\n",
              "      <th>2177</th>\n",
              "      <td>3.0</td>\n",
              "      <td>1.0</td>\n",
              "      <td>1.0</td>\n",
              "      <td>26.24</td>\n",
              "      <td>30.305</td>\n",
              "      <td>65.0</td>\n",
              "      <td>16.9979</td>\n",
              "      <td>2011.0</td>\n",
              "      <td>9.0</td>\n",
              "      <td>1.0</td>\n",
              "      <td>23.0</td>\n",
              "      <td>294.246801</td>\n",
              "      <td>126</td>\n",
              "    </tr>\n",
              "  </tbody>\n",
              "</table>\n",
              "<p>2178 rows × 13 columns</p>\n",
              "</div>\n",
              "      <button class=\"colab-df-convert\" onclick=\"convertToInteractive('df-6d236a40-716f-4b06-ad70-9843b093ac38')\"\n",
              "              title=\"Convert this dataframe to an interactive table.\"\n",
              "              style=\"display:none;\">\n",
              "        \n",
              "  <svg xmlns=\"http://www.w3.org/2000/svg\" height=\"24px\"viewBox=\"0 0 24 24\"\n",
              "       width=\"24px\">\n",
              "    <path d=\"M0 0h24v24H0V0z\" fill=\"none\"/>\n",
              "    <path d=\"M18.56 5.44l.94 2.06.94-2.06 2.06-.94-2.06-.94-.94-2.06-.94 2.06-2.06.94zm-11 1L8.5 8.5l.94-2.06 2.06-.94-2.06-.94L8.5 2.5l-.94 2.06-2.06.94zm10 10l.94 2.06.94-2.06 2.06-.94-2.06-.94-.94-2.06-.94 2.06-2.06.94z\"/><path d=\"M17.41 7.96l-1.37-1.37c-.4-.4-.92-.59-1.43-.59-.52 0-1.04.2-1.43.59L10.3 9.45l-7.72 7.72c-.78.78-.78 2.05 0 2.83L4 21.41c.39.39.9.59 1.41.59.51 0 1.02-.2 1.41-.59l7.78-7.78 2.81-2.81c.8-.78.8-2.07 0-2.86zM5.41 20L4 18.59l7.72-7.72 1.47 1.35L5.41 20z\"/>\n",
              "  </svg>\n",
              "      </button>\n",
              "      \n",
              "  <style>\n",
              "    .colab-df-container {\n",
              "      display:flex;\n",
              "      flex-wrap:wrap;\n",
              "      gap: 12px;\n",
              "    }\n",
              "\n",
              "    .colab-df-convert {\n",
              "      background-color: #E8F0FE;\n",
              "      border: none;\n",
              "      border-radius: 50%;\n",
              "      cursor: pointer;\n",
              "      display: none;\n",
              "      fill: #1967D2;\n",
              "      height: 32px;\n",
              "      padding: 0 0 0 0;\n",
              "      width: 32px;\n",
              "    }\n",
              "\n",
              "    .colab-df-convert:hover {\n",
              "      background-color: #E2EBFA;\n",
              "      box-shadow: 0px 1px 2px rgba(60, 64, 67, 0.3), 0px 1px 3px 1px rgba(60, 64, 67, 0.15);\n",
              "      fill: #174EA6;\n",
              "    }\n",
              "\n",
              "    [theme=dark] .colab-df-convert {\n",
              "      background-color: #3B4455;\n",
              "      fill: #D2E3FC;\n",
              "    }\n",
              "\n",
              "    [theme=dark] .colab-df-convert:hover {\n",
              "      background-color: #434B5C;\n",
              "      box-shadow: 0px 1px 3px 1px rgba(0, 0, 0, 0.15);\n",
              "      filter: drop-shadow(0px 1px 2px rgba(0, 0, 0, 0.3));\n",
              "      fill: #FFFFFF;\n",
              "    }\n",
              "  </style>\n",
              "\n",
              "      <script>\n",
              "        const buttonEl =\n",
              "          document.querySelector('#df-6d236a40-716f-4b06-ad70-9843b093ac38 button.colab-df-convert');\n",
              "        buttonEl.style.display =\n",
              "          google.colab.kernel.accessAllowed ? 'block' : 'none';\n",
              "\n",
              "        async function convertToInteractive(key) {\n",
              "          const element = document.querySelector('#df-6d236a40-716f-4b06-ad70-9843b093ac38');\n",
              "          const dataTable =\n",
              "            await google.colab.kernel.invokeFunction('convertToInteractive',\n",
              "                                                     [key], {});\n",
              "          if (!dataTable) return;\n",
              "\n",
              "          const docLinkHtml = 'Like what you see? Visit the ' +\n",
              "            '<a target=\"_blank\" href=https://colab.research.google.com/notebooks/data_table.ipynb>data table notebook</a>'\n",
              "            + ' to learn more about interactive tables.';\n",
              "          element.innerHTML = '';\n",
              "          dataTable['output_type'] = 'display_data';\n",
              "          await google.colab.output.renderOutput(dataTable, element);\n",
              "          const docLink = document.createElement('div');\n",
              "          docLink.innerHTML = docLinkHtml;\n",
              "          element.appendChild(docLink);\n",
              "        }\n",
              "      </script>\n",
              "    </div>\n",
              "  </div>\n",
              "  "
            ]
          },
          "metadata": {},
          "execution_count": 112
        }
      ]
    },
    {
      "cell_type": "markdown",
      "source": [
        "(7) x축은 temp 또는 humidity로, y축은 count로 예측 결과 시각화하기"
      ],
      "metadata": {
        "id": "45GqBPk8pL5-"
      }
    },
    {
      "cell_type": "code",
      "source": [
        "plt.figure(figsize=(20,10))\n",
        "plt.subplot(2,2,1)\n",
        "sns.lineplot(x=X_test_df['temp'], y=X_test_df['predictions'])\n",
        "\n",
        "plt.subplot(2,2,2)\n",
        "sns.lineplot(x=X_test_df['temp'], y=X_test_df['y_test'])\n",
        "\n",
        "plt.subplot(2,2,3)\n",
        "sns.lineplot(x=X_test_df['humidity'], y=X_test_df['predictions'])\n",
        "\n",
        "plt.subplot(2,2,4)\n",
        "sns.lineplot(x=X_test_df['humidity'], y=X_test_df['y_test'])\n",
        "\n",
        "plt.show()"
      ],
      "metadata": {
        "execution": {
          "iopub.status.busy": "2022-07-22T06:37:49.870488Z",
          "iopub.execute_input": "2022-07-22T06:37:49.871148Z",
          "iopub.status.idle": "2022-07-22T06:37:57.148296Z",
          "shell.execute_reply.started": "2022-07-22T06:37:49.871110Z",
          "shell.execute_reply": "2022-07-22T06:37:57.147387Z"
        },
        "trusted": true,
        "colab": {
          "base_uri": "https://localhost:8080/",
          "height": 614
        },
        "id": "NwjG_rmepL5-",
        "outputId": "f0082896-4578-4058-e305-c7ef86b6cf7f"
      },
      "execution_count": 113,
      "outputs": [
        {
          "output_type": "display_data",
          "data": {
            "text/plain": [
              "<Figure size 1440x720 with 4 Axes>"
            ],
            "image/png": "[encoded data removed]"
          },
          "metadata": {
            "needs_background": "light"
          }
        }
      ]
    },
    {
      "cell_type": "markdown",
      "source": [
        "**회고**\n",
        "​\n",
        "처음에 학습을 진행했을 때, loss 값이 거의 0에 가까운 값이 나왔습니다. 모델이 너무 잘 맞추는 것이 'casual', 'registered' 속성 때문이라고 판단되어, 두 개의 속성을 제거하였습니다. 추가적으로 'holiday', 'minute', 'second' 속성도 제거하여, 학습을 진행하였습니다. 결과적으로 loss 값이 140.47 정도가 나왔습니다."
      ],
      "metadata": {
        "id": "kGF9cu7XpL5-"
      }
    }
  ]
}